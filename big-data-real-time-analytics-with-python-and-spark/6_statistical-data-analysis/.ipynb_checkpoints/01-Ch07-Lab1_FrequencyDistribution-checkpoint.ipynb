{
 "cells": [
  {
   "cell_type": "markdown",
   "id": "9f818349",
   "metadata": {},
   "source": [
    "# Big Data Real-Time Analytics with Python and Spark\n",
    "\n",
    "## Chapter 7 - Statistical Data Analysis Part 1\n",
    "\n",
    "### Lab 1 - Building frequency distributions in python"
   ]
  },
  {
   "cell_type": "code",
   "execution_count": 1,
   "id": "08e8a59f",
   "metadata": {},
   "outputs": [
    {
     "name": "stdout",
     "output_type": "stream",
     "text": [
      "The version used in this notebook is:  3.8.13\n"
     ]
    }
   ],
   "source": [
    "# Python version\n",
    "from platform import python_version\n",
    "print('The version used in this notebook is: ', python_version())"
   ]
  },
  {
   "cell_type": "markdown",
   "id": "15dd5673",
   "metadata": {},
   "source": [
    "## Frequency Distribution"
   ]
  },
  {
   "cell_type": "markdown",
   "id": "9fa9e070",
   "metadata": {},
   "source": [
    "The DSA instructor collected the grades of all students in the final evaluation of Machine Learning course. The instructor would like to tabulate the data to extract insights and understand how the data is organized. Create a frequency distribution to help the instructor."
   ]
  },
  {
   "cell_type": "code",
   "execution_count": 2,
   "id": "4dadcdea",
   "metadata": {},
   "outputs": [],
   "source": [
    "# Imports\n",
    "import pandas as pd"
   ]
  },
  {
   "cell_type": "code",
   "execution_count": 3,
   "id": "3009f0ec",
   "metadata": {},
   "outputs": [],
   "source": [
    "# List with the grades of all students in the final evaluation of Machine Learning course\n",
    "student_grades = [92, 81, 100, 92, 71, 73, 100, 92, 84, 100, 73, 92, 73, 84, 92, 92, 92, 84, 73, 100]"
   ]
  },
  {
   "cell_type": "code",
   "execution_count": 4,
   "id": "0818bcfb",
   "metadata": {},
   "outputs": [
    {
     "data": {
      "text/plain": [
       "20"
      ]
     },
     "execution_count": 4,
     "metadata": {},
     "output_type": "execute_result"
    }
   ],
   "source": [
    "len(student_grades)"
   ]
  },
  {
   "cell_type": "markdown",
   "id": "6be1032a",
   "metadata": {},
   "source": [
    "## Solution with Series in Pandas"
   ]
  },
  {
   "cell_type": "code",
   "execution_count": 5,
   "id": "8f5df283",
   "metadata": {},
   "outputs": [
    {
     "data": {
      "text/html": [
       "<div>\n",
       "<style scoped>\n",
       "    .dataframe tbody tr th:only-of-type {\n",
       "        vertical-align: middle;\n",
       "    }\n",
       "\n",
       "    .dataframe tbody tr th {\n",
       "        vertical-align: top;\n",
       "    }\n",
       "\n",
       "    .dataframe thead th {\n",
       "        text-align: right;\n",
       "    }\n",
       "</style>\n",
       "<table border=\"1\" class=\"dataframe\">\n",
       "  <thead>\n",
       "    <tr style=\"text-align: right;\">\n",
       "      <th></th>\n",
       "      <th>index</th>\n",
       "      <th>0</th>\n",
       "    </tr>\n",
       "  </thead>\n",
       "  <tbody>\n",
       "    <tr>\n",
       "      <th>0</th>\n",
       "      <td>71</td>\n",
       "      <td>1</td>\n",
       "    </tr>\n",
       "    <tr>\n",
       "      <th>1</th>\n",
       "      <td>73</td>\n",
       "      <td>4</td>\n",
       "    </tr>\n",
       "    <tr>\n",
       "      <th>2</th>\n",
       "      <td>81</td>\n",
       "      <td>1</td>\n",
       "    </tr>\n",
       "    <tr>\n",
       "      <th>3</th>\n",
       "      <td>84</td>\n",
       "      <td>3</td>\n",
       "    </tr>\n",
       "    <tr>\n",
       "      <th>4</th>\n",
       "      <td>92</td>\n",
       "      <td>7</td>\n",
       "    </tr>\n",
       "    <tr>\n",
       "      <th>5</th>\n",
       "      <td>100</td>\n",
       "      <td>4</td>\n",
       "    </tr>\n",
       "  </tbody>\n",
       "</table>\n",
       "</div>"
      ],
      "text/plain": [
       "   index  0\n",
       "0     71  1\n",
       "1     73  4\n",
       "2     81  1\n",
       "3     84  3\n",
       "4     92  7\n",
       "5    100  4"
      ]
     },
     "execution_count": 5,
     "metadata": {},
     "output_type": "execute_result"
    }
   ],
   "source": [
    "# Create a serie with grades and frequency\n",
    "df1 = pd.Series(student_grades).value_counts().reset_index().sort_values('index').reset_index(drop = True)\n",
    "df1.head(6)"
   ]
  },
  {
   "cell_type": "code",
   "execution_count": 6,
   "id": "22f055a9",
   "metadata": {},
   "outputs": [
    {
     "data": {
      "text/plain": [
       "pandas.core.frame.DataFrame"
      ]
     },
     "execution_count": 6,
     "metadata": {},
     "output_type": "execute_result"
    }
   ],
   "source": [
    "type(df1)"
   ]
  },
  {
   "cell_type": "code",
   "execution_count": 7,
   "id": "8d2ef8dd",
   "metadata": {},
   "outputs": [],
   "source": [
    "# Change columns name\n",
    "df1.columns = ['Grade', 'Frequency']"
   ]
  },
  {
   "cell_type": "code",
   "execution_count": 8,
   "id": "7b81880b",
   "metadata": {},
   "outputs": [
    {
     "name": "stdout",
     "output_type": "stream",
     "text": [
      "   Grade  Frequency\n",
      "0     71          1\n",
      "1     73          4\n",
      "2     81          1\n",
      "3     84          3\n",
      "4     92          7\n",
      "5    100          4\n"
     ]
    }
   ],
   "source": [
    "print(df1)"
   ]
  },
  {
   "cell_type": "code",
   "execution_count": 9,
   "id": "9e181622",
   "metadata": {},
   "outputs": [
    {
     "name": "stdout",
     "output_type": "stream",
     "text": [
      "              Grade  Frequency\n",
      "0   (70.97, 80.667]          5\n",
      "1  (80.667, 90.333]          4\n",
      "2   (90.333, 100.0]         11\n"
     ]
    }
   ],
   "source": [
    "# Create a serie with grades and frequency\n",
    "df1 = pd.Series(student_grades).value_counts(bins = 3).reset_index().sort_values('index').reset_index(drop = True)\n",
    "df1.columns = ['Grade', 'Frequency']\n",
    "print(df1)"
   ]
  },
  {
   "cell_type": "markdown",
   "id": "2c91aa00",
   "metadata": {},
   "source": [
    "## Solution with Dataframe in Pandas"
   ]
  },
  {
   "cell_type": "markdown",
   "id": "835a91c4",
   "metadata": {},
   "source": [
    "### Simple or Absolute Frequency Distribution - fi"
   ]
  },
  {
   "cell_type": "markdown",
   "id": "c5a73a29",
   "metadata": {},
   "source": [
    "These are the values that represent the number of data in each class. The sum of the simple frequencies is equal to the total number of data."
   ]
  },
  {
   "cell_type": "code",
   "execution_count": 10,
   "id": "c3512b85",
   "metadata": {},
   "outputs": [
    {
     "name": "stdout",
     "output_type": "stream",
     "text": [
      "       fi\n",
      "Grade    \n",
      "71      1\n",
      "73      4\n",
      "81      1\n",
      "84      3\n",
      "92      7\n",
      "100     4\n"
     ]
    }
   ],
   "source": [
    "df2 = pd.value_counts(student_grades).to_frame(name = 'fi').rename_axis('Grade').sort_index()\n",
    "print(df2)"
   ]
  },
  {
   "cell_type": "markdown",
   "id": "16668ee2",
   "metadata": {},
   "source": [
    "### Simple Relative Frequency Distribution - fri"
   ]
  },
  {
   "cell_type": "markdown",
   "id": "940e372f",
   "metadata": {},
   "source": [
    "Allows you to view the values of the ratios between the simple frequencies and the total frequency."
   ]
  },
  {
   "cell_type": "code",
   "execution_count": 12,
   "id": "0f2c8dad",
   "metadata": {},
   "outputs": [
    {
     "name": "stdout",
     "output_type": "stream",
     "text": [
      "       fi   fri\n",
      "Grade          \n",
      "71      1  0.05\n",
      "73      4  0.20\n",
      "81      1  0.05\n",
      "84      3  0.15\n",
      "92      7  0.35\n",
      "100     4  0.20\n"
     ]
    }
   ],
   "source": [
    "df2['fri'] = pd.value_counts(student_grades) / len(student_grades)\n",
    "print(df2)"
   ]
  },
  {
   "cell_type": "markdown",
   "id": "041cadd3",
   "metadata": {},
   "source": [
    "### Cumulative Frequency Distribution - Fi"
   ]
  },
  {
   "cell_type": "markdown",
   "id": "03f872a1",
   "metadata": {},
   "source": [
    "Allows you to see the total of the frequencies of all values below the upper limit of the range for a given class."
   ]
  },
  {
   "cell_type": "code",
   "execution_count": 13,
   "id": "3108773b",
   "metadata": {},
   "outputs": [
    {
     "name": "stdout",
     "output_type": "stream",
     "text": [
      "       fi   fri  Fi\n",
      "Grade              \n",
      "71      1  0.05   1\n",
      "73      4  0.20   5\n",
      "81      1  0.05   6\n",
      "84      3  0.15   9\n",
      "92      7  0.35  16\n",
      "100     4  0.20  20\n"
     ]
    }
   ],
   "source": [
    "df2['Fi'] = df2.fi.cumsum()\n",
    "print(df2)"
   ]
  },
  {
   "cell_type": "markdown",
   "id": "5417f43f",
   "metadata": {},
   "source": [
    "### Cumulative Relative Frequency Distribution - Fri"
   ]
  },
  {
   "cell_type": "markdown",
   "id": "bb9f124a",
   "metadata": {},
   "source": [
    "This allows you to see the cumulative frequency of the class, divided by the total frequency of the distribution."
   ]
  },
  {
   "cell_type": "code",
   "execution_count": 14,
   "id": "13c77d78",
   "metadata": {},
   "outputs": [
    {
     "name": "stdout",
     "output_type": "stream",
     "text": [
      "       fi   fri  Fi   Fri\n",
      "Grade                    \n",
      "71      1  0.05   1  0.05\n",
      "73      4  0.20   5  0.25\n",
      "81      1  0.05   6  0.30\n",
      "84      3  0.15   9  0.45\n",
      "92      7  0.35  16  0.80\n",
      "100     4  0.20  20  1.00\n"
     ]
    }
   ],
   "source": [
    "df2['Fri'] = df2.fi.cumsum() / len(student_grades)\n",
    "print(df2)"
   ]
  },
  {
   "cell_type": "markdown",
   "id": "2c354043",
   "metadata": {},
   "source": [
    "# The End"
   ]
  }
 ],
 "metadata": {
  "kernelspec": {
   "display_name": "Python 3 (ipykernel)",
   "language": "python",
   "name": "python3"
  },
  "language_info": {
   "codemirror_mode": {
    "name": "ipython",
    "version": 3
   },
   "file_extension": ".py",
   "mimetype": "text/x-python",
   "name": "python",
   "nbconvert_exporter": "python",
   "pygments_lexer": "ipython3",
   "version": "3.8.13"
  }
 },
 "nbformat": 4,
 "nbformat_minor": 5
}
