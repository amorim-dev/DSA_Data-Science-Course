{
 "cells": [
  {
   "cell_type": "markdown",
   "id": "5776295d",
   "metadata": {},
   "source": [
    "# Big Data Real-Time Analytics with Python and Spark\n",
    "\n",
    "## Chapter 3 - Case Study 2 - Data Manipulation in Python with Pandas\n",
    "\n",
    "- Documentation: https://pandas.pydata.org/\n",
    "- Data generated in: https://www.mockaroo.com/"
   ]
  },
  {
   "cell_type": "markdown",
   "id": "fd6cb0a4",
   "metadata": {},
   "source": [
    "![Case Study 2DSA](images/CaseStudy2.png \"Case Study DSA\")"
   ]
  },
  {
   "cell_type": "code",
   "execution_count": 1,
   "id": "ea232b72",
   "metadata": {},
   "outputs": [
    {
     "name": "stdout",
     "output_type": "stream",
     "text": [
      "The version used in this notebook is:  3.8.8\n"
     ]
    }
   ],
   "source": [
    "# Python version\n",
    "from platform import python_version\n",
    "print('The version used in this notebook is: ', python_version())"
   ]
  },
  {
   "cell_type": "code",
   "execution_count": 2,
   "id": "1013e7de",
   "metadata": {},
   "outputs": [],
   "source": [
    "# Install watermark package\n",
    "!pip install -q -U watermark"
   ]
  },
  {
   "cell_type": "code",
   "execution_count": 3,
   "id": "1fdbd24f",
   "metadata": {},
   "outputs": [],
   "source": [
    "# Import pandas\n",
    "import pandas as pd"
   ]
  },
  {
   "cell_type": "code",
   "execution_count": 4,
   "id": "2a41d619",
   "metadata": {},
   "outputs": [
    {
     "name": "stdout",
     "output_type": "stream",
     "text": [
      "Author: Bianca Amorim\n",
      "\n",
      "pandas: 1.5.0\n",
      "\n"
     ]
    }
   ],
   "source": [
    "# Package versions used in this notebook\n",
    "%reload_ext watermark\n",
    "%watermark -a \"Bianca Amorim\" --iversions"
   ]
  },
  {
   "cell_type": "markdown",
   "id": "bfad6f5b",
   "metadata": {},
   "source": [
    "## Loading the dataset"
   ]
  },
  {
   "cell_type": "code",
   "execution_count": 5,
   "id": "01fdb33c",
   "metadata": {},
   "outputs": [],
   "source": [
    "# Loading the schools dataset\n",
    "dataset_schools = pd.read_csv(\"datasets/dataset_schools.csv\")"
   ]
  },
  {
   "cell_type": "code",
   "execution_count": 6,
   "id": "ca4c471a",
   "metadata": {},
   "outputs": [
    {
     "data": {
      "text/plain": [
       "(15, 5)"
      ]
     },
     "execution_count": 6,
     "metadata": {},
     "output_type": "execute_result"
    }
   ],
   "source": [
    "# Shape\n",
    "dataset_schools.shape"
   ]
  },
  {
   "cell_type": "code",
   "execution_count": 7,
   "id": "1e99ba17",
   "metadata": {},
   "outputs": [
    {
     "data": {
      "text/html": [
       "<div>\n",
       "<style scoped>\n",
       "    .dataframe tbody tr th:only-of-type {\n",
       "        vertical-align: middle;\n",
       "    }\n",
       "\n",
       "    .dataframe tbody tr th {\n",
       "        vertical-align: top;\n",
       "    }\n",
       "\n",
       "    .dataframe thead th {\n",
       "        text-align: right;\n",
       "    }\n",
       "</style>\n",
       "<table border=\"1\" class=\"dataframe\">\n",
       "  <thead>\n",
       "    <tr style=\"text-align: right;\">\n",
       "      <th></th>\n",
       "      <th>ID_Escola</th>\n",
       "      <th>Nome_Escola</th>\n",
       "      <th>Tipo_Escola</th>\n",
       "      <th>Numero_Alunos</th>\n",
       "      <th>Orcamento_Anual</th>\n",
       "    </tr>\n",
       "  </thead>\n",
       "  <tbody>\n",
       "    <tr>\n",
       "      <th>0</th>\n",
       "      <td>0</td>\n",
       "      <td>Escola A</td>\n",
       "      <td>Publica</td>\n",
       "      <td>2917</td>\n",
       "      <td>1910635</td>\n",
       "    </tr>\n",
       "    <tr>\n",
       "      <th>1</th>\n",
       "      <td>1</td>\n",
       "      <td>Escola B</td>\n",
       "      <td>Publica</td>\n",
       "      <td>2949</td>\n",
       "      <td>1884411</td>\n",
       "    </tr>\n",
       "    <tr>\n",
       "      <th>2</th>\n",
       "      <td>2</td>\n",
       "      <td>Escola C</td>\n",
       "      <td>Particular</td>\n",
       "      <td>1761</td>\n",
       "      <td>1056600</td>\n",
       "    </tr>\n",
       "    <tr>\n",
       "      <th>3</th>\n",
       "      <td>3</td>\n",
       "      <td>Escola D</td>\n",
       "      <td>Publica</td>\n",
       "      <td>4635</td>\n",
       "      <td>3022020</td>\n",
       "    </tr>\n",
       "    <tr>\n",
       "      <th>4</th>\n",
       "      <td>4</td>\n",
       "      <td>Escola E</td>\n",
       "      <td>Particular</td>\n",
       "      <td>1468</td>\n",
       "      <td>917500</td>\n",
       "    </tr>\n",
       "  </tbody>\n",
       "</table>\n",
       "</div>"
      ],
      "text/plain": [
       "   ID_Escola Nome_Escola Tipo_Escola  Numero_Alunos  Orcamento_Anual\n",
       "0          0    Escola A     Publica           2917          1910635\n",
       "1          1    Escola B     Publica           2949          1884411\n",
       "2          2    Escola C  Particular           1761          1056600\n",
       "3          3    Escola D     Publica           4635          3022020\n",
       "4          4    Escola E  Particular           1468           917500"
      ]
     },
     "execution_count": 7,
     "metadata": {},
     "output_type": "execute_result"
    }
   ],
   "source": [
    "# View\n",
    "dataset_schools.head()"
   ]
  },
  {
   "cell_type": "code",
   "execution_count": 8,
   "id": "820f1946",
   "metadata": {},
   "outputs": [],
   "source": [
    "# Loading the students dataset\n",
    "dataset_students = pd.read_csv(\"datasets/dataset_students.csv\")"
   ]
  },
  {
   "cell_type": "code",
   "execution_count": 9,
   "id": "de05cc06",
   "metadata": {},
   "outputs": [
    {
     "data": {
      "text/plain": [
       "(39160, 7)"
      ]
     },
     "execution_count": 9,
     "metadata": {},
     "output_type": "execute_result"
    }
   ],
   "source": [
    "# Shape\n",
    "dataset_students.shape"
   ]
  },
  {
   "cell_type": "code",
   "execution_count": 10,
   "id": "769c7136",
   "metadata": {},
   "outputs": [
    {
     "data": {
      "text/html": [
       "<div>\n",
       "<style scoped>\n",
       "    .dataframe tbody tr th:only-of-type {\n",
       "        vertical-align: middle;\n",
       "    }\n",
       "\n",
       "    .dataframe tbody tr th {\n",
       "        vertical-align: top;\n",
       "    }\n",
       "\n",
       "    .dataframe thead th {\n",
       "        text-align: right;\n",
       "    }\n",
       "</style>\n",
       "<table border=\"1\" class=\"dataframe\">\n",
       "  <thead>\n",
       "    <tr style=\"text-align: right;\">\n",
       "      <th></th>\n",
       "      <th>ID_Estudante</th>\n",
       "      <th>Nome_Estudante</th>\n",
       "      <th>Genero</th>\n",
       "      <th>Serie</th>\n",
       "      <th>Nome_Escola</th>\n",
       "      <th>Nota_Redacao</th>\n",
       "      <th>Nota_Matematica</th>\n",
       "    </tr>\n",
       "  </thead>\n",
       "  <tbody>\n",
       "    <tr>\n",
       "      <th>0</th>\n",
       "      <td>0</td>\n",
       "      <td>Kevin Bradley</td>\n",
       "      <td>M</td>\n",
       "      <td>6</td>\n",
       "      <td>Escola A</td>\n",
       "      <td>66</td>\n",
       "      <td>79</td>\n",
       "    </tr>\n",
       "    <tr>\n",
       "      <th>1</th>\n",
       "      <td>1</td>\n",
       "      <td>Paul Smith</td>\n",
       "      <td>M</td>\n",
       "      <td>9</td>\n",
       "      <td>Escola A</td>\n",
       "      <td>94</td>\n",
       "      <td>61</td>\n",
       "    </tr>\n",
       "    <tr>\n",
       "      <th>2</th>\n",
       "      <td>2</td>\n",
       "      <td>John Rodriguez</td>\n",
       "      <td>M</td>\n",
       "      <td>9</td>\n",
       "      <td>Escola A</td>\n",
       "      <td>90</td>\n",
       "      <td>60</td>\n",
       "    </tr>\n",
       "    <tr>\n",
       "      <th>3</th>\n",
       "      <td>3</td>\n",
       "      <td>Oliver Scott</td>\n",
       "      <td>M</td>\n",
       "      <td>9</td>\n",
       "      <td>Escola A</td>\n",
       "      <td>67</td>\n",
       "      <td>58</td>\n",
       "    </tr>\n",
       "    <tr>\n",
       "      <th>4</th>\n",
       "      <td>4</td>\n",
       "      <td>William Ray</td>\n",
       "      <td>F</td>\n",
       "      <td>6</td>\n",
       "      <td>Escola A</td>\n",
       "      <td>97</td>\n",
       "      <td>84</td>\n",
       "    </tr>\n",
       "  </tbody>\n",
       "</table>\n",
       "</div>"
      ],
      "text/plain": [
       "   ID_Estudante  Nome_Estudante Genero  Serie Nome_Escola  Nota_Redacao  \\\n",
       "0             0   Kevin Bradley      M      6    Escola A            66   \n",
       "1             1      Paul Smith      M      9    Escola A            94   \n",
       "2             2  John Rodriguez      M      9    Escola A            90   \n",
       "3             3    Oliver Scott      M      9    Escola A            67   \n",
       "4             4     William Ray      F      6    Escola A            97   \n",
       "\n",
       "   Nota_Matematica  \n",
       "0               79  \n",
       "1               61  \n",
       "2               60  \n",
       "3               58  \n",
       "4               84  "
      ]
     },
     "execution_count": 10,
     "metadata": {},
     "output_type": "execute_result"
    }
   ],
   "source": [
    "# View\n",
    "dataset_students.head()"
   ]
  },
  {
   "cell_type": "code",
   "execution_count": 11,
   "id": "652bdf9b",
   "metadata": {},
   "outputs": [],
   "source": [
    "# Merge datasets\n",
    "dataset_full = pd.merge(dataset_students, dataset_schools, how = \"left\", on = [\"Nome_Escola\", \"Nome_Escola\"])"
   ]
  },
  {
   "cell_type": "code",
   "execution_count": 12,
   "id": "ada7802b",
   "metadata": {},
   "outputs": [
    {
     "data": {
      "text/plain": [
       "(39160, 11)"
      ]
     },
     "execution_count": 12,
     "metadata": {},
     "output_type": "execute_result"
    }
   ],
   "source": [
    "# Shape\n",
    "dataset_full.shape"
   ]
  },
  {
   "cell_type": "code",
   "execution_count": 13,
   "id": "e72924de",
   "metadata": {},
   "outputs": [
    {
     "data": {
      "text/html": [
       "<div>\n",
       "<style scoped>\n",
       "    .dataframe tbody tr th:only-of-type {\n",
       "        vertical-align: middle;\n",
       "    }\n",
       "\n",
       "    .dataframe tbody tr th {\n",
       "        vertical-align: top;\n",
       "    }\n",
       "\n",
       "    .dataframe thead th {\n",
       "        text-align: right;\n",
       "    }\n",
       "</style>\n",
       "<table border=\"1\" class=\"dataframe\">\n",
       "  <thead>\n",
       "    <tr style=\"text-align: right;\">\n",
       "      <th></th>\n",
       "      <th>ID_Estudante</th>\n",
       "      <th>Nome_Estudante</th>\n",
       "      <th>Genero</th>\n",
       "      <th>Serie</th>\n",
       "      <th>Nome_Escola</th>\n",
       "      <th>Nota_Redacao</th>\n",
       "      <th>Nota_Matematica</th>\n",
       "      <th>ID_Escola</th>\n",
       "      <th>Tipo_Escola</th>\n",
       "      <th>Numero_Alunos</th>\n",
       "      <th>Orcamento_Anual</th>\n",
       "    </tr>\n",
       "  </thead>\n",
       "  <tbody>\n",
       "    <tr>\n",
       "      <th>0</th>\n",
       "      <td>0</td>\n",
       "      <td>Kevin Bradley</td>\n",
       "      <td>M</td>\n",
       "      <td>6</td>\n",
       "      <td>Escola A</td>\n",
       "      <td>66</td>\n",
       "      <td>79</td>\n",
       "      <td>0</td>\n",
       "      <td>Publica</td>\n",
       "      <td>2917</td>\n",
       "      <td>1910635</td>\n",
       "    </tr>\n",
       "    <tr>\n",
       "      <th>1</th>\n",
       "      <td>1</td>\n",
       "      <td>Paul Smith</td>\n",
       "      <td>M</td>\n",
       "      <td>9</td>\n",
       "      <td>Escola A</td>\n",
       "      <td>94</td>\n",
       "      <td>61</td>\n",
       "      <td>0</td>\n",
       "      <td>Publica</td>\n",
       "      <td>2917</td>\n",
       "      <td>1910635</td>\n",
       "    </tr>\n",
       "    <tr>\n",
       "      <th>2</th>\n",
       "      <td>2</td>\n",
       "      <td>John Rodriguez</td>\n",
       "      <td>M</td>\n",
       "      <td>9</td>\n",
       "      <td>Escola A</td>\n",
       "      <td>90</td>\n",
       "      <td>60</td>\n",
       "      <td>0</td>\n",
       "      <td>Publica</td>\n",
       "      <td>2917</td>\n",
       "      <td>1910635</td>\n",
       "    </tr>\n",
       "    <tr>\n",
       "      <th>3</th>\n",
       "      <td>3</td>\n",
       "      <td>Oliver Scott</td>\n",
       "      <td>M</td>\n",
       "      <td>9</td>\n",
       "      <td>Escola A</td>\n",
       "      <td>67</td>\n",
       "      <td>58</td>\n",
       "      <td>0</td>\n",
       "      <td>Publica</td>\n",
       "      <td>2917</td>\n",
       "      <td>1910635</td>\n",
       "    </tr>\n",
       "    <tr>\n",
       "      <th>4</th>\n",
       "      <td>4</td>\n",
       "      <td>William Ray</td>\n",
       "      <td>F</td>\n",
       "      <td>6</td>\n",
       "      <td>Escola A</td>\n",
       "      <td>97</td>\n",
       "      <td>84</td>\n",
       "      <td>0</td>\n",
       "      <td>Publica</td>\n",
       "      <td>2917</td>\n",
       "      <td>1910635</td>\n",
       "    </tr>\n",
       "  </tbody>\n",
       "</table>\n",
       "</div>"
      ],
      "text/plain": [
       "   ID_Estudante  Nome_Estudante Genero  Serie Nome_Escola  Nota_Redacao  \\\n",
       "0             0   Kevin Bradley      M      6    Escola A            66   \n",
       "1             1      Paul Smith      M      9    Escola A            94   \n",
       "2             2  John Rodriguez      M      9    Escola A            90   \n",
       "3             3    Oliver Scott      M      9    Escola A            67   \n",
       "4             4     William Ray      F      6    Escola A            97   \n",
       "\n",
       "   Nota_Matematica  ID_Escola Tipo_Escola  Numero_Alunos  Orcamento_Anual  \n",
       "0               79          0     Publica           2917          1910635  \n",
       "1               61          0     Publica           2917          1910635  \n",
       "2               60          0     Publica           2917          1910635  \n",
       "3               58          0     Publica           2917          1910635  \n",
       "4               84          0     Publica           2917          1910635  "
      ]
     },
     "execution_count": 13,
     "metadata": {},
     "output_type": "execute_result"
    }
   ],
   "source": [
    "# View\n",
    "dataset_full.head()"
   ]
  },
  {
   "cell_type": "code",
   "execution_count": 14,
   "id": "1526e4ae",
   "metadata": {},
   "outputs": [
    {
     "data": {
      "text/plain": [
       "array([6, 9, 8, 7])"
      ]
     },
     "execution_count": 14,
     "metadata": {},
     "output_type": "execute_result"
    }
   ],
   "source": [
    "# How many series\n",
    "dataset_full[\"Serie\"].unique()"
   ]
  },
  {
   "cell_type": "code",
   "execution_count": 15,
   "id": "8a98d157",
   "metadata": {},
   "outputs": [
    {
     "data": {
      "text/plain": [
       "array(['M', 'F'], dtype=object)"
      ]
     },
     "execution_count": 15,
     "metadata": {},
     "output_type": "execute_result"
    }
   ],
   "source": [
    "# How many genders\n",
    "dataset_full[\"Genero\"].unique()"
   ]
  },
  {
   "cell_type": "markdown",
   "id": "ef2d5ce9",
   "metadata": {},
   "source": [
    "## Data analytics challenge\n",
    "Answer the following 10 questions"
   ]
  },
  {
   "cell_type": "markdown",
   "id": "d44c62c5",
   "metadata": {},
   "source": [
    "> **1. Do we have data of how many schools?**"
   ]
  },
  {
   "cell_type": "code",
   "execution_count": 16,
   "id": "1478ca79",
   "metadata": {},
   "outputs": [
    {
     "data": {
      "text/plain": [
       "15"
      ]
     },
     "execution_count": 16,
     "metadata": {},
     "output_type": "execute_result"
    }
   ],
   "source": [
    "# He use len(dataset_full[\"Nome_Escola\"].unique()) (We can sum only in the school dataset too)\n",
    "nschools = dataset_full[\"Nome_Escola\"].nunique()\n",
    "nschools"
   ]
  },
  {
   "cell_type": "markdown",
   "id": "840f97a8",
   "metadata": {},
   "source": [
    "> **2. Whats is the total of students records in the database?**"
   ]
  },
  {
   "cell_type": "code",
   "execution_count": 17,
   "id": "1f520e35",
   "metadata": {},
   "outputs": [
    {
     "data": {
      "text/plain": [
       "39160"
      ]
     },
     "execution_count": 17,
     "metadata": {},
     "output_type": "execute_result"
    }
   ],
   "source": [
    "# Its better use the ID columns because this is the unique register\n",
    "nstudents_records = dataset_full[\"Nome_Estudante\"].count()\n",
    "nstudents_records"
   ]
  },
  {
   "cell_type": "markdown",
   "id": "34382f27",
   "metadata": {},
   "source": [
    "> **3. What is the total budget considering all schools?**"
   ]
  },
  {
   "cell_type": "code",
   "execution_count": 18,
   "id": "13a91490",
   "metadata": {},
   "outputs": [
    {
     "data": {
      "text/plain": [
       "24649428"
      ]
     },
     "execution_count": 18,
     "metadata": {},
     "output_type": "execute_result"
    }
   ],
   "source": [
    "# He use here only the school dataset to do not have duplicate data\n",
    "total_budget = dataset_full[\"Orcamento_Anual\"].unique().sum()\n",
    "total_budget"
   ]
  },
  {
   "cell_type": "markdown",
   "id": "60a2202b",
   "metadata": {},
   "source": [
    "> **4. What is the average grade of writing students?**"
   ]
  },
  {
   "cell_type": "code",
   "execution_count": 19,
   "id": "0784d135",
   "metadata": {},
   "outputs": [
    {
     "data": {
      "text/plain": [
       "81.87574055158325"
      ]
     },
     "execution_count": 19,
     "metadata": {},
     "output_type": "execute_result"
    }
   ],
   "source": [
    "mean_grade_writ = dataset_full[\"Nota_Redacao\"].mean()\n",
    "mean_grade_writ"
   ]
  },
  {
   "cell_type": "markdown",
   "id": "e2994e81",
   "metadata": {},
   "source": [
    "> **5. What is the average grade of math students?**"
   ]
  },
  {
   "cell_type": "code",
   "execution_count": 20,
   "id": "9052ac6b",
   "metadata": {},
   "outputs": [
    {
     "data": {
      "text/plain": [
       "78.98493360572012"
      ]
     },
     "execution_count": 20,
     "metadata": {},
     "output_type": "execute_result"
    }
   ],
   "source": [
    "mean_grade_math = dataset_full[\"Nota_Matematica\"].mean()\n",
    "mean_grade_math"
   ]
  },
  {
   "cell_type": "markdown",
   "id": "7b7e4ec1",
   "metadata": {},
   "source": [
    "> **6. Considering that the passing grade is 70, how many students passed in writing? (Give the result in absolute value and percentage)**"
   ]
  },
  {
   "cell_type": "code",
   "execution_count": 21,
   "id": "66ed9baa",
   "metadata": {},
   "outputs": [
    {
     "data": {
      "text/plain": [
       "33600"
      ]
     },
     "execution_count": 21,
     "metadata": {},
     "output_type": "execute_result"
    }
   ],
   "source": [
    "# He use slicing to get only >= 70 inside the slicing to get the column\n",
    "# -> dataset_full[dataset_full[\"Nota_Redacao\"] >= 70].count()[\"Nome_estudante\"]\n",
    "students_pass_writing = dataset_full[\"Nota_Redacao\"].gt(69).sum()\n",
    "students_pass_writing"
   ]
  },
  {
   "cell_type": "code",
   "execution_count": 22,
   "id": "bc103de0",
   "metadata": {},
   "outputs": [
    {
     "data": {
      "text/plain": [
       "85.80183861082737"
      ]
     },
     "execution_count": 22,
     "metadata": {},
     "output_type": "execute_result"
    }
   ],
   "source": [
    "# Its important to put the float format, in the divisor number, when you are doing an operation\n",
    "# Because without the format float pyhton will round the number and this is not good in ML\n",
    "# That prevents us from losing precision\n",
    "perc_students_pass_writing = (students_pass_writing / float(nstudents_records)) * 100\n",
    "perc_students_pass_writing"
   ]
  },
  {
   "cell_type": "markdown",
   "id": "b60032b7",
   "metadata": {},
   "source": [
    "> **7. Considering that the passing grade is 70, how many students passed in math (Give the result in absolute value and percentage)**"
   ]
  },
  {
   "cell_type": "code",
   "execution_count": 23,
   "id": "8ab23159",
   "metadata": {},
   "outputs": [
    {
     "data": {
      "text/plain": [
       "29360"
      ]
     },
     "execution_count": 23,
     "metadata": {},
     "output_type": "execute_result"
    }
   ],
   "source": [
    "students_pass_math = dataset_full[\"Nota_Matematica\"].gt(69).sum()\n",
    "students_pass_math"
   ]
  },
  {
   "cell_type": "code",
   "execution_count": 24,
   "id": "8cb172a4",
   "metadata": {},
   "outputs": [
    {
     "data": {
      "text/plain": [
       "74.97446373850867"
      ]
     },
     "execution_count": 24,
     "metadata": {},
     "output_type": "execute_result"
    }
   ],
   "source": [
    "perc_students_pass_math = (students_pass_math / float(nstudents_records)) * 100\n",
    "perc_students_pass_math"
   ]
  },
  {
   "cell_type": "markdown",
   "id": "c6a3459d",
   "metadata": {},
   "source": [
    "> **8. Considering that the passing grade is 70, how many students passed in math and writing (Give the result in absolute value and percentage)**"
   ]
  },
  {
   "cell_type": "code",
   "execution_count": 25,
   "id": "cf9e3a09",
   "metadata": {},
   "outputs": [
    {
     "data": {
      "text/plain": [
       "25518"
      ]
     },
     "execution_count": 25,
     "metadata": {},
     "output_type": "execute_result"
    }
   ],
   "source": [
    "# This is the way the we could do the others above.\n",
    "# We put [\"Nome_Estudante\"] in the end because we only want this value\n",
    "students_pass_math_writing = dataset_full[(dataset_full[\"Nota_Redacao\"] >= 70)\n",
    "                                         & (dataset_full[\"Nota_Matematica\"] >= 70)].count()[\"Nome_Estudante\"]\n",
    "students_pass_math_writing"
   ]
  },
  {
   "cell_type": "code",
   "execution_count": 26,
   "id": "11a7d313",
   "metadata": {},
   "outputs": [
    {
     "data": {
      "text/plain": [
       "65.16343207354444"
      ]
     },
     "execution_count": 26,
     "metadata": {},
     "output_type": "execute_result"
    }
   ],
   "source": [
    "perc_students_pass_math_writing = (students_pass_math_writing / float(nstudents_records)) * 100; perc_students_pass_math_writing"
   ]
  },
  {
   "cell_type": "markdown",
   "id": "ce05cb07",
   "metadata": {},
   "source": [
    "> **9. Create a dataframe with the results of the questions from 1 to 8 that you calculate above. (Tip: Create a dictionary, then convert to a  pandas dataframe)**"
   ]
  },
  {
   "cell_type": "code",
   "execution_count": 36,
   "id": "f4b2039d",
   "metadata": {},
   "outputs": [],
   "source": [
    "df_results = pd.DataFrame({'Number_Schools': [nschools],\n",
    "               'Number_Students_Record': [nstudents_records],\n",
    "               'Total_Budget': [total_budget],\n",
    "               'Mean_Students_Writing':[mean_grade_writ], \n",
    "               'Mean_Students_Math': [mean_grade_math],\n",
    "               'Students_Pass_Writing':[students_pass_writing],\n",
    "               '%Students_Pass_Writing': [perc_students_pass_writing],\n",
    "               'Students_Pass_Math': [students_pass_math],\n",
    "               '%Students_Pass_Math': [perc_students_pass_math],\n",
    "               'Students_Pass_Writing_Math': [students_pass_math_writing],\n",
    "               '%Students_Pass_Writing_Math': [perc_students_pass_math_writing]})"
   ]
  },
  {
   "cell_type": "code",
   "execution_count": 37,
   "id": "2c16305e",
   "metadata": {},
   "outputs": [
    {
     "data": {
      "text/html": [
       "<div>\n",
       "<style scoped>\n",
       "    .dataframe tbody tr th:only-of-type {\n",
       "        vertical-align: middle;\n",
       "    }\n",
       "\n",
       "    .dataframe tbody tr th {\n",
       "        vertical-align: top;\n",
       "    }\n",
       "\n",
       "    .dataframe thead th {\n",
       "        text-align: right;\n",
       "    }\n",
       "</style>\n",
       "<table border=\"1\" class=\"dataframe\">\n",
       "  <thead>\n",
       "    <tr style=\"text-align: right;\">\n",
       "      <th></th>\n",
       "      <th>Number_Schools</th>\n",
       "      <th>Number_Students_Record</th>\n",
       "      <th>Total_Budget</th>\n",
       "      <th>Mean_Students_Writing</th>\n",
       "      <th>Mean_Students_Math</th>\n",
       "      <th>Students_Pass_Writing</th>\n",
       "      <th>%Students_Pass_Writing</th>\n",
       "      <th>Students_Pass_Math</th>\n",
       "      <th>%Students_Pass_Math</th>\n",
       "      <th>Students_Pass_Writing_Math</th>\n",
       "      <th>%Students_Pass_Writing_Math</th>\n",
       "    </tr>\n",
       "  </thead>\n",
       "  <tbody>\n",
       "    <tr>\n",
       "      <th>0</th>\n",
       "      <td>15</td>\n",
       "      <td>39160</td>\n",
       "      <td>24649428</td>\n",
       "      <td>81.875741</td>\n",
       "      <td>78.984934</td>\n",
       "      <td>33600</td>\n",
       "      <td>85.801839</td>\n",
       "      <td>29360</td>\n",
       "      <td>74.974464</td>\n",
       "      <td>25518</td>\n",
       "      <td>65.163432</td>\n",
       "    </tr>\n",
       "  </tbody>\n",
       "</table>\n",
       "</div>"
      ],
      "text/plain": [
       "   Number_Schools  Number_Students_Record  Total_Budget  \\\n",
       "0              15                   39160      24649428   \n",
       "\n",
       "   Mean_Students_Writing  Mean_Students_Math  Students_Pass_Writing  \\\n",
       "0              81.875741           78.984934                  33600   \n",
       "\n",
       "   %Students_Pass_Writing  Students_Pass_Math  %Students_Pass_Math  \\\n",
       "0               85.801839               29360            74.974464   \n",
       "\n",
       "   Students_Pass_Writing_Math  %Students_Pass_Writing_Math  \n",
       "0                       25518                    65.163432  "
      ]
     },
     "execution_count": 37,
     "metadata": {},
     "output_type": "execute_result"
    }
   ],
   "source": [
    "df_results"
   ]
  },
  {
   "cell_type": "code",
   "execution_count": 38,
   "id": "bcde1ae0",
   "metadata": {
    "scrolled": true
   },
   "outputs": [
    {
     "data": {
      "text/plain": [
       "pandas.core.frame.DataFrame"
      ]
     },
     "execution_count": 38,
     "metadata": {},
     "output_type": "execute_result"
    }
   ],
   "source": [
    "type(df_results)"
   ]
  },
  {
   "cell_type": "markdown",
   "id": "b81003d9",
   "metadata": {},
   "source": [
    "> **10. Format the \"Total de Estudantes\" and \"Total Orçamento\" columns adjusting the decimal house.**"
   ]
  },
  {
   "cell_type": "code",
   "execution_count": 39,
   "id": "4472a715",
   "metadata": {},
   "outputs": [],
   "source": [
    "df_results[\"Number_Students_Record\"] = df_results[\"Number_Students_Record\"].map(\"{:,}\".format)\n",
    "df_results[\"Total_Budget\"] = df_results[\"Total_Budget\"].map(\"${:,.2f}\".format)"
   ]
  },
  {
   "cell_type": "code",
   "execution_count": 40,
   "id": "078cfb0d",
   "metadata": {},
   "outputs": [
    {
     "data": {
      "text/html": [
       "<div>\n",
       "<style scoped>\n",
       "    .dataframe tbody tr th:only-of-type {\n",
       "        vertical-align: middle;\n",
       "    }\n",
       "\n",
       "    .dataframe tbody tr th {\n",
       "        vertical-align: top;\n",
       "    }\n",
       "\n",
       "    .dataframe thead th {\n",
       "        text-align: right;\n",
       "    }\n",
       "</style>\n",
       "<table border=\"1\" class=\"dataframe\">\n",
       "  <thead>\n",
       "    <tr style=\"text-align: right;\">\n",
       "      <th></th>\n",
       "      <th>Number_Schools</th>\n",
       "      <th>Number_Students_Record</th>\n",
       "      <th>Total_Budget</th>\n",
       "      <th>Mean_Students_Writing</th>\n",
       "      <th>Mean_Students_Math</th>\n",
       "      <th>Students_Pass_Writing</th>\n",
       "      <th>%Students_Pass_Writing</th>\n",
       "      <th>Students_Pass_Math</th>\n",
       "      <th>%Students_Pass_Math</th>\n",
       "      <th>Students_Pass_Writing_Math</th>\n",
       "      <th>%Students_Pass_Writing_Math</th>\n",
       "    </tr>\n",
       "  </thead>\n",
       "  <tbody>\n",
       "    <tr>\n",
       "      <th>0</th>\n",
       "      <td>15</td>\n",
       "      <td>39,160</td>\n",
       "      <td>$24,649,428.00</td>\n",
       "      <td>81.875741</td>\n",
       "      <td>78.984934</td>\n",
       "      <td>33600</td>\n",
       "      <td>85.801839</td>\n",
       "      <td>29360</td>\n",
       "      <td>74.974464</td>\n",
       "      <td>25518</td>\n",
       "      <td>65.163432</td>\n",
       "    </tr>\n",
       "  </tbody>\n",
       "</table>\n",
       "</div>"
      ],
      "text/plain": [
       "   Number_Schools Number_Students_Record    Total_Budget  \\\n",
       "0              15                 39,160  $24,649,428.00   \n",
       "\n",
       "   Mean_Students_Writing  Mean_Students_Math  Students_Pass_Writing  \\\n",
       "0              81.875741           78.984934                  33600   \n",
       "\n",
       "   %Students_Pass_Writing  Students_Pass_Math  %Students_Pass_Math  \\\n",
       "0               85.801839               29360            74.974464   \n",
       "\n",
       "   Students_Pass_Writing_Math  %Students_Pass_Writing_Math  \n",
       "0                       25518                    65.163432  "
      ]
     },
     "execution_count": 40,
     "metadata": {},
     "output_type": "execute_result"
    }
   ],
   "source": [
    "df_results"
   ]
  },
  {
   "cell_type": "markdown",
   "id": "26db1f7b",
   "metadata": {},
   "source": [
    "# The End"
   ]
  }
 ],
 "metadata": {
  "kernelspec": {
   "display_name": "Python 3 (ipykernel)",
   "language": "python",
   "name": "python3"
  },
  "language_info": {
   "codemirror_mode": {
    "name": "ipython",
    "version": 3
   },
   "file_extension": ".py",
   "mimetype": "text/x-python",
   "name": "python",
   "nbconvert_exporter": "python",
   "pygments_lexer": "ipython3",
   "version": "3.8.8"
  }
 },
 "nbformat": 4,
 "nbformat_minor": 5
}
