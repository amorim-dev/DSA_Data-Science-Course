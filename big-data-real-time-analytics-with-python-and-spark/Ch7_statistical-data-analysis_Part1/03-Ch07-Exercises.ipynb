{
 "cells": [
  {
   "cell_type": "markdown",
   "id": "6de9cff4",
   "metadata": {},
   "source": [
    "# Big Data Real-Time Analytics with Python and Spark\n",
    "\n",
    "## Chapter 7 - Statistical Data Analysis Part 1 - Exercises"
   ]
  },
  {
   "cell_type": "code",
   "execution_count": 1,
   "id": "250c54d5",
   "metadata": {},
   "outputs": [
    {
     "name": "stdout",
     "output_type": "stream",
     "text": [
      "The version used in this notebook is:  3.8.13\n"
     ]
    }
   ],
   "source": [
    "# Python version\n",
    "from platform import python_version\n",
    "print('The version used in this notebook is: ', python_version())"
   ]
  },
  {
   "cell_type": "markdown",
   "id": "5edc128b",
   "metadata": {},
   "source": [
    "### Execise 1 -  Create a Python function using only mathematical operations (do not use other functions or methods) that takes a list of numbers as argument and returns the average of the list of numbers as the result."
   ]
  },
  {
   "cell_type": "code",
   "execution_count": 2,
   "id": "cb800e7d",
   "metadata": {},
   "outputs": [
    {
     "data": {
      "text/plain": [
       "81.5"
      ]
     },
     "execution_count": 2,
     "metadata": {},
     "output_type": "execute_result"
    }
   ],
   "source": [
    "# Solution\n",
    "\n",
    "# List of numbers\n",
    "list_num = [78, 80, 79, 80, 87, 85]\n",
    "\n",
    "# Function\n",
    "def calculate_mean(list):\n",
    "    n = len(list)\n",
    "    sum = 0\n",
    "    for i in list:\n",
    "        sum += i\n",
    "    return sum / n\n",
    "    \n",
    "# Function call\n",
    "calculate_mean(list_num)"
   ]
  },
  {
   "cell_type": "code",
   "execution_count": 3,
   "id": "38c65ce2",
   "metadata": {},
   "outputs": [
    {
     "data": {
      "text/plain": [
       "81.5"
      ]
     },
     "execution_count": 3,
     "metadata": {},
     "output_type": "execute_result"
    }
   ],
   "source": [
    "list_num = [78, 80, 79, 80, 87, 85]\n",
    "def my_mean(list):\n",
    "    return sum(list) / len(list)\n",
    "\n",
    "my_mean(list_num)"
   ]
  },
  {
   "cell_type": "markdown",
   "id": "76ca9336",
   "metadata": {},
   "source": [
    "### Exercise 2 - Create a Python function that takes a list as an argument and returns the median. The function should return the median for a list with any number of elements. Use helper methods if necessary.\n",
    "**Median** - When the number of data points is odd, return the middle data point. When the number of data points is even, the median is interpolated by taking the average of the two middle values"
   ]
  },
  {
   "cell_type": "code",
   "execution_count": 21,
   "id": "ddf4b5bc",
   "metadata": {},
   "outputs": [
    {
     "name": "stdout",
     "output_type": "stream",
     "text": [
      "The median of list 1 is: 80.5\n",
      "The median of list 2 is: 80\n"
     ]
    }
   ],
   "source": [
    "# Solution\n",
    "\n",
    "# Lists of numbers\n",
    "number_list_1 = [78, 80, 79, 81, 87, 85]\n",
    "number_list_2 = [78, 80, 79, 86, 85]\n",
    "\n",
    "# Function\n",
    "def calculates_median(nums):\n",
    "    \n",
    "    # sort the list\n",
    "    nums.sort()\n",
    "    \n",
    "    # Count the number of the list\n",
    "    n = len(nums)\n",
    "    \n",
    "    # Condicional\n",
    "    if n % 2 == 0:\n",
    "        return (nums[n // 2] + nums[(n // 2) - 1]) / 2\n",
    "    else:\n",
    "        return nums[n //  2]\n",
    "        \n",
    "# Function call\n",
    "result1 = calculates_median(number_list_1)\n",
    "result2 = calculates_median(number_list_2)\n",
    "\n",
    "print(\"The median of list 1 is:\", result1)\n",
    "print(\"The median of list 2 is:\", result2)"
   ]
  },
  {
   "cell_type": "markdown",
   "id": "35e48901",
   "metadata": {},
   "source": [
    "### Exercise 3 - Given the list of elements below that represents the number of products sold per day in a company, create a Python function that receives the list and returns the variance. Use helper methods if necessary.\n",
    "\n",
    "Variance formula:"
   ]
  },
  {
   "cell_type": "markdown",
   "id": "729160f0",
   "metadata": {},
   "source": [
    "![title](images/var.png)"
   ]
  },
  {
   "cell_type": "code",
   "execution_count": 5,
   "id": "52daa113",
   "metadata": {},
   "outputs": [
    {
     "name": "stdout",
     "output_type": "stream",
     "text": [
      "The variance of the list is: 5.09\n"
     ]
    }
   ],
   "source": [
    "# List of numbers\n",
    "units_sold  = [5, 4, 3, 4, 8, 2, 5, 2, 5, 8, 10, 8, 7, 8, 7, 9, 10, 5, 7, 5, 7, 5, 4, 3, 5, 8, 4]\n",
    "\n",
    "# Function \n",
    "def calculate_variance(data):\n",
    "    \n",
    "    # len of the list\n",
    "    n = len(data)\n",
    "    \n",
    "    # Mean\n",
    "    mean = sum(data) / n\n",
    "    \n",
    "    # Square Deviation\n",
    "    deviation = [(x - mean) ** 2 for x in data]\n",
    "    \n",
    "    # Variance\n",
    "    variance = sum(deviation) / n\n",
    "    \n",
    "    return variance\n",
    "\n",
    "# Function call\n",
    "v = round(calculate_variance(units_sold), 2)\n",
    "\n",
    "print(\"The variance of the list is:\", v)"
   ]
  },
  {
   "cell_type": "markdown",
   "id": "3913da8b",
   "metadata": {},
   "source": [
    "### Exercise 4 - Given the list of elements below representing the number of products sold per day in a company, create a function that calculates the Standard deviation. The Standard Deviation is the square of the variance."
   ]
  },
  {
   "cell_type": "code",
   "execution_count": 22,
   "id": "219f4e1b",
   "metadata": {},
   "outputs": [
    {
     "name": "stdout",
     "output_type": "stream",
     "text": [
      "The standard deviation of the list is: 2.26\n"
     ]
    }
   ],
   "source": [
    "# List of numbers\n",
    "units_sold = [5, 4, 3, 4, 8, 2, 5, 2, 5, 8, 10, 8, 7, 8, 7, 9, 10, 5, 7, 5, 7, 5, 4, 3, 5, 8, 4]\n",
    "\n",
    "# Import\n",
    "import math\n",
    "\n",
    "# Function\n",
    "def calculate_std(data):\n",
    "    \n",
    "    # Calculate variance\n",
    "    var = calculate_variance(data)\n",
    "    \n",
    "    # Square root of the variance\n",
    "    std = math.sqrt(var)\n",
    "    \n",
    "    return std\n",
    "    \n",
    "# Call the function\n",
    "s = round(calculate_std(units_sold), 2)\n",
    "print(\"The standard deviation of the list is:\", s)"
   ]
  },
  {
   "cell_type": "markdown",
   "id": "b74dbef8",
   "metadata": {},
   "source": [
    "### Exercise 5 - Using the NumPy and Scipy packages, calculate the descriptive statistics of central tendency and dispersion from the list below."
   ]
  },
  {
   "cell_type": "code",
   "execution_count": 31,
   "id": "7e51685d",
   "metadata": {},
   "outputs": [
    {
     "name": "stdout",
     "output_type": "stream",
     "text": [
      "Mean:  5.76\n",
      "Median:  5.0\n",
      "Mode:  ModeResult(mode=array([5]), count=array([8]))\n",
      "\n",
      "Range of values:  8\n",
      "Variance:  5.14\n",
      "Standart Deviation:  2.27\n",
      "\n",
      "Kustosis:  -0.8647340179806067\n",
      "Skewness:  0.23636648438778793\n"
     ]
    }
   ],
   "source": [
    "# List of numbers\n",
    "units_sold = [5, 4, 3, 5, 8, 2, 5, 2, 5, 8, 10, 8, 7, 9, 10, 5, 7, 5, 7, 5, 4, 3, 5, 8, 4]\n",
    "\n",
    "# Imports\n",
    "import numpy as np\n",
    "import scipy\n",
    "from scipy import stats\n",
    "\n",
    "# Place your solution here\n",
    "mean = round(np.mean(units_sold), 2)\n",
    "median = np.median(units_sold)\n",
    "mode = stats.mode(units_sold)\n",
    "\n",
    "var = round(np.var(units_sold), 2)\n",
    "std = round(np.std(units_sold), 2)\n",
    "srange = np.ptp(units_sold) \n",
    "\n",
    "kustosis = stats.mstats.kurtosis(units_sold)\n",
    "skewness = stats.skew(units_sold)\n",
    "\n",
    "\n",
    "print('Mean: ', mean)\n",
    "print('Median: ', median)\n",
    "print('Mode: ', mode)\n",
    "print('\\nRange of values: ', srange)\n",
    "print('Variance: ', var)\n",
    "print('Standart Deviation: ', std)\n",
    "print('\\nKustosis: ', kustosis)\n",
    "print('Skewness: ', skewness)"
   ]
  },
  {
   "cell_type": "markdown",
   "id": "234aaab7",
   "metadata": {},
   "source": [
    "# The End"
   ]
  }
 ],
 "metadata": {
  "kernelspec": {
   "display_name": "Python 3 (ipykernel)",
   "language": "python",
   "name": "python3"
  },
  "language_info": {
   "codemirror_mode": {
    "name": "ipython",
    "version": 3
   },
   "file_extension": ".py",
   "mimetype": "text/x-python",
   "name": "python",
   "nbconvert_exporter": "python",
   "pygments_lexer": "ipython3",
   "version": "3.8.13"
  }
 },
 "nbformat": 4,
 "nbformat_minor": 5
}
