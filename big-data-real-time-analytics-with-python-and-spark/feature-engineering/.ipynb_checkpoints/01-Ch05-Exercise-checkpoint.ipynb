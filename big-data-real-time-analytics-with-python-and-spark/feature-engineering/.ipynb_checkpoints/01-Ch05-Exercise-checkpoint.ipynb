{
 "cells": [
  {
   "cell_type": "markdown",
   "id": "682ffc67",
   "metadata": {},
   "source": [
    "# Big Data Real-Time Analytics with Python and Spark\n",
    "\n",
    "## Chapter 5 - Exercise\n",
    "\n",
    "This is a challenging worklist, but it will consolidate your knowledge of data manipulation with Pandas."
   ]
  },
  {
   "cell_type": "code",
   "execution_count": 1,
   "id": "6e8fdbd8",
   "metadata": {},
   "outputs": [
    {
     "name": "stdout",
     "output_type": "stream",
     "text": [
      "The version used in this notebook is:  3.8.13\n"
     ]
    }
   ],
   "source": [
    "# Python version\n",
    "from platform import python_version\n",
    "print('The version used in this notebook is: ', python_version())"
   ]
  },
  {
   "cell_type": "code",
   "execution_count": 2,
   "id": "5e2bfad4",
   "metadata": {},
   "outputs": [],
   "source": [
    "# imports\n",
    "import pandas as pd\n",
    "import numpy as np"
   ]
  },
  {
   "cell_type": "code",
   "execution_count": 3,
   "id": "199b7f8c",
   "metadata": {},
   "outputs": [
    {
     "name": "stdout",
     "output_type": "stream",
     "text": [
      "Author: Bianca Amorim\n",
      "\n",
      "pandas: 1.4.2\n",
      "numpy : 1.22.3\n",
      "\n"
     ]
    }
   ],
   "source": [
    "# # package version used in this notebook\n",
    "%reload_ext watermark\n",
    "%watermark -a 'Bianca Amorim' --iversions"
   ]
  },
  {
   "cell_type": "markdown",
   "id": "c2d8aaa8",
   "metadata": {},
   "source": [
    "## SQL Join and joining tables with Pandas"
   ]
  },
  {
   "cell_type": "code",
   "execution_count": 4,
   "id": "22d86a9a",
   "metadata": {},
   "outputs": [
    {
     "data": {
      "text/html": [
       "<img src=\"images/sql-join.png\"/>"
      ],
      "text/plain": [
       "<IPython.core.display.Image object>"
      ]
     },
     "execution_count": 4,
     "metadata": {},
     "output_type": "execute_result"
    }
   ],
   "source": [
    "from IPython.display import Image\n",
    "Image(url = 'images/sql-join.png')"
   ]
  },
  {
   "cell_type": "code",
   "execution_count": 5,
   "id": "7c3dc270",
   "metadata": {},
   "outputs": [
    {
     "data": {
      "text/html": [
       "<div>\n",
       "<style scoped>\n",
       "    .dataframe tbody tr th:only-of-type {\n",
       "        vertical-align: middle;\n",
       "    }\n",
       "\n",
       "    .dataframe tbody tr th {\n",
       "        vertical-align: top;\n",
       "    }\n",
       "\n",
       "    .dataframe thead th {\n",
       "        text-align: right;\n",
       "    }\n",
       "</style>\n",
       "<table border=\"1\" class=\"dataframe\">\n",
       "  <thead>\n",
       "    <tr style=\"text-align: right;\">\n",
       "      <th></th>\n",
       "      <th>subject_id</th>\n",
       "      <th>name</th>\n",
       "      <th>surname</th>\n",
       "    </tr>\n",
       "  </thead>\n",
       "  <tbody>\n",
       "    <tr>\n",
       "      <th>0</th>\n",
       "      <td>1</td>\n",
       "      <td>Bob</td>\n",
       "      <td>Anderson</td>\n",
       "    </tr>\n",
       "    <tr>\n",
       "      <th>1</th>\n",
       "      <td>2</td>\n",
       "      <td>Maria</td>\n",
       "      <td>Teixeira</td>\n",
       "    </tr>\n",
       "    <tr>\n",
       "      <th>2</th>\n",
       "      <td>3</td>\n",
       "      <td>Mateus</td>\n",
       "      <td>Amoedo</td>\n",
       "    </tr>\n",
       "    <tr>\n",
       "      <th>3</th>\n",
       "      <td>4</td>\n",
       "      <td>Ivo</td>\n",
       "      <td>Trindade</td>\n",
       "    </tr>\n",
       "    <tr>\n",
       "      <th>4</th>\n",
       "      <td>5</td>\n",
       "      <td>Gerson</td>\n",
       "      <td>Vargas</td>\n",
       "    </tr>\n",
       "  </tbody>\n",
       "</table>\n",
       "</div>"
      ],
      "text/plain": [
       "  subject_id    name   surname\n",
       "0          1     Bob  Anderson\n",
       "1          2   Maria  Teixeira\n",
       "2          3  Mateus    Amoedo\n",
       "3          4     Ivo  Trindade\n",
       "4          5  Gerson    Vargas"
      ]
     },
     "execution_count": 5,
     "metadata": {},
     "output_type": "execute_result"
    }
   ],
   "source": [
    "# Data Dictionary\n",
    "data1 = {\n",
    "    'subject_id': ['1', '2', '3', '4', '5'],\n",
    "    'name': ['Bob', 'Maria', 'Mateus', 'Ivo', 'Gerson'],\n",
    "    'surname': ['Anderson', 'Teixeira', 'Amoedo', 'Trindade', 'Vargas']}\n",
    "\n",
    "# Create the dataframe a\n",
    "df_a = pd.DataFrame(data1, columns = ['subject_id', 'name', 'surname'])\n",
    "df_a"
   ]
  },
  {
   "cell_type": "code",
   "execution_count": 6,
   "id": "910031a8",
   "metadata": {},
   "outputs": [
    {
     "data": {
      "text/html": [
       "<div>\n",
       "<style scoped>\n",
       "    .dataframe tbody tr th:only-of-type {\n",
       "        vertical-align: middle;\n",
       "    }\n",
       "\n",
       "    .dataframe tbody tr th {\n",
       "        vertical-align: top;\n",
       "    }\n",
       "\n",
       "    .dataframe thead th {\n",
       "        text-align: right;\n",
       "    }\n",
       "</style>\n",
       "<table border=\"1\" class=\"dataframe\">\n",
       "  <thead>\n",
       "    <tr style=\"text-align: right;\">\n",
       "      <th></th>\n",
       "      <th>subject_id</th>\n",
       "      <th>name</th>\n",
       "      <th>surname</th>\n",
       "    </tr>\n",
       "  </thead>\n",
       "  <tbody>\n",
       "    <tr>\n",
       "      <th>0</th>\n",
       "      <td>4</td>\n",
       "      <td>Roberto</td>\n",
       "      <td>Sampaio</td>\n",
       "    </tr>\n",
       "    <tr>\n",
       "      <th>1</th>\n",
       "      <td>5</td>\n",
       "      <td>Mariana</td>\n",
       "      <td>Fernandes</td>\n",
       "    </tr>\n",
       "    <tr>\n",
       "      <th>2</th>\n",
       "      <td>6</td>\n",
       "      <td>Ana</td>\n",
       "      <td>arantes</td>\n",
       "    </tr>\n",
       "    <tr>\n",
       "      <th>3</th>\n",
       "      <td>7</td>\n",
       "      <td>Marcos</td>\n",
       "      <td>Menezes</td>\n",
       "    </tr>\n",
       "    <tr>\n",
       "      <th>4</th>\n",
       "      <td>8</td>\n",
       "      <td>Maria</td>\n",
       "      <td>martins</td>\n",
       "    </tr>\n",
       "  </tbody>\n",
       "</table>\n",
       "</div>"
      ],
      "text/plain": [
       "  subject_id     name    surname\n",
       "0          4  Roberto    Sampaio\n",
       "1          5  Mariana  Fernandes\n",
       "2          6      Ana    arantes\n",
       "3          7   Marcos    Menezes\n",
       "4          8    Maria    martins"
      ]
     },
     "execution_count": 6,
     "metadata": {},
     "output_type": "execute_result"
    }
   ],
   "source": [
    "# Data Dictionary\n",
    "data2 = {\n",
    "    'subject_id': ['4', '5', '6', '7', '8'],\n",
    "    'name': ['Roberto', 'Mariana', 'Ana', 'Marcos', 'Maria'],\n",
    "    'surname': ['Sampaio', 'Fernandes', 'arantes', 'Menezes', 'martins']}\n",
    "\n",
    "# Create the dataframe b\n",
    "df_b = pd.DataFrame(data2, columns = ['subject_id', 'name', 'surname'])\n",
    "df_b"
   ]
  },
  {
   "cell_type": "code",
   "execution_count": 7,
   "id": "3976c88e",
   "metadata": {},
   "outputs": [
    {
     "data": {
      "text/html": [
       "<div>\n",
       "<style scoped>\n",
       "    .dataframe tbody tr th:only-of-type {\n",
       "        vertical-align: middle;\n",
       "    }\n",
       "\n",
       "    .dataframe tbody tr th {\n",
       "        vertical-align: top;\n",
       "    }\n",
       "\n",
       "    .dataframe thead th {\n",
       "        text-align: right;\n",
       "    }\n",
       "</style>\n",
       "<table border=\"1\" class=\"dataframe\">\n",
       "  <thead>\n",
       "    <tr style=\"text-align: right;\">\n",
       "      <th></th>\n",
       "      <th>subject_id</th>\n",
       "      <th>test_id</th>\n",
       "    </tr>\n",
       "  </thead>\n",
       "  <tbody>\n",
       "    <tr>\n",
       "      <th>0</th>\n",
       "      <td>1</td>\n",
       "      <td>81</td>\n",
       "    </tr>\n",
       "    <tr>\n",
       "      <th>1</th>\n",
       "      <td>2</td>\n",
       "      <td>75</td>\n",
       "    </tr>\n",
       "    <tr>\n",
       "      <th>2</th>\n",
       "      <td>3</td>\n",
       "      <td>75</td>\n",
       "    </tr>\n",
       "    <tr>\n",
       "      <th>3</th>\n",
       "      <td>4</td>\n",
       "      <td>71</td>\n",
       "    </tr>\n",
       "    <tr>\n",
       "      <th>4</th>\n",
       "      <td>5</td>\n",
       "      <td>76</td>\n",
       "    </tr>\n",
       "    <tr>\n",
       "      <th>5</th>\n",
       "      <td>7</td>\n",
       "      <td>84</td>\n",
       "    </tr>\n",
       "    <tr>\n",
       "      <th>6</th>\n",
       "      <td>8</td>\n",
       "      <td>95</td>\n",
       "    </tr>\n",
       "    <tr>\n",
       "      <th>7</th>\n",
       "      <td>9</td>\n",
       "      <td>61</td>\n",
       "    </tr>\n",
       "    <tr>\n",
       "      <th>8</th>\n",
       "      <td>10</td>\n",
       "      <td>57</td>\n",
       "    </tr>\n",
       "    <tr>\n",
       "      <th>9</th>\n",
       "      <td>11</td>\n",
       "      <td>90</td>\n",
       "    </tr>\n",
       "  </tbody>\n",
       "</table>\n",
       "</div>"
      ],
      "text/plain": [
       "  subject_id  test_id\n",
       "0          1       81\n",
       "1          2       75\n",
       "2          3       75\n",
       "3          4       71\n",
       "4          5       76\n",
       "5          7       84\n",
       "6          8       95\n",
       "7          9       61\n",
       "8         10       57\n",
       "9         11       90"
      ]
     },
     "execution_count": 7,
     "metadata": {},
     "output_type": "execute_result"
    }
   ],
   "source": [
    "# Data Dictionary\n",
    "data3 = {\n",
    "    'subject_id': ['1', '2', '3', '4', '5', '7', '8', '9', '10', '11'],\n",
    "    'test_id': [81,  75, 75, 71, 76, 84, 95, 61, 57, 90]}\n",
    "\n",
    "# Create the dataframe c\n",
    "df_c = pd.DataFrame(data3, columns = ['subject_id', 'test_id'])\n",
    "df_c"
   ]
  },
  {
   "cell_type": "markdown",
   "id": "0ac99fdd",
   "metadata": {},
   "source": [
    "### Exercise 1 - Concatenate dataframes a and b by rows and create a new dataframe called df_ab_row."
   ]
  },
  {
   "cell_type": "code",
   "execution_count": null,
   "id": "0f34a9cc",
   "metadata": {},
   "outputs": [],
   "source": []
  },
  {
   "cell_type": "markdown",
   "id": "238878c3",
   "metadata": {},
   "source": [
    "### Exercise 2 - Concatenate dataframes a and b by columns and create a new dataframe called df_ab_column."
   ]
  },
  {
   "cell_type": "code",
   "execution_count": null,
   "id": "b487fa9e",
   "metadata": {},
   "outputs": [],
   "source": []
  },
  {
   "cell_type": "markdown",
   "id": "8a9bc03b",
   "metadata": {},
   "source": [
    "### Exercise 3 - Merge dataframes df_ab_row and df_c using the subject_id column."
   ]
  },
  {
   "cell_type": "code",
   "execution_count": null,
   "id": "fdc07971",
   "metadata": {},
   "outputs": [],
   "source": []
  },
  {
   "cell_type": "markdown",
   "id": "d9704b67",
   "metadata": {},
   "source": [
    "### Exercise 4 - Merge dataframes df_ab_row and df_c by subject_id column using left and right."
   ]
  },
  {
   "cell_type": "code",
   "execution_count": null,
   "id": "08d7bbca",
   "metadata": {},
   "outputs": [],
   "source": []
  },
  {
   "cell_type": "markdown",
   "id": "9905c3cf",
   "metadata": {},
   "source": [
    "Merge outer join is the complete outer join that produces the set of all records in Table A and Table B, with matching records on both sides, when available. If there is no match, the missing side will contain null."
   ]
  },
  {
   "cell_type": "markdown",
   "id": "037ae851",
   "metadata": {},
   "source": [
    "### Exercise 5 - Perform an outer join between dataframes df_a and df_b using the subject_id column."
   ]
  },
  {
   "cell_type": "code",
   "execution_count": null,
   "id": "8d920315",
   "metadata": {},
   "outputs": [],
   "source": []
  },
  {
   "cell_type": "markdown",
   "id": "a402abae",
   "metadata": {},
   "source": [
    "### Exercise 6 - Exercise 5 generates missing values. Don't let this happen when you merge!"
   ]
  },
  {
   "cell_type": "code",
   "execution_count": null,
   "id": "a974b231",
   "metadata": {},
   "outputs": [],
   "source": []
  },
  {
   "cell_type": "markdown",
   "id": "64bf07ff",
   "metadata": {},
   "source": [
    "Merge inner join is the inner join that produces only the set of records that match in Table A and Table B."
   ]
  },
  {
   "cell_type": "markdown",
   "id": "1c2b2c10",
   "metadata": {},
   "source": [
    "### Exercise 7 - Perform the merge inner join between dataframes df_a and df_a using the subject_id column."
   ]
  },
  {
   "cell_type": "code",
   "execution_count": null,
   "id": "e0f544b4",
   "metadata": {},
   "outputs": [],
   "source": []
  },
  {
   "cell_type": "markdown",
   "id": "9ed76d7f",
   "metadata": {},
   "source": [
    "Merge left join is the outer left join that produces a complete set of records from Table A, with matching records (when available) in Table B. If there is no match, the right-hand side will contain null."
   ]
  },
  {
   "cell_type": "markdown",
   "id": "4801ce0b",
   "metadata": {},
   "source": [
    "### Exercise 8 - Merge left join between dataframes df_a and df_a using the subject_id column."
   ]
  },
  {
   "cell_type": "code",
   "execution_count": null,
   "id": "aa7b7c2e",
   "metadata": {},
   "outputs": [],
   "source": []
  },
  {
   "cell_type": "markdown",
   "id": "612cb025",
   "metadata": {},
   "source": [
    "### Exercise 9 - Exercise 8 generates missing values. Don't let this happen when you merge!"
   ]
  },
  {
   "cell_type": "code",
   "execution_count": null,
   "id": "682e7130",
   "metadata": {},
   "outputs": [],
   "source": []
  },
  {
   "cell_type": "markdown",
   "id": "42255451",
   "metadata": {},
   "source": [
    "The right join merge is the opposite of the left join."
   ]
  },
  {
   "cell_type": "markdown",
   "id": "3086ce63",
   "metadata": {},
   "source": [
    "### Exercise 10 - Merge right join between dataframes df_a and df_a using the subject_id column.\n",
    "**Don't allow missing values!**"
   ]
  },
  {
   "cell_type": "code",
   "execution_count": null,
   "id": "c2cf619c",
   "metadata": {},
   "outputs": [],
   "source": []
  },
  {
   "cell_type": "markdown",
   "id": "672c915c",
   "metadata": {},
   "source": [
    "### Exercise 11 - You noticed that the previous item generated very similar column names. Add a suffix to identify the column names. \n",
    "**Do not allow missing values.**"
   ]
  },
  {
   "cell_type": "code",
   "execution_count": null,
   "id": "63493a3d",
   "metadata": {},
   "outputs": [],
   "source": []
  },
  {
   "cell_type": "markdown",
   "id": "c30dcc4d",
   "metadata": {},
   "source": [
    "### Exercise 12 - Merge dataframes df_a and df_b based on index"
   ]
  },
  {
   "cell_type": "code",
   "execution_count": null,
   "id": "57286c58",
   "metadata": {},
   "outputs": [],
   "source": []
  },
  {
   "cell_type": "markdown",
   "id": "13d97758",
   "metadata": {},
   "source": [
    "# The End"
   ]
  }
 ],
 "metadata": {
  "kernelspec": {
   "display_name": "Python 3 (ipykernel)",
   "language": "python",
   "name": "python3"
  },
  "language_info": {
   "codemirror_mode": {
    "name": "ipython",
    "version": 3
   },
   "file_extension": ".py",
   "mimetype": "text/x-python",
   "name": "python",
   "nbconvert_exporter": "python",
   "pygments_lexer": "ipython3",
   "version": "3.8.13"
  }
 },
 "nbformat": 4,
 "nbformat_minor": 5
}
