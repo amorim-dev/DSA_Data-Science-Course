{
 "cells": [
  {
   "cell_type": "markdown",
   "id": "cfa262ef",
   "metadata": {},
   "source": [
    "# Big Data Real-Time Analytics with Python and Spark\n",
    "\n",
    "## Chapter 5 - Exercise\n",
    "\n",
    "This is a challenging worklist, but it will consolidate your knowledge of data manipulation with Pandas."
   ]
  },
  {
   "cell_type": "code",
   "execution_count": 1,
   "id": "119ee910",
   "metadata": {},
   "outputs": [
    {
     "name": "stdout",
     "output_type": "stream",
     "text": [
      "The version used in this notebook is:  3.8.13\n"
     ]
    }
   ],
   "source": [
    "# Python version\n",
    "from platform import python_version\n",
    "print('The version used in this notebook is: ', python_version())"
   ]
  },
  {
   "cell_type": "code",
   "execution_count": 2,
   "id": "d3d91eb7",
   "metadata": {},
   "outputs": [],
   "source": [
    "# imports\n",
    "import pandas as pd\n",
    "import numpy as np"
   ]
  },
  {
   "cell_type": "code",
   "execution_count": 3,
   "id": "a3492eea",
   "metadata": {},
   "outputs": [
    {
     "name": "stdout",
     "output_type": "stream",
     "text": [
      "Author: Bianca Amorim\n",
      "\n",
      "pandas: 1.4.2\n",
      "numpy : 1.22.3\n",
      "\n"
     ]
    }
   ],
   "source": [
    "# # package version used in this notebook\n",
    "%reload_ext watermark\n",
    "%watermark -a 'Bianca Amorim' --iversions"
   ]
  },
  {
   "cell_type": "markdown",
   "id": "1062956b",
   "metadata": {},
   "source": [
    "## SQL Join and joining tables with Pandas"
   ]
  },
  {
   "cell_type": "code",
   "execution_count": 4,
   "id": "0eb06161",
   "metadata": {},
   "outputs": [
    {
     "data": {
      "text/html": [
       "<img src=\"images/sql-join.png\"/>"
      ],
      "text/plain": [
       "<IPython.core.display.Image object>"
      ]
     },
     "execution_count": 4,
     "metadata": {},
     "output_type": "execute_result"
    }
   ],
   "source": [
    "from IPython.display import Image\n",
    "Image(url = 'images/sql-join.png')"
   ]
  },
  {
   "cell_type": "code",
   "execution_count": 5,
   "id": "248bb212",
   "metadata": {},
   "outputs": [
    {
     "data": {
      "text/html": [
       "<div>\n",
       "<style scoped>\n",
       "    .dataframe tbody tr th:only-of-type {\n",
       "        vertical-align: middle;\n",
       "    }\n",
       "\n",
       "    .dataframe tbody tr th {\n",
       "        vertical-align: top;\n",
       "    }\n",
       "\n",
       "    .dataframe thead th {\n",
       "        text-align: right;\n",
       "    }\n",
       "</style>\n",
       "<table border=\"1\" class=\"dataframe\">\n",
       "  <thead>\n",
       "    <tr style=\"text-align: right;\">\n",
       "      <th></th>\n",
       "      <th>subject_id</th>\n",
       "      <th>name</th>\n",
       "      <th>surname</th>\n",
       "    </tr>\n",
       "  </thead>\n",
       "  <tbody>\n",
       "    <tr>\n",
       "      <th>0</th>\n",
       "      <td>1</td>\n",
       "      <td>Bob</td>\n",
       "      <td>Anderson</td>\n",
       "    </tr>\n",
       "    <tr>\n",
       "      <th>1</th>\n",
       "      <td>2</td>\n",
       "      <td>Maria</td>\n",
       "      <td>Teixeira</td>\n",
       "    </tr>\n",
       "    <tr>\n",
       "      <th>2</th>\n",
       "      <td>3</td>\n",
       "      <td>Mateus</td>\n",
       "      <td>Amoedo</td>\n",
       "    </tr>\n",
       "    <tr>\n",
       "      <th>3</th>\n",
       "      <td>4</td>\n",
       "      <td>Ivo</td>\n",
       "      <td>Trindade</td>\n",
       "    </tr>\n",
       "    <tr>\n",
       "      <th>4</th>\n",
       "      <td>5</td>\n",
       "      <td>Gerson</td>\n",
       "      <td>Vargas</td>\n",
       "    </tr>\n",
       "  </tbody>\n",
       "</table>\n",
       "</div>"
      ],
      "text/plain": [
       "  subject_id    name   surname\n",
       "0          1     Bob  Anderson\n",
       "1          2   Maria  Teixeira\n",
       "2          3  Mateus    Amoedo\n",
       "3          4     Ivo  Trindade\n",
       "4          5  Gerson    Vargas"
      ]
     },
     "execution_count": 5,
     "metadata": {},
     "output_type": "execute_result"
    }
   ],
   "source": [
    "# Data Dictionary\n",
    "data1 = {\n",
    "    'subject_id': ['1', '2', '3', '4', '5'],\n",
    "    'name': ['Bob', 'Maria', 'Mateus', 'Ivo', 'Gerson'],\n",
    "    'surname': ['Anderson', 'Teixeira', 'Amoedo', 'Trindade', 'Vargas']}\n",
    "\n",
    "# Create the dataframe a\n",
    "df_a = pd.DataFrame(data1, columns = ['subject_id', 'name', 'surname'])\n",
    "df_a"
   ]
  },
  {
   "cell_type": "code",
   "execution_count": 6,
   "id": "e7833ee7",
   "metadata": {},
   "outputs": [
    {
     "data": {
      "text/html": [
       "<div>\n",
       "<style scoped>\n",
       "    .dataframe tbody tr th:only-of-type {\n",
       "        vertical-align: middle;\n",
       "    }\n",
       "\n",
       "    .dataframe tbody tr th {\n",
       "        vertical-align: top;\n",
       "    }\n",
       "\n",
       "    .dataframe thead th {\n",
       "        text-align: right;\n",
       "    }\n",
       "</style>\n",
       "<table border=\"1\" class=\"dataframe\">\n",
       "  <thead>\n",
       "    <tr style=\"text-align: right;\">\n",
       "      <th></th>\n",
       "      <th>subject_id</th>\n",
       "      <th>name</th>\n",
       "      <th>surname</th>\n",
       "    </tr>\n",
       "  </thead>\n",
       "  <tbody>\n",
       "    <tr>\n",
       "      <th>0</th>\n",
       "      <td>4</td>\n",
       "      <td>Roberto</td>\n",
       "      <td>Sampaio</td>\n",
       "    </tr>\n",
       "    <tr>\n",
       "      <th>1</th>\n",
       "      <td>5</td>\n",
       "      <td>Mariana</td>\n",
       "      <td>Fernandes</td>\n",
       "    </tr>\n",
       "    <tr>\n",
       "      <th>2</th>\n",
       "      <td>6</td>\n",
       "      <td>Ana</td>\n",
       "      <td>arantes</td>\n",
       "    </tr>\n",
       "    <tr>\n",
       "      <th>3</th>\n",
       "      <td>7</td>\n",
       "      <td>Marcos</td>\n",
       "      <td>Menezes</td>\n",
       "    </tr>\n",
       "    <tr>\n",
       "      <th>4</th>\n",
       "      <td>8</td>\n",
       "      <td>Maria</td>\n",
       "      <td>martins</td>\n",
       "    </tr>\n",
       "  </tbody>\n",
       "</table>\n",
       "</div>"
      ],
      "text/plain": [
       "  subject_id     name    surname\n",
       "0          4  Roberto    Sampaio\n",
       "1          5  Mariana  Fernandes\n",
       "2          6      Ana    arantes\n",
       "3          7   Marcos    Menezes\n",
       "4          8    Maria    martins"
      ]
     },
     "execution_count": 6,
     "metadata": {},
     "output_type": "execute_result"
    }
   ],
   "source": [
    "# Data Dictionary\n",
    "data2 = {\n",
    "    'subject_id': ['4', '5', '6', '7', '8'],\n",
    "    'name': ['Roberto', 'Mariana', 'Ana', 'Marcos', 'Maria'],\n",
    "    'surname': ['Sampaio', 'Fernandes', 'arantes', 'Menezes', 'martins']}\n",
    "\n",
    "# Create the dataframe b\n",
    "df_b = pd.DataFrame(data2, columns = ['subject_id', 'name', 'surname'])\n",
    "df_b"
   ]
  },
  {
   "cell_type": "code",
   "execution_count": 7,
   "id": "0f15d60d",
   "metadata": {},
   "outputs": [
    {
     "data": {
      "text/html": [
       "<div>\n",
       "<style scoped>\n",
       "    .dataframe tbody tr th:only-of-type {\n",
       "        vertical-align: middle;\n",
       "    }\n",
       "\n",
       "    .dataframe tbody tr th {\n",
       "        vertical-align: top;\n",
       "    }\n",
       "\n",
       "    .dataframe thead th {\n",
       "        text-align: right;\n",
       "    }\n",
       "</style>\n",
       "<table border=\"1\" class=\"dataframe\">\n",
       "  <thead>\n",
       "    <tr style=\"text-align: right;\">\n",
       "      <th></th>\n",
       "      <th>subject_id</th>\n",
       "      <th>test_id</th>\n",
       "    </tr>\n",
       "  </thead>\n",
       "  <tbody>\n",
       "    <tr>\n",
       "      <th>0</th>\n",
       "      <td>1</td>\n",
       "      <td>81</td>\n",
       "    </tr>\n",
       "    <tr>\n",
       "      <th>1</th>\n",
       "      <td>2</td>\n",
       "      <td>75</td>\n",
       "    </tr>\n",
       "    <tr>\n",
       "      <th>2</th>\n",
       "      <td>3</td>\n",
       "      <td>75</td>\n",
       "    </tr>\n",
       "    <tr>\n",
       "      <th>3</th>\n",
       "      <td>4</td>\n",
       "      <td>71</td>\n",
       "    </tr>\n",
       "    <tr>\n",
       "      <th>4</th>\n",
       "      <td>5</td>\n",
       "      <td>76</td>\n",
       "    </tr>\n",
       "    <tr>\n",
       "      <th>5</th>\n",
       "      <td>7</td>\n",
       "      <td>84</td>\n",
       "    </tr>\n",
       "    <tr>\n",
       "      <th>6</th>\n",
       "      <td>8</td>\n",
       "      <td>95</td>\n",
       "    </tr>\n",
       "    <tr>\n",
       "      <th>7</th>\n",
       "      <td>9</td>\n",
       "      <td>61</td>\n",
       "    </tr>\n",
       "    <tr>\n",
       "      <th>8</th>\n",
       "      <td>10</td>\n",
       "      <td>57</td>\n",
       "    </tr>\n",
       "    <tr>\n",
       "      <th>9</th>\n",
       "      <td>11</td>\n",
       "      <td>90</td>\n",
       "    </tr>\n",
       "  </tbody>\n",
       "</table>\n",
       "</div>"
      ],
      "text/plain": [
       "  subject_id  test_id\n",
       "0          1       81\n",
       "1          2       75\n",
       "2          3       75\n",
       "3          4       71\n",
       "4          5       76\n",
       "5          7       84\n",
       "6          8       95\n",
       "7          9       61\n",
       "8         10       57\n",
       "9         11       90"
      ]
     },
     "execution_count": 7,
     "metadata": {},
     "output_type": "execute_result"
    }
   ],
   "source": [
    "# Data Dictionary\n",
    "data3 = {\n",
    "    'subject_id': ['1', '2', '3', '4', '5', '7', '8', '9', '10', '11'],\n",
    "    'test_id': [81,  75, 75, 71, 76, 84, 95, 61, 57, 90]}\n",
    "\n",
    "# Create the dataframe c\n",
    "df_c = pd.DataFrame(data3, columns = ['subject_id', 'test_id'])\n",
    "df_c"
   ]
  },
  {
   "cell_type": "markdown",
   "id": "c7007b9d",
   "metadata": {},
   "source": [
    "### Exercise 1 - Concatenate dataframes a and b by rows and create a new dataframe called df_ab_row."
   ]
  },
  {
   "cell_type": "code",
   "execution_count": 8,
   "id": "0d05d180",
   "metadata": {},
   "outputs": [
    {
     "data": {
      "text/html": [
       "<div>\n",
       "<style scoped>\n",
       "    .dataframe tbody tr th:only-of-type {\n",
       "        vertical-align: middle;\n",
       "    }\n",
       "\n",
       "    .dataframe tbody tr th {\n",
       "        vertical-align: top;\n",
       "    }\n",
       "\n",
       "    .dataframe thead th {\n",
       "        text-align: right;\n",
       "    }\n",
       "</style>\n",
       "<table border=\"1\" class=\"dataframe\">\n",
       "  <thead>\n",
       "    <tr style=\"text-align: right;\">\n",
       "      <th></th>\n",
       "      <th>subject_id</th>\n",
       "      <th>name</th>\n",
       "      <th>surname</th>\n",
       "    </tr>\n",
       "  </thead>\n",
       "  <tbody>\n",
       "    <tr>\n",
       "      <th>0</th>\n",
       "      <td>1</td>\n",
       "      <td>Bob</td>\n",
       "      <td>Anderson</td>\n",
       "    </tr>\n",
       "    <tr>\n",
       "      <th>1</th>\n",
       "      <td>2</td>\n",
       "      <td>Maria</td>\n",
       "      <td>Teixeira</td>\n",
       "    </tr>\n",
       "    <tr>\n",
       "      <th>2</th>\n",
       "      <td>3</td>\n",
       "      <td>Mateus</td>\n",
       "      <td>Amoedo</td>\n",
       "    </tr>\n",
       "    <tr>\n",
       "      <th>3</th>\n",
       "      <td>4</td>\n",
       "      <td>Ivo</td>\n",
       "      <td>Trindade</td>\n",
       "    </tr>\n",
       "    <tr>\n",
       "      <th>4</th>\n",
       "      <td>5</td>\n",
       "      <td>Gerson</td>\n",
       "      <td>Vargas</td>\n",
       "    </tr>\n",
       "    <tr>\n",
       "      <th>5</th>\n",
       "      <td>4</td>\n",
       "      <td>Roberto</td>\n",
       "      <td>Sampaio</td>\n",
       "    </tr>\n",
       "    <tr>\n",
       "      <th>6</th>\n",
       "      <td>5</td>\n",
       "      <td>Mariana</td>\n",
       "      <td>Fernandes</td>\n",
       "    </tr>\n",
       "    <tr>\n",
       "      <th>7</th>\n",
       "      <td>6</td>\n",
       "      <td>Ana</td>\n",
       "      <td>arantes</td>\n",
       "    </tr>\n",
       "    <tr>\n",
       "      <th>8</th>\n",
       "      <td>7</td>\n",
       "      <td>Marcos</td>\n",
       "      <td>Menezes</td>\n",
       "    </tr>\n",
       "    <tr>\n",
       "      <th>9</th>\n",
       "      <td>8</td>\n",
       "      <td>Maria</td>\n",
       "      <td>martins</td>\n",
       "    </tr>\n",
       "  </tbody>\n",
       "</table>\n",
       "</div>"
      ],
      "text/plain": [
       "  subject_id     name    surname\n",
       "0          1      Bob   Anderson\n",
       "1          2    Maria   Teixeira\n",
       "2          3   Mateus     Amoedo\n",
       "3          4      Ivo   Trindade\n",
       "4          5   Gerson     Vargas\n",
       "5          4  Roberto    Sampaio\n",
       "6          5  Mariana  Fernandes\n",
       "7          6      Ana    arantes\n",
       "8          7   Marcos    Menezes\n",
       "9          8    Maria    martins"
      ]
     },
     "execution_count": 8,
     "metadata": {},
     "output_type": "execute_result"
    }
   ],
   "source": [
    "# Do not need to put axis here because the default is by row\n",
    "df_ab_row = pd.concat([df_a, df_b],\n",
    "                     axis = 0,\n",
    "                     ignore_index = True)\n",
    "df_ab_row"
   ]
  },
  {
   "cell_type": "markdown",
   "id": "bec81b0c",
   "metadata": {},
   "source": [
    "### Exercise 2 - Concatenate dataframes a and b by columns and create a new dataframe called df_ab_column."
   ]
  },
  {
   "cell_type": "code",
   "execution_count": 11,
   "id": "0d4fad11",
   "metadata": {},
   "outputs": [
    {
     "data": {
      "text/html": [
       "<div>\n",
       "<style scoped>\n",
       "    .dataframe tbody tr th:only-of-type {\n",
       "        vertical-align: middle;\n",
       "    }\n",
       "\n",
       "    .dataframe tbody tr th {\n",
       "        vertical-align: top;\n",
       "    }\n",
       "\n",
       "    .dataframe thead th {\n",
       "        text-align: right;\n",
       "    }\n",
       "</style>\n",
       "<table border=\"1\" class=\"dataframe\">\n",
       "  <thead>\n",
       "    <tr style=\"text-align: right;\">\n",
       "      <th></th>\n",
       "      <th>subject_id</th>\n",
       "      <th>name</th>\n",
       "      <th>surname</th>\n",
       "      <th>subject_id</th>\n",
       "      <th>name</th>\n",
       "      <th>surname</th>\n",
       "    </tr>\n",
       "  </thead>\n",
       "  <tbody>\n",
       "    <tr>\n",
       "      <th>0</th>\n",
       "      <td>1</td>\n",
       "      <td>Bob</td>\n",
       "      <td>Anderson</td>\n",
       "      <td>4</td>\n",
       "      <td>Roberto</td>\n",
       "      <td>Sampaio</td>\n",
       "    </tr>\n",
       "    <tr>\n",
       "      <th>1</th>\n",
       "      <td>2</td>\n",
       "      <td>Maria</td>\n",
       "      <td>Teixeira</td>\n",
       "      <td>5</td>\n",
       "      <td>Mariana</td>\n",
       "      <td>Fernandes</td>\n",
       "    </tr>\n",
       "    <tr>\n",
       "      <th>2</th>\n",
       "      <td>3</td>\n",
       "      <td>Mateus</td>\n",
       "      <td>Amoedo</td>\n",
       "      <td>6</td>\n",
       "      <td>Ana</td>\n",
       "      <td>arantes</td>\n",
       "    </tr>\n",
       "    <tr>\n",
       "      <th>3</th>\n",
       "      <td>4</td>\n",
       "      <td>Ivo</td>\n",
       "      <td>Trindade</td>\n",
       "      <td>7</td>\n",
       "      <td>Marcos</td>\n",
       "      <td>Menezes</td>\n",
       "    </tr>\n",
       "    <tr>\n",
       "      <th>4</th>\n",
       "      <td>5</td>\n",
       "      <td>Gerson</td>\n",
       "      <td>Vargas</td>\n",
       "      <td>8</td>\n",
       "      <td>Maria</td>\n",
       "      <td>martins</td>\n",
       "    </tr>\n",
       "  </tbody>\n",
       "</table>\n",
       "</div>"
      ],
      "text/plain": [
       "  subject_id    name   surname subject_id     name    surname\n",
       "0          1     Bob  Anderson          4  Roberto    Sampaio\n",
       "1          2   Maria  Teixeira          5  Mariana  Fernandes\n",
       "2          3  Mateus    Amoedo          6      Ana    arantes\n",
       "3          4     Ivo  Trindade          7   Marcos    Menezes\n",
       "4          5  Gerson    Vargas          8    Maria    martins"
      ]
     },
     "execution_count": 11,
     "metadata": {},
     "output_type": "execute_result"
    }
   ],
   "source": [
    "df_ab_column = pd.concat([df_a, df_b],\n",
    "                     axis = 1)\n",
    "df_ab_column"
   ]
  },
  {
   "cell_type": "markdown",
   "id": "e8700fdd",
   "metadata": {},
   "source": [
    "### Exercise 3 - Merge dataframes df_ab_row and df_c using the subject_id column."
   ]
  },
  {
   "cell_type": "code",
   "execution_count": 12,
   "id": "9a9ba619",
   "metadata": {},
   "outputs": [
    {
     "data": {
      "text/html": [
       "<div>\n",
       "<style scoped>\n",
       "    .dataframe tbody tr th:only-of-type {\n",
       "        vertical-align: middle;\n",
       "    }\n",
       "\n",
       "    .dataframe tbody tr th {\n",
       "        vertical-align: top;\n",
       "    }\n",
       "\n",
       "    .dataframe thead th {\n",
       "        text-align: right;\n",
       "    }\n",
       "</style>\n",
       "<table border=\"1\" class=\"dataframe\">\n",
       "  <thead>\n",
       "    <tr style=\"text-align: right;\">\n",
       "      <th></th>\n",
       "      <th>subject_id</th>\n",
       "      <th>name</th>\n",
       "      <th>surname</th>\n",
       "      <th>test_id</th>\n",
       "    </tr>\n",
       "  </thead>\n",
       "  <tbody>\n",
       "    <tr>\n",
       "      <th>0</th>\n",
       "      <td>1</td>\n",
       "      <td>Bob</td>\n",
       "      <td>Anderson</td>\n",
       "      <td>81</td>\n",
       "    </tr>\n",
       "    <tr>\n",
       "      <th>1</th>\n",
       "      <td>2</td>\n",
       "      <td>Maria</td>\n",
       "      <td>Teixeira</td>\n",
       "      <td>75</td>\n",
       "    </tr>\n",
       "    <tr>\n",
       "      <th>2</th>\n",
       "      <td>3</td>\n",
       "      <td>Mateus</td>\n",
       "      <td>Amoedo</td>\n",
       "      <td>75</td>\n",
       "    </tr>\n",
       "    <tr>\n",
       "      <th>3</th>\n",
       "      <td>4</td>\n",
       "      <td>Ivo</td>\n",
       "      <td>Trindade</td>\n",
       "      <td>71</td>\n",
       "    </tr>\n",
       "    <tr>\n",
       "      <th>4</th>\n",
       "      <td>4</td>\n",
       "      <td>Roberto</td>\n",
       "      <td>Sampaio</td>\n",
       "      <td>71</td>\n",
       "    </tr>\n",
       "    <tr>\n",
       "      <th>5</th>\n",
       "      <td>5</td>\n",
       "      <td>Gerson</td>\n",
       "      <td>Vargas</td>\n",
       "      <td>76</td>\n",
       "    </tr>\n",
       "    <tr>\n",
       "      <th>6</th>\n",
       "      <td>5</td>\n",
       "      <td>Mariana</td>\n",
       "      <td>Fernandes</td>\n",
       "      <td>76</td>\n",
       "    </tr>\n",
       "    <tr>\n",
       "      <th>7</th>\n",
       "      <td>7</td>\n",
       "      <td>Marcos</td>\n",
       "      <td>Menezes</td>\n",
       "      <td>84</td>\n",
       "    </tr>\n",
       "    <tr>\n",
       "      <th>8</th>\n",
       "      <td>8</td>\n",
       "      <td>Maria</td>\n",
       "      <td>martins</td>\n",
       "      <td>95</td>\n",
       "    </tr>\n",
       "  </tbody>\n",
       "</table>\n",
       "</div>"
      ],
      "text/plain": [
       "  subject_id     name    surname  test_id\n",
       "0          1      Bob   Anderson       81\n",
       "1          2    Maria   Teixeira       75\n",
       "2          3   Mateus     Amoedo       75\n",
       "3          4      Ivo   Trindade       71\n",
       "4          4  Roberto    Sampaio       71\n",
       "5          5   Gerson     Vargas       76\n",
       "6          5  Mariana  Fernandes       76\n",
       "7          7   Marcos    Menezes       84\n",
       "8          8    Maria    martins       95"
      ]
     },
     "execution_count": 12,
     "metadata": {},
     "output_type": "execute_result"
    }
   ],
   "source": [
    "df_abc = pd.merge(df_ab_row, df_c, on = ['subject_id'])\n",
    "df_abc"
   ]
  },
  {
   "cell_type": "markdown",
   "id": "2d90c2ae",
   "metadata": {},
   "source": [
    "### Exercise 4 - Merge dataframes df_ab_row and df_c by subject_id column using left and right."
   ]
  },
  {
   "cell_type": "code",
   "execution_count": 18,
   "id": "9ba58fbd",
   "metadata": {},
   "outputs": [
    {
     "data": {
      "text/html": [
       "<div>\n",
       "<style scoped>\n",
       "    .dataframe tbody tr th:only-of-type {\n",
       "        vertical-align: middle;\n",
       "    }\n",
       "\n",
       "    .dataframe tbody tr th {\n",
       "        vertical-align: top;\n",
       "    }\n",
       "\n",
       "    .dataframe thead th {\n",
       "        text-align: right;\n",
       "    }\n",
       "</style>\n",
       "<table border=\"1\" class=\"dataframe\">\n",
       "  <thead>\n",
       "    <tr style=\"text-align: right;\">\n",
       "      <th></th>\n",
       "      <th>subject_id</th>\n",
       "      <th>name</th>\n",
       "      <th>surname</th>\n",
       "      <th>test_id</th>\n",
       "    </tr>\n",
       "  </thead>\n",
       "  <tbody>\n",
       "    <tr>\n",
       "      <th>0</th>\n",
       "      <td>1</td>\n",
       "      <td>Bob</td>\n",
       "      <td>Anderson</td>\n",
       "      <td>81</td>\n",
       "    </tr>\n",
       "    <tr>\n",
       "      <th>1</th>\n",
       "      <td>2</td>\n",
       "      <td>Maria</td>\n",
       "      <td>Teixeira</td>\n",
       "      <td>75</td>\n",
       "    </tr>\n",
       "    <tr>\n",
       "      <th>2</th>\n",
       "      <td>3</td>\n",
       "      <td>Mateus</td>\n",
       "      <td>Amoedo</td>\n",
       "      <td>75</td>\n",
       "    </tr>\n",
       "    <tr>\n",
       "      <th>3</th>\n",
       "      <td>4</td>\n",
       "      <td>Ivo</td>\n",
       "      <td>Trindade</td>\n",
       "      <td>71</td>\n",
       "    </tr>\n",
       "    <tr>\n",
       "      <th>4</th>\n",
       "      <td>4</td>\n",
       "      <td>Roberto</td>\n",
       "      <td>Sampaio</td>\n",
       "      <td>71</td>\n",
       "    </tr>\n",
       "    <tr>\n",
       "      <th>5</th>\n",
       "      <td>5</td>\n",
       "      <td>Gerson</td>\n",
       "      <td>Vargas</td>\n",
       "      <td>76</td>\n",
       "    </tr>\n",
       "    <tr>\n",
       "      <th>6</th>\n",
       "      <td>5</td>\n",
       "      <td>Mariana</td>\n",
       "      <td>Fernandes</td>\n",
       "      <td>76</td>\n",
       "    </tr>\n",
       "    <tr>\n",
       "      <th>7</th>\n",
       "      <td>7</td>\n",
       "      <td>Marcos</td>\n",
       "      <td>Menezes</td>\n",
       "      <td>84</td>\n",
       "    </tr>\n",
       "    <tr>\n",
       "      <th>8</th>\n",
       "      <td>8</td>\n",
       "      <td>Maria</td>\n",
       "      <td>martins</td>\n",
       "      <td>95</td>\n",
       "    </tr>\n",
       "  </tbody>\n",
       "</table>\n",
       "</div>"
      ],
      "text/plain": [
       "  subject_id     name    surname  test_id\n",
       "0          1      Bob   Anderson       81\n",
       "1          2    Maria   Teixeira       75\n",
       "2          3   Mateus     Amoedo       75\n",
       "3          4      Ivo   Trindade       71\n",
       "4          4  Roberto    Sampaio       71\n",
       "5          5   Gerson     Vargas       76\n",
       "6          5  Mariana  Fernandes       76\n",
       "7          7   Marcos    Menezes       84\n",
       "8          8    Maria    martins       95"
      ]
     },
     "execution_count": 18,
     "metadata": {},
     "output_type": "execute_result"
    }
   ],
   "source": [
    "df_abc_left = pd.merge(df_ab_row, df_c, left_on = 'subject_id' , right_on = 'subject_id')\n",
    "df_abc_left"
   ]
  },
  {
   "cell_type": "markdown",
   "id": "9e1fb9a6",
   "metadata": {},
   "source": [
    "Merge outer join is the complete outer join that produces the set of all records in Table A and Table B, with matching records on both sides, when available. If there is no match, the missing side will contain null."
   ]
  },
  {
   "cell_type": "markdown",
   "id": "d20e9bb6",
   "metadata": {},
   "source": [
    "### Exercise 5 - Perform an outer join between dataframes df_a and df_b using the subject_id column."
   ]
  },
  {
   "cell_type": "code",
   "execution_count": 15,
   "id": "5e019527",
   "metadata": {},
   "outputs": [
    {
     "data": {
      "text/html": [
       "<div>\n",
       "<style scoped>\n",
       "    .dataframe tbody tr th:only-of-type {\n",
       "        vertical-align: middle;\n",
       "    }\n",
       "\n",
       "    .dataframe tbody tr th {\n",
       "        vertical-align: top;\n",
       "    }\n",
       "\n",
       "    .dataframe thead th {\n",
       "        text-align: right;\n",
       "    }\n",
       "</style>\n",
       "<table border=\"1\" class=\"dataframe\">\n",
       "  <thead>\n",
       "    <tr style=\"text-align: right;\">\n",
       "      <th></th>\n",
       "      <th>subject_id</th>\n",
       "      <th>name_x</th>\n",
       "      <th>surname_x</th>\n",
       "      <th>name_y</th>\n",
       "      <th>surname_y</th>\n",
       "    </tr>\n",
       "  </thead>\n",
       "  <tbody>\n",
       "    <tr>\n",
       "      <th>0</th>\n",
       "      <td>1</td>\n",
       "      <td>Bob</td>\n",
       "      <td>Anderson</td>\n",
       "      <td>NaN</td>\n",
       "      <td>NaN</td>\n",
       "    </tr>\n",
       "    <tr>\n",
       "      <th>1</th>\n",
       "      <td>2</td>\n",
       "      <td>Maria</td>\n",
       "      <td>Teixeira</td>\n",
       "      <td>NaN</td>\n",
       "      <td>NaN</td>\n",
       "    </tr>\n",
       "    <tr>\n",
       "      <th>2</th>\n",
       "      <td>3</td>\n",
       "      <td>Mateus</td>\n",
       "      <td>Amoedo</td>\n",
       "      <td>NaN</td>\n",
       "      <td>NaN</td>\n",
       "    </tr>\n",
       "    <tr>\n",
       "      <th>3</th>\n",
       "      <td>4</td>\n",
       "      <td>Ivo</td>\n",
       "      <td>Trindade</td>\n",
       "      <td>Roberto</td>\n",
       "      <td>Sampaio</td>\n",
       "    </tr>\n",
       "    <tr>\n",
       "      <th>4</th>\n",
       "      <td>5</td>\n",
       "      <td>Gerson</td>\n",
       "      <td>Vargas</td>\n",
       "      <td>Mariana</td>\n",
       "      <td>Fernandes</td>\n",
       "    </tr>\n",
       "    <tr>\n",
       "      <th>5</th>\n",
       "      <td>6</td>\n",
       "      <td>NaN</td>\n",
       "      <td>NaN</td>\n",
       "      <td>Ana</td>\n",
       "      <td>arantes</td>\n",
       "    </tr>\n",
       "    <tr>\n",
       "      <th>6</th>\n",
       "      <td>7</td>\n",
       "      <td>NaN</td>\n",
       "      <td>NaN</td>\n",
       "      <td>Marcos</td>\n",
       "      <td>Menezes</td>\n",
       "    </tr>\n",
       "    <tr>\n",
       "      <th>7</th>\n",
       "      <td>8</td>\n",
       "      <td>NaN</td>\n",
       "      <td>NaN</td>\n",
       "      <td>Maria</td>\n",
       "      <td>martins</td>\n",
       "    </tr>\n",
       "  </tbody>\n",
       "</table>\n",
       "</div>"
      ],
      "text/plain": [
       "  subject_id  name_x surname_x   name_y  surname_y\n",
       "0          1     Bob  Anderson      NaN        NaN\n",
       "1          2   Maria  Teixeira      NaN        NaN\n",
       "2          3  Mateus    Amoedo      NaN        NaN\n",
       "3          4     Ivo  Trindade  Roberto    Sampaio\n",
       "4          5  Gerson    Vargas  Mariana  Fernandes\n",
       "5          6     NaN       NaN      Ana    arantes\n",
       "6          7     NaN       NaN   Marcos    Menezes\n",
       "7          8     NaN       NaN    Maria    martins"
      ]
     },
     "execution_count": 15,
     "metadata": {},
     "output_type": "execute_result"
    }
   ],
   "source": [
    "df_ab_outer = pd.merge(df_a, df_b, how = 'outer' , on = ['subject_id'])\n",
    "df_ab_outer"
   ]
  },
  {
   "cell_type": "markdown",
   "id": "a4a017b5",
   "metadata": {},
   "source": [
    "### Exercise 6 - Exercise 5 generates missing values. Don't let this happen when you merge!"
   ]
  },
  {
   "cell_type": "code",
   "execution_count": 20,
   "id": "fbf22265",
   "metadata": {},
   "outputs": [
    {
     "data": {
      "text/html": [
       "<div>\n",
       "<style scoped>\n",
       "    .dataframe tbody tr th:only-of-type {\n",
       "        vertical-align: middle;\n",
       "    }\n",
       "\n",
       "    .dataframe tbody tr th {\n",
       "        vertical-align: top;\n",
       "    }\n",
       "\n",
       "    .dataframe thead th {\n",
       "        text-align: right;\n",
       "    }\n",
       "</style>\n",
       "<table border=\"1\" class=\"dataframe\">\n",
       "  <thead>\n",
       "    <tr style=\"text-align: right;\">\n",
       "      <th></th>\n",
       "      <th>subject_id</th>\n",
       "      <th>name_x</th>\n",
       "      <th>surname_x</th>\n",
       "      <th>name_y</th>\n",
       "      <th>surname_y</th>\n",
       "    </tr>\n",
       "  </thead>\n",
       "  <tbody>\n",
       "    <tr>\n",
       "      <th>0</th>\n",
       "      <td>1</td>\n",
       "      <td>Bob</td>\n",
       "      <td>Anderson</td>\n",
       "      <td>Outro</td>\n",
       "      <td>Outro</td>\n",
       "    </tr>\n",
       "    <tr>\n",
       "      <th>1</th>\n",
       "      <td>2</td>\n",
       "      <td>Maria</td>\n",
       "      <td>Teixeira</td>\n",
       "      <td>Outro</td>\n",
       "      <td>Outro</td>\n",
       "    </tr>\n",
       "    <tr>\n",
       "      <th>2</th>\n",
       "      <td>3</td>\n",
       "      <td>Mateus</td>\n",
       "      <td>Amoedo</td>\n",
       "      <td>Outro</td>\n",
       "      <td>Outro</td>\n",
       "    </tr>\n",
       "    <tr>\n",
       "      <th>3</th>\n",
       "      <td>4</td>\n",
       "      <td>Ivo</td>\n",
       "      <td>Trindade</td>\n",
       "      <td>Roberto</td>\n",
       "      <td>Sampaio</td>\n",
       "    </tr>\n",
       "    <tr>\n",
       "      <th>4</th>\n",
       "      <td>5</td>\n",
       "      <td>Gerson</td>\n",
       "      <td>Vargas</td>\n",
       "      <td>Mariana</td>\n",
       "      <td>Fernandes</td>\n",
       "    </tr>\n",
       "    <tr>\n",
       "      <th>5</th>\n",
       "      <td>6</td>\n",
       "      <td>Outro</td>\n",
       "      <td>Outro</td>\n",
       "      <td>Ana</td>\n",
       "      <td>arantes</td>\n",
       "    </tr>\n",
       "    <tr>\n",
       "      <th>6</th>\n",
       "      <td>7</td>\n",
       "      <td>Outro</td>\n",
       "      <td>Outro</td>\n",
       "      <td>Marcos</td>\n",
       "      <td>Menezes</td>\n",
       "    </tr>\n",
       "    <tr>\n",
       "      <th>7</th>\n",
       "      <td>8</td>\n",
       "      <td>Outro</td>\n",
       "      <td>Outro</td>\n",
       "      <td>Maria</td>\n",
       "      <td>martins</td>\n",
       "    </tr>\n",
       "  </tbody>\n",
       "</table>\n",
       "</div>"
      ],
      "text/plain": [
       "  subject_id  name_x surname_x   name_y  surname_y\n",
       "0          1     Bob  Anderson    Outro      Outro\n",
       "1          2   Maria  Teixeira    Outro      Outro\n",
       "2          3  Mateus    Amoedo    Outro      Outro\n",
       "3          4     Ivo  Trindade  Roberto    Sampaio\n",
       "4          5  Gerson    Vargas  Mariana  Fernandes\n",
       "5          6   Outro     Outro      Ana    arantes\n",
       "6          7   Outro     Outro   Marcos    Menezes\n",
       "7          8   Outro     Outro    Maria    martins"
      ]
     },
     "execution_count": 20,
     "metadata": {},
     "output_type": "execute_result"
    }
   ],
   "source": [
    "df_ab_outer = pd.merge(df_a, df_b, how = 'outer' , on = ['subject_id']).replace(np.nan, 'Outro')\n",
    "df_ab_outer"
   ]
  },
  {
   "cell_type": "markdown",
   "id": "e0b5543e",
   "metadata": {},
   "source": [
    "Merge inner join is the inner join that produces only the set of records that match in Table A and Table B."
   ]
  },
  {
   "cell_type": "markdown",
   "id": "6ba57109",
   "metadata": {},
   "source": [
    "### Exercise 7 - Perform the merge inner join between dataframes df_a and df_b using the subject_id column."
   ]
  },
  {
   "cell_type": "code",
   "execution_count": null,
   "id": "31f3baa7",
   "metadata": {},
   "outputs": [],
   "source": [
    "df_ab_inner = pd.merge(df_a, df_b, how = 'inner' , on = ['subject_id'])\n",
    "df_ab_inner"
   ]
  },
  {
   "cell_type": "markdown",
   "id": "7344d290",
   "metadata": {},
   "source": [
    "Merge left join is the outer left join that produces a complete set of records from Table A, with matching records (when available) in Table B. If there is no match, the right-hand side will contain null."
   ]
  },
  {
   "cell_type": "markdown",
   "id": "46e1c85d",
   "metadata": {},
   "source": [
    "### Exercise 8 - Merge left join between dataframes df_a and df_a using the subject_id column."
   ]
  },
  {
   "cell_type": "code",
   "execution_count": null,
   "id": "a70f2eb6",
   "metadata": {},
   "outputs": [],
   "source": []
  },
  {
   "cell_type": "markdown",
   "id": "cf1145c2",
   "metadata": {},
   "source": [
    "### Exercise 9 - Exercise 8 generates missing values. Don't let this happen when you merge!"
   ]
  },
  {
   "cell_type": "code",
   "execution_count": null,
   "id": "a342c56a",
   "metadata": {},
   "outputs": [],
   "source": []
  },
  {
   "cell_type": "markdown",
   "id": "2217d5c1",
   "metadata": {},
   "source": [
    "The right join merge is the opposite of the left join."
   ]
  },
  {
   "cell_type": "markdown",
   "id": "af9a0ee8",
   "metadata": {},
   "source": [
    "### Exercise 10 - Merge right join between dataframes df_a and df_a using the subject_id column.\n",
    "**Don't allow missing values!**"
   ]
  },
  {
   "cell_type": "code",
   "execution_count": null,
   "id": "bd420d2b",
   "metadata": {},
   "outputs": [],
   "source": []
  },
  {
   "cell_type": "markdown",
   "id": "4ed9e1fd",
   "metadata": {},
   "source": [
    "### Exercise 11 - You noticed that the previous item generated very similar column names. Add a suffix to identify the column names. \n",
    "**Do not allow missing values.**"
   ]
  },
  {
   "cell_type": "code",
   "execution_count": null,
   "id": "0bf9926f",
   "metadata": {},
   "outputs": [],
   "source": []
  },
  {
   "cell_type": "markdown",
   "id": "5bf90302",
   "metadata": {},
   "source": [
    "### Exercise 12 - Merge dataframes df_a and df_b based on index"
   ]
  },
  {
   "cell_type": "code",
   "execution_count": 17,
   "id": "a3158ad7",
   "metadata": {},
   "outputs": [
    {
     "ename": "MergeError",
     "evalue": "Can only pass argument \"on\" OR \"left_index\" and \"right_index\", not a combination of both.",
     "output_type": "error",
     "traceback": [
      "\u001b[0;31m---------------------------------------------------------------------------\u001b[0m",
      "\u001b[0;31mMergeError\u001b[0m                                Traceback (most recent call last)",
      "\u001b[0;32m/tmp/ipykernel_1234487/3307387261.py\u001b[0m in \u001b[0;36m<module>\u001b[0;34m\u001b[0m\n\u001b[0;32m----> 1\u001b[0;31m \u001b[0mdf_ab_index\u001b[0m \u001b[0;34m=\u001b[0m \u001b[0mpd\u001b[0m\u001b[0;34m.\u001b[0m\u001b[0mmerge\u001b[0m\u001b[0;34m(\u001b[0m\u001b[0mdf_a\u001b[0m\u001b[0;34m,\u001b[0m \u001b[0mdf_b\u001b[0m\u001b[0;34m,\u001b[0m \u001b[0mleft_index\u001b[0m \u001b[0;34m=\u001b[0m \u001b[0;32mTrue\u001b[0m \u001b[0;34m,\u001b[0m \u001b[0mon\u001b[0m \u001b[0;34m=\u001b[0m \u001b[0;34m[\u001b[0m\u001b[0;34m'subject_id'\u001b[0m\u001b[0;34m]\u001b[0m\u001b[0;34m)\u001b[0m\u001b[0;34m\u001b[0m\u001b[0;34m\u001b[0m\u001b[0m\n\u001b[0m\u001b[1;32m      2\u001b[0m \u001b[0mdf_ab_index\u001b[0m\u001b[0;34m\u001b[0m\u001b[0;34m\u001b[0m\u001b[0m\n",
      "\u001b[0;32m~/anaconda3/lib/python3.8/site-packages/pandas/core/reshape/merge.py\u001b[0m in \u001b[0;36mmerge\u001b[0;34m(left, right, how, on, left_on, right_on, left_index, right_index, sort, suffixes, copy, indicator, validate)\u001b[0m\n\u001b[1;32m    105\u001b[0m     \u001b[0mvalidate\u001b[0m\u001b[0;34m:\u001b[0m \u001b[0mstr\u001b[0m \u001b[0;34m|\u001b[0m \u001b[0;32mNone\u001b[0m \u001b[0;34m=\u001b[0m \u001b[0;32mNone\u001b[0m\u001b[0;34m,\u001b[0m\u001b[0;34m\u001b[0m\u001b[0;34m\u001b[0m\u001b[0m\n\u001b[1;32m    106\u001b[0m ) -> DataFrame:\n\u001b[0;32m--> 107\u001b[0;31m     op = _MergeOperation(\n\u001b[0m\u001b[1;32m    108\u001b[0m         \u001b[0mleft\u001b[0m\u001b[0;34m,\u001b[0m\u001b[0;34m\u001b[0m\u001b[0;34m\u001b[0m\u001b[0m\n\u001b[1;32m    109\u001b[0m         \u001b[0mright\u001b[0m\u001b[0;34m,\u001b[0m\u001b[0;34m\u001b[0m\u001b[0;34m\u001b[0m\u001b[0m\n",
      "\u001b[0;32m~/anaconda3/lib/python3.8/site-packages/pandas/core/reshape/merge.py\u001b[0m in \u001b[0;36m__init__\u001b[0;34m(self, left, right, how, on, left_on, right_on, axis, left_index, right_index, sort, suffixes, copy, indicator, validate)\u001b[0m\n\u001b[1;32m    680\u001b[0m             \u001b[0mwarnings\u001b[0m\u001b[0;34m.\u001b[0m\u001b[0mwarn\u001b[0m\u001b[0;34m(\u001b[0m\u001b[0mmsg\u001b[0m\u001b[0;34m,\u001b[0m \u001b[0mFutureWarning\u001b[0m\u001b[0;34m,\u001b[0m \u001b[0mstacklevel\u001b[0m\u001b[0;34m=\u001b[0m\u001b[0mfind_stack_level\u001b[0m\u001b[0;34m(\u001b[0m\u001b[0;34m)\u001b[0m\u001b[0;34m)\u001b[0m\u001b[0;34m\u001b[0m\u001b[0;34m\u001b[0m\u001b[0m\n\u001b[1;32m    681\u001b[0m \u001b[0;34m\u001b[0m\u001b[0m\n\u001b[0;32m--> 682\u001b[0;31m         \u001b[0mself\u001b[0m\u001b[0;34m.\u001b[0m\u001b[0m_validate_specification\u001b[0m\u001b[0;34m(\u001b[0m\u001b[0;34m)\u001b[0m\u001b[0;34m\u001b[0m\u001b[0;34m\u001b[0m\u001b[0m\n\u001b[0m\u001b[1;32m    683\u001b[0m \u001b[0;34m\u001b[0m\u001b[0m\n\u001b[1;32m    684\u001b[0m         \u001b[0mcross_col\u001b[0m \u001b[0;34m=\u001b[0m \u001b[0;32mNone\u001b[0m\u001b[0;34m\u001b[0m\u001b[0;34m\u001b[0m\u001b[0m\n",
      "\u001b[0;32m~/anaconda3/lib/python3.8/site-packages/pandas/core/reshape/merge.py\u001b[0m in \u001b[0;36m_validate_specification\u001b[0;34m(self)\u001b[0m\n\u001b[1;32m   1371\u001b[0m                 )\n\u001b[1;32m   1372\u001b[0m             \u001b[0;32mif\u001b[0m \u001b[0mself\u001b[0m\u001b[0;34m.\u001b[0m\u001b[0mleft_index\u001b[0m \u001b[0;32mor\u001b[0m \u001b[0mself\u001b[0m\u001b[0;34m.\u001b[0m\u001b[0mright_index\u001b[0m\u001b[0;34m:\u001b[0m\u001b[0;34m\u001b[0m\u001b[0;34m\u001b[0m\u001b[0m\n\u001b[0;32m-> 1373\u001b[0;31m                 raise MergeError(\n\u001b[0m\u001b[1;32m   1374\u001b[0m                     \u001b[0;34m'Can only pass argument \"on\" OR \"left_index\" '\u001b[0m\u001b[0;34m\u001b[0m\u001b[0;34m\u001b[0m\u001b[0m\n\u001b[1;32m   1375\u001b[0m                     \u001b[0;34m'and \"right_index\", not a combination of both.'\u001b[0m\u001b[0;34m\u001b[0m\u001b[0;34m\u001b[0m\u001b[0m\n",
      "\u001b[0;31mMergeError\u001b[0m: Can only pass argument \"on\" OR \"left_index\" and \"right_index\", not a combination of both."
     ]
    }
   ],
   "source": [
    "df_ab_index = pd.merge(df_a, df_b, left_index = True , on = ['subject_id'])\n",
    "df_ab_index"
   ]
  },
  {
   "cell_type": "markdown",
   "id": "2e6781f9",
   "metadata": {},
   "source": [
    "# The End"
   ]
  }
 ],
 "metadata": {
  "kernelspec": {
   "display_name": "Python 3 (ipykernel)",
   "language": "python",
   "name": "python3"
  },
  "language_info": {
   "codemirror_mode": {
    "name": "ipython",
    "version": 3
   },
   "file_extension": ".py",
   "mimetype": "text/x-python",
   "name": "python",
   "nbconvert_exporter": "python",
   "pygments_lexer": "ipython3",
   "version": "3.8.13"
  }
 },
 "nbformat": 4,
 "nbformat_minor": 5
}
