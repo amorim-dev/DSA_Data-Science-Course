{
 "cells": [
  {
   "cell_type": "markdown",
   "id": "083b3aa8",
   "metadata": {},
   "source": [
    "# Big Data Real-Time Analytics with Python and Spark\n",
    "\n",
    "## Chapter 5 - Case Study 4 - Feature Engineering for E-commerce Analytics\n",
    "\n",
    "**Note:** We are working in a big data science project divided in 3 chapters:\n",
    "* Exploratory data analysis\n",
    "    - EDA part \n",
    "    - EDA part 2 \n",
    "* **Feature Engineering**\n",
    "* Data Preprocessing"
   ]
  },
  {
   "cell_type": "markdown",
   "id": "69f6727b",
   "metadata": {},
   "source": [
    "Feature Engineering refers to the process of using domain knowledge(business area)  to remove, select and transform data, keeping only the most relevant attributes."
   ]
  },
  {
   "cell_type": "markdown",
   "id": "98868374",
   "metadata": {},
   "source": [
    "![CaseStudy4 DSA](images/CaseStudy4.png \"Case Study 4 DSA\")"
   ]
  },
  {
   "cell_type": "code",
   "execution_count": 1,
   "id": "76753666",
   "metadata": {},
   "outputs": [
    {
     "name": "stdout",
     "output_type": "stream",
     "text": [
      "The version used in this notebook:  3.8.13\n"
     ]
    }
   ],
   "source": [
    "# Python Version\n",
    "from platform import python_version\n",
    "print(\"The version used in this notebook: \", python_version())"
   ]
  },
  {
   "cell_type": "code",
   "execution_count": 2,
   "id": "d900d143",
   "metadata": {},
   "outputs": [],
   "source": [
    "#imports\n",
    "import scipy\n",
    "import numpy as np\n",
    "import pandas as pd\n",
    "import matplotlib.pyplot as plt\n",
    "import seaborn as sns\n",
    "from scipy import stats"
   ]
  },
  {
   "cell_type": "code",
   "execution_count": 3,
   "id": "55574f57",
   "metadata": {},
   "outputs": [
    {
     "name": "stdout",
     "output_type": "stream",
     "text": [
      "Author: Bianca Amorim\n",
      "\n",
      "seaborn   : 0.11.2\n",
      "numpy     : 1.22.3\n",
      "pandas    : 1.4.2\n",
      "scipy     : 1.7.3\n",
      "matplotlib: 3.4.3\n",
      "\n"
     ]
    }
   ],
   "source": [
    "# package version used in this notebook\n",
    "%reload_ext watermark\n",
    "%watermark -a 'Bianca Amorim' --iversions"
   ]
  },
  {
   "cell_type": "markdown",
   "id": "75df51ce",
   "metadata": {},
   "source": [
    "## Loading the Dataset"
   ]
  },
  {
   "cell_type": "code",
   "execution_count": 4,
   "id": "2c0d5c6a",
   "metadata": {},
   "outputs": [],
   "source": [
    "# Loading the dataset\n",
    "df = pd.read_csv('datasets/dataset.csv')"
   ]
  },
  {
   "cell_type": "code",
   "execution_count": 5,
   "id": "6fe87312",
   "metadata": {},
   "outputs": [
    {
     "data": {
      "text/plain": [
       "(11000, 12)"
      ]
     },
     "execution_count": 5,
     "metadata": {},
     "output_type": "execute_result"
    }
   ],
   "source": [
    "df.shape"
   ]
  },
  {
   "cell_type": "code",
   "execution_count": 6,
   "id": "7b9a5b74",
   "metadata": {},
   "outputs": [
    {
     "data": {
      "text/html": [
       "<div>\n",
       "<style scoped>\n",
       "    .dataframe tbody tr th:only-of-type {\n",
       "        vertical-align: middle;\n",
       "    }\n",
       "\n",
       "    .dataframe tbody tr th {\n",
       "        vertical-align: top;\n",
       "    }\n",
       "\n",
       "    .dataframe thead th {\n",
       "        text-align: right;\n",
       "    }\n",
       "</style>\n",
       "<table border=\"1\" class=\"dataframe\">\n",
       "  <thead>\n",
       "    <tr style=\"text-align: right;\">\n",
       "      <th></th>\n",
       "      <th>ID</th>\n",
       "      <th>corredor_armazem</th>\n",
       "      <th>modo_envio</th>\n",
       "      <th>numero_chamadas_cliente</th>\n",
       "      <th>avaliacao_cliente</th>\n",
       "      <th>custo_produto</th>\n",
       "      <th>compras_anteriores</th>\n",
       "      <th>prioridade_produto</th>\n",
       "      <th>genero</th>\n",
       "      <th>desconto</th>\n",
       "      <th>peso_gramas</th>\n",
       "      <th>entregue_no_prazo</th>\n",
       "    </tr>\n",
       "  </thead>\n",
       "  <tbody>\n",
       "    <tr>\n",
       "      <th>0</th>\n",
       "      <td>1</td>\n",
       "      <td>D</td>\n",
       "      <td>Aviao</td>\n",
       "      <td>4</td>\n",
       "      <td>2</td>\n",
       "      <td>177</td>\n",
       "      <td>3</td>\n",
       "      <td>baixa</td>\n",
       "      <td>F</td>\n",
       "      <td>44</td>\n",
       "      <td>1233</td>\n",
       "      <td>1</td>\n",
       "    </tr>\n",
       "    <tr>\n",
       "      <th>1</th>\n",
       "      <td>2</td>\n",
       "      <td>F</td>\n",
       "      <td>Aviao</td>\n",
       "      <td>4</td>\n",
       "      <td>5</td>\n",
       "      <td>216</td>\n",
       "      <td>2</td>\n",
       "      <td>baixa</td>\n",
       "      <td>M</td>\n",
       "      <td>59</td>\n",
       "      <td>3088</td>\n",
       "      <td>1</td>\n",
       "    </tr>\n",
       "    <tr>\n",
       "      <th>2</th>\n",
       "      <td>3</td>\n",
       "      <td>A</td>\n",
       "      <td>Aviao</td>\n",
       "      <td>2</td>\n",
       "      <td>2</td>\n",
       "      <td>183</td>\n",
       "      <td>4</td>\n",
       "      <td>baixa</td>\n",
       "      <td>M</td>\n",
       "      <td>48</td>\n",
       "      <td>3374</td>\n",
       "      <td>1</td>\n",
       "    </tr>\n",
       "    <tr>\n",
       "      <th>3</th>\n",
       "      <td>4</td>\n",
       "      <td>B</td>\n",
       "      <td>Aviao</td>\n",
       "      <td>3</td>\n",
       "      <td>3</td>\n",
       "      <td>176</td>\n",
       "      <td>4</td>\n",
       "      <td>media</td>\n",
       "      <td>M</td>\n",
       "      <td>10</td>\n",
       "      <td>1177</td>\n",
       "      <td>1</td>\n",
       "    </tr>\n",
       "    <tr>\n",
       "      <th>4</th>\n",
       "      <td>5</td>\n",
       "      <td>C</td>\n",
       "      <td>Aviao</td>\n",
       "      <td>2</td>\n",
       "      <td>2</td>\n",
       "      <td>184</td>\n",
       "      <td>3</td>\n",
       "      <td>media</td>\n",
       "      <td>F</td>\n",
       "      <td>46</td>\n",
       "      <td>2484</td>\n",
       "      <td>1</td>\n",
       "    </tr>\n",
       "  </tbody>\n",
       "</table>\n",
       "</div>"
      ],
      "text/plain": [
       "   ID corredor_armazem modo_envio  numero_chamadas_cliente  avaliacao_cliente  \\\n",
       "0   1                D      Aviao                        4                  2   \n",
       "1   2                F      Aviao                        4                  5   \n",
       "2   3                A      Aviao                        2                  2   \n",
       "3   4                B      Aviao                        3                  3   \n",
       "4   5                C      Aviao                        2                  2   \n",
       "\n",
       "   custo_produto  compras_anteriores prioridade_produto genero  desconto  \\\n",
       "0            177                   3              baixa      F        44   \n",
       "1            216                   2              baixa      M        59   \n",
       "2            183                   4              baixa      M        48   \n",
       "3            176                   4              media      M        10   \n",
       "4            184                   3              media      F        46   \n",
       "\n",
       "   peso_gramas  entregue_no_prazo  \n",
       "0         1233                  1  \n",
       "1         3088                  1  \n",
       "2         3374                  1  \n",
       "3         1177                  1  \n",
       "4         2484                  1  "
      ]
     },
     "execution_count": 6,
     "metadata": {},
     "output_type": "execute_result"
    }
   ],
   "source": [
    "df.head()"
   ]
  },
  {
   "cell_type": "code",
   "execution_count": 7,
   "id": "8d1c4e2e",
   "metadata": {},
   "outputs": [
    {
     "name": "stdout",
     "output_type": "stream",
     "text": [
      "<class 'pandas.core.frame.DataFrame'>\n",
      "RangeIndex: 11000 entries, 0 to 10999\n",
      "Data columns (total 12 columns):\n",
      " #   Column                   Non-Null Count  Dtype \n",
      "---  ------                   --------------  ----- \n",
      " 0   ID                       11000 non-null  int64 \n",
      " 1   corredor_armazem         11000 non-null  object\n",
      " 2   modo_envio               11000 non-null  object\n",
      " 3   numero_chamadas_cliente  11000 non-null  int64 \n",
      " 4   avaliacao_cliente        11000 non-null  int64 \n",
      " 5   custo_produto            11000 non-null  int64 \n",
      " 6   compras_anteriores       11000 non-null  int64 \n",
      " 7   prioridade_produto       11000 non-null  object\n",
      " 8   genero                   11000 non-null  object\n",
      " 9   desconto                 11000 non-null  int64 \n",
      " 10  peso_gramas              11000 non-null  int64 \n",
      " 11  entregue_no_prazo        11000 non-null  int64 \n",
      "dtypes: int64(8), object(4)\n",
      "memory usage: 1.0+ MB\n"
     ]
    }
   ],
   "source": [
    "df.info()"
   ]
  },
  {
   "cell_type": "code",
   "execution_count": 8,
   "id": "7d015e88",
   "metadata": {},
   "outputs": [
    {
     "data": {
      "text/plain": [
       "Index(['ID', 'corredor_armazem', 'modo_envio', 'numero_chamadas_cliente',\n",
       "       'avaliacao_cliente', 'custo_produto', 'compras_anteriores',\n",
       "       'prioridade_produto', 'genero', 'desconto', 'peso_gramas',\n",
       "       'entregue_no_prazo'],\n",
       "      dtype='object')"
      ]
     },
     "execution_count": 8,
     "metadata": {},
     "output_type": "execute_result"
    }
   ],
   "source": [
    "df.columns"
   ]
  },
  {
   "cell_type": "code",
   "execution_count": 9,
   "id": "5e0d66d0",
   "metadata": {},
   "outputs": [],
   "source": [
    "# Numerical variables\n",
    "nums = ['numero_chamadas_cliente',\n",
    "        'avaliacao_cliente',\n",
    "        'compras_anteriores',\n",
    "        'desconto',\n",
    "        'custo_produto',\n",
    "        'peso_gramas']"
   ]
  },
  {
   "cell_type": "code",
   "execution_count": 10,
   "id": "383f463e",
   "metadata": {},
   "outputs": [],
   "source": [
    "# Categorical variables\n",
    "cats = ['modo_envio', 'prioridade_produto', 'genero', 'corredor_armazem']"
   ]
  },
  {
   "cell_type": "code",
   "execution_count": 11,
   "id": "6b09a370",
   "metadata": {},
   "outputs": [],
   "source": [
    "# Target variable\n",
    "target = ['entregue_no_prazo']"
   ]
  },
  {
   "cell_type": "code",
   "execution_count": 12,
   "id": "39a67e51",
   "metadata": {},
   "outputs": [
    {
     "data": {
      "text/html": [
       "<div>\n",
       "<style scoped>\n",
       "    .dataframe tbody tr th:only-of-type {\n",
       "        vertical-align: middle;\n",
       "    }\n",
       "\n",
       "    .dataframe tbody tr th {\n",
       "        vertical-align: top;\n",
       "    }\n",
       "\n",
       "    .dataframe thead th {\n",
       "        text-align: right;\n",
       "    }\n",
       "</style>\n",
       "<table border=\"1\" class=\"dataframe\">\n",
       "  <thead>\n",
       "    <tr style=\"text-align: right;\">\n",
       "      <th></th>\n",
       "      <th>numero_chamadas_cliente</th>\n",
       "      <th>avaliacao_cliente</th>\n",
       "      <th>compras_anteriores</th>\n",
       "      <th>desconto</th>\n",
       "      <th>custo_produto</th>\n",
       "      <th>peso_gramas</th>\n",
       "    </tr>\n",
       "  </thead>\n",
       "  <tbody>\n",
       "    <tr>\n",
       "      <th>count</th>\n",
       "      <td>11000.000000</td>\n",
       "      <td>11000.000000</td>\n",
       "      <td>11000.000000</td>\n",
       "      <td>11000.000000</td>\n",
       "      <td>11000.000000</td>\n",
       "      <td>11000.000000</td>\n",
       "    </tr>\n",
       "    <tr>\n",
       "      <th>mean</th>\n",
       "      <td>4.054455</td>\n",
       "      <td>2.990455</td>\n",
       "      <td>3.567727</td>\n",
       "      <td>13.372545</td>\n",
       "      <td>210.200909</td>\n",
       "      <td>3633.844455</td>\n",
       "    </tr>\n",
       "    <tr>\n",
       "      <th>std</th>\n",
       "      <td>1.141438</td>\n",
       "      <td>1.413570</td>\n",
       "      <td>1.522852</td>\n",
       "      <td>16.204943</td>\n",
       "      <td>48.062985</td>\n",
       "      <td>1635.402722</td>\n",
       "    </tr>\n",
       "    <tr>\n",
       "      <th>min</th>\n",
       "      <td>2.000000</td>\n",
       "      <td>1.000000</td>\n",
       "      <td>2.000000</td>\n",
       "      <td>1.000000</td>\n",
       "      <td>96.000000</td>\n",
       "      <td>1001.000000</td>\n",
       "    </tr>\n",
       "    <tr>\n",
       "      <th>25%</th>\n",
       "      <td>3.000000</td>\n",
       "      <td>2.000000</td>\n",
       "      <td>3.000000</td>\n",
       "      <td>4.000000</td>\n",
       "      <td>169.000000</td>\n",
       "      <td>1839.000000</td>\n",
       "    </tr>\n",
       "    <tr>\n",
       "      <th>50%</th>\n",
       "      <td>4.000000</td>\n",
       "      <td>3.000000</td>\n",
       "      <td>3.000000</td>\n",
       "      <td>7.000000</td>\n",
       "      <td>214.000000</td>\n",
       "      <td>4149.000000</td>\n",
       "    </tr>\n",
       "    <tr>\n",
       "      <th>75%</th>\n",
       "      <td>5.000000</td>\n",
       "      <td>4.000000</td>\n",
       "      <td>4.000000</td>\n",
       "      <td>10.000000</td>\n",
       "      <td>251.000000</td>\n",
       "      <td>5050.000000</td>\n",
       "    </tr>\n",
       "    <tr>\n",
       "      <th>max</th>\n",
       "      <td>7.000000</td>\n",
       "      <td>5.000000</td>\n",
       "      <td>10.000000</td>\n",
       "      <td>65.000000</td>\n",
       "      <td>310.000000</td>\n",
       "      <td>7846.000000</td>\n",
       "    </tr>\n",
       "  </tbody>\n",
       "</table>\n",
       "</div>"
      ],
      "text/plain": [
       "       numero_chamadas_cliente  avaliacao_cliente  compras_anteriores  \\\n",
       "count             11000.000000       11000.000000        11000.000000   \n",
       "mean                  4.054455           2.990455            3.567727   \n",
       "std                   1.141438           1.413570            1.522852   \n",
       "min                   2.000000           1.000000            2.000000   \n",
       "25%                   3.000000           2.000000            3.000000   \n",
       "50%                   4.000000           3.000000            3.000000   \n",
       "75%                   5.000000           4.000000            4.000000   \n",
       "max                   7.000000           5.000000           10.000000   \n",
       "\n",
       "           desconto  custo_produto   peso_gramas  \n",
       "count  11000.000000   11000.000000  11000.000000  \n",
       "mean      13.372545     210.200909   3633.844455  \n",
       "std       16.204943      48.062985   1635.402722  \n",
       "min        1.000000      96.000000   1001.000000  \n",
       "25%        4.000000     169.000000   1839.000000  \n",
       "50%        7.000000     214.000000   4149.000000  \n",
       "75%       10.000000     251.000000   5050.000000  \n",
       "max       65.000000     310.000000   7846.000000  "
      ]
     },
     "execution_count": 12,
     "metadata": {},
     "output_type": "execute_result"
    }
   ],
   "source": [
    "df[nums].describe()"
   ]
  },
  {
   "cell_type": "code",
   "execution_count": 13,
   "id": "914b8ffe",
   "metadata": {},
   "outputs": [
    {
     "data": {
      "text/html": [
       "<div>\n",
       "<style scoped>\n",
       "    .dataframe tbody tr th:only-of-type {\n",
       "        vertical-align: middle;\n",
       "    }\n",
       "\n",
       "    .dataframe tbody tr th {\n",
       "        vertical-align: top;\n",
       "    }\n",
       "\n",
       "    .dataframe thead th {\n",
       "        text-align: right;\n",
       "    }\n",
       "</style>\n",
       "<table border=\"1\" class=\"dataframe\">\n",
       "  <thead>\n",
       "    <tr style=\"text-align: right;\">\n",
       "      <th></th>\n",
       "      <th>modo_envio</th>\n",
       "      <th>prioridade_produto</th>\n",
       "      <th>genero</th>\n",
       "      <th>corredor_armazem</th>\n",
       "    </tr>\n",
       "  </thead>\n",
       "  <tbody>\n",
       "    <tr>\n",
       "      <th>count</th>\n",
       "      <td>11000</td>\n",
       "      <td>11000</td>\n",
       "      <td>11000</td>\n",
       "      <td>11000</td>\n",
       "    </tr>\n",
       "    <tr>\n",
       "      <th>unique</th>\n",
       "      <td>3</td>\n",
       "      <td>3</td>\n",
       "      <td>2</td>\n",
       "      <td>5</td>\n",
       "    </tr>\n",
       "    <tr>\n",
       "      <th>top</th>\n",
       "      <td>Navio</td>\n",
       "      <td>baixa</td>\n",
       "      <td>F</td>\n",
       "      <td>F</td>\n",
       "    </tr>\n",
       "    <tr>\n",
       "      <th>freq</th>\n",
       "      <td>7463</td>\n",
       "      <td>5298</td>\n",
       "      <td>5546</td>\n",
       "      <td>3666</td>\n",
       "    </tr>\n",
       "  </tbody>\n",
       "</table>\n",
       "</div>"
      ],
      "text/plain": [
       "       modo_envio prioridade_produto genero corredor_armazem\n",
       "count       11000              11000  11000            11000\n",
       "unique          3                  3      2                5\n",
       "top         Navio              baixa      F                F\n",
       "freq         7463               5298   5546             3666"
      ]
     },
     "execution_count": 13,
     "metadata": {},
     "output_type": "execute_result"
    }
   ],
   "source": [
    "df[cats].describe()"
   ]
  },
  {
   "cell_type": "code",
   "execution_count": 14,
   "id": "80960fde",
   "metadata": {},
   "outputs": [
    {
     "data": {
      "text/plain": [
       "entregue_no_prazo\n",
       "1                    6563\n",
       "0                    4437\n",
       "dtype: int64"
      ]
     },
     "execution_count": 14,
     "metadata": {},
     "output_type": "execute_result"
    }
   ],
   "source": [
    "df[target].value_counts()"
   ]
  },
  {
   "cell_type": "markdown",
   "id": "332ba4bd",
   "metadata": {},
   "source": [
    "## Data Cleaning\n",
    "\n",
    "###  Handling Missing Values\n",
    "**ATTENTION**: Missing value means missing information, not missing data!\n",
    "\n",
    "The treatment can be done before, during, or after the Exploratory Analysis, but ideally should be done before the Feature Engineering. **But beware:** Feature Engineering and Preprocessing can generate missing values, which need to be handled."
   ]
  },
  {
   "cell_type": "code",
   "execution_count": 15,
   "id": "31760b34",
   "metadata": {},
   "outputs": [
    {
     "data": {
      "text/html": [
       "<div>\n",
       "<style scoped>\n",
       "    .dataframe tbody tr th:only-of-type {\n",
       "        vertical-align: middle;\n",
       "    }\n",
       "\n",
       "    .dataframe tbody tr th {\n",
       "        vertical-align: top;\n",
       "    }\n",
       "\n",
       "    .dataframe thead th {\n",
       "        text-align: right;\n",
       "    }\n",
       "</style>\n",
       "<table border=\"1\" class=\"dataframe\">\n",
       "  <thead>\n",
       "    <tr style=\"text-align: right;\">\n",
       "      <th></th>\n",
       "      <th>ID</th>\n",
       "      <th>corredor_armazem</th>\n",
       "      <th>modo_envio</th>\n",
       "      <th>numero_chamadas_cliente</th>\n",
       "      <th>avaliacao_cliente</th>\n",
       "      <th>custo_produto</th>\n",
       "      <th>compras_anteriores</th>\n",
       "      <th>prioridade_produto</th>\n",
       "      <th>genero</th>\n",
       "      <th>desconto</th>\n",
       "      <th>peso_gramas</th>\n",
       "      <th>entregue_no_prazo</th>\n",
       "    </tr>\n",
       "  </thead>\n",
       "  <tbody>\n",
       "    <tr>\n",
       "      <th>0</th>\n",
       "      <td>1</td>\n",
       "      <td>D</td>\n",
       "      <td>Aviao</td>\n",
       "      <td>4</td>\n",
       "      <td>2</td>\n",
       "      <td>177</td>\n",
       "      <td>3</td>\n",
       "      <td>baixa</td>\n",
       "      <td>F</td>\n",
       "      <td>44</td>\n",
       "      <td>1233</td>\n",
       "      <td>1</td>\n",
       "    </tr>\n",
       "    <tr>\n",
       "      <th>1</th>\n",
       "      <td>2</td>\n",
       "      <td>F</td>\n",
       "      <td>Aviao</td>\n",
       "      <td>4</td>\n",
       "      <td>5</td>\n",
       "      <td>216</td>\n",
       "      <td>2</td>\n",
       "      <td>baixa</td>\n",
       "      <td>M</td>\n",
       "      <td>59</td>\n",
       "      <td>3088</td>\n",
       "      <td>1</td>\n",
       "    </tr>\n",
       "    <tr>\n",
       "      <th>2</th>\n",
       "      <td>3</td>\n",
       "      <td>A</td>\n",
       "      <td>Aviao</td>\n",
       "      <td>2</td>\n",
       "      <td>2</td>\n",
       "      <td>183</td>\n",
       "      <td>4</td>\n",
       "      <td>baixa</td>\n",
       "      <td>M</td>\n",
       "      <td>48</td>\n",
       "      <td>3374</td>\n",
       "      <td>1</td>\n",
       "    </tr>\n",
       "  </tbody>\n",
       "</table>\n",
       "</div>"
      ],
      "text/plain": [
       "   ID corredor_armazem modo_envio  numero_chamadas_cliente  avaliacao_cliente  \\\n",
       "0   1                D      Aviao                        4                  2   \n",
       "1   2                F      Aviao                        4                  5   \n",
       "2   3                A      Aviao                        2                  2   \n",
       "\n",
       "   custo_produto  compras_anteriores prioridade_produto genero  desconto  \\\n",
       "0            177                   3              baixa      F        44   \n",
       "1            216                   2              baixa      M        59   \n",
       "2            183                   4              baixa      M        48   \n",
       "\n",
       "   peso_gramas  entregue_no_prazo  \n",
       "0         1233                  1  \n",
       "1         3088                  1  \n",
       "2         3374                  1  "
      ]
     },
     "execution_count": 15,
     "metadata": {},
     "output_type": "execute_result"
    }
   ],
   "source": [
    "df.head(3)"
   ]
  },
  {
   "cell_type": "code",
   "execution_count": 16,
   "id": "fe806445",
   "metadata": {},
   "outputs": [
    {
     "data": {
      "text/plain": [
       "ID                         0\n",
       "corredor_armazem           0\n",
       "modo_envio                 0\n",
       "numero_chamadas_cliente    0\n",
       "avaliacao_cliente          0\n",
       "custo_produto              0\n",
       "compras_anteriores         0\n",
       "prioridade_produto         0\n",
       "genero                     0\n",
       "desconto                   0\n",
       "peso_gramas                0\n",
       "entregue_no_prazo          0\n",
       "dtype: int64"
      ]
     },
     "execution_count": 16,
     "metadata": {},
     "output_type": "execute_result"
    }
   ],
   "source": [
    "# Check if we have nan values\n",
    "df.isna().sum()"
   ]
  },
  {
   "cell_type": "markdown",
   "id": "9e27740b",
   "metadata": {},
   "source": [
    "###  Handling Duplicate Values\n",
    "Duplicate values means duplicity of the data in all rows (the entire record)\n",
    "\n",
    "The treatment can be done before, during, or after the Exploratory Analysis, but ideally should be done before the Feature Engineering."
   ]
  },
  {
   "cell_type": "code",
   "execution_count": 17,
   "id": "42c826d2",
   "metadata": {},
   "outputs": [
    {
     "data": {
      "text/html": [
       "<div>\n",
       "<style scoped>\n",
       "    .dataframe tbody tr th:only-of-type {\n",
       "        vertical-align: middle;\n",
       "    }\n",
       "\n",
       "    .dataframe tbody tr th {\n",
       "        vertical-align: top;\n",
       "    }\n",
       "\n",
       "    .dataframe thead th {\n",
       "        text-align: right;\n",
       "    }\n",
       "</style>\n",
       "<table border=\"1\" class=\"dataframe\">\n",
       "  <thead>\n",
       "    <tr style=\"text-align: right;\">\n",
       "      <th></th>\n",
       "      <th>ID</th>\n",
       "      <th>corredor_armazem</th>\n",
       "      <th>modo_envio</th>\n",
       "      <th>numero_chamadas_cliente</th>\n",
       "      <th>avaliacao_cliente</th>\n",
       "      <th>custo_produto</th>\n",
       "      <th>compras_anteriores</th>\n",
       "      <th>prioridade_produto</th>\n",
       "      <th>genero</th>\n",
       "      <th>desconto</th>\n",
       "      <th>peso_gramas</th>\n",
       "      <th>entregue_no_prazo</th>\n",
       "    </tr>\n",
       "  </thead>\n",
       "  <tbody>\n",
       "    <tr>\n",
       "      <th>0</th>\n",
       "      <td>1</td>\n",
       "      <td>D</td>\n",
       "      <td>Aviao</td>\n",
       "      <td>4</td>\n",
       "      <td>2</td>\n",
       "      <td>177</td>\n",
       "      <td>3</td>\n",
       "      <td>baixa</td>\n",
       "      <td>F</td>\n",
       "      <td>44</td>\n",
       "      <td>1233</td>\n",
       "      <td>1</td>\n",
       "    </tr>\n",
       "    <tr>\n",
       "      <th>1</th>\n",
       "      <td>2</td>\n",
       "      <td>F</td>\n",
       "      <td>Aviao</td>\n",
       "      <td>4</td>\n",
       "      <td>5</td>\n",
       "      <td>216</td>\n",
       "      <td>2</td>\n",
       "      <td>baixa</td>\n",
       "      <td>M</td>\n",
       "      <td>59</td>\n",
       "      <td>3088</td>\n",
       "      <td>1</td>\n",
       "    </tr>\n",
       "    <tr>\n",
       "      <th>2</th>\n",
       "      <td>3</td>\n",
       "      <td>A</td>\n",
       "      <td>Aviao</td>\n",
       "      <td>2</td>\n",
       "      <td>2</td>\n",
       "      <td>183</td>\n",
       "      <td>4</td>\n",
       "      <td>baixa</td>\n",
       "      <td>M</td>\n",
       "      <td>48</td>\n",
       "      <td>3374</td>\n",
       "      <td>1</td>\n",
       "    </tr>\n",
       "  </tbody>\n",
       "</table>\n",
       "</div>"
      ],
      "text/plain": [
       "   ID corredor_armazem modo_envio  numero_chamadas_cliente  avaliacao_cliente  \\\n",
       "0   1                D      Aviao                        4                  2   \n",
       "1   2                F      Aviao                        4                  5   \n",
       "2   3                A      Aviao                        2                  2   \n",
       "\n",
       "   custo_produto  compras_anteriores prioridade_produto genero  desconto  \\\n",
       "0            177                   3              baixa      F        44   \n",
       "1            216                   2              baixa      M        59   \n",
       "2            183                   4              baixa      M        48   \n",
       "\n",
       "   peso_gramas  entregue_no_prazo  \n",
       "0         1233                  1  \n",
       "1         3088                  1  \n",
       "2         3374                  1  "
      ]
     },
     "execution_count": 17,
     "metadata": {},
     "output_type": "execute_result"
    }
   ],
   "source": [
    "df.head(3)"
   ]
  },
  {
   "cell_type": "code",
   "execution_count": 18,
   "id": "473e1a88",
   "metadata": {},
   "outputs": [
    {
     "data": {
      "text/plain": [
       "0"
      ]
     },
     "execution_count": 18,
     "metadata": {},
     "output_type": "execute_result"
    }
   ],
   "source": [
    "# Check duplicates\n",
    "df.duplicated().sum()"
   ]
  },
  {
   "cell_type": "markdown",
   "id": "33d0fcba",
   "metadata": {},
   "source": [
    "### Handling Outliers Values\n",
    "The treatment can be done before, during, or after the Exploratory Analysis, but ideally should be done before the Feature Engineering."
   ]
  },
  {
   "cell_type": "markdown",
   "id": "461de997",
   "metadata": {},
   "source": [
    "*formatted string literals* - https://docs.python.org/3.6/reference/lexical_analysis.html#formatted-string-literals"
   ]
  },
  {
   "cell_type": "code",
   "execution_count": 19,
   "id": "8ff2ade0",
   "metadata": {},
   "outputs": [
    {
     "name": "stdout",
     "output_type": "stream",
     "text": [
      "number of rows before filtering out extreme values (Outliers)? 11000\n"
     ]
    }
   ],
   "source": [
    "print(f'number of rows before filtering out extreme values (Outliers)? {len(df)}')"
   ]
  },
  {
   "cell_type": "code",
   "execution_count": 20,
   "id": "253d2d52",
   "metadata": {},
   "outputs": [
    {
     "data": {
      "text/html": [
       "<div>\n",
       "<style scoped>\n",
       "    .dataframe tbody tr th:only-of-type {\n",
       "        vertical-align: middle;\n",
       "    }\n",
       "\n",
       "    .dataframe tbody tr th {\n",
       "        vertical-align: top;\n",
       "    }\n",
       "\n",
       "    .dataframe thead th {\n",
       "        text-align: right;\n",
       "    }\n",
       "</style>\n",
       "<table border=\"1\" class=\"dataframe\">\n",
       "  <thead>\n",
       "    <tr style=\"text-align: right;\">\n",
       "      <th></th>\n",
       "      <th>numero_chamadas_cliente</th>\n",
       "      <th>avaliacao_cliente</th>\n",
       "      <th>compras_anteriores</th>\n",
       "      <th>desconto</th>\n",
       "      <th>custo_produto</th>\n",
       "      <th>peso_gramas</th>\n",
       "    </tr>\n",
       "  </thead>\n",
       "  <tbody>\n",
       "    <tr>\n",
       "      <th>0</th>\n",
       "      <td>4</td>\n",
       "      <td>2</td>\n",
       "      <td>3</td>\n",
       "      <td>44</td>\n",
       "      <td>177</td>\n",
       "      <td>1233</td>\n",
       "    </tr>\n",
       "    <tr>\n",
       "      <th>1</th>\n",
       "      <td>4</td>\n",
       "      <td>5</td>\n",
       "      <td>2</td>\n",
       "      <td>59</td>\n",
       "      <td>216</td>\n",
       "      <td>3088</td>\n",
       "    </tr>\n",
       "    <tr>\n",
       "      <th>2</th>\n",
       "      <td>2</td>\n",
       "      <td>2</td>\n",
       "      <td>4</td>\n",
       "      <td>48</td>\n",
       "      <td>183</td>\n",
       "      <td>3374</td>\n",
       "    </tr>\n",
       "    <tr>\n",
       "      <th>3</th>\n",
       "      <td>3</td>\n",
       "      <td>3</td>\n",
       "      <td>4</td>\n",
       "      <td>10</td>\n",
       "      <td>176</td>\n",
       "      <td>1177</td>\n",
       "    </tr>\n",
       "    <tr>\n",
       "      <th>4</th>\n",
       "      <td>2</td>\n",
       "      <td>2</td>\n",
       "      <td>3</td>\n",
       "      <td>46</td>\n",
       "      <td>184</td>\n",
       "      <td>2484</td>\n",
       "    </tr>\n",
       "  </tbody>\n",
       "</table>\n",
       "</div>"
      ],
      "text/plain": [
       "   numero_chamadas_cliente  avaliacao_cliente  compras_anteriores  desconto  \\\n",
       "0                        4                  2                   3        44   \n",
       "1                        4                  5                   2        59   \n",
       "2                        2                  2                   4        48   \n",
       "3                        3                  3                   4        10   \n",
       "4                        2                  2                   3        46   \n",
       "\n",
       "   custo_produto  peso_gramas  \n",
       "0            177         1233  \n",
       "1            216         3088  \n",
       "2            183         3374  \n",
       "3            176         1177  \n",
       "4            184         2484  "
      ]
     },
     "execution_count": 20,
     "metadata": {},
     "output_type": "execute_result"
    }
   ],
   "source": [
    "df[nums].head()"
   ]
  },
  {
   "cell_type": "code",
   "execution_count": 21,
   "id": "47897ca4",
   "metadata": {},
   "outputs": [
    {
     "data": {
      "text/plain": [
       "13.372545454545454"
      ]
     },
     "execution_count": 21,
     "metadata": {},
     "output_type": "execute_result"
    }
   ],
   "source": [
    "df.desconto.mean()"
   ]
  },
  {
   "cell_type": "code",
   "execution_count": 22,
   "id": "6f515f80",
   "metadata": {},
   "outputs": [
    {
     "data": {
      "text/plain": [
       "16.20494287359407"
      ]
     },
     "execution_count": 22,
     "metadata": {},
     "output_type": "execute_result"
    }
   ],
   "source": [
    "df.desconto.std()"
   ]
  },
  {
   "cell_type": "code",
   "execution_count": 23,
   "id": "ecc89f71",
   "metadata": {},
   "outputs": [
    {
     "data": {
      "image/png": "[encoded data removed]",
      "text/plain": [
       "<Figure size 640x480 with 1 Axes>"
      ]
     },
     "metadata": {},
     "output_type": "display_data"
    }
   ],
   "source": [
    "df.desconto.hist();"
   ]
  },
  {
   "cell_type": "code",
   "execution_count": 24,
   "id": "120f921a",
   "metadata": {},
   "outputs": [
    {
     "name": "stdout",
     "output_type": "stream",
     "text": [
      "Valor superior: 61.987374075327665\n",
      "Valor inferior: -35.24228316623676\n"
     ]
    }
   ],
   "source": [
    "# calculate the upper and lower limits\n",
    "# An outlier is a value that is either below the lower limit or above the upper limit.\n",
    "limite_superior = df.desconto.mean() + 3 * df.desconto.std()\n",
    "print('Valor superior:', limite_superior)\n",
    "limite_inferior = df.desconto.mean() - 3 * df.desconto.std()\n",
    "print('Valor inferior:', limite_inferior)"
   ]
  },
  {
   "cell_type": "code",
   "execution_count": 25,
   "id": "05232fcd",
   "metadata": {},
   "outputs": [
    {
     "data": {
      "text/html": [
       "<div>\n",
       "<style scoped>\n",
       "    .dataframe tbody tr th:only-of-type {\n",
       "        vertical-align: middle;\n",
       "    }\n",
       "\n",
       "    .dataframe tbody tr th {\n",
       "        vertical-align: top;\n",
       "    }\n",
       "\n",
       "    .dataframe thead th {\n",
       "        text-align: right;\n",
       "    }\n",
       "</style>\n",
       "<table border=\"1\" class=\"dataframe\">\n",
       "  <thead>\n",
       "    <tr style=\"text-align: right;\">\n",
       "      <th></th>\n",
       "      <th>ID</th>\n",
       "      <th>corredor_armazem</th>\n",
       "      <th>modo_envio</th>\n",
       "      <th>numero_chamadas_cliente</th>\n",
       "      <th>avaliacao_cliente</th>\n",
       "      <th>custo_produto</th>\n",
       "      <th>compras_anteriores</th>\n",
       "      <th>prioridade_produto</th>\n",
       "      <th>genero</th>\n",
       "      <th>desconto</th>\n",
       "      <th>peso_gramas</th>\n",
       "      <th>entregue_no_prazo</th>\n",
       "    </tr>\n",
       "  </thead>\n",
       "  <tbody>\n",
       "    <tr>\n",
       "      <th>36</th>\n",
       "      <td>37</td>\n",
       "      <td>D</td>\n",
       "      <td>Navio</td>\n",
       "      <td>3</td>\n",
       "      <td>5</td>\n",
       "      <td>137</td>\n",
       "      <td>4</td>\n",
       "      <td>alta</td>\n",
       "      <td>F</td>\n",
       "      <td>62</td>\n",
       "      <td>1477</td>\n",
       "      <td>1</td>\n",
       "    </tr>\n",
       "    <tr>\n",
       "      <th>60</th>\n",
       "      <td>61</td>\n",
       "      <td>D</td>\n",
       "      <td>Navio</td>\n",
       "      <td>3</td>\n",
       "      <td>1</td>\n",
       "      <td>221</td>\n",
       "      <td>3</td>\n",
       "      <td>baixa</td>\n",
       "      <td>F</td>\n",
       "      <td>64</td>\n",
       "      <td>2794</td>\n",
       "      <td>1</td>\n",
       "    </tr>\n",
       "    <tr>\n",
       "      <th>62</th>\n",
       "      <td>63</td>\n",
       "      <td>A</td>\n",
       "      <td>Navio</td>\n",
       "      <td>5</td>\n",
       "      <td>1</td>\n",
       "      <td>105</td>\n",
       "      <td>6</td>\n",
       "      <td>media</td>\n",
       "      <td>M</td>\n",
       "      <td>62</td>\n",
       "      <td>1292</td>\n",
       "      <td>1</td>\n",
       "    </tr>\n",
       "    <tr>\n",
       "      <th>111</th>\n",
       "      <td>112</td>\n",
       "      <td>B</td>\n",
       "      <td>Caminhao</td>\n",
       "      <td>4</td>\n",
       "      <td>2</td>\n",
       "      <td>239</td>\n",
       "      <td>3</td>\n",
       "      <td>baixa</td>\n",
       "      <td>F</td>\n",
       "      <td>65</td>\n",
       "      <td>3679</td>\n",
       "      <td>1</td>\n",
       "    </tr>\n",
       "    <tr>\n",
       "      <th>122</th>\n",
       "      <td>123</td>\n",
       "      <td>A</td>\n",
       "      <td>Caminhao</td>\n",
       "      <td>4</td>\n",
       "      <td>2</td>\n",
       "      <td>160</td>\n",
       "      <td>3</td>\n",
       "      <td>baixa</td>\n",
       "      <td>M</td>\n",
       "      <td>64</td>\n",
       "      <td>1714</td>\n",
       "      <td>1</td>\n",
       "    </tr>\n",
       "  </tbody>\n",
       "</table>\n",
       "</div>"
      ],
      "text/plain": [
       "      ID corredor_armazem modo_envio  numero_chamadas_cliente  \\\n",
       "36    37                D      Navio                        3   \n",
       "60    61                D      Navio                        3   \n",
       "62    63                A      Navio                        5   \n",
       "111  112                B   Caminhao                        4   \n",
       "122  123                A   Caminhao                        4   \n",
       "\n",
       "     avaliacao_cliente  custo_produto  compras_anteriores prioridade_produto  \\\n",
       "36                   5            137                   4               alta   \n",
       "60                   1            221                   3              baixa   \n",
       "62                   1            105                   6              media   \n",
       "111                  2            239                   3              baixa   \n",
       "122                  2            160                   3              baixa   \n",
       "\n",
       "    genero  desconto  peso_gramas  entregue_no_prazo  \n",
       "36       F        62         1477                  1  \n",
       "60       F        64         2794                  1  \n",
       "62       M        62         1292                  1  \n",
       "111      F        65         3679                  1  \n",
       "122      M        64         1714                  1  "
      ]
     },
     "execution_count": 25,
     "metadata": {},
     "output_type": "execute_result"
    }
   ],
   "source": [
    "# Extract the records with outliers in the discount column\n",
    "df_outliers_desconto = df[(df.desconto <= limite_inferior) | (df.desconto >= limite_superior)]\n",
    "df_outliers_desconto.head()"
   ]
  },
  {
   "cell_type": "code",
   "execution_count": 26,
   "id": "19822b6c",
   "metadata": {},
   "outputs": [],
   "source": [
    "# Filters the dataframe by removing outliers in the discount column.\n",
    "df = df[(df.desconto > limite_inferior) & (df.desconto < limite_superior)]"
   ]
  },
  {
   "cell_type": "code",
   "execution_count": 27,
   "id": "24cd92eb",
   "metadata": {},
   "outputs": [
    {
     "name": "stdout",
     "output_type": "stream",
     "text": [
      "number of rows after filtering out extreme values (Outliers): 10819\n"
     ]
    }
   ],
   "source": [
    "print(f'number of rows after filtering out extreme values (Outliers): {len(df)}')"
   ]
  },
  {
   "cell_type": "code",
   "execution_count": 28,
   "id": "d1b751a8",
   "metadata": {},
   "outputs": [],
   "source": [
    "registros = np.array([True] * len(df))"
   ]
  },
  {
   "cell_type": "code",
   "execution_count": 29,
   "id": "f79ebd8c",
   "metadata": {},
   "outputs": [
    {
     "data": {
      "text/plain": [
       "numpy.ndarray"
      ]
     },
     "execution_count": 29,
     "metadata": {},
     "output_type": "execute_result"
    }
   ],
   "source": [
    "type(registros)"
   ]
  },
  {
   "cell_type": "code",
   "execution_count": 30,
   "id": "032fb4d4",
   "metadata": {},
   "outputs": [
    {
     "data": {
      "text/plain": [
       "10819"
      ]
     },
     "execution_count": 30,
     "metadata": {},
     "output_type": "execute_result"
    }
   ],
   "source": [
    "np.count_nonzero(registros == True)"
   ]
  },
  {
   "cell_type": "code",
   "execution_count": 31,
   "id": "3e6aa551",
   "metadata": {},
   "outputs": [
    {
     "data": {
      "text/plain": [
       "0"
      ]
     },
     "execution_count": 31,
     "metadata": {},
     "output_type": "execute_result"
    }
   ],
   "source": [
    "np.count_nonzero(registros == False)"
   ]
  },
  {
   "cell_type": "code",
   "execution_count": 32,
   "id": "49bf69fe",
   "metadata": {},
   "outputs": [],
   "source": [
    "# Numerical variables (Without the `desconto` variable)\n",
    "nums2 = ['numero_chamadas_cliente',\n",
    "        'avaliacao_cliente',\n",
    "        'compras_anteriores',\n",
    "        'custo_produto',\n",
    "        'peso_gramas']"
   ]
  },
  {
   "cell_type": "code",
   "execution_count": 33,
   "id": "4701d24e",
   "metadata": {},
   "outputs": [],
   "source": [
    "# Loop for each numerical variable\n",
    "for col in nums2:\n",
    "    \n",
    "    # Calculate the absolute z-score\n",
    "    zscore = abs(stats.zscore(df[col]))\n",
    "    \n",
    "    # Keeps values with less than 3 absolute z-score\n",
    "    registros = (zscore < 3) & registros"
   ]
  },
  {
   "cell_type": "code",
   "execution_count": 34,
   "id": "1cc21c96",
   "metadata": {},
   "outputs": [
    {
     "data": {
      "text/plain": [
       "10643"
      ]
     },
     "execution_count": 34,
     "metadata": {},
     "output_type": "execute_result"
    }
   ],
   "source": [
    "np.count_nonzero(registros == True)"
   ]
  },
  {
   "cell_type": "code",
   "execution_count": 35,
   "id": "9d43347b",
   "metadata": {},
   "outputs": [
    {
     "data": {
      "text/plain": [
       "176"
      ]
     },
     "execution_count": 35,
     "metadata": {},
     "output_type": "execute_result"
    }
   ],
   "source": [
    "np.count_nonzero(registros == False)"
   ]
  },
  {
   "cell_type": "code",
   "execution_count": 36,
   "id": "972e9f1c",
   "metadata": {},
   "outputs": [],
   "source": [
    "# Delete records with less than 3 z-score in the numerical columns\n",
    "df = df[registros]"
   ]
  },
  {
   "cell_type": "code",
   "execution_count": 37,
   "id": "283270c5",
   "metadata": {},
   "outputs": [
    {
     "name": "stdout",
     "output_type": "stream",
     "text": [
      "number of rows after filtering out extreme values (Outliers): 10643 \n"
     ]
    }
   ],
   "source": [
    "print(f'number of rows after filtering out extreme values (Outliers): {len(df)} ')"
   ]
  },
  {
   "cell_type": "markdown",
   "id": "72993c5b",
   "metadata": {},
   "source": [
    "### Dealing with Imbalanced Data\n",
    "The treatment must be done on the training data, after pre-processing the data.\n"
   ]
  },
  {
   "cell_type": "code",
   "execution_count": 38,
   "id": "6c1a4ad3",
   "metadata": {},
   "outputs": [
    {
     "data": {
      "text/plain": [
       "Index(['ID', 'corredor_armazem', 'modo_envio', 'numero_chamadas_cliente',\n",
       "       'avaliacao_cliente', 'custo_produto', 'compras_anteriores',\n",
       "       'prioridade_produto', 'genero', 'desconto', 'peso_gramas',\n",
       "       'entregue_no_prazo'],\n",
       "      dtype='object')"
      ]
     },
     "execution_count": 38,
     "metadata": {},
     "output_type": "execute_result"
    }
   ],
   "source": [
    "df.columns"
   ]
  },
  {
   "cell_type": "code",
   "execution_count": 39,
   "id": "b69b2cb8",
   "metadata": {},
   "outputs": [
    {
     "data": {
      "text/plain": [
       "1    6282\n",
       "0    4361\n",
       "Name: entregue_no_prazo, dtype: int64"
      ]
     },
     "execution_count": 39,
     "metadata": {},
     "output_type": "execute_result"
    }
   ],
   "source": [
    "df['entregue_no_prazo'].value_counts()"
   ]
  },
  {
   "cell_type": "markdown",
   "id": "bcea6c6d",
   "metadata": {},
   "source": [
    "**For this data set, the proportion is not very large. There is not an unbalance problem**.\n",
    "\n",
    "It doesn't have to be equal to the proportion. 60% 40%, 55% 45% is reasonable, and here we have 59% 41%."
   ]
  },
  {
   "cell_type": "markdown",
   "id": "5ce6251b",
   "metadata": {},
   "source": [
    "## Feature Engineering\n",
    "### Feature Selection\n",
    "Here we make the decisions about which variables will be used in Attribute Engineering."
   ]
  },
  {
   "cell_type": "code",
   "execution_count": 40,
   "id": "9bb96378",
   "metadata": {},
   "outputs": [
    {
     "data": {
      "text/plain": [
       "Index(['ID', 'corredor_armazem', 'modo_envio', 'numero_chamadas_cliente',\n",
       "       'avaliacao_cliente', 'custo_produto', 'compras_anteriores',\n",
       "       'prioridade_produto', 'genero', 'desconto', 'peso_gramas',\n",
       "       'entregue_no_prazo'],\n",
       "      dtype='object')"
      ]
     },
     "execution_count": 40,
     "metadata": {},
     "output_type": "execute_result"
    }
   ],
   "source": [
    "df.columns"
   ]
  },
  {
   "cell_type": "code",
   "execution_count": 41,
   "id": "498538e7",
   "metadata": {},
   "outputs": [
    {
     "data": {
      "text/html": [
       "<div>\n",
       "<style scoped>\n",
       "    .dataframe tbody tr th:only-of-type {\n",
       "        vertical-align: middle;\n",
       "    }\n",
       "\n",
       "    .dataframe tbody tr th {\n",
       "        vertical-align: top;\n",
       "    }\n",
       "\n",
       "    .dataframe thead th {\n",
       "        text-align: right;\n",
       "    }\n",
       "</style>\n",
       "<table border=\"1\" class=\"dataframe\">\n",
       "  <thead>\n",
       "    <tr style=\"text-align: right;\">\n",
       "      <th></th>\n",
       "      <th>ID</th>\n",
       "      <th>corredor_armazem</th>\n",
       "      <th>modo_envio</th>\n",
       "      <th>numero_chamadas_cliente</th>\n",
       "      <th>avaliacao_cliente</th>\n",
       "      <th>custo_produto</th>\n",
       "      <th>compras_anteriores</th>\n",
       "      <th>prioridade_produto</th>\n",
       "      <th>genero</th>\n",
       "      <th>desconto</th>\n",
       "      <th>peso_gramas</th>\n",
       "      <th>entregue_no_prazo</th>\n",
       "    </tr>\n",
       "  </thead>\n",
       "  <tbody>\n",
       "    <tr>\n",
       "      <th>5462</th>\n",
       "      <td>5463</td>\n",
       "      <td>A</td>\n",
       "      <td>Caminhao</td>\n",
       "      <td>6</td>\n",
       "      <td>2</td>\n",
       "      <td>304</td>\n",
       "      <td>4</td>\n",
       "      <td>baixa</td>\n",
       "      <td>M</td>\n",
       "      <td>2</td>\n",
       "      <td>1256</td>\n",
       "      <td>1</td>\n",
       "    </tr>\n",
       "    <tr>\n",
       "      <th>8712</th>\n",
       "      <td>8713</td>\n",
       "      <td>D</td>\n",
       "      <td>Navio</td>\n",
       "      <td>4</td>\n",
       "      <td>2</td>\n",
       "      <td>133</td>\n",
       "      <td>6</td>\n",
       "      <td>media</td>\n",
       "      <td>F</td>\n",
       "      <td>9</td>\n",
       "      <td>4879</td>\n",
       "      <td>0</td>\n",
       "    </tr>\n",
       "    <tr>\n",
       "      <th>9871</th>\n",
       "      <td>9872</td>\n",
       "      <td>F</td>\n",
       "      <td>Aviao</td>\n",
       "      <td>3</td>\n",
       "      <td>3</td>\n",
       "      <td>214</td>\n",
       "      <td>2</td>\n",
       "      <td>media</td>\n",
       "      <td>F</td>\n",
       "      <td>9</td>\n",
       "      <td>4185</td>\n",
       "      <td>0</td>\n",
       "    </tr>\n",
       "    <tr>\n",
       "      <th>7823</th>\n",
       "      <td>7824</td>\n",
       "      <td>F</td>\n",
       "      <td>Aviao</td>\n",
       "      <td>3</td>\n",
       "      <td>5</td>\n",
       "      <td>257</td>\n",
       "      <td>3</td>\n",
       "      <td>media</td>\n",
       "      <td>M</td>\n",
       "      <td>4</td>\n",
       "      <td>5196</td>\n",
       "      <td>1</td>\n",
       "    </tr>\n",
       "    <tr>\n",
       "      <th>4126</th>\n",
       "      <td>4127</td>\n",
       "      <td>C</td>\n",
       "      <td>Aviao</td>\n",
       "      <td>4</td>\n",
       "      <td>3</td>\n",
       "      <td>249</td>\n",
       "      <td>3</td>\n",
       "      <td>baixa</td>\n",
       "      <td>M</td>\n",
       "      <td>5</td>\n",
       "      <td>5017</td>\n",
       "      <td>1</td>\n",
       "    </tr>\n",
       "  </tbody>\n",
       "</table>\n",
       "</div>"
      ],
      "text/plain": [
       "        ID corredor_armazem modo_envio  numero_chamadas_cliente  \\\n",
       "5462  5463                A   Caminhao                        6   \n",
       "8712  8713                D      Navio                        4   \n",
       "9871  9872                F      Aviao                        3   \n",
       "7823  7824                F      Aviao                        3   \n",
       "4126  4127                C      Aviao                        4   \n",
       "\n",
       "      avaliacao_cliente  custo_produto  compras_anteriores prioridade_produto  \\\n",
       "5462                  2            304                   4              baixa   \n",
       "8712                  2            133                   6              media   \n",
       "9871                  3            214                   2              media   \n",
       "7823                  5            257                   3              media   \n",
       "4126                  3            249                   3              baixa   \n",
       "\n",
       "     genero  desconto  peso_gramas  entregue_no_prazo  \n",
       "5462      M         2         1256                  1  \n",
       "8712      F         9         4879                  0  \n",
       "9871      F         9         4185                  0  \n",
       "7823      M         4         5196                  1  \n",
       "4126      M         5         5017                  1  "
      ]
     },
     "execution_count": 41,
     "metadata": {},
     "output_type": "execute_result"
    }
   ],
   "source": [
    "df.sample(5)"
   ]
  },
  {
   "cell_type": "code",
   "execution_count": 42,
   "id": "f7f27efd",
   "metadata": {},
   "outputs": [
    {
     "data": {
      "text/html": [
       "<div>\n",
       "<style scoped>\n",
       "    .dataframe tbody tr th:only-of-type {\n",
       "        vertical-align: middle;\n",
       "    }\n",
       "\n",
       "    .dataframe tbody tr th {\n",
       "        vertical-align: top;\n",
       "    }\n",
       "\n",
       "    .dataframe thead th {\n",
       "        text-align: right;\n",
       "    }\n",
       "</style>\n",
       "<table border=\"1\" class=\"dataframe\">\n",
       "  <thead>\n",
       "    <tr style=\"text-align: right;\">\n",
       "      <th></th>\n",
       "      <th>ID</th>\n",
       "      <th>numero_chamadas_cliente</th>\n",
       "      <th>avaliacao_cliente</th>\n",
       "      <th>custo_produto</th>\n",
       "      <th>compras_anteriores</th>\n",
       "      <th>desconto</th>\n",
       "      <th>peso_gramas</th>\n",
       "      <th>entregue_no_prazo</th>\n",
       "    </tr>\n",
       "  </thead>\n",
       "  <tbody>\n",
       "    <tr>\n",
       "      <th>ID</th>\n",
       "      <td>1.000000</td>\n",
       "      <td>0.190104</td>\n",
       "      <td>-0.008010</td>\n",
       "      <td>0.197842</td>\n",
       "      <td>0.184451</td>\n",
       "      <td>-0.591557</td>\n",
       "      <td>0.263811</td>\n",
       "      <td>-0.403501</td>\n",
       "    </tr>\n",
       "    <tr>\n",
       "      <th>numero_chamadas_cliente</th>\n",
       "      <td>0.190104</td>\n",
       "      <td>1.000000</td>\n",
       "      <td>0.013398</td>\n",
       "      <td>0.328148</td>\n",
       "      <td>0.246604</td>\n",
       "      <td>-0.132172</td>\n",
       "      <td>-0.285186</td>\n",
       "      <td>-0.066327</td>\n",
       "    </tr>\n",
       "    <tr>\n",
       "      <th>avaliacao_cliente</th>\n",
       "      <td>-0.008010</td>\n",
       "      <td>0.013398</td>\n",
       "      <td>1.000000</td>\n",
       "      <td>0.006332</td>\n",
       "      <td>0.004893</td>\n",
       "      <td>0.000551</td>\n",
       "      <td>-0.004440</td>\n",
       "      <td>0.014809</td>\n",
       "    </tr>\n",
       "    <tr>\n",
       "      <th>custo_produto</th>\n",
       "      <td>0.197842</td>\n",
       "      <td>0.328148</td>\n",
       "      <td>0.006332</td>\n",
       "      <td>1.000000</td>\n",
       "      <td>0.163395</td>\n",
       "      <td>-0.137703</td>\n",
       "      <td>-0.146885</td>\n",
       "      <td>-0.071954</td>\n",
       "    </tr>\n",
       "    <tr>\n",
       "      <th>compras_anteriores</th>\n",
       "      <td>0.184451</td>\n",
       "      <td>0.246604</td>\n",
       "      <td>0.004893</td>\n",
       "      <td>0.163395</td>\n",
       "      <td>1.000000</td>\n",
       "      <td>-0.106093</td>\n",
       "      <td>-0.235066</td>\n",
       "      <td>-0.062599</td>\n",
       "    </tr>\n",
       "    <tr>\n",
       "      <th>desconto</th>\n",
       "      <td>-0.591557</td>\n",
       "      <td>-0.132172</td>\n",
       "      <td>0.000551</td>\n",
       "      <td>-0.137703</td>\n",
       "      <td>-0.106093</td>\n",
       "      <td>1.000000</td>\n",
       "      <td>-0.365062</td>\n",
       "      <td>0.388192</td>\n",
       "    </tr>\n",
       "    <tr>\n",
       "      <th>peso_gramas</th>\n",
       "      <td>0.263811</td>\n",
       "      <td>-0.285186</td>\n",
       "      <td>-0.004440</td>\n",
       "      <td>-0.146885</td>\n",
       "      <td>-0.235066</td>\n",
       "      <td>-0.365062</td>\n",
       "      <td>1.000000</td>\n",
       "      <td>-0.258815</td>\n",
       "    </tr>\n",
       "    <tr>\n",
       "      <th>entregue_no_prazo</th>\n",
       "      <td>-0.403501</td>\n",
       "      <td>-0.066327</td>\n",
       "      <td>0.014809</td>\n",
       "      <td>-0.071954</td>\n",
       "      <td>-0.062599</td>\n",
       "      <td>0.388192</td>\n",
       "      <td>-0.258815</td>\n",
       "      <td>1.000000</td>\n",
       "    </tr>\n",
       "  </tbody>\n",
       "</table>\n",
       "</div>"
      ],
      "text/plain": [
       "                               ID  numero_chamadas_cliente  avaliacao_cliente  \\\n",
       "ID                       1.000000                 0.190104          -0.008010   \n",
       "numero_chamadas_cliente  0.190104                 1.000000           0.013398   \n",
       "avaliacao_cliente       -0.008010                 0.013398           1.000000   \n",
       "custo_produto            0.197842                 0.328148           0.006332   \n",
       "compras_anteriores       0.184451                 0.246604           0.004893   \n",
       "desconto                -0.591557                -0.132172           0.000551   \n",
       "peso_gramas              0.263811                -0.285186          -0.004440   \n",
       "entregue_no_prazo       -0.403501                -0.066327           0.014809   \n",
       "\n",
       "                         custo_produto  compras_anteriores  desconto  \\\n",
       "ID                            0.197842            0.184451 -0.591557   \n",
       "numero_chamadas_cliente       0.328148            0.246604 -0.132172   \n",
       "avaliacao_cliente             0.006332            0.004893  0.000551   \n",
       "custo_produto                 1.000000            0.163395 -0.137703   \n",
       "compras_anteriores            0.163395            1.000000 -0.106093   \n",
       "desconto                     -0.137703           -0.106093  1.000000   \n",
       "peso_gramas                  -0.146885           -0.235066 -0.365062   \n",
       "entregue_no_prazo            -0.071954           -0.062599  0.388192   \n",
       "\n",
       "                         peso_gramas  entregue_no_prazo  \n",
       "ID                          0.263811          -0.403501  \n",
       "numero_chamadas_cliente    -0.285186          -0.066327  \n",
       "avaliacao_cliente          -0.004440           0.014809  \n",
       "custo_produto              -0.146885          -0.071954  \n",
       "compras_anteriores         -0.235066          -0.062599  \n",
       "desconto                   -0.365062           0.388192  \n",
       "peso_gramas                 1.000000          -0.258815  \n",
       "entregue_no_prazo          -0.258815           1.000000  "
      ]
     },
     "execution_count": 42,
     "metadata": {},
     "output_type": "execute_result"
    }
   ],
   "source": [
    "# Correlation\n",
    "df.corr()"
   ]
  },
  {
   "cell_type": "code",
   "execution_count": 43,
   "id": "4973e9db",
   "metadata": {},
   "outputs": [
    {
     "data": {
      "image/png": "[encoded data removed]",
      "text/plain": [
       "<Figure size 1000x800 with 2 Axes>"
      ]
     },
     "metadata": {},
     "output_type": "display_data"
    }
   ],
   "source": [
    "# Correlation map\n",
    "plt.figure(figsize = (10, 8))\n",
    "sns.heatmap(df.corr(), cmap = 'Purples', annot = True, fmt = '.2f');"
   ]
  },
  {
   "cell_type": "markdown",
   "id": "216b949b",
   "metadata": {},
   "source": [
    "**Decision:** In the figure above, features that exceed the limit (+/-0.05) in correlation with the target feature (entregue_no_prazo) will be chosen to be processed in Attribute Engineering, in this case: numero_chamadas_cliente, custo_produto, compras_anteriores, desconto and perso_gramas.\n",
    "\n",
    "the variable 'avaliacao_cliente' does not seem relevant and will not be processed in Feature Engineering. The variable 'ID' will be discarded, as it does not represent useful information."
   ]
  },
  {
   "cell_type": "code",
   "execution_count": 44,
   "id": "067326cf",
   "metadata": {},
   "outputs": [
    {
     "data": {
      "image/png": "[encoded data removed]",
      "text/plain": [
       "<Figure size 2000x800 with 4 Axes>"
      ]
     },
     "metadata": {},
     "output_type": "display_data"
    }
   ],
   "source": [
    "# Bar graph\n",
    "df_sample = df.sample(1000, random_state = 42)\n",
    "plt.figure(figsize = (20, 8))\n",
    "for i in range(0, len(cats)):\n",
    "    plt.subplot(2, 3, i+1)\n",
    "    sns.countplot(x = df_sample[cats[i]], color = 'blue', orient = 'v')\n",
    "    plt.tight_layout()"
   ]
  },
  {
   "cell_type": "markdown",
   "id": "9d8192b7",
   "metadata": {},
   "source": [
    "**Decision:** In the bar graph you can see that all the categorical variables have a large difference in terms of class counts, except the variable 'genero'. Therefore, we will not consider the variable 'genero' in Feature Engineering.\n",
    "\n",
    "**Note:** Since the following tasks are complex, we will only demonstrate with some columns. Feel free to re-do the Feature Engineering using all columns selected according to what we defined above."
   ]
  },
  {
   "cell_type": "markdown",
   "id": "2ad65a0a",
   "metadata": {},
   "source": [
    "### Feature Extraction\n",
    "Here we will extract new variables from the information contained in other variables."
   ]
  },
  {
   "cell_type": "code",
   "execution_count": 45,
   "id": "94d7b34b",
   "metadata": {},
   "outputs": [
    {
     "data": {
      "text/plain": [
       "Index(['ID', 'corredor_armazem', 'modo_envio', 'numero_chamadas_cliente',\n",
       "       'avaliacao_cliente', 'custo_produto', 'compras_anteriores',\n",
       "       'prioridade_produto', 'genero', 'desconto', 'peso_gramas',\n",
       "       'entregue_no_prazo'],\n",
       "      dtype='object')"
      ]
     },
     "execution_count": 45,
     "metadata": {},
     "output_type": "execute_result"
    }
   ],
   "source": [
    "df.columns"
   ]
  },
  {
   "cell_type": "code",
   "execution_count": 46,
   "id": "143a51ab",
   "metadata": {},
   "outputs": [
    {
     "data": {
      "text/html": [
       "<div>\n",
       "<style scoped>\n",
       "    .dataframe tbody tr th:only-of-type {\n",
       "        vertical-align: middle;\n",
       "    }\n",
       "\n",
       "    .dataframe tbody tr th {\n",
       "        vertical-align: top;\n",
       "    }\n",
       "\n",
       "    .dataframe thead th {\n",
       "        text-align: right;\n",
       "    }\n",
       "</style>\n",
       "<table border=\"1\" class=\"dataframe\">\n",
       "  <thead>\n",
       "    <tr style=\"text-align: right;\">\n",
       "      <th></th>\n",
       "      <th>ID</th>\n",
       "      <th>corredor_armazem</th>\n",
       "      <th>modo_envio</th>\n",
       "      <th>numero_chamadas_cliente</th>\n",
       "      <th>avaliacao_cliente</th>\n",
       "      <th>custo_produto</th>\n",
       "      <th>compras_anteriores</th>\n",
       "      <th>prioridade_produto</th>\n",
       "      <th>genero</th>\n",
       "      <th>desconto</th>\n",
       "      <th>peso_gramas</th>\n",
       "      <th>entregue_no_prazo</th>\n",
       "    </tr>\n",
       "  </thead>\n",
       "  <tbody>\n",
       "    <tr>\n",
       "      <th>0</th>\n",
       "      <td>1</td>\n",
       "      <td>D</td>\n",
       "      <td>Aviao</td>\n",
       "      <td>4</td>\n",
       "      <td>2</td>\n",
       "      <td>177</td>\n",
       "      <td>3</td>\n",
       "      <td>baixa</td>\n",
       "      <td>F</td>\n",
       "      <td>44</td>\n",
       "      <td>1233</td>\n",
       "      <td>1</td>\n",
       "    </tr>\n",
       "    <tr>\n",
       "      <th>1</th>\n",
       "      <td>2</td>\n",
       "      <td>F</td>\n",
       "      <td>Aviao</td>\n",
       "      <td>4</td>\n",
       "      <td>5</td>\n",
       "      <td>216</td>\n",
       "      <td>2</td>\n",
       "      <td>baixa</td>\n",
       "      <td>M</td>\n",
       "      <td>59</td>\n",
       "      <td>3088</td>\n",
       "      <td>1</td>\n",
       "    </tr>\n",
       "    <tr>\n",
       "      <th>2</th>\n",
       "      <td>3</td>\n",
       "      <td>A</td>\n",
       "      <td>Aviao</td>\n",
       "      <td>2</td>\n",
       "      <td>2</td>\n",
       "      <td>183</td>\n",
       "      <td>4</td>\n",
       "      <td>baixa</td>\n",
       "      <td>M</td>\n",
       "      <td>48</td>\n",
       "      <td>3374</td>\n",
       "      <td>1</td>\n",
       "    </tr>\n",
       "    <tr>\n",
       "      <th>3</th>\n",
       "      <td>4</td>\n",
       "      <td>B</td>\n",
       "      <td>Aviao</td>\n",
       "      <td>3</td>\n",
       "      <td>3</td>\n",
       "      <td>176</td>\n",
       "      <td>4</td>\n",
       "      <td>media</td>\n",
       "      <td>M</td>\n",
       "      <td>10</td>\n",
       "      <td>1177</td>\n",
       "      <td>1</td>\n",
       "    </tr>\n",
       "    <tr>\n",
       "      <th>4</th>\n",
       "      <td>5</td>\n",
       "      <td>C</td>\n",
       "      <td>Aviao</td>\n",
       "      <td>2</td>\n",
       "      <td>2</td>\n",
       "      <td>184</td>\n",
       "      <td>3</td>\n",
       "      <td>media</td>\n",
       "      <td>F</td>\n",
       "      <td>46</td>\n",
       "      <td>2484</td>\n",
       "      <td>1</td>\n",
       "    </tr>\n",
       "  </tbody>\n",
       "</table>\n",
       "</div>"
      ],
      "text/plain": [
       "   ID corredor_armazem modo_envio  numero_chamadas_cliente  avaliacao_cliente  \\\n",
       "0   1                D      Aviao                        4                  2   \n",
       "1   2                F      Aviao                        4                  5   \n",
       "2   3                A      Aviao                        2                  2   \n",
       "3   4                B      Aviao                        3                  3   \n",
       "4   5                C      Aviao                        2                  2   \n",
       "\n",
       "   custo_produto  compras_anteriores prioridade_produto genero  desconto  \\\n",
       "0            177                   3              baixa      F        44   \n",
       "1            216                   2              baixa      M        59   \n",
       "2            183                   4              baixa      M        48   \n",
       "3            176                   4              media      M        10   \n",
       "4            184                   3              media      F        46   \n",
       "\n",
       "   peso_gramas  entregue_no_prazo  \n",
       "0         1233                  1  \n",
       "1         3088                  1  \n",
       "2         3374                  1  \n",
       "3         1177                  1  \n",
       "4         2484                  1  "
      ]
     },
     "execution_count": 46,
     "metadata": {},
     "output_type": "execute_result"
    }
   ],
   "source": [
    "df.head()"
   ]
  },
  {
   "cell_type": "code",
   "execution_count": 47,
   "id": "6afe9db8",
   "metadata": {},
   "outputs": [],
   "source": [
    "# Creat a dataframe copy\n",
    "df_eng = df.copy()"
   ]
  },
  {
   "cell_type": "code",
   "execution_count": 48,
   "id": "f48ae251",
   "metadata": {},
   "outputs": [
    {
     "data": {
      "text/plain": [
       "(10643, 12)"
      ]
     },
     "execution_count": 48,
     "metadata": {},
     "output_type": "execute_result"
    }
   ],
   "source": [
    "df_eng.shape"
   ]
  },
  {
   "cell_type": "code",
   "execution_count": 49,
   "id": "174494d5",
   "metadata": {},
   "outputs": [
    {
     "data": {
      "text/plain": [
       "ID                          int64\n",
       "corredor_armazem           object\n",
       "modo_envio                 object\n",
       "numero_chamadas_cliente     int64\n",
       "avaliacao_cliente           int64\n",
       "custo_produto               int64\n",
       "compras_anteriores          int64\n",
       "prioridade_produto         object\n",
       "genero                     object\n",
       "desconto                    int64\n",
       "peso_gramas                 int64\n",
       "entregue_no_prazo           int64\n",
       "dtype: object"
      ]
     },
     "execution_count": 49,
     "metadata": {},
     "output_type": "execute_result"
    }
   ],
   "source": [
    "df_eng.dtypes"
   ]
  },
  {
   "cell_type": "markdown",
   "id": "b9a79173",
   "metadata": {},
   "source": [
    "## 1. Product Delivering Performance by Product Priority\n",
    "Is every delay in delivering the same, that is, the same proportion? Does the priority of product delivery generate more or fewer delays?\n",
    "\n",
    "We will create a new variable that represents the performance of the product delivery based on the following business rule:\n",
    "- If the priority of the product was high and there was a delay in delivery, the delay is critical.\n",
    "- If the priority of the product was medium and there was a delay in delivery, the delay is problematic.\n",
    "- If the priority of the product was low and there was a delay in delivery, the delay is tolerable.\n",
    "- Another option means that the delivery was made on time and has no problem."
   ]
  },
  {
   "cell_type": "code",
   "execution_count": 50,
   "id": "a9a8e6f5",
   "metadata": {},
   "outputs": [
    {
     "data": {
      "text/plain": [
       "baixa    5174\n",
       "media    4587\n",
       "alta      882\n",
       "Name: prioridade_produto, dtype: int64"
      ]
     },
     "execution_count": 50,
     "metadata": {},
     "output_type": "execute_result"
    }
   ],
   "source": [
    "df_eng.prioridade_produto.value_counts()"
   ]
  },
  {
   "cell_type": "code",
   "execution_count": 51,
   "id": "45eb16c0",
   "metadata": {},
   "outputs": [],
   "source": [
    "# Create a variable with nan\n",
    "df_eng['performance_prioridade_envio'] = np.nan"
   ]
  },
  {
   "cell_type": "code",
   "execution_count": 52,
   "id": "c3d04a12",
   "metadata": {},
   "outputs": [],
   "source": [
    "df_eng['performance_prioridade_envio'] = np.where(\n",
    "        (df_eng['prioridade_produto'] == 'alta') & (df_eng['entregue_no_prazo'] == 0), 'Critical Delay', \n",
    "    np.where(\n",
    "        (df_eng['prioridade_produto'] == 'media') & (df_eng['entregue_no_prazo'] == 0), 'Problematic Delay',\n",
    "    np.where(\n",
    "        (df_eng['prioridade_produto'] == 'baixa') & (df_eng['entregue_no_prazo'] == 0), 'Tolerable Delay', \n",
    "    'No Delay')))"
   ]
  },
  {
   "cell_type": "code",
   "execution_count": 53,
   "id": "209f3d52",
   "metadata": {},
   "outputs": [
    {
     "data": {
      "text/plain": [
       "No Delay             6282\n",
       "Tolerable Delay      2134\n",
       "Problematic Delay    1917\n",
       "Critical Delay        310\n",
       "Name: performance_prioridade_envio, dtype: int64"
      ]
     },
     "execution_count": 53,
     "metadata": {},
     "output_type": "execute_result"
    }
   ],
   "source": [
    "df_eng['performance_prioridade_envio'].value_counts()"
   ]
  },
  {
   "cell_type": "code",
   "execution_count": 54,
   "id": "c8f375dd",
   "metadata": {},
   "outputs": [
    {
     "data": {
      "text/html": [
       "<div>\n",
       "<style scoped>\n",
       "    .dataframe tbody tr th:only-of-type {\n",
       "        vertical-align: middle;\n",
       "    }\n",
       "\n",
       "    .dataframe tbody tr th {\n",
       "        vertical-align: top;\n",
       "    }\n",
       "\n",
       "    .dataframe thead th {\n",
       "        text-align: right;\n",
       "    }\n",
       "</style>\n",
       "<table border=\"1\" class=\"dataframe\">\n",
       "  <thead>\n",
       "    <tr style=\"text-align: right;\">\n",
       "      <th></th>\n",
       "      <th>ID</th>\n",
       "      <th>corredor_armazem</th>\n",
       "      <th>modo_envio</th>\n",
       "      <th>numero_chamadas_cliente</th>\n",
       "      <th>avaliacao_cliente</th>\n",
       "      <th>custo_produto</th>\n",
       "      <th>compras_anteriores</th>\n",
       "      <th>prioridade_produto</th>\n",
       "      <th>genero</th>\n",
       "      <th>desconto</th>\n",
       "      <th>peso_gramas</th>\n",
       "      <th>entregue_no_prazo</th>\n",
       "      <th>performance_prioridade_envio</th>\n",
       "    </tr>\n",
       "  </thead>\n",
       "  <tbody>\n",
       "    <tr>\n",
       "      <th>10617</th>\n",
       "      <td>10618</td>\n",
       "      <td>B</td>\n",
       "      <td>Navio</td>\n",
       "      <td>3</td>\n",
       "      <td>4</td>\n",
       "      <td>160</td>\n",
       "      <td>3</td>\n",
       "      <td>media</td>\n",
       "      <td>M</td>\n",
       "      <td>3</td>\n",
       "      <td>5662</td>\n",
       "      <td>0</td>\n",
       "      <td>Problematic Delay</td>\n",
       "    </tr>\n",
       "    <tr>\n",
       "      <th>6032</th>\n",
       "      <td>6033</td>\n",
       "      <td>A</td>\n",
       "      <td>Aviao</td>\n",
       "      <td>6</td>\n",
       "      <td>3</td>\n",
       "      <td>283</td>\n",
       "      <td>5</td>\n",
       "      <td>media</td>\n",
       "      <td>M</td>\n",
       "      <td>10</td>\n",
       "      <td>1483</td>\n",
       "      <td>0</td>\n",
       "      <td>Problematic Delay</td>\n",
       "    </tr>\n",
       "    <tr>\n",
       "      <th>1785</th>\n",
       "      <td>1786</td>\n",
       "      <td>B</td>\n",
       "      <td>Aviao</td>\n",
       "      <td>4</td>\n",
       "      <td>2</td>\n",
       "      <td>149</td>\n",
       "      <td>4</td>\n",
       "      <td>baixa</td>\n",
       "      <td>M</td>\n",
       "      <td>40</td>\n",
       "      <td>1102</td>\n",
       "      <td>1</td>\n",
       "      <td>No Delay</td>\n",
       "    </tr>\n",
       "    <tr>\n",
       "      <th>1414</th>\n",
       "      <td>1415</td>\n",
       "      <td>C</td>\n",
       "      <td>Navio</td>\n",
       "      <td>6</td>\n",
       "      <td>5</td>\n",
       "      <td>225</td>\n",
       "      <td>6</td>\n",
       "      <td>baixa</td>\n",
       "      <td>F</td>\n",
       "      <td>55</td>\n",
       "      <td>2052</td>\n",
       "      <td>1</td>\n",
       "      <td>No Delay</td>\n",
       "    </tr>\n",
       "    <tr>\n",
       "      <th>2958</th>\n",
       "      <td>2959</td>\n",
       "      <td>D</td>\n",
       "      <td>Navio</td>\n",
       "      <td>4</td>\n",
       "      <td>2</td>\n",
       "      <td>220</td>\n",
       "      <td>3</td>\n",
       "      <td>alta</td>\n",
       "      <td>F</td>\n",
       "      <td>39</td>\n",
       "      <td>2459</td>\n",
       "      <td>1</td>\n",
       "      <td>No Delay</td>\n",
       "    </tr>\n",
       "  </tbody>\n",
       "</table>\n",
       "</div>"
      ],
      "text/plain": [
       "          ID corredor_armazem modo_envio  numero_chamadas_cliente  \\\n",
       "10617  10618                B      Navio                        3   \n",
       "6032    6033                A      Aviao                        6   \n",
       "1785    1786                B      Aviao                        4   \n",
       "1414    1415                C      Navio                        6   \n",
       "2958    2959                D      Navio                        4   \n",
       "\n",
       "       avaliacao_cliente  custo_produto  compras_anteriores  \\\n",
       "10617                  4            160                   3   \n",
       "6032                   3            283                   5   \n",
       "1785                   2            149                   4   \n",
       "1414                   5            225                   6   \n",
       "2958                   2            220                   3   \n",
       "\n",
       "      prioridade_produto genero  desconto  peso_gramas  entregue_no_prazo  \\\n",
       "10617              media      M         3         5662                  0   \n",
       "6032               media      M        10         1483                  0   \n",
       "1785               baixa      M        40         1102                  1   \n",
       "1414               baixa      F        55         2052                  1   \n",
       "2958                alta      F        39         2459                  1   \n",
       "\n",
       "      performance_prioridade_envio  \n",
       "10617            Problematic Delay  \n",
       "6032             Problematic Delay  \n",
       "1785                      No Delay  \n",
       "1414                      No Delay  \n",
       "2958                      No Delay  "
      ]
     },
     "execution_count": 54,
     "metadata": {},
     "output_type": "execute_result"
    }
   ],
   "source": [
    "df_eng.sample(5)"
   ]
  },
  {
   "cell_type": "code",
   "execution_count": 55,
   "id": "673a9cbc",
   "metadata": {},
   "outputs": [
    {
     "data": {
      "text/html": [
       "<div>\n",
       "<style scoped>\n",
       "    .dataframe tbody tr th:only-of-type {\n",
       "        vertical-align: middle;\n",
       "    }\n",
       "\n",
       "    .dataframe tbody tr th {\n",
       "        vertical-align: top;\n",
       "    }\n",
       "\n",
       "    .dataframe thead tr th {\n",
       "        text-align: left;\n",
       "    }\n",
       "</style>\n",
       "<table border=\"1\" class=\"dataframe\">\n",
       "  <thead>\n",
       "    <tr>\n",
       "      <th></th>\n",
       "      <th>performance_prioridade_envio</th>\n",
       "      <th>entregue_no_prazo</th>\n",
       "      <th>prioridade_produto</th>\n",
       "    </tr>\n",
       "    <tr>\n",
       "      <th></th>\n",
       "      <th></th>\n",
       "      <th></th>\n",
       "      <th>count</th>\n",
       "    </tr>\n",
       "  </thead>\n",
       "  <tbody>\n",
       "    <tr>\n",
       "      <th>0</th>\n",
       "      <td>Critical Delay</td>\n",
       "      <td>0</td>\n",
       "      <td>310</td>\n",
       "    </tr>\n",
       "    <tr>\n",
       "      <th>1</th>\n",
       "      <td>No Delay</td>\n",
       "      <td>1</td>\n",
       "      <td>6282</td>\n",
       "    </tr>\n",
       "    <tr>\n",
       "      <th>2</th>\n",
       "      <td>Problematic Delay</td>\n",
       "      <td>0</td>\n",
       "      <td>1917</td>\n",
       "    </tr>\n",
       "    <tr>\n",
       "      <th>3</th>\n",
       "      <td>Tolerable Delay</td>\n",
       "      <td>0</td>\n",
       "      <td>2134</td>\n",
       "    </tr>\n",
       "  </tbody>\n",
       "</table>\n",
       "</div>"
      ],
      "text/plain": [
       "  performance_prioridade_envio entregue_no_prazo prioridade_produto\n",
       "                                                              count\n",
       "0               Critical Delay                 0                310\n",
       "1                     No Delay                 1               6282\n",
       "2            Problematic Delay                 0               1917\n",
       "3              Tolerable Delay                 0               2134"
      ]
     },
     "execution_count": 55,
     "metadata": {},
     "output_type": "execute_result"
    }
   ],
   "source": [
    "# Grouped the data for analysis\n",
    "df_report1 = df_eng.groupby(['performance_prioridade_envio',\n",
    "                            'entregue_no_prazo']).agg({'prioridade_produto': ['count']}).reset_index()\n",
    "df_report1.head()"
   ]
  },
  {
   "cell_type": "code",
   "execution_count": 56,
   "id": "c4264ff6",
   "metadata": {},
   "outputs": [
    {
     "data": {
      "text/html": [
       "<div>\n",
       "<style scoped>\n",
       "    .dataframe tbody tr th:only-of-type {\n",
       "        vertical-align: middle;\n",
       "    }\n",
       "\n",
       "    .dataframe tbody tr th {\n",
       "        vertical-align: top;\n",
       "    }\n",
       "\n",
       "    .dataframe thead th {\n",
       "        text-align: right;\n",
       "    }\n",
       "</style>\n",
       "<table border=\"1\" class=\"dataframe\">\n",
       "  <thead>\n",
       "    <tr style=\"text-align: right;\">\n",
       "      <th></th>\n",
       "      <th>performance_prioridade_envio</th>\n",
       "      <th>entregue_no_prazo</th>\n",
       "      <th>contagem</th>\n",
       "    </tr>\n",
       "  </thead>\n",
       "  <tbody>\n",
       "    <tr>\n",
       "      <th>0</th>\n",
       "      <td>Critical Delay</td>\n",
       "      <td>0</td>\n",
       "      <td>310</td>\n",
       "    </tr>\n",
       "    <tr>\n",
       "      <th>1</th>\n",
       "      <td>No Delay</td>\n",
       "      <td>1</td>\n",
       "      <td>6282</td>\n",
       "    </tr>\n",
       "    <tr>\n",
       "      <th>2</th>\n",
       "      <td>Problematic Delay</td>\n",
       "      <td>0</td>\n",
       "      <td>1917</td>\n",
       "    </tr>\n",
       "    <tr>\n",
       "      <th>3</th>\n",
       "      <td>Tolerable Delay</td>\n",
       "      <td>0</td>\n",
       "      <td>2134</td>\n",
       "    </tr>\n",
       "  </tbody>\n",
       "</table>\n",
       "</div>"
      ],
      "text/plain": [
       "  performance_prioridade_envio  entregue_no_prazo  contagem\n",
       "0               Critical Delay                  0       310\n",
       "1                     No Delay                  1      6282\n",
       "2            Problematic Delay                  0      1917\n",
       "3              Tolerable Delay                  0      2134"
      ]
     },
     "execution_count": 56,
     "metadata": {},
     "output_type": "execute_result"
    }
   ],
   "source": [
    "# Adjust columns names\n",
    "df_report1.columns = ['performance_prioridade_envio', 'entregue_no_prazo', 'contagem']\n",
    "df_report1.head()"
   ]
  },
  {
   "cell_type": "code",
   "execution_count": 57,
   "id": "66920a24",
   "metadata": {},
   "outputs": [
    {
     "data": {
      "text/html": [
       "<div>\n",
       "<style scoped>\n",
       "    .dataframe tbody tr th:only-of-type {\n",
       "        vertical-align: middle;\n",
       "    }\n",
       "\n",
       "    .dataframe tbody tr th {\n",
       "        vertical-align: top;\n",
       "    }\n",
       "\n",
       "    .dataframe thead th {\n",
       "        text-align: right;\n",
       "    }\n",
       "</style>\n",
       "<table border=\"1\" class=\"dataframe\">\n",
       "  <thead>\n",
       "    <tr style=\"text-align: right;\">\n",
       "      <th>entregue_no_prazo</th>\n",
       "      <th>performance_prioridade_envio</th>\n",
       "      <th>0</th>\n",
       "      <th>1</th>\n",
       "    </tr>\n",
       "  </thead>\n",
       "  <tbody>\n",
       "    <tr>\n",
       "      <th>0</th>\n",
       "      <td>Critical Delay</td>\n",
       "      <td>310.0</td>\n",
       "      <td>NaN</td>\n",
       "    </tr>\n",
       "    <tr>\n",
       "      <th>1</th>\n",
       "      <td>No Delay</td>\n",
       "      <td>NaN</td>\n",
       "      <td>6282.0</td>\n",
       "    </tr>\n",
       "    <tr>\n",
       "      <th>2</th>\n",
       "      <td>Problematic Delay</td>\n",
       "      <td>1917.0</td>\n",
       "      <td>NaN</td>\n",
       "    </tr>\n",
       "    <tr>\n",
       "      <th>3</th>\n",
       "      <td>Tolerable Delay</td>\n",
       "      <td>2134.0</td>\n",
       "      <td>NaN</td>\n",
       "    </tr>\n",
       "  </tbody>\n",
       "</table>\n",
       "</div>"
      ],
      "text/plain": [
       "entregue_no_prazo performance_prioridade_envio       0       1\n",
       "0                               Critical Delay   310.0     NaN\n",
       "1                                     No Delay     NaN  6282.0\n",
       "2                            Problematic Delay  1917.0     NaN\n",
       "3                              Tolerable Delay  2134.0     NaN"
      ]
     },
     "execution_count": 57,
     "metadata": {},
     "output_type": "execute_result"
    }
   ],
   "source": [
    "# Pivot\n",
    "df_report1 = pd.pivot_table(df_report1,\n",
    "                          index = 'performance_prioridade_envio',\n",
    "                          columns = 'entregue_no_prazo',\n",
    "                          values = 'contagem').reset_index()\n",
    "df_report1.head()"
   ]
  },
  {
   "cell_type": "code",
   "execution_count": 58,
   "id": "6e4924db",
   "metadata": {},
   "outputs": [
    {
     "data": {
      "text/html": [
       "<div>\n",
       "<style scoped>\n",
       "    .dataframe tbody tr th:only-of-type {\n",
       "        vertical-align: middle;\n",
       "    }\n",
       "\n",
       "    .dataframe tbody tr th {\n",
       "        vertical-align: top;\n",
       "    }\n",
       "\n",
       "    .dataframe thead th {\n",
       "        text-align: right;\n",
       "    }\n",
       "</style>\n",
       "<table border=\"1\" class=\"dataframe\">\n",
       "  <thead>\n",
       "    <tr style=\"text-align: right;\">\n",
       "      <th></th>\n",
       "      <th>Status do Envio</th>\n",
       "      <th>Total Atraso</th>\n",
       "      <th>Total no Prazo</th>\n",
       "    </tr>\n",
       "  </thead>\n",
       "  <tbody>\n",
       "    <tr>\n",
       "      <th>0</th>\n",
       "      <td>Critical Delay</td>\n",
       "      <td>310.0</td>\n",
       "      <td>NaN</td>\n",
       "    </tr>\n",
       "    <tr>\n",
       "      <th>1</th>\n",
       "      <td>No Delay</td>\n",
       "      <td>NaN</td>\n",
       "      <td>6282.0</td>\n",
       "    </tr>\n",
       "    <tr>\n",
       "      <th>2</th>\n",
       "      <td>Problematic Delay</td>\n",
       "      <td>1917.0</td>\n",
       "      <td>NaN</td>\n",
       "    </tr>\n",
       "    <tr>\n",
       "      <th>3</th>\n",
       "      <td>Tolerable Delay</td>\n",
       "      <td>2134.0</td>\n",
       "      <td>NaN</td>\n",
       "    </tr>\n",
       "  </tbody>\n",
       "</table>\n",
       "</div>"
      ],
      "text/plain": [
       "     Status do Envio  Total Atraso  Total no Prazo\n",
       "0     Critical Delay         310.0             NaN\n",
       "1           No Delay           NaN          6282.0\n",
       "2  Problematic Delay        1917.0             NaN\n",
       "3    Tolerable Delay        2134.0             NaN"
      ]
     },
     "execution_count": 58,
     "metadata": {},
     "output_type": "execute_result"
    }
   ],
   "source": [
    "# New ajust to columns names\n",
    "df_report1.columns = ['Status do Envio', 'Total Atraso', 'Total no Prazo']\n",
    "df_report1.head()"
   ]
  },
  {
   "cell_type": "code",
   "execution_count": 59,
   "id": "95c88fd2",
   "metadata": {},
   "outputs": [
    {
     "data": {
      "text/html": [
       "<div>\n",
       "<style scoped>\n",
       "    .dataframe tbody tr th:only-of-type {\n",
       "        vertical-align: middle;\n",
       "    }\n",
       "\n",
       "    .dataframe tbody tr th {\n",
       "        vertical-align: top;\n",
       "    }\n",
       "\n",
       "    .dataframe thead th {\n",
       "        text-align: right;\n",
       "    }\n",
       "</style>\n",
       "<table border=\"1\" class=\"dataframe\">\n",
       "  <thead>\n",
       "    <tr style=\"text-align: right;\">\n",
       "      <th></th>\n",
       "      <th>Status do Envio</th>\n",
       "      <th>Total Atraso</th>\n",
       "      <th>Total no Prazo</th>\n",
       "    </tr>\n",
       "  </thead>\n",
       "  <tbody>\n",
       "    <tr>\n",
       "      <th>0</th>\n",
       "      <td>Critical Delay</td>\n",
       "      <td>310.0</td>\n",
       "      <td>0.0</td>\n",
       "    </tr>\n",
       "    <tr>\n",
       "      <th>1</th>\n",
       "      <td>No Delay</td>\n",
       "      <td>0.0</td>\n",
       "      <td>6282.0</td>\n",
       "    </tr>\n",
       "    <tr>\n",
       "      <th>2</th>\n",
       "      <td>Problematic Delay</td>\n",
       "      <td>1917.0</td>\n",
       "      <td>0.0</td>\n",
       "    </tr>\n",
       "    <tr>\n",
       "      <th>3</th>\n",
       "      <td>Tolerable Delay</td>\n",
       "      <td>2134.0</td>\n",
       "      <td>0.0</td>\n",
       "    </tr>\n",
       "  </tbody>\n",
       "</table>\n",
       "</div>"
      ],
      "text/plain": [
       "     Status do Envio  Total Atraso  Total no Prazo\n",
       "0     Critical Delay         310.0             0.0\n",
       "1           No Delay           0.0          6282.0\n",
       "2  Problematic Delay        1917.0             0.0\n",
       "3    Tolerable Delay        2134.0             0.0"
      ]
     },
     "execution_count": 59,
     "metadata": {},
     "output_type": "execute_result"
    }
   ],
   "source": [
    "# Replace nan by 0\n",
    "df_report1['Total Atraso'] = df_report1['Total Atraso'].replace(np.nan, 0)\n",
    "df_report1['Total no Prazo'] = df_report1['Total no Prazo'].replace(np.nan, 0)\n",
    "df_report1.head()"
   ]
  },
  {
   "cell_type": "code",
   "execution_count": 60,
   "id": "b4a1049f",
   "metadata": {},
   "outputs": [
    {
     "data": {
      "text/html": [
       "<div>\n",
       "<style scoped>\n",
       "    .dataframe tbody tr th:only-of-type {\n",
       "        vertical-align: middle;\n",
       "    }\n",
       "\n",
       "    .dataframe tbody tr th {\n",
       "        vertical-align: top;\n",
       "    }\n",
       "\n",
       "    .dataframe thead th {\n",
       "        text-align: right;\n",
       "    }\n",
       "</style>\n",
       "<table border=\"1\" class=\"dataframe\">\n",
       "  <thead>\n",
       "    <tr style=\"text-align: right;\">\n",
       "      <th></th>\n",
       "      <th>Status do Envio</th>\n",
       "      <th>Total Atraso</th>\n",
       "      <th>Total no Prazo</th>\n",
       "      <th>Total</th>\n",
       "    </tr>\n",
       "  </thead>\n",
       "  <tbody>\n",
       "    <tr>\n",
       "      <th>0</th>\n",
       "      <td>Critical Delay</td>\n",
       "      <td>310.0</td>\n",
       "      <td>0.0</td>\n",
       "      <td>310.0</td>\n",
       "    </tr>\n",
       "    <tr>\n",
       "      <th>1</th>\n",
       "      <td>No Delay</td>\n",
       "      <td>0.0</td>\n",
       "      <td>6282.0</td>\n",
       "      <td>6282.0</td>\n",
       "    </tr>\n",
       "    <tr>\n",
       "      <th>2</th>\n",
       "      <td>Problematic Delay</td>\n",
       "      <td>1917.0</td>\n",
       "      <td>0.0</td>\n",
       "      <td>1917.0</td>\n",
       "    </tr>\n",
       "    <tr>\n",
       "      <th>3</th>\n",
       "      <td>Tolerable Delay</td>\n",
       "      <td>2134.0</td>\n",
       "      <td>0.0</td>\n",
       "      <td>2134.0</td>\n",
       "    </tr>\n",
       "  </tbody>\n",
       "</table>\n",
       "</div>"
      ],
      "text/plain": [
       "     Status do Envio  Total Atraso  Total no Prazo   Total\n",
       "0     Critical Delay         310.0             0.0   310.0\n",
       "1           No Delay           0.0          6282.0  6282.0\n",
       "2  Problematic Delay        1917.0             0.0  1917.0\n",
       "3    Tolerable Delay        2134.0             0.0  2134.0"
      ]
     },
     "execution_count": 60,
     "metadata": {},
     "output_type": "execute_result"
    }
   ],
   "source": [
    "# Concatenate columns by creating a third variable\n",
    "df_report1['Total'] = df_report1['Total Atraso'] + df_report1['Total no Prazo']\n",
    "df_report1.head()"
   ]
  },
  {
   "cell_type": "code",
   "execution_count": 61,
   "id": "e99ce216",
   "metadata": {},
   "outputs": [
    {
     "data": {
      "text/html": [
       "<div>\n",
       "<style scoped>\n",
       "    .dataframe tbody tr th:only-of-type {\n",
       "        vertical-align: middle;\n",
       "    }\n",
       "\n",
       "    .dataframe tbody tr th {\n",
       "        vertical-align: top;\n",
       "    }\n",
       "\n",
       "    .dataframe thead th {\n",
       "        text-align: right;\n",
       "    }\n",
       "</style>\n",
       "<table border=\"1\" class=\"dataframe\">\n",
       "  <thead>\n",
       "    <tr style=\"text-align: right;\">\n",
       "      <th></th>\n",
       "      <th>Status do Envio</th>\n",
       "      <th>Total</th>\n",
       "    </tr>\n",
       "  </thead>\n",
       "  <tbody>\n",
       "    <tr>\n",
       "      <th>0</th>\n",
       "      <td>Critical Delay</td>\n",
       "      <td>310.0</td>\n",
       "    </tr>\n",
       "    <tr>\n",
       "      <th>1</th>\n",
       "      <td>No Delay</td>\n",
       "      <td>6282.0</td>\n",
       "    </tr>\n",
       "    <tr>\n",
       "      <th>2</th>\n",
       "      <td>Problematic Delay</td>\n",
       "      <td>1917.0</td>\n",
       "    </tr>\n",
       "    <tr>\n",
       "      <th>3</th>\n",
       "      <td>Tolerable Delay</td>\n",
       "      <td>2134.0</td>\n",
       "    </tr>\n",
       "  </tbody>\n",
       "</table>\n",
       "</div>"
      ],
      "text/plain": [
       "     Status do Envio   Total\n",
       "0     Critical Delay   310.0\n",
       "1           No Delay  6282.0\n",
       "2  Problematic Delay  1917.0\n",
       "3    Tolerable Delay  2134.0"
      ]
     },
     "execution_count": 61,
     "metadata": {},
     "output_type": "execute_result"
    }
   ],
   "source": [
    "# Delete columns that we do not need anymore\n",
    "df_report1.drop(df_report1.columns[[1, 2]], axis = 1, inplace = True)\n",
    "df_report1.head()"
   ]
  },
  {
   "cell_type": "code",
   "execution_count": 62,
   "id": "c2f96305",
   "metadata": {},
   "outputs": [
    {
     "data": {
      "image/png": "[encoded data removed]",
      "text/plain": [
       "<Figure size 1200x800 with 1 Axes>"
      ]
     },
     "metadata": {},
     "output_type": "display_data"
    }
   ],
   "source": [
    "# Plot\n",
    "df_report1.set_index('Status do Envio').plot(kind = 'bar',\n",
    "                                            title = 'Total de Envios dos Produtos Por Status',\n",
    "                                            ylabel = 'Total',\n",
    "                                            xlabel = '\\nStatus do Envio',\n",
    "                                            colormap = 'jet',\n",
    "                                            figsize = (12, 8))\n",
    "plt.xticks(rotation = 0)\n",
    "plt.show()"
   ]
  },
  {
   "cell_type": "markdown",
   "id": "1987d1d9",
   "metadata": {},
   "source": [
    "## 2. Product Delivering Performance by Product Priority and Delivery Mode\n",
    "\n",
    "Does the delivery mode ('modo_envio') of the products, associated with the priority of the products' dispatch ('prioridade_produto'), have an impact on the products' delay ('entregue_no_prazo')?\n",
    "\n",
    "We will create a new variable that represents the performance of the product delivery based on the following business rule:\n",
    "- If the priority of the product was **high**, the delivery mode was **ship**, and there was a delay in delivery, the delay is critical by Ship.\n",
    "- If the priority of the product was **medium**, the delivery mode was **ship**, and there was a delay in delivery, the delay is problematic by ship.\n",
    "- If the priority of the product was **low**, the delivery mode was **ship**, and there was a delay in delivery, the delay is tolerable by ship.\n",
    "\n",
    "\n",
    "- If the priority of the product was **high**, the delivery mode was **plane**, and there was a delay in delivery, the delay is critical by plane.\n",
    "- If the priority of the product was **medium**, the delivery mode was **plane**, and there was a delay in delivery, the delay is problematic by plane.\n",
    "- If the priority of the product was **low**, the delivery mode was **plane**, and there was a delay in delivery, the delay is tolerable by plane.\n",
    "\n",
    "\n",
    "- If the priority of the product was **high**, the delivery mode was **truck**, and there was a delay in delivery, the delay is critical by truck.\n",
    "- If the priority of the product was **medium**, the delivery mode was **truck**, and there was a delay in delivery, the delay is problematic by truck.\n",
    "- If the priority of the product was **low**, the delivery mode was **truck**, and there was a delay in delivery, the delay is tolerable by truck.\n",
    "\n",
    "\n",
    "- Another option means that the delivery was made **on time** and has no problem."
   ]
  },
  {
   "cell_type": "code",
   "execution_count": 63,
   "id": "b46fd2b3",
   "metadata": {},
   "outputs": [
    {
     "data": {
      "text/plain": [
       "Index(['ID', 'corredor_armazem', 'modo_envio', 'numero_chamadas_cliente',\n",
       "       'avaliacao_cliente', 'custo_produto', 'compras_anteriores',\n",
       "       'prioridade_produto', 'genero', 'desconto', 'peso_gramas',\n",
       "       'entregue_no_prazo', 'performance_prioridade_envio'],\n",
       "      dtype='object')"
      ]
     },
     "execution_count": 63,
     "metadata": {},
     "output_type": "execute_result"
    }
   ],
   "source": [
    "df_eng.columns"
   ]
  },
  {
   "cell_type": "code",
   "execution_count": 64,
   "id": "182ea772",
   "metadata": {},
   "outputs": [
    {
     "data": {
      "text/plain": [
       "Navio       7212\n",
       "Aviao       1728\n",
       "Caminhao    1703\n",
       "Name: modo_envio, dtype: int64"
      ]
     },
     "execution_count": 64,
     "metadata": {},
     "output_type": "execute_result"
    }
   ],
   "source": [
    "df_eng.modo_envio.value_counts()"
   ]
  },
  {
   "cell_type": "code",
   "execution_count": 65,
   "id": "f776c6bc",
   "metadata": {},
   "outputs": [],
   "source": [
    "# Solution\n",
    "df_eng['performance_modo_envio'] = np.where(\n",
    "        (df_eng['prioridade_produto'] == 'alta') & (df_eng['modo_envio'] == 'Navio') & (df_eng['entregue_no_prazo'] == 0), 'Critical Delay in Delivery by Ship',\n",
    "    np.where(\n",
    "        (df_eng['prioridade_produto'] == 'media') & (df_eng['modo_envio'] == 'Navio') & (df_eng['entregue_no_prazo'] == 0), 'Problematic Delay in Delivery by Ship',\n",
    "    np.where(\n",
    "        (df_eng['prioridade_produto'] == 'baixa') & (df_eng['modo_envio'] == 'Navio') & (df_eng['entregue_no_prazo'] == 0), 'Tolerable Delivery Delay by Ship',\n",
    "    np.where(\n",
    "        (df_eng['prioridade_produto'] == 'alta') & (df_eng['modo_envio'] == 'Aviao') & (df_eng['entregue_no_prazo'] == 0), 'Critical Delivery Delay by Plane',\n",
    "    np.where(\n",
    "        (df_eng['prioridade_produto'] == 'media') & (df_eng['modo_envio'] == 'Aviao') & (df_eng['entregue_no_prazo'] == 0), 'Problematic Delivery Delay by Plane',\n",
    "    np.where(\n",
    "        (df_eng['prioridade_produto'] == 'baixa') & (df_eng['modo_envio'] == 'Aviao') & (df_eng['entregue_no_prazo'] == 0), 'Tolerable Delivery Delay by Plane',\n",
    "    np.where(\n",
    "        (df_eng['prioridade_produto'] == 'alta') & (df_eng['modo_envio'] == 'Caminhao') & (df_eng['entregue_no_prazo'] == 0), 'Critical Delivery Truck Delay',\n",
    "    np.where(\n",
    "        (df_eng['prioridade_produto'] == 'media') & (df_eng['modo_envio'] == 'Caminhao') & (df_eng['entregue_no_prazo'] == 0), 'Problematic Delay in Delivery by Truck',\n",
    "    np.where(\n",
    "        (df_eng['prioridade_produto'] == 'baixa') & (df_eng['modo_envio'] == 'Caminhao') & (df_eng['entregue_no_prazo'] == 0), 'Tolerable Delivery Delay by Truck',\n",
    "    'No Delay')))))))))"
   ]
  },
  {
   "cell_type": "code",
   "execution_count": 66,
   "id": "13e707e6",
   "metadata": {},
   "outputs": [
    {
     "data": {
      "text/html": [
       "<div>\n",
       "<style scoped>\n",
       "    .dataframe tbody tr th:only-of-type {\n",
       "        vertical-align: middle;\n",
       "    }\n",
       "\n",
       "    .dataframe tbody tr th {\n",
       "        vertical-align: top;\n",
       "    }\n",
       "\n",
       "    .dataframe thead th {\n",
       "        text-align: right;\n",
       "    }\n",
       "</style>\n",
       "<table border=\"1\" class=\"dataframe\">\n",
       "  <thead>\n",
       "    <tr style=\"text-align: right;\">\n",
       "      <th></th>\n",
       "      <th>ID</th>\n",
       "      <th>corredor_armazem</th>\n",
       "      <th>modo_envio</th>\n",
       "      <th>numero_chamadas_cliente</th>\n",
       "      <th>avaliacao_cliente</th>\n",
       "      <th>custo_produto</th>\n",
       "      <th>compras_anteriores</th>\n",
       "      <th>prioridade_produto</th>\n",
       "      <th>genero</th>\n",
       "      <th>desconto</th>\n",
       "      <th>peso_gramas</th>\n",
       "      <th>entregue_no_prazo</th>\n",
       "      <th>performance_prioridade_envio</th>\n",
       "      <th>performance_modo_envio</th>\n",
       "    </tr>\n",
       "  </thead>\n",
       "  <tbody>\n",
       "    <tr>\n",
       "      <th>8124</th>\n",
       "      <td>8125</td>\n",
       "      <td>D</td>\n",
       "      <td>Navio</td>\n",
       "      <td>4</td>\n",
       "      <td>5</td>\n",
       "      <td>275</td>\n",
       "      <td>6</td>\n",
       "      <td>baixa</td>\n",
       "      <td>M</td>\n",
       "      <td>3</td>\n",
       "      <td>5008</td>\n",
       "      <td>0</td>\n",
       "      <td>Tolerable Delay</td>\n",
       "      <td>Tolerable Delivery Delay by Ship</td>\n",
       "    </tr>\n",
       "    <tr>\n",
       "      <th>5583</th>\n",
       "      <td>5584</td>\n",
       "      <td>B</td>\n",
       "      <td>Navio</td>\n",
       "      <td>4</td>\n",
       "      <td>4</td>\n",
       "      <td>134</td>\n",
       "      <td>2</td>\n",
       "      <td>baixa</td>\n",
       "      <td>M</td>\n",
       "      <td>1</td>\n",
       "      <td>5209</td>\n",
       "      <td>1</td>\n",
       "      <td>No Delay</td>\n",
       "      <td>No Delay</td>\n",
       "    </tr>\n",
       "    <tr>\n",
       "      <th>2289</th>\n",
       "      <td>2290</td>\n",
       "      <td>B</td>\n",
       "      <td>Navio</td>\n",
       "      <td>3</td>\n",
       "      <td>1</td>\n",
       "      <td>238</td>\n",
       "      <td>2</td>\n",
       "      <td>media</td>\n",
       "      <td>F</td>\n",
       "      <td>50</td>\n",
       "      <td>3438</td>\n",
       "      <td>1</td>\n",
       "      <td>No Delay</td>\n",
       "      <td>No Delay</td>\n",
       "    </tr>\n",
       "    <tr>\n",
       "      <th>4932</th>\n",
       "      <td>4933</td>\n",
       "      <td>D</td>\n",
       "      <td>Aviao</td>\n",
       "      <td>5</td>\n",
       "      <td>1</td>\n",
       "      <td>266</td>\n",
       "      <td>3</td>\n",
       "      <td>baixa</td>\n",
       "      <td>M</td>\n",
       "      <td>10</td>\n",
       "      <td>5858</td>\n",
       "      <td>0</td>\n",
       "      <td>Tolerable Delay</td>\n",
       "      <td>Tolerable Delivery Delay by Plane</td>\n",
       "    </tr>\n",
       "    <tr>\n",
       "      <th>3455</th>\n",
       "      <td>3456</td>\n",
       "      <td>F</td>\n",
       "      <td>Navio</td>\n",
       "      <td>5</td>\n",
       "      <td>3</td>\n",
       "      <td>206</td>\n",
       "      <td>4</td>\n",
       "      <td>alta</td>\n",
       "      <td>F</td>\n",
       "      <td>1</td>\n",
       "      <td>4583</td>\n",
       "      <td>0</td>\n",
       "      <td>Critical Delay</td>\n",
       "      <td>Critical Delay in Delivery by Ship</td>\n",
       "    </tr>\n",
       "  </tbody>\n",
       "</table>\n",
       "</div>"
      ],
      "text/plain": [
       "        ID corredor_armazem modo_envio  numero_chamadas_cliente  \\\n",
       "8124  8125                D      Navio                        4   \n",
       "5583  5584                B      Navio                        4   \n",
       "2289  2290                B      Navio                        3   \n",
       "4932  4933                D      Aviao                        5   \n",
       "3455  3456                F      Navio                        5   \n",
       "\n",
       "      avaliacao_cliente  custo_produto  compras_anteriores prioridade_produto  \\\n",
       "8124                  5            275                   6              baixa   \n",
       "5583                  4            134                   2              baixa   \n",
       "2289                  1            238                   2              media   \n",
       "4932                  1            266                   3              baixa   \n",
       "3455                  3            206                   4               alta   \n",
       "\n",
       "     genero  desconto  peso_gramas  entregue_no_prazo  \\\n",
       "8124      M         3         5008                  0   \n",
       "5583      M         1         5209                  1   \n",
       "2289      F        50         3438                  1   \n",
       "4932      M        10         5858                  0   \n",
       "3455      F         1         4583                  0   \n",
       "\n",
       "     performance_prioridade_envio              performance_modo_envio  \n",
       "8124              Tolerable Delay    Tolerable Delivery Delay by Ship  \n",
       "5583                     No Delay                            No Delay  \n",
       "2289                     No Delay                            No Delay  \n",
       "4932              Tolerable Delay   Tolerable Delivery Delay by Plane  \n",
       "3455               Critical Delay  Critical Delay in Delivery by Ship  "
      ]
     },
     "execution_count": 66,
     "metadata": {},
     "output_type": "execute_result"
    }
   ],
   "source": [
    "df_eng.sample(5)"
   ]
  },
  {
   "cell_type": "code",
   "execution_count": 67,
   "id": "7a9a55df",
   "metadata": {},
   "outputs": [
    {
     "data": {
      "text/plain": [
       "No Delay                                  6282\n",
       "Tolerable Delivery Delay by Ship          1453\n",
       "Problematic Delay in Delivery by Ship     1307\n",
       "Tolerable Delivery Delay by Truck          350\n",
       "Tolerable Delivery Delay by Plane          331\n",
       "Problematic Delay in Delivery by Truck     310\n",
       "Problematic Delivery Delay by Plane        300\n",
       "Critical Delay in Delivery by Ship         194\n",
       "Critical Delivery Delay by Plane            65\n",
       "Critical Delivery Truck Delay               51\n",
       "Name: performance_modo_envio, dtype: int64"
      ]
     },
     "execution_count": 67,
     "metadata": {},
     "output_type": "execute_result"
    }
   ],
   "source": [
    "df_eng.performance_modo_envio.value_counts()"
   ]
  },
  {
   "cell_type": "code",
   "execution_count": 68,
   "id": "8c5768d8",
   "metadata": {},
   "outputs": [
    {
     "data": {
      "text/html": [
       "<div>\n",
       "<style scoped>\n",
       "    .dataframe tbody tr th:only-of-type {\n",
       "        vertical-align: middle;\n",
       "    }\n",
       "\n",
       "    .dataframe tbody tr th {\n",
       "        vertical-align: top;\n",
       "    }\n",
       "\n",
       "    .dataframe thead tr th {\n",
       "        text-align: left;\n",
       "    }\n",
       "</style>\n",
       "<table border=\"1\" class=\"dataframe\">\n",
       "  <thead>\n",
       "    <tr>\n",
       "      <th></th>\n",
       "      <th>performance_modo_envio</th>\n",
       "      <th>entregue_no_prazo</th>\n",
       "      <th>prioridade_produto</th>\n",
       "    </tr>\n",
       "    <tr>\n",
       "      <th></th>\n",
       "      <th></th>\n",
       "      <th></th>\n",
       "      <th>count</th>\n",
       "    </tr>\n",
       "  </thead>\n",
       "  <tbody>\n",
       "    <tr>\n",
       "      <th>0</th>\n",
       "      <td>Critical Delay in Delivery by Ship</td>\n",
       "      <td>0</td>\n",
       "      <td>194</td>\n",
       "    </tr>\n",
       "    <tr>\n",
       "      <th>1</th>\n",
       "      <td>Critical Delivery Delay by Plane</td>\n",
       "      <td>0</td>\n",
       "      <td>65</td>\n",
       "    </tr>\n",
       "    <tr>\n",
       "      <th>2</th>\n",
       "      <td>Critical Delivery Truck Delay</td>\n",
       "      <td>0</td>\n",
       "      <td>51</td>\n",
       "    </tr>\n",
       "    <tr>\n",
       "      <th>3</th>\n",
       "      <td>No Delay</td>\n",
       "      <td>1</td>\n",
       "      <td>6282</td>\n",
       "    </tr>\n",
       "    <tr>\n",
       "      <th>4</th>\n",
       "      <td>Problematic Delay in Delivery by Ship</td>\n",
       "      <td>0</td>\n",
       "      <td>1307</td>\n",
       "    </tr>\n",
       "    <tr>\n",
       "      <th>5</th>\n",
       "      <td>Problematic Delay in Delivery by Truck</td>\n",
       "      <td>0</td>\n",
       "      <td>310</td>\n",
       "    </tr>\n",
       "    <tr>\n",
       "      <th>6</th>\n",
       "      <td>Problematic Delivery Delay by Plane</td>\n",
       "      <td>0</td>\n",
       "      <td>300</td>\n",
       "    </tr>\n",
       "    <tr>\n",
       "      <th>7</th>\n",
       "      <td>Tolerable Delivery Delay by Plane</td>\n",
       "      <td>0</td>\n",
       "      <td>331</td>\n",
       "    </tr>\n",
       "    <tr>\n",
       "      <th>8</th>\n",
       "      <td>Tolerable Delivery Delay by Ship</td>\n",
       "      <td>0</td>\n",
       "      <td>1453</td>\n",
       "    </tr>\n",
       "    <tr>\n",
       "      <th>9</th>\n",
       "      <td>Tolerable Delivery Delay by Truck</td>\n",
       "      <td>0</td>\n",
       "      <td>350</td>\n",
       "    </tr>\n",
       "  </tbody>\n",
       "</table>\n",
       "</div>"
      ],
      "text/plain": [
       "                   performance_modo_envio entregue_no_prazo prioridade_produto\n",
       "                                                                         count\n",
       "0      Critical Delay in Delivery by Ship                 0                194\n",
       "1        Critical Delivery Delay by Plane                 0                 65\n",
       "2           Critical Delivery Truck Delay                 0                 51\n",
       "3                                No Delay                 1               6282\n",
       "4   Problematic Delay in Delivery by Ship                 0               1307\n",
       "5  Problematic Delay in Delivery by Truck                 0                310\n",
       "6     Problematic Delivery Delay by Plane                 0                300\n",
       "7       Tolerable Delivery Delay by Plane                 0                331\n",
       "8        Tolerable Delivery Delay by Ship                 0               1453\n",
       "9       Tolerable Delivery Delay by Truck                 0                350"
      ]
     },
     "execution_count": 68,
     "metadata": {},
     "output_type": "execute_result"
    }
   ],
   "source": [
    "df_report2 = df_eng.groupby(['performance_modo_envio',\n",
    "                            'entregue_no_prazo']).agg({'prioridade_produto': ['count']}).reset_index()\n",
    "df_report2.head(10)"
   ]
  },
  {
   "cell_type": "code",
   "execution_count": 69,
   "id": "63287fb0",
   "metadata": {},
   "outputs": [
    {
     "data": {
      "text/html": [
       "<div>\n",
       "<style scoped>\n",
       "    .dataframe tbody tr th:only-of-type {\n",
       "        vertical-align: middle;\n",
       "    }\n",
       "\n",
       "    .dataframe tbody tr th {\n",
       "        vertical-align: top;\n",
       "    }\n",
       "\n",
       "    .dataframe thead tr th {\n",
       "        text-align: left;\n",
       "    }\n",
       "</style>\n",
       "<table border=\"1\" class=\"dataframe\">\n",
       "  <thead>\n",
       "    <tr>\n",
       "      <th></th>\n",
       "      <th>performance_modo_envio</th>\n",
       "      <th>prioridade_produto</th>\n",
       "    </tr>\n",
       "    <tr>\n",
       "      <th></th>\n",
       "      <th></th>\n",
       "      <th>count</th>\n",
       "    </tr>\n",
       "  </thead>\n",
       "  <tbody>\n",
       "    <tr>\n",
       "      <th>0</th>\n",
       "      <td>Critical Delay in Delivery by Ship</td>\n",
       "      <td>194</td>\n",
       "    </tr>\n",
       "    <tr>\n",
       "      <th>1</th>\n",
       "      <td>Critical Delivery Delay by Plane</td>\n",
       "      <td>65</td>\n",
       "    </tr>\n",
       "    <tr>\n",
       "      <th>2</th>\n",
       "      <td>Critical Delivery Truck Delay</td>\n",
       "      <td>51</td>\n",
       "    </tr>\n",
       "    <tr>\n",
       "      <th>3</th>\n",
       "      <td>No Delay</td>\n",
       "      <td>6282</td>\n",
       "    </tr>\n",
       "    <tr>\n",
       "      <th>4</th>\n",
       "      <td>Problematic Delay in Delivery by Ship</td>\n",
       "      <td>1307</td>\n",
       "    </tr>\n",
       "  </tbody>\n",
       "</table>\n",
       "</div>"
      ],
      "text/plain": [
       "                  performance_modo_envio prioridade_produto\n",
       "                                                      count\n",
       "0     Critical Delay in Delivery by Ship                194\n",
       "1       Critical Delivery Delay by Plane                 65\n",
       "2          Critical Delivery Truck Delay                 51\n",
       "3                               No Delay               6282\n",
       "4  Problematic Delay in Delivery by Ship               1307"
      ]
     },
     "execution_count": 69,
     "metadata": {},
     "output_type": "execute_result"
    }
   ],
   "source": [
    "df_report2.drop(df_report2.columns[1], axis = 1, inplace = True)\n",
    "df_report2.head()"
   ]
  },
  {
   "cell_type": "code",
   "execution_count": 70,
   "id": "cfba3704",
   "metadata": {},
   "outputs": [
    {
     "data": {
      "text/html": [
       "<div>\n",
       "<style scoped>\n",
       "    .dataframe tbody tr th:only-of-type {\n",
       "        vertical-align: middle;\n",
       "    }\n",
       "\n",
       "    .dataframe tbody tr th {\n",
       "        vertical-align: top;\n",
       "    }\n",
       "\n",
       "    .dataframe thead th {\n",
       "        text-align: right;\n",
       "    }\n",
       "</style>\n",
       "<table border=\"1\" class=\"dataframe\">\n",
       "  <thead>\n",
       "    <tr style=\"text-align: right;\">\n",
       "      <th></th>\n",
       "      <th>Status do Envio</th>\n",
       "      <th>Total</th>\n",
       "    </tr>\n",
       "  </thead>\n",
       "  <tbody>\n",
       "    <tr>\n",
       "      <th>0</th>\n",
       "      <td>Critical Delay in Delivery by Ship</td>\n",
       "      <td>194</td>\n",
       "    </tr>\n",
       "    <tr>\n",
       "      <th>1</th>\n",
       "      <td>Critical Delivery Delay by Plane</td>\n",
       "      <td>65</td>\n",
       "    </tr>\n",
       "    <tr>\n",
       "      <th>2</th>\n",
       "      <td>Critical Delivery Truck Delay</td>\n",
       "      <td>51</td>\n",
       "    </tr>\n",
       "    <tr>\n",
       "      <th>3</th>\n",
       "      <td>No Delay</td>\n",
       "      <td>6282</td>\n",
       "    </tr>\n",
       "    <tr>\n",
       "      <th>4</th>\n",
       "      <td>Problematic Delay in Delivery by Ship</td>\n",
       "      <td>1307</td>\n",
       "    </tr>\n",
       "    <tr>\n",
       "      <th>5</th>\n",
       "      <td>Problematic Delay in Delivery by Truck</td>\n",
       "      <td>310</td>\n",
       "    </tr>\n",
       "    <tr>\n",
       "      <th>6</th>\n",
       "      <td>Problematic Delivery Delay by Plane</td>\n",
       "      <td>300</td>\n",
       "    </tr>\n",
       "    <tr>\n",
       "      <th>7</th>\n",
       "      <td>Tolerable Delivery Delay by Plane</td>\n",
       "      <td>331</td>\n",
       "    </tr>\n",
       "    <tr>\n",
       "      <th>8</th>\n",
       "      <td>Tolerable Delivery Delay by Ship</td>\n",
       "      <td>1453</td>\n",
       "    </tr>\n",
       "    <tr>\n",
       "      <th>9</th>\n",
       "      <td>Tolerable Delivery Delay by Truck</td>\n",
       "      <td>350</td>\n",
       "    </tr>\n",
       "  </tbody>\n",
       "</table>\n",
       "</div>"
      ],
      "text/plain": [
       "                          Status do Envio  Total\n",
       "0      Critical Delay in Delivery by Ship    194\n",
       "1        Critical Delivery Delay by Plane     65\n",
       "2           Critical Delivery Truck Delay     51\n",
       "3                                No Delay   6282\n",
       "4   Problematic Delay in Delivery by Ship   1307\n",
       "5  Problematic Delay in Delivery by Truck    310\n",
       "6     Problematic Delivery Delay by Plane    300\n",
       "7       Tolerable Delivery Delay by Plane    331\n",
       "8        Tolerable Delivery Delay by Ship   1453\n",
       "9       Tolerable Delivery Delay by Truck    350"
      ]
     },
     "execution_count": 70,
     "metadata": {},
     "output_type": "execute_result"
    }
   ],
   "source": [
    "df_report2.columns = ['Status do Envio', 'Total']\n",
    "df_report2.head(10)"
   ]
  },
  {
   "cell_type": "code",
   "execution_count": 71,
   "id": "6a72c839",
   "metadata": {},
   "outputs": [
    {
     "data": {
      "image/png": "[encoded data removed]",
      "text/plain": [
       "<Figure size 2000x800 with 1 Axes>"
      ]
     },
     "metadata": {},
     "output_type": "display_data"
    }
   ],
   "source": [
    "# Plot\n",
    "df_report2.set_index('Status do Envio').plot(kind = 'bar',\n",
    "                                            title = 'Total de Envios dos Produtos por Status',\n",
    "                                            ylabel = 'Total',\n",
    "                                            xlabel = '\\nStatus do Envio',\n",
    "                                            colormap = 'viridis',\n",
    "                                            figsize = (20, 8))\n",
    "plt.xticks(rotation = 80)\n",
    "plt.show()"
   ]
  },
  {
   "cell_type": "markdown",
   "id": "c48037d0",
   "metadata": {},
   "source": [
    "## 3. Delivery Performance Considering Discounts\n",
    "Is there a difference in the shipping performance of the products when the product receives some kind of discount?\n",
    "\n",
    "We will create two new variables based on the following business rule:\n",
    "#### Variable 1 - faixa_desconto\n",
    "- Discount above or equal to the average\n",
    "- Below average discount\n",
    "\n",
    "#### Variable 2 - performance_faixa_desconto\n",
    "- If the discount range was above or equal to the average and there was a delay in delivery = `Late Delivery at Above Average Discount`\n",
    "- If the discount range was above or equal to the average and there was no delay in delivery = `On Time Delivery at Above Average Discount`\n",
    "- If the discount range was below average and there was a delay in delivery = `Late Delivery with a Below Average discount`\n",
    "- If the discount range was below average and there was no delay in delivery = `On Time Delivery at Below Average Discount`"
   ]
  },
  {
   "cell_type": "code",
   "execution_count": 72,
   "id": "6f878481",
   "metadata": {},
   "outputs": [
    {
     "data": {
      "text/html": [
       "<div>\n",
       "<style scoped>\n",
       "    .dataframe tbody tr th:only-of-type {\n",
       "        vertical-align: middle;\n",
       "    }\n",
       "\n",
       "    .dataframe tbody tr th {\n",
       "        vertical-align: top;\n",
       "    }\n",
       "\n",
       "    .dataframe thead th {\n",
       "        text-align: right;\n",
       "    }\n",
       "</style>\n",
       "<table border=\"1\" class=\"dataframe\">\n",
       "  <thead>\n",
       "    <tr style=\"text-align: right;\">\n",
       "      <th></th>\n",
       "      <th>ID</th>\n",
       "      <th>corredor_armazem</th>\n",
       "      <th>modo_envio</th>\n",
       "      <th>numero_chamadas_cliente</th>\n",
       "      <th>avaliacao_cliente</th>\n",
       "      <th>custo_produto</th>\n",
       "      <th>compras_anteriores</th>\n",
       "      <th>prioridade_produto</th>\n",
       "      <th>genero</th>\n",
       "      <th>desconto</th>\n",
       "      <th>peso_gramas</th>\n",
       "      <th>entregue_no_prazo</th>\n",
       "      <th>performance_prioridade_envio</th>\n",
       "      <th>performance_modo_envio</th>\n",
       "    </tr>\n",
       "  </thead>\n",
       "  <tbody>\n",
       "    <tr>\n",
       "      <th>8754</th>\n",
       "      <td>8755</td>\n",
       "      <td>D</td>\n",
       "      <td>Caminhao</td>\n",
       "      <td>6</td>\n",
       "      <td>4</td>\n",
       "      <td>220</td>\n",
       "      <td>4</td>\n",
       "      <td>baixa</td>\n",
       "      <td>M</td>\n",
       "      <td>5</td>\n",
       "      <td>5465</td>\n",
       "      <td>1</td>\n",
       "      <td>No Delay</td>\n",
       "      <td>No Delay</td>\n",
       "    </tr>\n",
       "    <tr>\n",
       "      <th>6658</th>\n",
       "      <td>6659</td>\n",
       "      <td>C</td>\n",
       "      <td>Navio</td>\n",
       "      <td>3</td>\n",
       "      <td>2</td>\n",
       "      <td>250</td>\n",
       "      <td>4</td>\n",
       "      <td>baixa</td>\n",
       "      <td>F</td>\n",
       "      <td>3</td>\n",
       "      <td>5449</td>\n",
       "      <td>1</td>\n",
       "      <td>No Delay</td>\n",
       "      <td>No Delay</td>\n",
       "    </tr>\n",
       "    <tr>\n",
       "      <th>4898</th>\n",
       "      <td>4899</td>\n",
       "      <td>A</td>\n",
       "      <td>Navio</td>\n",
       "      <td>4</td>\n",
       "      <td>5</td>\n",
       "      <td>159</td>\n",
       "      <td>5</td>\n",
       "      <td>baixa</td>\n",
       "      <td>F</td>\n",
       "      <td>7</td>\n",
       "      <td>4063</td>\n",
       "      <td>0</td>\n",
       "      <td>Tolerable Delay</td>\n",
       "      <td>Tolerable Delivery Delay by Ship</td>\n",
       "    </tr>\n",
       "    <tr>\n",
       "      <th>5956</th>\n",
       "      <td>5957</td>\n",
       "      <td>C</td>\n",
       "      <td>Navio</td>\n",
       "      <td>2</td>\n",
       "      <td>5</td>\n",
       "      <td>241</td>\n",
       "      <td>3</td>\n",
       "      <td>media</td>\n",
       "      <td>F</td>\n",
       "      <td>3</td>\n",
       "      <td>4253</td>\n",
       "      <td>1</td>\n",
       "      <td>No Delay</td>\n",
       "      <td>No Delay</td>\n",
       "    </tr>\n",
       "    <tr>\n",
       "      <th>8862</th>\n",
       "      <td>8863</td>\n",
       "      <td>D</td>\n",
       "      <td>Navio</td>\n",
       "      <td>4</td>\n",
       "      <td>5</td>\n",
       "      <td>239</td>\n",
       "      <td>5</td>\n",
       "      <td>baixa</td>\n",
       "      <td>M</td>\n",
       "      <td>6</td>\n",
       "      <td>1336</td>\n",
       "      <td>0</td>\n",
       "      <td>Tolerable Delay</td>\n",
       "      <td>Tolerable Delivery Delay by Ship</td>\n",
       "    </tr>\n",
       "  </tbody>\n",
       "</table>\n",
       "</div>"
      ],
      "text/plain": [
       "        ID corredor_armazem modo_envio  numero_chamadas_cliente  \\\n",
       "8754  8755                D   Caminhao                        6   \n",
       "6658  6659                C      Navio                        3   \n",
       "4898  4899                A      Navio                        4   \n",
       "5956  5957                C      Navio                        2   \n",
       "8862  8863                D      Navio                        4   \n",
       "\n",
       "      avaliacao_cliente  custo_produto  compras_anteriores prioridade_produto  \\\n",
       "8754                  4            220                   4              baixa   \n",
       "6658                  2            250                   4              baixa   \n",
       "4898                  5            159                   5              baixa   \n",
       "5956                  5            241                   3              media   \n",
       "8862                  5            239                   5              baixa   \n",
       "\n",
       "     genero  desconto  peso_gramas  entregue_no_prazo  \\\n",
       "8754      M         5         5465                  1   \n",
       "6658      F         3         5449                  1   \n",
       "4898      F         7         4063                  0   \n",
       "5956      F         3         4253                  1   \n",
       "8862      M         6         1336                  0   \n",
       "\n",
       "     performance_prioridade_envio            performance_modo_envio  \n",
       "8754                     No Delay                          No Delay  \n",
       "6658                     No Delay                          No Delay  \n",
       "4898              Tolerable Delay  Tolerable Delivery Delay by Ship  \n",
       "5956                     No Delay                          No Delay  \n",
       "8862              Tolerable Delay  Tolerable Delivery Delay by Ship  "
      ]
     },
     "execution_count": 72,
     "metadata": {},
     "output_type": "execute_result"
    }
   ],
   "source": [
    "df_eng.sample(5)"
   ]
  },
  {
   "cell_type": "code",
   "execution_count": 73,
   "id": "449035ae",
   "metadata": {},
   "outputs": [
    {
     "data": {
      "text/plain": [
       "Index(['ID', 'corredor_armazem', 'modo_envio', 'numero_chamadas_cliente',\n",
       "       'avaliacao_cliente', 'custo_produto', 'compras_anteriores',\n",
       "       'prioridade_produto', 'genero', 'desconto', 'peso_gramas',\n",
       "       'entregue_no_prazo', 'performance_prioridade_envio',\n",
       "       'performance_modo_envio'],\n",
       "      dtype='object')"
      ]
     },
     "execution_count": 73,
     "metadata": {},
     "output_type": "execute_result"
    }
   ],
   "source": [
    "df_eng.columns"
   ]
  },
  {
   "cell_type": "code",
   "execution_count": 74,
   "id": "951dec25",
   "metadata": {},
   "outputs": [
    {
     "data": {
      "text/plain": [
       "count    10643.000000\n",
       "mean        12.528047\n",
       "std         14.991968\n",
       "min          1.000000\n",
       "25%          4.000000\n",
       "50%          7.000000\n",
       "75%         10.000000\n",
       "max         61.000000\n",
       "Name: desconto, dtype: float64"
      ]
     },
     "execution_count": 74,
     "metadata": {},
     "output_type": "execute_result"
    }
   ],
   "source": [
    "df_eng.desconto.describe()"
   ]
  },
  {
   "cell_type": "code",
   "execution_count": 75,
   "id": "b58f05a5",
   "metadata": {},
   "outputs": [],
   "source": [
    "# Variable 1\n",
    "df_eng['discount_range'] = np.where(df_eng.desconto >= 12, 'Above Average Discount', 'Below Average Discount')"
   ]
  },
  {
   "cell_type": "code",
   "execution_count": 76,
   "id": "2d7d946e",
   "metadata": {},
   "outputs": [
    {
     "data": {
      "text/plain": [
       "Below Average Discount    8269\n",
       "Above Average Discount    2374\n",
       "Name: discount_range, dtype: int64"
      ]
     },
     "execution_count": 76,
     "metadata": {},
     "output_type": "execute_result"
    }
   ],
   "source": [
    "df_eng['discount_range'].value_counts()"
   ]
  },
  {
   "cell_type": "code",
   "execution_count": 77,
   "id": "2987bc9a",
   "metadata": {},
   "outputs": [
    {
     "data": {
      "text/html": [
       "<div>\n",
       "<style scoped>\n",
       "    .dataframe tbody tr th:only-of-type {\n",
       "        vertical-align: middle;\n",
       "    }\n",
       "\n",
       "    .dataframe tbody tr th {\n",
       "        vertical-align: top;\n",
       "    }\n",
       "\n",
       "    .dataframe thead th {\n",
       "        text-align: right;\n",
       "    }\n",
       "</style>\n",
       "<table border=\"1\" class=\"dataframe\">\n",
       "  <thead>\n",
       "    <tr style=\"text-align: right;\">\n",
       "      <th></th>\n",
       "      <th>ID</th>\n",
       "      <th>corredor_armazem</th>\n",
       "      <th>modo_envio</th>\n",
       "      <th>numero_chamadas_cliente</th>\n",
       "      <th>avaliacao_cliente</th>\n",
       "      <th>custo_produto</th>\n",
       "      <th>compras_anteriores</th>\n",
       "      <th>prioridade_produto</th>\n",
       "      <th>genero</th>\n",
       "      <th>desconto</th>\n",
       "      <th>peso_gramas</th>\n",
       "      <th>entregue_no_prazo</th>\n",
       "      <th>performance_prioridade_envio</th>\n",
       "      <th>performance_modo_envio</th>\n",
       "      <th>discount_range</th>\n",
       "    </tr>\n",
       "  </thead>\n",
       "  <tbody>\n",
       "    <tr>\n",
       "      <th>3254</th>\n",
       "      <td>3255</td>\n",
       "      <td>A</td>\n",
       "      <td>Navio</td>\n",
       "      <td>3</td>\n",
       "      <td>4</td>\n",
       "      <td>100</td>\n",
       "      <td>3</td>\n",
       "      <td>media</td>\n",
       "      <td>M</td>\n",
       "      <td>4</td>\n",
       "      <td>4191</td>\n",
       "      <td>0</td>\n",
       "      <td>Problematic Delay</td>\n",
       "      <td>Problematic Delay in Delivery by Ship</td>\n",
       "      <td>Below Average Discount</td>\n",
       "    </tr>\n",
       "    <tr>\n",
       "      <th>4277</th>\n",
       "      <td>4278</td>\n",
       "      <td>F</td>\n",
       "      <td>Navio</td>\n",
       "      <td>4</td>\n",
       "      <td>1</td>\n",
       "      <td>163</td>\n",
       "      <td>2</td>\n",
       "      <td>baixa</td>\n",
       "      <td>F</td>\n",
       "      <td>3</td>\n",
       "      <td>4099</td>\n",
       "      <td>1</td>\n",
       "      <td>No Delay</td>\n",
       "      <td>No Delay</td>\n",
       "      <td>Below Average Discount</td>\n",
       "    </tr>\n",
       "    <tr>\n",
       "      <th>7531</th>\n",
       "      <td>7532</td>\n",
       "      <td>F</td>\n",
       "      <td>Aviao</td>\n",
       "      <td>4</td>\n",
       "      <td>4</td>\n",
       "      <td>148</td>\n",
       "      <td>2</td>\n",
       "      <td>baixa</td>\n",
       "      <td>M</td>\n",
       "      <td>4</td>\n",
       "      <td>5437</td>\n",
       "      <td>0</td>\n",
       "      <td>Tolerable Delay</td>\n",
       "      <td>Tolerable Delivery Delay by Plane</td>\n",
       "      <td>Below Average Discount</td>\n",
       "    </tr>\n",
       "    <tr>\n",
       "      <th>8114</th>\n",
       "      <td>8115</td>\n",
       "      <td>A</td>\n",
       "      <td>Navio</td>\n",
       "      <td>4</td>\n",
       "      <td>2</td>\n",
       "      <td>249</td>\n",
       "      <td>3</td>\n",
       "      <td>baixa</td>\n",
       "      <td>F</td>\n",
       "      <td>9</td>\n",
       "      <td>5459</td>\n",
       "      <td>1</td>\n",
       "      <td>No Delay</td>\n",
       "      <td>No Delay</td>\n",
       "      <td>Below Average Discount</td>\n",
       "    </tr>\n",
       "    <tr>\n",
       "      <th>5488</th>\n",
       "      <td>5489</td>\n",
       "      <td>C</td>\n",
       "      <td>Aviao</td>\n",
       "      <td>5</td>\n",
       "      <td>5</td>\n",
       "      <td>268</td>\n",
       "      <td>3</td>\n",
       "      <td>media</td>\n",
       "      <td>M</td>\n",
       "      <td>2</td>\n",
       "      <td>4459</td>\n",
       "      <td>1</td>\n",
       "      <td>No Delay</td>\n",
       "      <td>No Delay</td>\n",
       "      <td>Below Average Discount</td>\n",
       "    </tr>\n",
       "  </tbody>\n",
       "</table>\n",
       "</div>"
      ],
      "text/plain": [
       "        ID corredor_armazem modo_envio  numero_chamadas_cliente  \\\n",
       "3254  3255                A      Navio                        3   \n",
       "4277  4278                F      Navio                        4   \n",
       "7531  7532                F      Aviao                        4   \n",
       "8114  8115                A      Navio                        4   \n",
       "5488  5489                C      Aviao                        5   \n",
       "\n",
       "      avaliacao_cliente  custo_produto  compras_anteriores prioridade_produto  \\\n",
       "3254                  4            100                   3              media   \n",
       "4277                  1            163                   2              baixa   \n",
       "7531                  4            148                   2              baixa   \n",
       "8114                  2            249                   3              baixa   \n",
       "5488                  5            268                   3              media   \n",
       "\n",
       "     genero  desconto  peso_gramas  entregue_no_prazo  \\\n",
       "3254      M         4         4191                  0   \n",
       "4277      F         3         4099                  1   \n",
       "7531      M         4         5437                  0   \n",
       "8114      F         9         5459                  1   \n",
       "5488      M         2         4459                  1   \n",
       "\n",
       "     performance_prioridade_envio                 performance_modo_envio  \\\n",
       "3254            Problematic Delay  Problematic Delay in Delivery by Ship   \n",
       "4277                     No Delay                               No Delay   \n",
       "7531              Tolerable Delay      Tolerable Delivery Delay by Plane   \n",
       "8114                     No Delay                               No Delay   \n",
       "5488                     No Delay                               No Delay   \n",
       "\n",
       "              discount_range  \n",
       "3254  Below Average Discount  \n",
       "4277  Below Average Discount  \n",
       "7531  Below Average Discount  \n",
       "8114  Below Average Discount  \n",
       "5488  Below Average Discount  "
      ]
     },
     "execution_count": 77,
     "metadata": {},
     "output_type": "execute_result"
    }
   ],
   "source": [
    "df_eng.sample(5)"
   ]
  },
  {
   "cell_type": "code",
   "execution_count": 78,
   "id": "2efca1a1",
   "metadata": {},
   "outputs": [],
   "source": [
    "# Variable 2\n",
    "df_eng['discount_performance_range'] = np.where(\n",
    "        (df_eng['discount_range'] == 'Above Average Discount') & (df_eng['entregue_no_prazo'] == 0), 'Late Delivery at Above Average Discount',\n",
    "    np.where(\n",
    "        (df_eng['discount_range'] == 'Below Average Discount') & (df_eng['entregue_no_prazo'] == 0), 'Late Delivery with a Below Average discount',\n",
    "    np.where(\n",
    "        (df_eng['discount_range'] == 'Above Average Discount') & (df_eng['entregue_no_prazo'] == 1), 'On Time Delivery at Above Average',\n",
    "    np.where(\n",
    "        (df_eng['discount_range'] == 'Below Average Discount') & (df_eng['entregue_no_prazo'] == 1), 'On Time Delivery at Below Average Discount',\n",
    "    'NA'))))"
   ]
  },
  {
   "cell_type": "code",
   "execution_count": 79,
   "id": "8e3ef052",
   "metadata": {},
   "outputs": [
    {
     "data": {
      "text/html": [
       "<div>\n",
       "<style scoped>\n",
       "    .dataframe tbody tr th:only-of-type {\n",
       "        vertical-align: middle;\n",
       "    }\n",
       "\n",
       "    .dataframe tbody tr th {\n",
       "        vertical-align: top;\n",
       "    }\n",
       "\n",
       "    .dataframe thead th {\n",
       "        text-align: right;\n",
       "    }\n",
       "</style>\n",
       "<table border=\"1\" class=\"dataframe\">\n",
       "  <thead>\n",
       "    <tr style=\"text-align: right;\">\n",
       "      <th></th>\n",
       "      <th>ID</th>\n",
       "      <th>corredor_armazem</th>\n",
       "      <th>modo_envio</th>\n",
       "      <th>numero_chamadas_cliente</th>\n",
       "      <th>avaliacao_cliente</th>\n",
       "      <th>custo_produto</th>\n",
       "      <th>compras_anteriores</th>\n",
       "      <th>prioridade_produto</th>\n",
       "      <th>genero</th>\n",
       "      <th>desconto</th>\n",
       "      <th>peso_gramas</th>\n",
       "      <th>entregue_no_prazo</th>\n",
       "      <th>performance_prioridade_envio</th>\n",
       "      <th>performance_modo_envio</th>\n",
       "      <th>discount_range</th>\n",
       "      <th>discount_performance_range</th>\n",
       "    </tr>\n",
       "  </thead>\n",
       "  <tbody>\n",
       "    <tr>\n",
       "      <th>7242</th>\n",
       "      <td>7243</td>\n",
       "      <td>D</td>\n",
       "      <td>Caminhao</td>\n",
       "      <td>6</td>\n",
       "      <td>3</td>\n",
       "      <td>262</td>\n",
       "      <td>6</td>\n",
       "      <td>alta</td>\n",
       "      <td>M</td>\n",
       "      <td>5</td>\n",
       "      <td>4506</td>\n",
       "      <td>0</td>\n",
       "      <td>Critical Delay</td>\n",
       "      <td>Critical Delivery Truck Delay</td>\n",
       "      <td>Below Average Discount</td>\n",
       "      <td>Late Delivery with a Below Average discount</td>\n",
       "    </tr>\n",
       "    <tr>\n",
       "      <th>2601</th>\n",
       "      <td>2602</td>\n",
       "      <td>B</td>\n",
       "      <td>Aviao</td>\n",
       "      <td>4</td>\n",
       "      <td>2</td>\n",
       "      <td>238</td>\n",
       "      <td>3</td>\n",
       "      <td>baixa</td>\n",
       "      <td>M</td>\n",
       "      <td>30</td>\n",
       "      <td>3423</td>\n",
       "      <td>1</td>\n",
       "      <td>No Delay</td>\n",
       "      <td>No Delay</td>\n",
       "      <td>Above Average Discount</td>\n",
       "      <td>On Time Delivery at Above Average</td>\n",
       "    </tr>\n",
       "    <tr>\n",
       "      <th>5562</th>\n",
       "      <td>5563</td>\n",
       "      <td>D</td>\n",
       "      <td>Navio</td>\n",
       "      <td>4</td>\n",
       "      <td>4</td>\n",
       "      <td>228</td>\n",
       "      <td>4</td>\n",
       "      <td>alta</td>\n",
       "      <td>M</td>\n",
       "      <td>1</td>\n",
       "      <td>5573</td>\n",
       "      <td>0</td>\n",
       "      <td>Critical Delay</td>\n",
       "      <td>Critical Delay in Delivery by Ship</td>\n",
       "      <td>Below Average Discount</td>\n",
       "      <td>Late Delivery with a Below Average discount</td>\n",
       "    </tr>\n",
       "    <tr>\n",
       "      <th>7971</th>\n",
       "      <td>7972</td>\n",
       "      <td>B</td>\n",
       "      <td>Navio</td>\n",
       "      <td>4</td>\n",
       "      <td>1</td>\n",
       "      <td>208</td>\n",
       "      <td>2</td>\n",
       "      <td>baixa</td>\n",
       "      <td>M</td>\n",
       "      <td>6</td>\n",
       "      <td>5266</td>\n",
       "      <td>0</td>\n",
       "      <td>Tolerable Delay</td>\n",
       "      <td>Tolerable Delivery Delay by Ship</td>\n",
       "      <td>Below Average Discount</td>\n",
       "      <td>Late Delivery with a Below Average discount</td>\n",
       "    </tr>\n",
       "    <tr>\n",
       "      <th>6355</th>\n",
       "      <td>6356</td>\n",
       "      <td>F</td>\n",
       "      <td>Navio</td>\n",
       "      <td>2</td>\n",
       "      <td>4</td>\n",
       "      <td>114</td>\n",
       "      <td>4</td>\n",
       "      <td>baixa</td>\n",
       "      <td>M</td>\n",
       "      <td>9</td>\n",
       "      <td>4452</td>\n",
       "      <td>1</td>\n",
       "      <td>No Delay</td>\n",
       "      <td>No Delay</td>\n",
       "      <td>Below Average Discount</td>\n",
       "      <td>On Time Delivery at Below Average Discount</td>\n",
       "    </tr>\n",
       "  </tbody>\n",
       "</table>\n",
       "</div>"
      ],
      "text/plain": [
       "        ID corredor_armazem modo_envio  numero_chamadas_cliente  \\\n",
       "7242  7243                D   Caminhao                        6   \n",
       "2601  2602                B      Aviao                        4   \n",
       "5562  5563                D      Navio                        4   \n",
       "7971  7972                B      Navio                        4   \n",
       "6355  6356                F      Navio                        2   \n",
       "\n",
       "      avaliacao_cliente  custo_produto  compras_anteriores prioridade_produto  \\\n",
       "7242                  3            262                   6               alta   \n",
       "2601                  2            238                   3              baixa   \n",
       "5562                  4            228                   4               alta   \n",
       "7971                  1            208                   2              baixa   \n",
       "6355                  4            114                   4              baixa   \n",
       "\n",
       "     genero  desconto  peso_gramas  entregue_no_prazo  \\\n",
       "7242      M         5         4506                  0   \n",
       "2601      M        30         3423                  1   \n",
       "5562      M         1         5573                  0   \n",
       "7971      M         6         5266                  0   \n",
       "6355      M         9         4452                  1   \n",
       "\n",
       "     performance_prioridade_envio              performance_modo_envio  \\\n",
       "7242               Critical Delay       Critical Delivery Truck Delay   \n",
       "2601                     No Delay                            No Delay   \n",
       "5562               Critical Delay  Critical Delay in Delivery by Ship   \n",
       "7971              Tolerable Delay    Tolerable Delivery Delay by Ship   \n",
       "6355                     No Delay                            No Delay   \n",
       "\n",
       "              discount_range                   discount_performance_range  \n",
       "7242  Below Average Discount  Late Delivery with a Below Average discount  \n",
       "2601  Above Average Discount            On Time Delivery at Above Average  \n",
       "5562  Below Average Discount  Late Delivery with a Below Average discount  \n",
       "7971  Below Average Discount  Late Delivery with a Below Average discount  \n",
       "6355  Below Average Discount   On Time Delivery at Below Average Discount  "
      ]
     },
     "execution_count": 79,
     "metadata": {},
     "output_type": "execute_result"
    }
   ],
   "source": [
    "df_eng.sample(5)"
   ]
  },
  {
   "cell_type": "code",
   "execution_count": 80,
   "id": "475c9560",
   "metadata": {},
   "outputs": [
    {
     "data": {
      "text/plain": [
       "Late Delivery with a Below Average discount    4361\n",
       "On Time Delivery at Below Average Discount     3908\n",
       "On Time Delivery at Above Average              2374\n",
       "Name: discount_performance_range, dtype: int64"
      ]
     },
     "execution_count": 80,
     "metadata": {},
     "output_type": "execute_result"
    }
   ],
   "source": [
    "df_eng['discount_performance_range'].value_counts()"
   ]
  },
  {
   "cell_type": "code",
   "execution_count": 81,
   "id": "a93ce6bf",
   "metadata": {},
   "outputs": [
    {
     "data": {
      "text/html": [
       "<div>\n",
       "<style scoped>\n",
       "    .dataframe tbody tr th:only-of-type {\n",
       "        vertical-align: middle;\n",
       "    }\n",
       "\n",
       "    .dataframe tbody tr th {\n",
       "        vertical-align: top;\n",
       "    }\n",
       "\n",
       "    .dataframe thead tr th {\n",
       "        text-align: left;\n",
       "    }\n",
       "</style>\n",
       "<table border=\"1\" class=\"dataframe\">\n",
       "  <thead>\n",
       "    <tr>\n",
       "      <th></th>\n",
       "      <th>discount_performance_range</th>\n",
       "      <th>entregue_no_prazo</th>\n",
       "      <th>ID</th>\n",
       "    </tr>\n",
       "    <tr>\n",
       "      <th></th>\n",
       "      <th></th>\n",
       "      <th></th>\n",
       "      <th>count</th>\n",
       "    </tr>\n",
       "  </thead>\n",
       "  <tbody>\n",
       "    <tr>\n",
       "      <th>0</th>\n",
       "      <td>Late Delivery with a Below Average discount</td>\n",
       "      <td>0</td>\n",
       "      <td>4361</td>\n",
       "    </tr>\n",
       "    <tr>\n",
       "      <th>1</th>\n",
       "      <td>On Time Delivery at Above Average</td>\n",
       "      <td>1</td>\n",
       "      <td>2374</td>\n",
       "    </tr>\n",
       "    <tr>\n",
       "      <th>2</th>\n",
       "      <td>On Time Delivery at Below Average Discount</td>\n",
       "      <td>1</td>\n",
       "      <td>3908</td>\n",
       "    </tr>\n",
       "  </tbody>\n",
       "</table>\n",
       "</div>"
      ],
      "text/plain": [
       "                    discount_performance_range entregue_no_prazo    ID\n",
       "                                                                 count\n",
       "0  Late Delivery with a Below Average discount                 0  4361\n",
       "1            On Time Delivery at Above Average                 1  2374\n",
       "2   On Time Delivery at Below Average Discount                 1  3908"
      ]
     },
     "execution_count": 81,
     "metadata": {},
     "output_type": "execute_result"
    }
   ],
   "source": [
    "# Group the data for analysis\n",
    "df_report3 = df_eng.groupby(['discount_performance_range',\n",
    "                            'entregue_no_prazo']).agg({'ID': ['count']}).reset_index()\n",
    "df_report3.head()"
   ]
  },
  {
   "cell_type": "code",
   "execution_count": 82,
   "id": "4e3bf73b",
   "metadata": {},
   "outputs": [
    {
     "data": {
      "text/html": [
       "<div>\n",
       "<style scoped>\n",
       "    .dataframe tbody tr th:only-of-type {\n",
       "        vertical-align: middle;\n",
       "    }\n",
       "\n",
       "    .dataframe tbody tr th {\n",
       "        vertical-align: top;\n",
       "    }\n",
       "\n",
       "    .dataframe thead tr th {\n",
       "        text-align: left;\n",
       "    }\n",
       "</style>\n",
       "<table border=\"1\" class=\"dataframe\">\n",
       "  <thead>\n",
       "    <tr>\n",
       "      <th></th>\n",
       "      <th>discount_performance_range</th>\n",
       "      <th>ID</th>\n",
       "    </tr>\n",
       "    <tr>\n",
       "      <th></th>\n",
       "      <th></th>\n",
       "      <th>count</th>\n",
       "    </tr>\n",
       "  </thead>\n",
       "  <tbody>\n",
       "    <tr>\n",
       "      <th>0</th>\n",
       "      <td>Late Delivery with a Below Average discount</td>\n",
       "      <td>4361</td>\n",
       "    </tr>\n",
       "    <tr>\n",
       "      <th>1</th>\n",
       "      <td>On Time Delivery at Above Average</td>\n",
       "      <td>2374</td>\n",
       "    </tr>\n",
       "    <tr>\n",
       "      <th>2</th>\n",
       "      <td>On Time Delivery at Below Average Discount</td>\n",
       "      <td>3908</td>\n",
       "    </tr>\n",
       "  </tbody>\n",
       "</table>\n",
       "</div>"
      ],
      "text/plain": [
       "                    discount_performance_range    ID\n",
       "                                               count\n",
       "0  Late Delivery with a Below Average discount  4361\n",
       "1            On Time Delivery at Above Average  2374\n",
       "2   On Time Delivery at Below Average Discount  3908"
      ]
     },
     "execution_count": 82,
     "metadata": {},
     "output_type": "execute_result"
    }
   ],
   "source": [
    "df_report3.drop(df_report3.columns[1], axis = 1, inplace = True)\n",
    "df_report3.head()"
   ]
  },
  {
   "cell_type": "code",
   "execution_count": 83,
   "id": "4370e4df",
   "metadata": {},
   "outputs": [
    {
     "data": {
      "text/html": [
       "<div>\n",
       "<style scoped>\n",
       "    .dataframe tbody tr th:only-of-type {\n",
       "        vertical-align: middle;\n",
       "    }\n",
       "\n",
       "    .dataframe tbody tr th {\n",
       "        vertical-align: top;\n",
       "    }\n",
       "\n",
       "    .dataframe thead th {\n",
       "        text-align: right;\n",
       "    }\n",
       "</style>\n",
       "<table border=\"1\" class=\"dataframe\">\n",
       "  <thead>\n",
       "    <tr style=\"text-align: right;\">\n",
       "      <th></th>\n",
       "      <th>Delivery Status</th>\n",
       "      <th>Total</th>\n",
       "    </tr>\n",
       "  </thead>\n",
       "  <tbody>\n",
       "    <tr>\n",
       "      <th>0</th>\n",
       "      <td>Late Delivery with a Below Average discount</td>\n",
       "      <td>4361</td>\n",
       "    </tr>\n",
       "    <tr>\n",
       "      <th>1</th>\n",
       "      <td>On Time Delivery at Above Average</td>\n",
       "      <td>2374</td>\n",
       "    </tr>\n",
       "    <tr>\n",
       "      <th>2</th>\n",
       "      <td>On Time Delivery at Below Average Discount</td>\n",
       "      <td>3908</td>\n",
       "    </tr>\n",
       "  </tbody>\n",
       "</table>\n",
       "</div>"
      ],
      "text/plain": [
       "                               Delivery Status  Total\n",
       "0  Late Delivery with a Below Average discount   4361\n",
       "1            On Time Delivery at Above Average   2374\n",
       "2   On Time Delivery at Below Average Discount   3908"
      ]
     },
     "execution_count": 83,
     "metadata": {},
     "output_type": "execute_result"
    }
   ],
   "source": [
    "df_report3.columns = ['Delivery Status', 'Total']\n",
    "df_report3.head()"
   ]
  },
  {
   "cell_type": "code",
   "execution_count": 84,
   "id": "aa7c79df",
   "metadata": {},
   "outputs": [
    {
     "data": {
      "image/png": "[encoded data removed]",
      "text/plain": [
       "<Figure size 2000x800 with 1 Axes>"
      ]
     },
     "metadata": {},
     "output_type": "display_data"
    }
   ],
   "source": [
    "# Plot\n",
    "df_report3.set_index('Delivery Status').plot(kind = 'bar',\n",
    "                                            title = 'Total products delivered by status',\n",
    "                                            ylabel = 'Total',\n",
    "                                            xlabel = '\\nDelivery Status',\n",
    "                                            colormap = 'plasma',\n",
    "                                            figsize = (20, 8))\n",
    "plt.xticks(rotation = 0)\n",
    "plt.show()"
   ]
  },
  {
   "cell_type": "code",
   "execution_count": 85,
   "id": "f24a689a",
   "metadata": {},
   "outputs": [
    {
     "data": {
      "text/html": [
       "<div>\n",
       "<style scoped>\n",
       "    .dataframe tbody tr th:only-of-type {\n",
       "        vertical-align: middle;\n",
       "    }\n",
       "\n",
       "    .dataframe tbody tr th {\n",
       "        vertical-align: top;\n",
       "    }\n",
       "\n",
       "    .dataframe thead th {\n",
       "        text-align: right;\n",
       "    }\n",
       "</style>\n",
       "<table border=\"1\" class=\"dataframe\">\n",
       "  <thead>\n",
       "    <tr style=\"text-align: right;\">\n",
       "      <th></th>\n",
       "      <th>ID</th>\n",
       "      <th>corredor_armazem</th>\n",
       "      <th>modo_envio</th>\n",
       "      <th>numero_chamadas_cliente</th>\n",
       "      <th>avaliacao_cliente</th>\n",
       "      <th>custo_produto</th>\n",
       "      <th>compras_anteriores</th>\n",
       "      <th>prioridade_produto</th>\n",
       "      <th>genero</th>\n",
       "      <th>desconto</th>\n",
       "      <th>peso_gramas</th>\n",
       "      <th>entregue_no_prazo</th>\n",
       "      <th>performance_prioridade_envio</th>\n",
       "      <th>performance_modo_envio</th>\n",
       "      <th>discount_range</th>\n",
       "      <th>discount_performance_range</th>\n",
       "    </tr>\n",
       "  </thead>\n",
       "  <tbody>\n",
       "    <tr>\n",
       "      <th>9480</th>\n",
       "      <td>9481</td>\n",
       "      <td>D</td>\n",
       "      <td>Navio</td>\n",
       "      <td>3</td>\n",
       "      <td>5</td>\n",
       "      <td>184</td>\n",
       "      <td>2</td>\n",
       "      <td>alta</td>\n",
       "      <td>M</td>\n",
       "      <td>3</td>\n",
       "      <td>4883</td>\n",
       "      <td>0</td>\n",
       "      <td>Critical Delay</td>\n",
       "      <td>Critical Delay in Delivery by Ship</td>\n",
       "      <td>Below Average Discount</td>\n",
       "      <td>Late Delivery with a Below Average discount</td>\n",
       "    </tr>\n",
       "    <tr>\n",
       "      <th>10010</th>\n",
       "      <td>10011</td>\n",
       "      <td>A</td>\n",
       "      <td>Aviao</td>\n",
       "      <td>5</td>\n",
       "      <td>5</td>\n",
       "      <td>105</td>\n",
       "      <td>4</td>\n",
       "      <td>baixa</td>\n",
       "      <td>M</td>\n",
       "      <td>6</td>\n",
       "      <td>5135</td>\n",
       "      <td>1</td>\n",
       "      <td>No Delay</td>\n",
       "      <td>No Delay</td>\n",
       "      <td>Below Average Discount</td>\n",
       "      <td>On Time Delivery at Below Average Discount</td>\n",
       "    </tr>\n",
       "    <tr>\n",
       "      <th>2571</th>\n",
       "      <td>2572</td>\n",
       "      <td>B</td>\n",
       "      <td>Navio</td>\n",
       "      <td>4</td>\n",
       "      <td>5</td>\n",
       "      <td>212</td>\n",
       "      <td>4</td>\n",
       "      <td>baixa</td>\n",
       "      <td>M</td>\n",
       "      <td>21</td>\n",
       "      <td>1014</td>\n",
       "      <td>1</td>\n",
       "      <td>No Delay</td>\n",
       "      <td>No Delay</td>\n",
       "      <td>Above Average Discount</td>\n",
       "      <td>On Time Delivery at Above Average</td>\n",
       "    </tr>\n",
       "    <tr>\n",
       "      <th>6900</th>\n",
       "      <td>6901</td>\n",
       "      <td>D</td>\n",
       "      <td>Navio</td>\n",
       "      <td>5</td>\n",
       "      <td>5</td>\n",
       "      <td>260</td>\n",
       "      <td>5</td>\n",
       "      <td>baixa</td>\n",
       "      <td>F</td>\n",
       "      <td>6</td>\n",
       "      <td>1860</td>\n",
       "      <td>0</td>\n",
       "      <td>Tolerable Delay</td>\n",
       "      <td>Tolerable Delivery Delay by Ship</td>\n",
       "      <td>Below Average Discount</td>\n",
       "      <td>Late Delivery with a Below Average discount</td>\n",
       "    </tr>\n",
       "    <tr>\n",
       "      <th>8027</th>\n",
       "      <td>8028</td>\n",
       "      <td>F</td>\n",
       "      <td>Navio</td>\n",
       "      <td>6</td>\n",
       "      <td>5</td>\n",
       "      <td>301</td>\n",
       "      <td>4</td>\n",
       "      <td>baixa</td>\n",
       "      <td>F</td>\n",
       "      <td>7</td>\n",
       "      <td>1393</td>\n",
       "      <td>1</td>\n",
       "      <td>No Delay</td>\n",
       "      <td>No Delay</td>\n",
       "      <td>Below Average Discount</td>\n",
       "      <td>On Time Delivery at Below Average Discount</td>\n",
       "    </tr>\n",
       "    <tr>\n",
       "      <th>10984</th>\n",
       "      <td>10985</td>\n",
       "      <td>C</td>\n",
       "      <td>Navio</td>\n",
       "      <td>5</td>\n",
       "      <td>1</td>\n",
       "      <td>257</td>\n",
       "      <td>5</td>\n",
       "      <td>media</td>\n",
       "      <td>M</td>\n",
       "      <td>1</td>\n",
       "      <td>1102</td>\n",
       "      <td>1</td>\n",
       "      <td>No Delay</td>\n",
       "      <td>No Delay</td>\n",
       "      <td>Below Average Discount</td>\n",
       "      <td>On Time Delivery at Below Average Discount</td>\n",
       "    </tr>\n",
       "    <tr>\n",
       "      <th>9486</th>\n",
       "      <td>9487</td>\n",
       "      <td>D</td>\n",
       "      <td>Navio</td>\n",
       "      <td>3</td>\n",
       "      <td>5</td>\n",
       "      <td>211</td>\n",
       "      <td>2</td>\n",
       "      <td>media</td>\n",
       "      <td>F</td>\n",
       "      <td>9</td>\n",
       "      <td>4577</td>\n",
       "      <td>1</td>\n",
       "      <td>No Delay</td>\n",
       "      <td>No Delay</td>\n",
       "      <td>Below Average Discount</td>\n",
       "      <td>On Time Delivery at Below Average Discount</td>\n",
       "    </tr>\n",
       "    <tr>\n",
       "      <th>5755</th>\n",
       "      <td>5756</td>\n",
       "      <td>F</td>\n",
       "      <td>Aviao</td>\n",
       "      <td>6</td>\n",
       "      <td>1</td>\n",
       "      <td>309</td>\n",
       "      <td>4</td>\n",
       "      <td>baixa</td>\n",
       "      <td>F</td>\n",
       "      <td>6</td>\n",
       "      <td>1866</td>\n",
       "      <td>1</td>\n",
       "      <td>No Delay</td>\n",
       "      <td>No Delay</td>\n",
       "      <td>Below Average Discount</td>\n",
       "      <td>On Time Delivery at Below Average Discount</td>\n",
       "    </tr>\n",
       "    <tr>\n",
       "      <th>9836</th>\n",
       "      <td>9837</td>\n",
       "      <td>A</td>\n",
       "      <td>Navio</td>\n",
       "      <td>4</td>\n",
       "      <td>1</td>\n",
       "      <td>197</td>\n",
       "      <td>3</td>\n",
       "      <td>alta</td>\n",
       "      <td>M</td>\n",
       "      <td>9</td>\n",
       "      <td>4917</td>\n",
       "      <td>0</td>\n",
       "      <td>Critical Delay</td>\n",
       "      <td>Critical Delay in Delivery by Ship</td>\n",
       "      <td>Below Average Discount</td>\n",
       "      <td>Late Delivery with a Below Average discount</td>\n",
       "    </tr>\n",
       "    <tr>\n",
       "      <th>9403</th>\n",
       "      <td>9404</td>\n",
       "      <td>F</td>\n",
       "      <td>Navio</td>\n",
       "      <td>6</td>\n",
       "      <td>1</td>\n",
       "      <td>287</td>\n",
       "      <td>4</td>\n",
       "      <td>media</td>\n",
       "      <td>M</td>\n",
       "      <td>5</td>\n",
       "      <td>1791</td>\n",
       "      <td>1</td>\n",
       "      <td>No Delay</td>\n",
       "      <td>No Delay</td>\n",
       "      <td>Below Average Discount</td>\n",
       "      <td>On Time Delivery at Below Average Discount</td>\n",
       "    </tr>\n",
       "  </tbody>\n",
       "</table>\n",
       "</div>"
      ],
      "text/plain": [
       "          ID corredor_armazem modo_envio  numero_chamadas_cliente  \\\n",
       "9480    9481                D      Navio                        3   \n",
       "10010  10011                A      Aviao                        5   \n",
       "2571    2572                B      Navio                        4   \n",
       "6900    6901                D      Navio                        5   \n",
       "8027    8028                F      Navio                        6   \n",
       "10984  10985                C      Navio                        5   \n",
       "9486    9487                D      Navio                        3   \n",
       "5755    5756                F      Aviao                        6   \n",
       "9836    9837                A      Navio                        4   \n",
       "9403    9404                F      Navio                        6   \n",
       "\n",
       "       avaliacao_cliente  custo_produto  compras_anteriores  \\\n",
       "9480                   5            184                   2   \n",
       "10010                  5            105                   4   \n",
       "2571                   5            212                   4   \n",
       "6900                   5            260                   5   \n",
       "8027                   5            301                   4   \n",
       "10984                  1            257                   5   \n",
       "9486                   5            211                   2   \n",
       "5755                   1            309                   4   \n",
       "9836                   1            197                   3   \n",
       "9403                   1            287                   4   \n",
       "\n",
       "      prioridade_produto genero  desconto  peso_gramas  entregue_no_prazo  \\\n",
       "9480                alta      M         3         4883                  0   \n",
       "10010              baixa      M         6         5135                  1   \n",
       "2571               baixa      M        21         1014                  1   \n",
       "6900               baixa      F         6         1860                  0   \n",
       "8027               baixa      F         7         1393                  1   \n",
       "10984              media      M         1         1102                  1   \n",
       "9486               media      F         9         4577                  1   \n",
       "5755               baixa      F         6         1866                  1   \n",
       "9836                alta      M         9         4917                  0   \n",
       "9403               media      M         5         1791                  1   \n",
       "\n",
       "      performance_prioridade_envio              performance_modo_envio  \\\n",
       "9480                Critical Delay  Critical Delay in Delivery by Ship   \n",
       "10010                     No Delay                            No Delay   \n",
       "2571                      No Delay                            No Delay   \n",
       "6900               Tolerable Delay    Tolerable Delivery Delay by Ship   \n",
       "8027                      No Delay                            No Delay   \n",
       "10984                     No Delay                            No Delay   \n",
       "9486                      No Delay                            No Delay   \n",
       "5755                      No Delay                            No Delay   \n",
       "9836                Critical Delay  Critical Delay in Delivery by Ship   \n",
       "9403                      No Delay                            No Delay   \n",
       "\n",
       "               discount_range                   discount_performance_range  \n",
       "9480   Below Average Discount  Late Delivery with a Below Average discount  \n",
       "10010  Below Average Discount   On Time Delivery at Below Average Discount  \n",
       "2571   Above Average Discount            On Time Delivery at Above Average  \n",
       "6900   Below Average Discount  Late Delivery with a Below Average discount  \n",
       "8027   Below Average Discount   On Time Delivery at Below Average Discount  \n",
       "10984  Below Average Discount   On Time Delivery at Below Average Discount  \n",
       "9486   Below Average Discount   On Time Delivery at Below Average Discount  \n",
       "5755   Below Average Discount   On Time Delivery at Below Average Discount  \n",
       "9836   Below Average Discount  Late Delivery with a Below Average discount  \n",
       "9403   Below Average Discount   On Time Delivery at Below Average Discount  "
      ]
     },
     "execution_count": 85,
     "metadata": {},
     "output_type": "execute_result"
    }
   ],
   "source": [
    "df_eng.sample(10)"
   ]
  },
  {
   "cell_type": "code",
   "execution_count": 86,
   "id": "256d38e0",
   "metadata": {},
   "outputs": [],
   "source": [
    "# Save dataframe\n",
    "df_eng.to_csv('datasets/df_eng.csv', sep = ',', encoding = 'utf-8')"
   ]
  },
  {
   "cell_type": "markdown",
   "id": "14f02a59",
   "metadata": {},
   "source": [
    "# The End"
   ]
  }
 ],
 "metadata": {
  "kernelspec": {
   "display_name": "Python 3 (ipykernel)",
   "language": "python",
   "name": "python3"
  },
  "language_info": {
   "codemirror_mode": {
    "name": "ipython",
    "version": 3
   },
   "file_extension": ".py",
   "mimetype": "text/x-python",
   "name": "python",
   "nbconvert_exporter": "python",
   "pygments_lexer": "ipython3",
   "version": "3.8.13"
  }
 },
 "nbformat": 4,
 "nbformat_minor": 5
}
