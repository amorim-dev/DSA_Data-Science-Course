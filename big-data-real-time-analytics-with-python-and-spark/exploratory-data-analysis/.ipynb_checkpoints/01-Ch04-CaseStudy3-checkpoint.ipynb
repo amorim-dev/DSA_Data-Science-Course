{
 "cells": [
  {
   "cell_type": "markdown",
   "id": "c915a45a",
   "metadata": {},
   "source": [
    "# Big Data Real-Time Analytics with Python and Spark\n",
    "\n",
    "## Chapter 4 - Case Study 3 - Exploratory Data Analysis and Data Wrangling to E-Commerce Analytics\n",
    "\n",
    "**Note:** We are working in a big data science project divided in 3 chapters:\n",
    "* **Exploratory data analysis** \n",
    "    - **EDA part 1**\n",
    "    - **EDA part 2** \n",
    "* Attribute Engineering\n",
    "* Data Preprocessing"
   ]
  },
  {
   "cell_type": "markdown",
   "id": "c3f2c143",
   "metadata": {},
   "source": [
    "![CaseStudy3 DSA](images/CaseStudy3.png \"Case Study 3 DSA\")"
   ]
  },
  {
   "cell_type": "code",
   "execution_count": 1,
   "id": "71161bd5",
   "metadata": {},
   "outputs": [
    {
     "name": "stdout",
     "output_type": "stream",
     "text": [
      "The version used in this notebook:  3.8.8\n"
     ]
    }
   ],
   "source": [
    "# Python Version\n",
    "from platform import python_version\n",
    "print(\"The version used in this notebook: \", python_version())"
   ]
  },
  {
   "cell_type": "code",
   "execution_count": 2,
   "id": "e8c725a9",
   "metadata": {},
   "outputs": [
    {
     "name": "stderr",
     "output_type": "stream",
     "text": [
      "/home/bia/anaconda3/lib/python3.8/site-packages/scipy/__init__.py:146: UserWarning: A NumPy version >=1.16.5 and <1.23.0 is required for this version of SciPy (detected version 1.23.3\n",
      "  warnings.warn(f\"A NumPy version >={np_minversion} and <{np_maxversion}\"\n"
     ]
    }
   ],
   "source": [
    "# Imports\n",
    "import numpy as np\n",
    "import pandas as pd\n",
    "import matplotlib.pyplot as plt\n",
    "import seaborn as sns\n",
    "import warnings\n",
    "warnings.filterwarnings(\"ignore\")"
   ]
  },
  {
   "cell_type": "code",
   "execution_count": 3,
   "id": "5b9ca6aa",
   "metadata": {},
   "outputs": [
    {
     "name": "stdout",
     "output_type": "stream",
     "text": [
      "Author: Bianca Amorim\n",
      "\n",
      "seaborn   : 0.11.2\n",
      "matplotlib: 3.5.1\n",
      "numpy     : 1.23.3\n",
      "pandas    : 1.4.2\n",
      "\n"
     ]
    }
   ],
   "source": [
    "%reload_ext watermark\n",
    "%watermark -a \"Bianca Amorim\" --iversions"
   ]
  },
  {
   "cell_type": "code",
   "execution_count": null,
   "id": "e368e08b",
   "metadata": {},
   "outputs": [],
   "source": []
  }
 ],
 "metadata": {
  "kernelspec": {
   "display_name": "Python 3 (ipykernel)",
   "language": "python",
   "name": "python3"
  },
  "language_info": {
   "codemirror_mode": {
    "name": "ipython",
    "version": 3
   },
   "file_extension": ".py",
   "mimetype": "text/x-python",
   "name": "python",
   "nbconvert_exporter": "python",
   "pygments_lexer": "ipython3",
   "version": "3.8.8"
  }
 },
 "nbformat": 4,
 "nbformat_minor": 5
}
