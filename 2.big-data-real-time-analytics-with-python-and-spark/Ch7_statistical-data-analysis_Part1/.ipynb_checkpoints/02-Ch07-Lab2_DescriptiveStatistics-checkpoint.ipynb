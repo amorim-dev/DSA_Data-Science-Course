{
 "cells": [
  {
   "cell_type": "markdown",
   "id": "531f11c6",
   "metadata": {},
   "source": [
    "# Big Data Real-Time Analytics with Python and Spark\n",
    "\n",
    "## Chapter 7 - Statistical Data Analysis Part 1\n",
    "\n",
    "### Lab 2 - Descriptive Statistics in Python"
   ]
  },
  {
   "cell_type": "code",
   "execution_count": 2,
   "id": "150e6fc5",
   "metadata": {},
   "outputs": [
    {
     "name": "stdout",
     "output_type": "stream",
     "text": [
      "The version used in this notebook is:  3.8.13\n"
     ]
    }
   ],
   "source": [
    "# Python version\n",
    "from platform import python_version\n",
    "print('The version used in this notebook is: ', python_version())"
   ]
  },
  {
   "cell_type": "markdown",
   "id": "e35fbfcb",
   "metadata": {},
   "source": [
    "## Descriptive Statistics"
   ]
  },
  {
   "cell_type": "code",
   "execution_count": 3,
   "id": "80b81c8b",
   "metadata": {},
   "outputs": [],
   "source": [
    "# imports\n",
    "import pandas as pd\n",
    "import matplotlib.pyplot as plt\n",
    "%matplotlib inline"
   ]
  },
  {
   "cell_type": "code",
   "execution_count": 4,
   "id": "931b0208",
   "metadata": {},
   "outputs": [],
   "source": [
    "# Student grade dictionary\n",
    "grades = {'age': [22, 23, 26, 24, 23, 25, 28, 23, 18, 21, 22, 25, 27, 24, 22, 25, 27, 23, 19, 22],\n",
    "         'test': [41, 50, 61, 70, 80, 79, 82, 87, 90, 93, 42, 52, 64, 71, 81, 78, 83, 84, 91, 94],\n",
    "         'final_test': [45, 57, 68, 81, 81, 82, 85, 92, 93, 98, 46, 58, 69, 80, 83, 84, 87, 94, 95, 97]}"
   ]
  },
  {
   "cell_type": "code",
   "execution_count": 6,
   "id": "a6b34309",
   "metadata": {},
   "outputs": [
    {
     "name": "stdout",
     "output_type": "stream",
     "text": [
      "    age  test  final_test\n",
      "0    22    41          45\n",
      "1    23    50          57\n",
      "2    26    61          68\n",
      "3    24    70          81\n",
      "4    23    80          81\n",
      "5    25    79          82\n",
      "6    28    82          85\n",
      "7    23    87          92\n",
      "8    18    90          93\n",
      "9    21    93          98\n",
      "10   22    42          46\n",
      "11   25    52          58\n",
      "12   27    64          69\n",
      "13   24    71          80\n",
      "14   22    81          83\n",
      "15   25    78          84\n",
      "16   27    83          87\n",
      "17   23    84          94\n",
      "18   19    91          95\n",
      "19   22    94          97\n"
     ]
    }
   ],
   "source": [
    "df = pd.DataFrame(grades, columns = ['age', 'test', 'final_test'])\n",
    "print(df)"
   ]
  },
  {
   "cell_type": "code",
   "execution_count": 7,
   "id": "a0aece0b",
   "metadata": {},
   "outputs": [
    {
     "name": "stdout",
     "output_type": "stream",
     "text": [
      "<class 'pandas.core.frame.DataFrame'>\n",
      "RangeIndex: 20 entries, 0 to 19\n",
      "Data columns (total 3 columns):\n",
      " #   Column      Non-Null Count  Dtype\n",
      "---  ------      --------------  -----\n",
      " 0   age         20 non-null     int64\n",
      " 1   test        20 non-null     int64\n",
      " 2   final_test  20 non-null     int64\n",
      "dtypes: int64(3)\n",
      "memory usage: 608.0 bytes\n"
     ]
    }
   ],
   "source": [
    "# Check data types\n",
    "df.info()"
   ]
  },
  {
   "cell_type": "code",
   "execution_count": 8,
   "id": "89ede92e",
   "metadata": {},
   "outputs": [
    {
     "data": {
      "text/html": [
       "<div>\n",
       "<style scoped>\n",
       "    .dataframe tbody tr th:only-of-type {\n",
       "        vertical-align: middle;\n",
       "    }\n",
       "\n",
       "    .dataframe tbody tr th {\n",
       "        vertical-align: top;\n",
       "    }\n",
       "\n",
       "    .dataframe thead th {\n",
       "        text-align: right;\n",
       "    }\n",
       "</style>\n",
       "<table border=\"1\" class=\"dataframe\">\n",
       "  <thead>\n",
       "    <tr style=\"text-align: right;\">\n",
       "      <th></th>\n",
       "      <th>age</th>\n",
       "      <th>test</th>\n",
       "      <th>final_test</th>\n",
       "    </tr>\n",
       "  </thead>\n",
       "  <tbody>\n",
       "    <tr>\n",
       "      <th>count</th>\n",
       "      <td>20.000000</td>\n",
       "      <td>20.000000</td>\n",
       "      <td>20.000000</td>\n",
       "    </tr>\n",
       "    <tr>\n",
       "      <th>mean</th>\n",
       "      <td>23.450000</td>\n",
       "      <td>73.650000</td>\n",
       "      <td>78.750000</td>\n",
       "    </tr>\n",
       "    <tr>\n",
       "      <th>std</th>\n",
       "      <td>2.564433</td>\n",
       "      <td>16.718332</td>\n",
       "      <td>16.351002</td>\n",
       "    </tr>\n",
       "    <tr>\n",
       "      <th>min</th>\n",
       "      <td>18.000000</td>\n",
       "      <td>41.000000</td>\n",
       "      <td>45.000000</td>\n",
       "    </tr>\n",
       "    <tr>\n",
       "      <th>25%</th>\n",
       "      <td>22.000000</td>\n",
       "      <td>63.250000</td>\n",
       "      <td>68.750000</td>\n",
       "    </tr>\n",
       "    <tr>\n",
       "      <th>50%</th>\n",
       "      <td>23.000000</td>\n",
       "      <td>79.500000</td>\n",
       "      <td>82.500000</td>\n",
       "    </tr>\n",
       "    <tr>\n",
       "      <th>75%</th>\n",
       "      <td>25.000000</td>\n",
       "      <td>84.750000</td>\n",
       "      <td>92.250000</td>\n",
       "    </tr>\n",
       "    <tr>\n",
       "      <th>max</th>\n",
       "      <td>28.000000</td>\n",
       "      <td>94.000000</td>\n",
       "      <td>98.000000</td>\n",
       "    </tr>\n",
       "  </tbody>\n",
       "</table>\n",
       "</div>"
      ],
      "text/plain": [
       "             age       test  final_test\n",
       "count  20.000000  20.000000   20.000000\n",
       "mean   23.450000  73.650000   78.750000\n",
       "std     2.564433  16.718332   16.351002\n",
       "min    18.000000  41.000000   45.000000\n",
       "25%    22.000000  63.250000   68.750000\n",
       "50%    23.000000  79.500000   82.500000\n",
       "75%    25.000000  84.750000   92.250000\n",
       "max    28.000000  94.000000   98.000000"
      ]
     },
     "execution_count": 8,
     "metadata": {},
     "output_type": "execute_result"
    }
   ],
   "source": [
    "# Description of each variable\n",
    "df.describe()"
   ]
  },
  {
   "cell_type": "code",
   "execution_count": 9,
   "id": "20f9c4af",
   "metadata": {},
   "outputs": [
    {
     "data": {
      "text/plain": [
       "count    20.000000\n",
       "mean     78.750000\n",
       "std      16.351002\n",
       "min      45.000000\n",
       "25%      68.750000\n",
       "50%      82.500000\n",
       "75%      92.250000\n",
       "max      98.000000\n",
       "Name: final_test, dtype: float64"
      ]
     },
     "execution_count": 9,
     "metadata": {},
     "output_type": "execute_result"
    }
   ],
   "source": [
    "# Description of the 'final_test' variable  \n",
    "df['final_test'].describe()"
   ]
  },
  {
   "cell_type": "code",
   "execution_count": 10,
   "id": "db3def91",
   "metadata": {},
   "outputs": [
    {
     "data": {
      "text/plain": [
       "78.75"
      ]
     },
     "execution_count": 10,
     "metadata": {},
     "output_type": "execute_result"
    }
   ],
   "source": [
    "# mean\n",
    "df['final_test'].mean()"
   ]
  },
  {
   "cell_type": "code",
   "execution_count": 11,
   "id": "06ce693d",
   "metadata": {},
   "outputs": [
    {
     "data": {
      "text/plain": [
       "82.5"
      ]
     },
     "execution_count": 11,
     "metadata": {},
     "output_type": "execute_result"
    }
   ],
   "source": [
    "# Median\n",
    "df['final_test'].median()"
   ]
  },
  {
   "cell_type": "code",
   "execution_count": 13,
   "id": "9c827054",
   "metadata": {},
   "outputs": [
    {
     "data": {
      "text/plain": [
       "0    81\n",
       "Name: final_test, dtype: int64"
      ]
     },
     "execution_count": 13,
     "metadata": {},
     "output_type": "execute_result"
    }
   ],
   "source": [
    "# mode\n",
    "df['final_test'].mode()"
   ]
  },
  {
   "cell_type": "code",
   "execution_count": 14,
   "id": "1c8f5867",
   "metadata": {},
   "outputs": [
    {
     "data": {
      "text/plain": [
       "81"
      ]
     },
     "execution_count": 14,
     "metadata": {},
     "output_type": "execute_result"
    }
   ],
   "source": [
    "# Mode\n",
    "from statistics import mode\n",
    "mode(df['final_test'])"
   ]
  },
  {
   "cell_type": "code",
   "execution_count": 15,
   "id": "f9185dda",
   "metadata": {},
   "outputs": [
    {
     "data": {
      "text/plain": [
       "20"
      ]
     },
     "execution_count": 15,
     "metadata": {},
     "output_type": "execute_result"
    }
   ],
   "source": [
    "# Count\n",
    "df['final_test'].count()"
   ]
  },
  {
   "cell_type": "code",
   "execution_count": 16,
   "id": "c5a2fd21",
   "metadata": {},
   "outputs": [
    {
     "data": {
      "text/plain": [
       "45"
      ]
     },
     "execution_count": 16,
     "metadata": {},
     "output_type": "execute_result"
    }
   ],
   "source": [
    "# Minimum value\n",
    "df['final_test'].min()"
   ]
  },
  {
   "cell_type": "code",
   "execution_count": 17,
   "id": "ce812338",
   "metadata": {},
   "outputs": [
    {
     "data": {
      "text/plain": [
       "98"
      ]
     },
     "execution_count": 17,
     "metadata": {},
     "output_type": "execute_result"
    }
   ],
   "source": [
    "# Maximum value\n",
    "df['final_test'].max()"
   ]
  },
  {
   "cell_type": "code",
   "execution_count": 18,
   "id": "b974090e",
   "metadata": {},
   "outputs": [
    {
     "data": {
      "text/plain": [
       "267.35526315789474"
      ]
     },
     "execution_count": 18,
     "metadata": {},
     "output_type": "execute_result"
    }
   ],
   "source": [
    "# Variance\n",
    "df['final_test'].var()"
   ]
  },
  {
   "cell_type": "code",
   "execution_count": 19,
   "id": "abba19b0",
   "metadata": {},
   "outputs": [
    {
     "data": {
      "text/plain": [
       "16.351001900736687"
      ]
     },
     "execution_count": 19,
     "metadata": {},
     "output_type": "execute_result"
    }
   ],
   "source": [
    "# Standard Desviation\n",
    "df['final_test'].std()"
   ]
  },
  {
   "cell_type": "code",
   "execution_count": 20,
   "id": "f1a33ae5",
   "metadata": {},
   "outputs": [
    {
     "data": {
      "text/plain": [
       "-0.9044022716005735"
      ]
     },
     "execution_count": 20,
     "metadata": {},
     "output_type": "execute_result"
    }
   ],
   "source": [
    "# Skewness (asymmetry)\n",
    "df['final_test'].skew()"
   ]
  },
  {
   "cell_type": "markdown",
   "id": "60ce5c80",
   "metadata": {},
   "source": [
    "Generally, the data in a data set are not distributed uniformly around the data mean on a normal distribution curve. A negatively asymmetric data set has its tail extended to the left. It is an indication that the mean is less than the mode of the data set. In short, it is a measure of the degree of asymmetry of the data around its mean. \n",
    "\n",
    "Asymmetry is the extent to which the data are not symmetric. Asymmetry values that are zero, positive or negative provide information about the shape of the data."
   ]
  },
  {
   "cell_type": "markdown",
   "id": "33f597b6",
   "metadata": {},
   "source": [
    "A negatively asymmetric data set does not have a bell curve. More data is concentrated on the right side of the axis.\n",
    "![Skewness](images/Skewness.png 'Skewness')"
   ]
  },
  {
   "cell_type": "code",
   "execution_count": 25,
   "id": "f816d1ba",
   "metadata": {},
   "outputs": [
    {
     "data": {
      "image/png": "[encoded data removed]",
      "text/plain": [
       "<Figure size 640x480 with 1 Axes>"
      ]
     },
     "metadata": {},
     "output_type": "display_data"
    }
   ],
   "source": [
    "# Histogram of variable 'final_test'\n",
    "data = df['final_test']\n",
    "num_bins = 5\n",
    "plt.hist(data, num_bins, facecolor = 'green', alpha = 0.5)\n",
    "plt.show()"
   ]
  },
  {
   "cell_type": "code",
   "execution_count": 26,
   "id": "deb60e08",
   "metadata": {},
   "outputs": [
    {
     "data": {
      "text/plain": [
       "-0.1728269349359346"
      ]
     },
     "execution_count": 26,
     "metadata": {},
     "output_type": "execute_result"
    }
   ],
   "source": [
    "# Kurtosis\n",
    "df['final_test'].kurt()"
   ]
  },
  {
   "cell_type": "markdown",
   "id": "ed2ab206",
   "metadata": {},
   "source": [
    "Kurtosis indicates how the tails of a distribution differ from the normal distribution. Use kurtosis to help you initially understand the general characteristics of the distribution of your data.\n",
    "\n",
    "A negative kurtosis means that your distribution is flatter than a normal curve with the same mean and standard deviation."
   ]
  },
  {
   "cell_type": "markdown",
   "id": "003f37f7",
   "metadata": {},
   "source": [
    "![Kurtosis](images/Kurtosis.png 'kurtosis')"
   ]
  },
  {
   "cell_type": "code",
   "execution_count": 28,
   "id": "6df5faa6",
   "metadata": {},
   "outputs": [
    {
     "data": {
      "text/html": [
       "<div>\n",
       "<style scoped>\n",
       "    .dataframe tbody tr th:only-of-type {\n",
       "        vertical-align: middle;\n",
       "    }\n",
       "\n",
       "    .dataframe tbody tr th {\n",
       "        vertical-align: top;\n",
       "    }\n",
       "\n",
       "    .dataframe thead th {\n",
       "        text-align: right;\n",
       "    }\n",
       "</style>\n",
       "<table border=\"1\" class=\"dataframe\">\n",
       "  <thead>\n",
       "    <tr style=\"text-align: right;\">\n",
       "      <th></th>\n",
       "      <th>age</th>\n",
       "      <th>test</th>\n",
       "      <th>final_test</th>\n",
       "    </tr>\n",
       "  </thead>\n",
       "  <tbody>\n",
       "    <tr>\n",
       "      <th>age</th>\n",
       "      <td>1.000000</td>\n",
       "      <td>-0.222014</td>\n",
       "      <td>-0.199262</td>\n",
       "    </tr>\n",
       "    <tr>\n",
       "      <th>test</th>\n",
       "      <td>-0.222014</td>\n",
       "      <td>1.000000</td>\n",
       "      <td>0.987559</td>\n",
       "    </tr>\n",
       "    <tr>\n",
       "      <th>final_test</th>\n",
       "      <td>-0.199262</td>\n",
       "      <td>0.987559</td>\n",
       "      <td>1.000000</td>\n",
       "    </tr>\n",
       "  </tbody>\n",
       "</table>\n",
       "</div>"
      ],
      "text/plain": [
       "                 age      test  final_test\n",
       "age         1.000000 -0.222014   -0.199262\n",
       "test       -0.222014  1.000000    0.987559\n",
       "final_test -0.199262  0.987559    1.000000"
      ]
     },
     "execution_count": 28,
     "metadata": {},
     "output_type": "execute_result"
    }
   ],
   "source": [
    "# Correlation\n",
    "df.corr()"
   ]
  },
  {
   "cell_type": "code",
   "execution_count": 30,
   "id": "ed6fc3ff",
   "metadata": {},
   "outputs": [
    {
     "data": {
      "image/png": "[encoded data removed]",
      "text/plain": [
       "<Figure size 640x480 with 1 Axes>"
      ]
     },
     "metadata": {},
     "output_type": "display_data"
    }
   ],
   "source": [
    "# Scatter plot graph\n",
    "\n",
    "# x and y values\n",
    "x = df['test']\n",
    "y = df['final_test']\n",
    "\n",
    "# Plot\n",
    "plt.scatter(x, y, alpha = 0.5)\n",
    "plt.title('Test x Final Test')\n",
    "plt.xlabel('Test')\n",
    "plt.ylabel('Final Test')\n",
    "plt.show()"
   ]
  },
  {
   "cell_type": "markdown",
   "id": "93984a97",
   "metadata": {},
   "source": [
    "**Attention:** Correlation does not imply causality"
   ]
  },
  {
   "cell_type": "markdown",
   "id": "a75f7bbf",
   "metadata": {},
   "source": [
    "# The End"
   ]
  }
 ],
 "metadata": {
  "kernelspec": {
   "display_name": "Python 3 (ipykernel)",
   "language": "python",
   "name": "python3"
  },
  "language_info": {
   "codemirror_mode": {
    "name": "ipython",
    "version": 3
   },
   "file_extension": ".py",
   "mimetype": "text/x-python",
   "name": "python",
   "nbconvert_exporter": "python",
   "pygments_lexer": "ipython3",
   "version": "3.8.13"
  }
 },
 "nbformat": 4,
 "nbformat_minor": 5
}
