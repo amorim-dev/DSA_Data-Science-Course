{
 "cells": [
  {
   "cell_type": "markdown",
   "id": "e25e439c",
   "metadata": {},
   "source": [
    "# Big Data Real-Time Analytics with Python and Spark\n",
    "\n",
    "## Chapter 2 - Data Manipulation in Python with Numpy\n",
    "- Documentation: https://numpy.org/\n",
    "- How to import NumPy\n",
    "- Ways to create a data structure With NumPy\n",
    "- Data types\n",
    "- Operations"
   ]
  },
  {
   "cell_type": "code",
   "execution_count": 1,
   "id": "cff74885",
   "metadata": {},
   "outputs": [
    {
     "name": "stdout",
     "output_type": "stream",
     "text": [
      "The version used in this notebook is:  3.8.8\n"
     ]
    }
   ],
   "source": [
    "# Python version\n",
    "from platform import python_version\n",
    "print('The version used in this notebook is: ', python_version())"
   ]
  },
  {
   "cell_type": "code",
   "execution_count": 2,
   "id": "7f049552",
   "metadata": {},
   "outputs": [],
   "source": [
    "# to update a package (!pip install -U package_name)\n",
    "# to install an specific package version (!pip install package-name==version)\n",
    "# (pip) is a python package installer and use(!) to run the command in the OS\n",
    "# Use (-q) to quite istallation and (-U) to update  if the package already exists\n",
    "\n",
    "# After install or update the package, restart jupyter notebook\n",
    "\n",
    "# Install watermark package\n",
    "# This package is used to record the versions of other packages used in this jupyter notebook\n",
    "!pip install -q -U watermark"
   ]
  },
  {
   "cell_type": "code",
   "execution_count": 3,
   "id": "21bd42dc",
   "metadata": {},
   "outputs": [],
   "source": [
    "# I do not need to install Numpy because I already have it inside anaconda list packages\n",
    "# Importing the Numpy module (because I have to load it into my session) )\n",
    "import numpy as np"
   ]
  },
  {
   "cell_type": "code",
   "execution_count": 4,
   "id": "0fd9dc92",
   "metadata": {},
   "outputs": [
    {
     "name": "stdout",
     "output_type": "stream",
     "text": [
      "Author: Bianca Amorim\n",
      "\n",
      "numpy: 1.21.5\n",
      "\n"
     ]
    }
   ],
   "source": [
    "# package version used in this notebook\n",
    "%reload_ext watermark\n",
    "%watermark -a \"Bianca Amorim\" --iversion"
   ]
  },
  {
   "cell_type": "markdown",
   "id": "b4198313",
   "metadata": {},
   "source": [
    "## Different ways to creating data structure with Numpy"
   ]
  },
  {
   "cell_type": "code",
   "execution_count": 5,
   "id": "6df08130",
   "metadata": {},
   "outputs": [],
   "source": [
    "# creating a one-dimensional array\n",
    "array1 = np.array([10, 20, 30, 40])"
   ]
  },
  {
   "cell_type": "code",
   "execution_count": 6,
   "id": "ba12469a",
   "metadata": {},
   "outputs": [
    {
     "name": "stdout",
     "output_type": "stream",
     "text": [
      "[10 20 30 40]\n"
     ]
    }
   ],
   "source": [
    "print(array1)"
   ]
  },
  {
   "cell_type": "code",
   "execution_count": 7,
   "id": "47d1a1be",
   "metadata": {},
   "outputs": [
    {
     "data": {
      "text/plain": [
       "(4,)"
      ]
     },
     "execution_count": 7,
     "metadata": {},
     "output_type": "execute_result"
    }
   ],
   "source": [
    "# cheking the shape of the array\n",
    "array1.shape"
   ]
  },
  {
   "cell_type": "markdown",
   "id": "a2dd74aa",
   "metadata": {},
   "source": [
    "Outcome (4,) means that I have a vector of a single dimension with 4 elements. The empty space after the comma indicate that we have only one dimension. \n",
    "Note: in pure python we call it a list, but in the numpy nomeclature we call it  an array"
   ]
  },
  {
   "cell_type": "code",
   "execution_count": 8,
   "id": "acabe2e2",
   "metadata": {},
   "outputs": [
    {
     "data": {
      "text/plain": [
       "1"
      ]
     },
     "execution_count": 8,
     "metadata": {},
     "output_type": "execute_result"
    }
   ],
   "source": [
    "# cheking the number of dimensions only to prove what I said above\n",
    "array1.ndim"
   ]
  },
  {
   "cell_type": "code",
   "execution_count": 9,
   "id": "be671c0c",
   "metadata": {},
   "outputs": [],
   "source": [
    "# creating a bi-dimensional array\n",
    "# note: Use [] on the outside of all[arrays]\n",
    "array2 = np.array([[100, 83,15],[42,78,0]])"
   ]
  },
  {
   "cell_type": "code",
   "execution_count": 10,
   "id": "61940aac",
   "metadata": {},
   "outputs": [
    {
     "name": "stdout",
     "output_type": "stream",
     "text": [
      "[[100  83  15]\n",
      " [ 42  78   0]]\n"
     ]
    }
   ],
   "source": [
    "print(array2)"
   ]
  },
  {
   "cell_type": "code",
   "execution_count": 11,
   "id": "ea044672",
   "metadata": {},
   "outputs": [
    {
     "data": {
      "text/plain": [
       "(2, 3)"
      ]
     },
     "execution_count": 11,
     "metadata": {},
     "output_type": "execute_result"
    }
   ],
   "source": [
    "# cheking the shape of the array\n",
    "array2.shape"
   ]
  },
  {
   "cell_type": "code",
   "execution_count": 12,
   "id": "67ea5c63",
   "metadata": {},
   "outputs": [
    {
     "data": {
      "text/plain": [
       "2"
      ]
     },
     "execution_count": 12,
     "metadata": {},
     "output_type": "execute_result"
    }
   ],
   "source": [
    "# cheking the number of dimensions only to prove what I said above\n",
    "array2.ndim"
   ]
  },
  {
   "cell_type": "markdown",
   "id": "d7006d4a",
   "metadata": {},
   "source": [
    "### In Python everything is an Object, with Methods and Attributes\n",
    "- **Method** used to be a function, it is an action that I perform on the object\n",
    "- **Attibute** is a feature(characteristic) of the object"
   ]
  },
  {
   "cell_type": "code",
   "execution_count": 13,
   "id": "1442eb07",
   "metadata": {},
   "outputs": [
    {
     "data": {
      "text/plain": [
       "100"
      ]
     },
     "execution_count": 13,
     "metadata": {},
     "output_type": "execute_result"
    }
   ],
   "source": [
    "# Method\n",
    "array2.max()"
   ]
  },
  {
   "cell_type": "code",
   "execution_count": 14,
   "id": "7c2e8d0b",
   "metadata": {},
   "outputs": [
    {
     "data": {
      "text/plain": [
       "2"
      ]
     },
     "execution_count": 14,
     "metadata": {},
     "output_type": "execute_result"
    }
   ],
   "source": [
    "array2.ndim"
   ]
  },
  {
   "cell_type": "markdown",
   "id": "c07e9647",
   "metadata": {},
   "source": [
    "### Creating data structure with arange"
   ]
  },
  {
   "cell_type": "code",
   "execution_count": 15,
   "id": "05b94895",
   "metadata": {},
   "outputs": [],
   "source": [
    "# Create an array with the number of elements that I pass as parameter\n",
    "array3 = np.arange(15)"
   ]
  },
  {
   "cell_type": "code",
   "execution_count": 16,
   "id": "06d8d717",
   "metadata": {},
   "outputs": [
    {
     "data": {
      "text/plain": [
       "array([ 0,  1,  2,  3,  4,  5,  6,  7,  8,  9, 10, 11, 12, 13, 14])"
      ]
     },
     "execution_count": 16,
     "metadata": {},
     "output_type": "execute_result"
    }
   ],
   "source": [
    "array3"
   ]
  },
  {
   "cell_type": "code",
   "execution_count": 17,
   "id": "cb09dd03",
   "metadata": {},
   "outputs": [],
   "source": [
    "# I can customize using arguments: (start/end(exclusive)/steps) \n",
    "# If you want 15 in the outcome, you have to put 16\n",
    "array4 = np.arange(0, 15, 3)"
   ]
  },
  {
   "cell_type": "code",
   "execution_count": 18,
   "id": "a03ddf64",
   "metadata": {},
   "outputs": [
    {
     "data": {
      "text/plain": [
       "array([ 0,  3,  6,  9, 12])"
      ]
     },
     "execution_count": 18,
     "metadata": {},
     "output_type": "execute_result"
    }
   ],
   "source": [
    "array4"
   ]
  },
  {
   "cell_type": "markdown",
   "id": "5c65f99d",
   "metadata": {},
   "source": [
    "### Creating data structure with Linspace"
   ]
  },
  {
   "cell_type": "code",
   "execution_count": 19,
   "id": "3f17c6e9",
   "metadata": {},
   "outputs": [
    {
     "data": {
      "text/plain": [
       "array([0., 1., 2., 3.])"
      ]
     },
     "execution_count": 19,
     "metadata": {},
     "output_type": "execute_result"
    }
   ],
   "source": [
    "# Linspace will create linear space for the values I have in my array, \n",
    "# arguments: (start, end, number of elements)\n",
    "# we can print array5 in the same line with an \";\" after the first command \n",
    "# the point \".\" after the number is because the default type of the function is a float (You can change it)\n",
    "array5 = np.linspace(0, 3, 4); array5"
   ]
  },
  {
   "cell_type": "markdown",
   "id": "cb56839e",
   "metadata": {},
   "source": [
    "### Creating data structure with other functions"
   ]
  },
  {
   "cell_type": "markdown",
   "id": "9a69e8aa",
   "metadata": {},
   "source": [
    "**numpy.zeros**"
   ]
  },
  {
   "cell_type": "code",
   "execution_count": 20,
   "id": "c9374182",
   "metadata": {},
   "outputs": [
    {
     "data": {
      "text/plain": [
       "array([[0., 0., 0., 0., 0., 0., 0., 0.],\n",
       "       [0., 0., 0., 0., 0., 0., 0., 0.],\n",
       "       [0., 0., 0., 0., 0., 0., 0., 0.],\n",
       "       [0., 0., 0., 0., 0., 0., 0., 0.],\n",
       "       [0., 0., 0., 0., 0., 0., 0., 0.],\n",
       "       [0., 0., 0., 0., 0., 0., 0., 0.],\n",
       "       [0., 0., 0., 0., 0., 0., 0., 0.],\n",
       "       [0., 0., 0., 0., 0., 0., 0., 0.],\n",
       "       [0., 0., 0., 0., 0., 0., 0., 0.],\n",
       "       [0., 0., 0., 0., 0., 0., 0., 0.]])"
      ]
     },
     "execution_count": 20,
     "metadata": {},
     "output_type": "execute_result"
    }
   ],
   "source": [
    "# array 10x8 of zero\n",
    "# 2-dimensional (x, y)\n",
    "array6 = np.zeros((10, 8)); array6"
   ]
  },
  {
   "cell_type": "markdown",
   "id": "ae1cacbd",
   "metadata": {},
   "source": [
    "It is very common to create an array filled with zero when I am training an artificial neural network model. Where all the work is done through matrix operations with arrays. So I create this array, fill it with 0, and change the values while the training goes on."
   ]
  },
  {
   "cell_type": "markdown",
   "id": "c7447573",
   "metadata": {},
   "source": [
    "**numpy.ones**"
   ]
  },
  {
   "cell_type": "code",
   "execution_count": 63,
   "id": "f47b08fa",
   "metadata": {},
   "outputs": [
    {
     "data": {
      "text/plain": [
       "array([[[1., 1., 1., 1.],\n",
       "        [1., 1., 1., 1.],\n",
       "        [1., 1., 1., 1.]],\n",
       "\n",
       "       [[1., 1., 1., 1.],\n",
       "        [1., 1., 1., 1.],\n",
       "        [1., 1., 1., 1.]]])"
      ]
     },
     "execution_count": 63,
     "metadata": {},
     "output_type": "execute_result"
    }
   ],
   "source": [
    "# array 2x3x2 de 1's\n",
    "# 3-dimensional (x, y, z) or (Rows, columns, depth)\n",
    "array7 = np.ones((2, 3, 4)); array7"
   ]
  },
  {
   "cell_type": "markdown",
   "id": "c91cb274",
   "metadata": {},
   "source": [
    "**numpy.eye**"
   ]
  },
  {
   "cell_type": "code",
   "execution_count": 22,
   "id": "cbd5f92f",
   "metadata": {},
   "outputs": [
    {
     "data": {
      "text/plain": [
       "array([[1., 0., 0.],\n",
       "       [0., 1., 0.],\n",
       "       [0., 0., 1.]])"
      ]
     },
     "execution_count": 22,
     "metadata": {},
     "output_type": "execute_result"
    }
   ],
   "source": [
    "# Create a identity array\n",
    "# argument is number of 1's in the diagonal\n",
    "array8 = np.eye(3); array8"
   ]
  },
  {
   "cell_type": "markdown",
   "id": "37162fa5",
   "metadata": {},
   "source": [
    "**numpy.diag**"
   ]
  },
  {
   "cell_type": "code",
   "execution_count": 23,
   "id": "0f986d29",
   "metadata": {},
   "outputs": [
    {
     "data": {
      "text/plain": [
       "array([[2, 0, 0, 0],\n",
       "       [0, 1, 0, 0],\n",
       "       [0, 0, 4, 0],\n",
       "       [0, 0, 0, 6]])"
      ]
     },
     "execution_count": 23,
     "metadata": {},
     "output_type": "execute_result"
    }
   ],
   "source": [
    "# Create a diagonal array\n",
    "# argument is the diagonal values\n",
    "array9 = np.diag((2,1,4,6)); array9"
   ]
  },
  {
   "cell_type": "markdown",
   "id": "7a704791",
   "metadata": {},
   "source": [
    "**numpy.random.rand**  "
   ]
  },
  {
   "cell_type": "markdown",
   "id": "e532e47c",
   "metadata": {},
   "source": [
    "I call the function rand of the package random of Numpy. This function create a random elements. The argument is the number of elements that I want in the array. Each run will be different."
   ]
  },
  {
   "cell_type": "code",
   "execution_count": 24,
   "id": "49f39e39",
   "metadata": {},
   "outputs": [
    {
     "data": {
      "text/plain": [
       "array([0.54340494, 0.27836939, 0.42451759, 0.84477613, 0.00471886])"
      ]
     },
     "execution_count": 24,
     "metadata": {},
     "output_type": "execute_result"
    }
   ],
   "source": [
    "# the function rand(n) produces a sequence of uniformly distributed numbers with a renge from 0 to n\n",
    "np.random.seed(100) #First I define a set seed\n",
    "array10 = np.random.rand(5); array10"
   ]
  },
  {
   "cell_type": "markdown",
   "id": "55e11465",
   "metadata": {},
   "source": [
    "**Why set seed?** When we work with random process, the function will create this random process in each run, the set seed allows you to run this random process with the same pattern. **The random values will be always random, but the pattern creation will be the same.** This is important so that you can always reproduce the same result in a test or analysis process. It is also very useful in machine learning. e.g. this is very common when you have to reproduce the same steps each time you run a machine learning model."
   ]
  },
  {
   "cell_type": "markdown",
   "id": "598ed7e2",
   "metadata": {},
   "source": [
    "**numpy.random.randn**  "
   ]
  },
  {
   "cell_type": "markdown",
   "id": "ac9f683d",
   "metadata": {},
   "source": [
    "It is useful if you want to initialize a machine learning model and you want that the coefficients start following a normal distribution, this is very common in some algorithms."
   ]
  },
  {
   "cell_type": "code",
   "execution_count": 25,
   "id": "957b020a",
   "metadata": {},
   "outputs": [
    {
     "data": {
      "text/plain": [
       "array([ 0.35467445, -0.78606433, -0.2318722 ,  0.20797568,  0.93580797])"
      ]
     },
     "execution_count": 25,
     "metadata": {},
     "output_type": "execute_result"
    }
   ],
   "source": [
    "# np.random.randn\n",
    "# the function randn(n) produces a sequence of normal  distributed numbers (Gaussian)\n",
    "array11 = np.random.randn(5); array11"
   ]
  },
  {
   "cell_type": "markdown",
   "id": "b6bfe8d2",
   "metadata": {},
   "source": [
    "**numpy.empty**"
   ]
  },
  {
   "cell_type": "markdown",
   "id": "a2b32905",
   "metadata": {},
   "source": [
    "When you need only the structure like when you create an array of zeros. Note: As you can see below, it does not look empty, these numbers is memory garbage that has been brought by the python language. But now I have the structure and then I just fill it with the elements that I need."
   ]
  },
  {
   "cell_type": "code",
   "execution_count": 26,
   "id": "f7a4b037",
   "metadata": {},
   "outputs": [
    {
     "data": {
      "text/plain": [
       "array([[4.64305497e-310, 0.00000000e+000],\n",
       "       [0.00000000e+000, 0.00000000e+000],\n",
       "       [0.00000000e+000, 0.00000000e+000]])"
      ]
     },
     "execution_count": 26,
     "metadata": {},
     "output_type": "execute_result"
    }
   ],
   "source": [
    "array12 = np.empty((3,2)); array12"
   ]
  },
  {
   "cell_type": "markdown",
   "id": "7cc1fdbf",
   "metadata": {},
   "source": [
    "**numpy.tile**"
   ]
  },
  {
   "cell_type": "markdown",
   "id": "f6a54beb",
   "metadata": {},
   "source": [
    "We duplicate the number of values of the array."
   ]
  },
  {
   "cell_type": "code",
   "execution_count": 27,
   "id": "76c0c40c",
   "metadata": {},
   "outputs": [
    {
     "data": {
      "text/plain": [
       "array([[9, 4],\n",
       "       [3, 7]])"
      ]
     },
     "execution_count": 27,
     "metadata": {},
     "output_type": "execute_result"
    }
   ],
   "source": [
    "np.array([[9, 4], [3, 7]])"
   ]
  },
  {
   "cell_type": "code",
   "execution_count": 28,
   "id": "7d0fea41",
   "metadata": {},
   "outputs": [
    {
     "data": {
      "text/plain": [
       "array([[9, 4, 9, 4, 9, 4, 9, 4],\n",
       "       [3, 7, 3, 7, 3, 7, 3, 7]])"
      ]
     },
     "execution_count": 28,
     "metadata": {},
     "output_type": "execute_result"
    }
   ],
   "source": [
    "# passing a scalar number\n",
    "# 4 is the argument, is the copies number of each array\n",
    "np.tile(np.array([[9, 4], [3, 7]]), 4)"
   ]
  },
  {
   "cell_type": "code",
   "execution_count": 29,
   "id": "f761a71d",
   "metadata": {},
   "outputs": [
    {
     "data": {
      "text/plain": [
       "array([[9, 4, 9, 4],\n",
       "       [3, 7, 3, 7],\n",
       "       [9, 4, 9, 4],\n",
       "       [3, 7, 3, 7]])"
      ]
     },
     "execution_count": 29,
     "metadata": {},
     "output_type": "execute_result"
    }
   ],
   "source": [
    "# Passing the dimension that I want\n",
    "np.tile(np.array([[9, 4], [3, 7]]), (2,2))"
   ]
  },
  {
   "cell_type": "markdown",
   "id": "98a80050",
   "metadata": {},
   "source": [
    "### Numpy Data types "
   ]
  },
  {
   "cell_type": "code",
   "execution_count": 30,
   "id": "87bebf3a",
   "metadata": {},
   "outputs": [],
   "source": [
    "array13 = np.array([8, -3, 5, 9], dtype = 'float')"
   ]
  },
  {
   "cell_type": "code",
   "execution_count": 31,
   "id": "a9dc6618",
   "metadata": {},
   "outputs": [
    {
     "name": "stdout",
     "output_type": "stream",
     "text": [
      "[ 8. -3.  5.  9.]\n"
     ]
    }
   ],
   "source": [
    "print(array13)"
   ]
  },
  {
   "cell_type": "code",
   "execution_count": 32,
   "id": "d22a3e15",
   "metadata": {},
   "outputs": [
    {
     "data": {
      "text/plain": [
       "dtype('float64')"
      ]
     },
     "execution_count": 32,
     "metadata": {},
     "output_type": "execute_result"
    }
   ],
   "source": [
    "array13.dtype"
   ]
  },
  {
   "cell_type": "markdown",
   "id": "2b5da384",
   "metadata": {},
   "source": [
    "The difference between float64 and float32 is basically the precision of the decimal places."
   ]
  },
  {
   "cell_type": "code",
   "execution_count": 33,
   "id": "02a843cc",
   "metadata": {},
   "outputs": [],
   "source": [
    "array14 = np.array([2, 4, 6, 8])"
   ]
  },
  {
   "cell_type": "code",
   "execution_count": 34,
   "id": "fd4f3d94",
   "metadata": {},
   "outputs": [
    {
     "name": "stdout",
     "output_type": "stream",
     "text": [
      "[2 4 6 8]\n"
     ]
    }
   ],
   "source": [
    "print(array14)"
   ]
  },
  {
   "cell_type": "code",
   "execution_count": 35,
   "id": "c59a21c1",
   "metadata": {},
   "outputs": [
    {
     "data": {
      "text/plain": [
       "dtype('int64')"
      ]
     },
     "execution_count": 35,
     "metadata": {},
     "output_type": "execute_result"
    }
   ],
   "source": [
    "array14.dtype # By default it creates as integer"
   ]
  },
  {
   "cell_type": "markdown",
   "id": "6825c940",
   "metadata": {},
   "source": [
    "**Note:** Is important always check the type of the array if it has the type that you want."
   ]
  },
  {
   "cell_type": "code",
   "execution_count": 36,
   "id": "e01e0c03",
   "metadata": {},
   "outputs": [],
   "source": [
    "array15 = np.array([2.0, 4, 6, 8])"
   ]
  },
  {
   "cell_type": "code",
   "execution_count": 37,
   "id": "5ce60b83",
   "metadata": {},
   "outputs": [
    {
     "data": {
      "text/plain": [
       "dtype('float64')"
      ]
     },
     "execution_count": 37,
     "metadata": {},
     "output_type": "execute_result"
    }
   ],
   "source": [
    "array15.dtype"
   ]
  },
  {
   "cell_type": "markdown",
   "id": "c1ec3062",
   "metadata": {},
   "source": [
    "**Note:** If I have one float number, the default type change to float."
   ]
  },
  {
   "cell_type": "code",
   "execution_count": 38,
   "id": "cd9eed8a",
   "metadata": {},
   "outputs": [],
   "source": [
    "array16 = np.array(['Data', 'Science', 'Academy'])"
   ]
  },
  {
   "cell_type": "code",
   "execution_count": 39,
   "id": "2a448e56",
   "metadata": {},
   "outputs": [
    {
     "data": {
      "text/plain": [
       "dtype('<U7')"
      ]
     },
     "execution_count": 39,
     "metadata": {},
     "output_type": "execute_result"
    }
   ],
   "source": [
    "array16.dtype"
   ]
  },
  {
   "cell_type": "markdown",
   "id": "a69e3027",
   "metadata": {},
   "source": [
    "**Note:** U7 is the unicode type, string to make it simple. When we work only with python is usually create a structure as a string type or character"
   ]
  },
  {
   "cell_type": "code",
   "execution_count": 40,
   "id": "722b2fb3",
   "metadata": {},
   "outputs": [],
   "source": [
    "array17 = np.array([True, False, True])"
   ]
  },
  {
   "cell_type": "code",
   "execution_count": 41,
   "id": "e3a35c9c",
   "metadata": {},
   "outputs": [
    {
     "data": {
      "text/plain": [
       "dtype('bool')"
      ]
     },
     "execution_count": 41,
     "metadata": {},
     "output_type": "execute_result"
    }
   ],
   "source": [
    "array17.dtype"
   ]
  },
  {
   "cell_type": "code",
   "execution_count": 42,
   "id": "34dd0e18",
   "metadata": {},
   "outputs": [],
   "source": [
    "array18 = np.array([7, -3, 5.24])"
   ]
  },
  {
   "cell_type": "code",
   "execution_count": 43,
   "id": "e7dd9b14",
   "metadata": {},
   "outputs": [
    {
     "data": {
      "text/plain": [
       "dtype('float64')"
      ]
     },
     "execution_count": 43,
     "metadata": {},
     "output_type": "execute_result"
    }
   ],
   "source": [
    "array18.dtype"
   ]
  },
  {
   "cell_type": "code",
   "execution_count": 44,
   "id": "64086cae",
   "metadata": {},
   "outputs": [
    {
     "data": {
      "text/plain": [
       "array([ 7, -3,  5])"
      ]
     },
     "execution_count": 44,
     "metadata": {},
     "output_type": "execute_result"
    }
   ],
   "source": [
    "# Changing the data type\n",
    "array18.astype(int)"
   ]
  },
  {
   "cell_type": "markdown",
   "id": "635e14a9",
   "metadata": {},
   "source": [
    "> **Warning:** It rounds following the mathematical patterns, but you can lose information. Is it what you want? \n"
   ]
  },
  {
   "cell_type": "markdown",
   "id": "ff853962",
   "metadata": {},
   "source": [
    "### Operation with Arrays"
   ]
  },
  {
   "cell_type": "markdown",
   "id": "6f1909dd",
   "metadata": {},
   "source": [
    "With numpy we can with a single instruction, create the data structure, and perform an operation."
   ]
  },
  {
   "cell_type": "code",
   "execution_count": 45,
   "id": "b6c9d4a4",
   "metadata": {},
   "outputs": [],
   "source": [
    "# Array starting from 0, with 20 elements and multiplied by 5\n",
    "array19 = np.arange(0, 30) * 5"
   ]
  },
  {
   "cell_type": "code",
   "execution_count": 46,
   "id": "b56d4f72",
   "metadata": {},
   "outputs": [
    {
     "name": "stdout",
     "output_type": "stream",
     "text": [
      "[  0   5  10  15  20  25  30  35  40  45  50  55  60  65  70  75  80  85\n",
      "  90  95 100 105 110 115 120 125 130 135 140 145]\n"
     ]
    }
   ],
   "source": [
    "print(array19)"
   ]
  },
  {
   "cell_type": "code",
   "execution_count": 47,
   "id": "0e846ffb",
   "metadata": {},
   "outputs": [],
   "source": [
    "# create an array and raise to the fourth power\n",
    "array20 = np.arange(5) ** 4"
   ]
  },
  {
   "cell_type": "code",
   "execution_count": 48,
   "id": "6e643382",
   "metadata": {},
   "outputs": [
    {
     "data": {
      "text/plain": [
       "array([  0,   1,  16,  81, 256])"
      ]
     },
     "execution_count": 48,
     "metadata": {},
     "output_type": "execute_result"
    }
   ],
   "source": [
    "array20"
   ]
  },
  {
   "cell_type": "code",
   "execution_count": 49,
   "id": "89f7cd06",
   "metadata": {},
   "outputs": [],
   "source": [
    "# create an array and add a number to each element of the array\n",
    "array21 = np.arange(0, 30) + 1"
   ]
  },
  {
   "cell_type": "code",
   "execution_count": 50,
   "id": "8d22faa1",
   "metadata": {},
   "outputs": [
    {
     "data": {
      "text/plain": [
       "array([ 1,  2,  3,  4,  5,  6,  7,  8,  9, 10, 11, 12, 13, 14, 15, 16, 17,\n",
       "       18, 19, 20, 21, 22, 23, 24, 25, 26, 27, 28, 29, 30])"
      ]
     },
     "execution_count": 50,
     "metadata": {},
     "output_type": "execute_result"
    }
   ],
   "source": [
    "array21"
   ]
  },
  {
   "cell_type": "code",
   "execution_count": 51,
   "id": "ebf2972e",
   "metadata": {},
   "outputs": [],
   "source": [
    "# create an array22 with element from 0 to 30, step 3, and add 3\n",
    "# create am array23 with element from 1 to 11\n",
    "array22 = np.arange(0, 30, 3) + 3\n",
    "array23 = np.arange(1, 11)"
   ]
  },
  {
   "cell_type": "code",
   "execution_count": 52,
   "id": "ea0f4988",
   "metadata": {},
   "outputs": [
    {
     "data": {
      "text/plain": [
       "array([ 3,  6,  9, 12, 15, 18, 21, 24, 27, 30])"
      ]
     },
     "execution_count": 52,
     "metadata": {},
     "output_type": "execute_result"
    }
   ],
   "source": [
    "array22"
   ]
  },
  {
   "cell_type": "code",
   "execution_count": 53,
   "id": "6091225b",
   "metadata": {},
   "outputs": [
    {
     "data": {
      "text/plain": [
       "array([ 1,  2,  3,  4,  5,  6,  7,  8,  9, 10])"
      ]
     },
     "execution_count": 53,
     "metadata": {},
     "output_type": "execute_result"
    }
   ],
   "source": [
    "array23"
   ]
  },
  {
   "cell_type": "code",
   "execution_count": 54,
   "id": "b9195687",
   "metadata": {},
   "outputs": [
    {
     "data": {
      "text/plain": [
       "array([ 2,  4,  6,  8, 10, 12, 14, 16, 18, 20])"
      ]
     },
     "execution_count": 54,
     "metadata": {},
     "output_type": "execute_result"
    }
   ],
   "source": [
    "# Subtraction\n",
    "array22 - array23"
   ]
  },
  {
   "cell_type": "code",
   "execution_count": 55,
   "id": "ca58da3c",
   "metadata": {},
   "outputs": [
    {
     "data": {
      "text/plain": [
       "array([ 4,  8, 12, 16, 20, 24, 28, 32, 36, 40])"
      ]
     },
     "execution_count": 55,
     "metadata": {},
     "output_type": "execute_result"
    }
   ],
   "source": [
    "# Sum\n",
    "array22 + array23"
   ]
  },
  {
   "cell_type": "code",
   "execution_count": 56,
   "id": "452b76e2",
   "metadata": {},
   "outputs": [
    {
     "data": {
      "text/plain": [
       "array([3., 3., 3., 3., 3., 3., 3., 3., 3., 3.])"
      ]
     },
     "execution_count": 56,
     "metadata": {},
     "output_type": "execute_result"
    }
   ],
   "source": [
    "# Division\n",
    "array22 / array23"
   ]
  },
  {
   "cell_type": "code",
   "execution_count": 57,
   "id": "9f590c8c",
   "metadata": {},
   "outputs": [
    {
     "data": {
      "text/plain": [
       "array([  3,  12,  27,  48,  75, 108, 147, 192, 243, 300])"
      ]
     },
     "execution_count": 57,
     "metadata": {},
     "output_type": "execute_result"
    }
   ],
   "source": [
    "# Multiplication\n",
    "array22 * array23"
   ]
  },
  {
   "cell_type": "code",
   "execution_count": 58,
   "id": "dc24bb24",
   "metadata": {},
   "outputs": [
    {
     "data": {
      "text/plain": [
       "array([ True,  True,  True,  True,  True,  True,  True,  True,  True,\n",
       "        True])"
      ]
     },
     "execution_count": 58,
     "metadata": {},
     "output_type": "execute_result"
    }
   ],
   "source": [
    "# Compare arrays\n",
    "array22 > array23"
   ]
  },
  {
   "cell_type": "code",
   "execution_count": 59,
   "id": "1f7df0ac",
   "metadata": {},
   "outputs": [
    {
     "data": {
      "text/plain": [
       "array([False, False,  True, False])"
      ]
     },
     "execution_count": 59,
     "metadata": {},
     "output_type": "execute_result"
    }
   ],
   "source": [
    "# Create two boolean array and \n",
    "# Apply the \"and\" logic to compare both arrays with a Numpy method(function) \n",
    "arr1 = np.array([True, False, True, False])\n",
    "arr2 = np.array([False, False, True, False])\n",
    "np.logical_and(arr1, arr2)"
   ]
  },
  {
   "cell_type": "code",
   "execution_count": 60,
   "id": "b142a1be",
   "metadata": {},
   "outputs": [
    {
     "data": {
      "text/plain": [
       "array([ True, False,  True, False])"
      ]
     },
     "execution_count": 60,
     "metadata": {},
     "output_type": "execute_result"
    }
   ],
   "source": [
    "# Apply the \"or\" logic to compare both arrays with a Numpy method(function) \n",
    "np.logical_or(arr1, arr2)"
   ]
  },
  {
   "cell_type": "markdown",
   "id": "6bfa5c99",
   "metadata": {},
   "source": [
    "> We can create arrays with Python without Numpy, however Numpy is faster"
   ]
  },
  {
   "cell_type": "code",
   "execution_count": 61,
   "id": "28c59f38",
   "metadata": {},
   "outputs": [
    {
     "name": "stdout",
     "output_type": "stream",
     "text": [
      "2.49 µs ± 74.1 ns per loop (mean ± std. dev. of 7 runs, 100,000 loops each)\n"
     ]
    }
   ],
   "source": [
    "array_numpy = np.arange(1000)\n",
    "%timeit array_numpy ** 4"
   ]
  },
  {
   "cell_type": "code",
   "execution_count": 62,
   "id": "bcfb70f0",
   "metadata": {},
   "outputs": [
    {
     "name": "stdout",
     "output_type": "stream",
     "text": [
      "227 µs ± 3.26 µs per loop (mean ± std. dev. of 7 runs, 1,000 loops each)\n"
     ]
    }
   ],
   "source": [
    "# I have to use a list comprehension to create a loop\n",
    "array_python = range(1000)\n",
    "%timeit [array_python[i] ** 4 for i in array_python]"
   ]
  },
  {
   "cell_type": "markdown",
   "id": "9217f3e8",
   "metadata": {},
   "source": [
    "- **%timeit** is a jupyter notebook operator\n",
    "- **\"µs\"** means microseconds\n",
    "- **arange** is numpy and **range** is python"
   ]
  },
  {
   "cell_type": "markdown",
   "id": "83aaf256",
   "metadata": {},
   "source": [
    "## The End"
   ]
  }
 ],
 "metadata": {
  "kernelspec": {
   "display_name": "Python 3 (ipykernel)",
   "language": "python",
   "name": "python3"
  },
  "language_info": {
   "codemirror_mode": {
    "name": "ipython",
    "version": 3
   },
   "file_extension": ".py",
   "mimetype": "text/x-python",
   "name": "python",
   "nbconvert_exporter": "python",
   "pygments_lexer": "ipython3",
   "version": "3.8.13"
  }
 },
 "nbformat": 4,
 "nbformat_minor": 5
}
