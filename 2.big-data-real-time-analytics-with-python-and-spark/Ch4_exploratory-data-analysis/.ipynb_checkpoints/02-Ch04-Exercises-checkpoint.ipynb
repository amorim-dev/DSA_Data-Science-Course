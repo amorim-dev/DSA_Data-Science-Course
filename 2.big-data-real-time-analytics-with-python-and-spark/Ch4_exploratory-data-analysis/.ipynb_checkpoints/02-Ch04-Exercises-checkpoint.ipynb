{
 "cells": [
  {
   "cell_type": "markdown",
   "id": "8f333d88",
   "metadata": {},
   "source": [
    "# Big Data Real-Time Analytics with Python and Spark\n",
    "\n",
    "## Chapter 4 -  Exercises"
   ]
  },
  {
   "cell_type": "markdown",
   "id": "32ae3a8c",
   "metadata": {},
   "source": [
    "Hora de praticar um pouco. Resolva as questões a seguir e consulte a documentação Python se necessário! \n",
    "\n",
    "A solução será apresentada no próximo capítulo."
   ]
  },
  {
   "cell_type": "code",
   "execution_count": 1,
   "id": "71b3eea0",
   "metadata": {},
   "outputs": [],
   "source": [
    "# Imports\n",
    "import numpy as np\n",
    "import pandas as pd\n",
    "import matplotlib.pyplot as plt\n",
    "%matplotlib inline"
   ]
  },
  {
   "cell_type": "code",
   "execution_count": 2,
   "id": "88abf831",
   "metadata": {},
   "outputs": [
    {
     "name": "stdout",
     "output_type": "stream",
     "text": [
      "Author: Bianca Amorim\n",
      "\n",
      "pandas    : 1.4.2\n",
      "matplotlib: 3.4.3\n",
      "numpy     : 1.22.3\n",
      "\n"
     ]
    }
   ],
   "source": [
    "%reload_ext watermark\n",
    "%watermark -a \"Bianca Amorim\" --iversions"
   ]
  },
  {
   "cell_type": "code",
   "execution_count": 3,
   "id": "27c3b080",
   "metadata": {},
   "outputs": [],
   "source": [
    "# The dataset contains records of taxi runs\n",
    "df = pd.read_csv('datasets/dataframe.csv', parse_dates = ['Data'], usecols = list(range(0,6)))"
   ]
  },
  {
   "cell_type": "code",
   "execution_count": 4,
   "id": "903309ed",
   "metadata": {},
   "outputs": [
    {
     "data": {
      "text/plain": [
       "Data          datetime64[ns]\n",
       "Distancia            float64\n",
       "Tempo                 object\n",
       "Segundos             float64\n",
       "Minutos              float64\n",
       "Min_Por_Km           float64\n",
       "dtype: object"
      ]
     },
     "execution_count": 4,
     "metadata": {},
     "output_type": "execute_result"
    }
   ],
   "source": [
    "df.dtypes"
   ]
  },
  {
   "cell_type": "code",
   "execution_count": 5,
   "id": "b91e2b77",
   "metadata": {},
   "outputs": [
    {
     "data": {
      "text/html": [
       "<div>\n",
       "<style scoped>\n",
       "    .dataframe tbody tr th:only-of-type {\n",
       "        vertical-align: middle;\n",
       "    }\n",
       "\n",
       "    .dataframe tbody tr th {\n",
       "        vertical-align: top;\n",
       "    }\n",
       "\n",
       "    .dataframe thead th {\n",
       "        text-align: right;\n",
       "    }\n",
       "</style>\n",
       "<table border=\"1\" class=\"dataframe\">\n",
       "  <thead>\n",
       "    <tr style=\"text-align: right;\">\n",
       "      <th></th>\n",
       "      <th>Data</th>\n",
       "      <th>Distancia</th>\n",
       "      <th>Tempo</th>\n",
       "      <th>Segundos</th>\n",
       "      <th>Minutos</th>\n",
       "      <th>Min_Por_Km</th>\n",
       "    </tr>\n",
       "  </thead>\n",
       "  <tbody>\n",
       "    <tr>\n",
       "      <th>10</th>\n",
       "      <td>2015-08-13</td>\n",
       "      <td>2.35</td>\n",
       "      <td>0:17:25</td>\n",
       "      <td>1045.0</td>\n",
       "      <td>17.416667</td>\n",
       "      <td>7.411348</td>\n",
       "    </tr>\n",
       "    <tr>\n",
       "      <th>14</th>\n",
       "      <td>2015-08-16</td>\n",
       "      <td>0.65</td>\n",
       "      <td>NaN</td>\n",
       "      <td>NaN</td>\n",
       "      <td>NaN</td>\n",
       "      <td>NaN</td>\n",
       "    </tr>\n",
       "    <tr>\n",
       "      <th>36</th>\n",
       "      <td>2015-09-17</td>\n",
       "      <td>1.50</td>\n",
       "      <td>0:11:06</td>\n",
       "      <td>666.0</td>\n",
       "      <td>11.100000</td>\n",
       "      <td>7.400000</td>\n",
       "    </tr>\n",
       "    <tr>\n",
       "      <th>34</th>\n",
       "      <td>2015-09-12</td>\n",
       "      <td>3.05</td>\n",
       "      <td>0:23:46</td>\n",
       "      <td>1426.0</td>\n",
       "      <td>23.766667</td>\n",
       "      <td>7.792350</td>\n",
       "    </tr>\n",
       "    <tr>\n",
       "      <th>46</th>\n",
       "      <td>2015-10-14</td>\n",
       "      <td>1.37</td>\n",
       "      <td>0:09:05</td>\n",
       "      <td>545.0</td>\n",
       "      <td>9.083333</td>\n",
       "      <td>6.630170</td>\n",
       "    </tr>\n",
       "    <tr>\n",
       "      <th>37</th>\n",
       "      <td>2015-09-19</td>\n",
       "      <td>1.37</td>\n",
       "      <td>0:09:45</td>\n",
       "      <td>585.0</td>\n",
       "      <td>9.750000</td>\n",
       "      <td>7.116788</td>\n",
       "    </tr>\n",
       "    <tr>\n",
       "      <th>72</th>\n",
       "      <td>2015-12-19</td>\n",
       "      <td>3.10</td>\n",
       "      <td>0:26:15</td>\n",
       "      <td>1575.0</td>\n",
       "      <td>26.250000</td>\n",
       "      <td>8.467742</td>\n",
       "    </tr>\n",
       "    <tr>\n",
       "      <th>52</th>\n",
       "      <td>2015-10-31</td>\n",
       "      <td>2.01</td>\n",
       "      <td>NaN</td>\n",
       "      <td>NaN</td>\n",
       "      <td>NaN</td>\n",
       "      <td>NaN</td>\n",
       "    </tr>\n",
       "    <tr>\n",
       "      <th>74</th>\n",
       "      <td>2015-12-22</td>\n",
       "      <td>3.10</td>\n",
       "      <td>0:28:00</td>\n",
       "      <td>1680.0</td>\n",
       "      <td>28.000000</td>\n",
       "      <td>9.032258</td>\n",
       "    </tr>\n",
       "    <tr>\n",
       "      <th>66</th>\n",
       "      <td>2015-12-09</td>\n",
       "      <td>2.93</td>\n",
       "      <td>0:25:00</td>\n",
       "      <td>1500.0</td>\n",
       "      <td>25.000000</td>\n",
       "      <td>8.532423</td>\n",
       "    </tr>\n",
       "  </tbody>\n",
       "</table>\n",
       "</div>"
      ],
      "text/plain": [
       "         Data  Distancia    Tempo  Segundos    Minutos  Min_Por_Km\n",
       "10 2015-08-13       2.35  0:17:25    1045.0  17.416667    7.411348\n",
       "14 2015-08-16       0.65      NaN       NaN        NaN         NaN\n",
       "36 2015-09-17       1.50  0:11:06     666.0  11.100000    7.400000\n",
       "34 2015-09-12       3.05  0:23:46    1426.0  23.766667    7.792350\n",
       "46 2015-10-14       1.37  0:09:05     545.0   9.083333    6.630170\n",
       "37 2015-09-19       1.37  0:09:45     585.0   9.750000    7.116788\n",
       "72 2015-12-19       3.10  0:26:15    1575.0  26.250000    8.467742\n",
       "52 2015-10-31       2.01      NaN       NaN        NaN         NaN\n",
       "74 2015-12-22       3.10  0:28:00    1680.0  28.000000    9.032258\n",
       "66 2015-12-09       2.93  0:25:00    1500.0  25.000000    8.532423"
      ]
     },
     "execution_count": 5,
     "metadata": {},
     "output_type": "execute_result"
    }
   ],
   "source": [
    "df.sort_index(inplace = True)\n",
    "df.sample(10)"
   ]
  },
  {
   "cell_type": "markdown",
   "id": "6c7933e5",
   "metadata": {},
   "source": [
    "#### Exercise 1 - What is the maximum value of the Minutes column?"
   ]
  },
  {
   "cell_type": "code",
   "execution_count": null,
   "id": "5941cd18",
   "metadata": {},
   "outputs": [],
   "source": []
  },
  {
   "cell_type": "markdown",
   "id": "27b70437",
   "metadata": {},
   "source": [
    "#### Exercise 2 - What is the minimum distance value above 2.0?"
   ]
  },
  {
   "cell_type": "code",
   "execution_count": null,
   "id": "ef101367",
   "metadata": {},
   "outputs": [],
   "source": []
  },
  {
   "cell_type": "markdown",
   "id": "b6e1de32",
   "metadata": {},
   "source": [
    "#### Exercise 3 - Create a plot with the cumulative frequency of the Distance column."
   ]
  },
  {
   "cell_type": "code",
   "execution_count": null,
   "id": "cfd5e5bc",
   "metadata": {},
   "outputs": [],
   "source": []
  },
  {
   "cell_type": "markdown",
   "id": "d50a3f19",
   "metadata": {},
   "source": [
    "####  Exercise 4 - What is the day of the week at position index zero?"
   ]
  },
  {
   "cell_type": "code",
   "execution_count": null,
   "id": "d8ff666f",
   "metadata": {},
   "outputs": [],
   "source": []
  },
  {
   "cell_type": "markdown",
   "id": "b52f6325",
   "metadata": {},
   "source": [
    "#### Exercise 5 - What day of the week in the indexes in the top 5 positions?"
   ]
  },
  {
   "cell_type": "code",
   "execution_count": null,
   "id": "cf9da9b8",
   "metadata": {},
   "outputs": [],
   "source": []
  },
  {
   "cell_type": "markdown",
   "id": "c6a14786",
   "metadata": {},
   "source": [
    "#### Exercise 6 - Extract all the days of the week (in text format) and insert them in a new column in the dataframe df."
   ]
  },
  {
   "cell_type": "code",
   "execution_count": null,
   "id": "78ee55a7",
   "metadata": {},
   "outputs": [],
   "source": []
  },
  {
   "cell_type": "markdown",
   "id": "fbf230ca",
   "metadata": {},
   "source": [
    "#### Exercise 7 - Create a bar graph with the total distance traveled on each day of the week."
   ]
  },
  {
   "cell_type": "code",
   "execution_count": null,
   "id": "94b59d8c",
   "metadata": {},
   "outputs": [],
   "source": []
  },
  {
   "cell_type": "markdown",
   "id": "c0aa8826",
   "metadata": {},
   "source": [
    "#### Exercise 8 - Delete the Time column from the dataframe df."
   ]
  },
  {
   "cell_type": "code",
   "execution_count": null,
   "id": "75b77eef",
   "metadata": {},
   "outputs": [],
   "source": []
  },
  {
   "cell_type": "markdown",
   "id": "b3363306",
   "metadata": {},
   "source": [
    "#### Exercise 9 - What is the total number of taxi rides per day of the week?"
   ]
  },
  {
   "cell_type": "code",
   "execution_count": null,
   "id": "5c6dc307",
   "metadata": {},
   "outputs": [],
   "source": []
  },
  {
   "cell_type": "markdown",
   "id": "f0c9f1b8",
   "metadata": {},
   "source": [
    "#### Exercise 10 - What is the average for each of the columns by day of the week?"
   ]
  },
  {
   "cell_type": "code",
   "execution_count": null,
   "id": "526a954a",
   "metadata": {},
   "outputs": [],
   "source": []
  },
  {
   "cell_type": "markdown",
   "id": "9a1a898e",
   "metadata": {},
   "source": [
    "# The End"
   ]
  }
 ],
 "metadata": {
  "kernelspec": {
   "display_name": "Python 3 (ipykernel)",
   "language": "python",
   "name": "python3"
  },
  "language_info": {
   "codemirror_mode": {
    "name": "ipython",
    "version": 3
   },
   "file_extension": ".py",
   "mimetype": "text/x-python",
   "name": "python",
   "nbconvert_exporter": "python",
   "pygments_lexer": "ipython3",
   "version": "3.8.13"
  }
 },
 "nbformat": 4,
 "nbformat_minor": 5
}
