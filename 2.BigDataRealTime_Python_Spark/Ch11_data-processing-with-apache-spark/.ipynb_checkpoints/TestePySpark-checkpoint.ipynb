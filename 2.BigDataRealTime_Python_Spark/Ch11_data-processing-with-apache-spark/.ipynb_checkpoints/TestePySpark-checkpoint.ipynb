{
 "cells": [
  {
   "cell_type": "markdown",
   "id": "7bf3981f",
   "metadata": {},
   "source": [
    "# Testando a Instalação do PySpark"
   ]
  },
  {
   "cell_type": "code",
   "execution_count": 5,
   "id": "33f4f56f",
   "metadata": {},
   "outputs": [],
   "source": [
    "# findspark is the package that allow jupyter access pyspark. I already install it\n",
    "#!pip install findspark"
   ]
  },
  {
   "cell_type": "code",
   "execution_count": 2,
   "id": "f9fb6082",
   "metadata": {},
   "outputs": [],
   "source": [
    "# I charge the package here in this jupyter\n",
    "import findspark\n",
    "findspark.init()"
   ]
  },
  {
   "cell_type": "code",
   "execution_count": 3,
   "id": "6e053931",
   "metadata": {},
   "outputs": [],
   "source": [
    "# Install pyspark\n",
    "import pyspark\n",
    "import random"
   ]
  },
  {
   "cell_type": "code",
   "execution_count": 4,
   "id": "9b010ad7",
   "metadata": {},
   "outputs": [
    {
     "name": "stdout",
     "output_type": "stream",
     "text": [
      "22/11/19 12:12:54 WARN Utils: Your hostname, Avell resolves to a loopback address: 127.0.1.1; using 192.168.1.80 instead (on interface wlo1)\n",
      "22/11/19 12:12:54 WARN Utils: Set SPARK_LOCAL_IP if you need to bind to another address\n"
     ]
    },
    {
     "name": "stderr",
     "output_type": "stream",
     "text": [
      "Setting default log level to \"WARN\".\n",
      "To adjust logging level use sc.setLogLevel(newLevel). For SparkR, use setLogLevel(newLevel).\n"
     ]
    },
    {
     "name": "stdout",
     "output_type": "stream",
     "text": [
      "22/11/19 12:12:55 WARN NativeCodeLoader: Unable to load native-hadoop library for your platform... using builtin-java classes where applicable\n"
     ]
    }
   ],
   "source": [
    "# Test pySpark\n",
    "sc = pyspark.SparkContext(appName = \"TestePySpark\")"
   ]
  },
  {
   "cell_type": "code",
   "execution_count": 6,
   "id": "bde2c5bb",
   "metadata": {},
   "outputs": [],
   "source": [
    "sc.setLogLevel(\"INFO\")"
   ]
  },
  {
   "cell_type": "code",
   "execution_count": 7,
   "id": "d2581187",
   "metadata": {},
   "outputs": [
    {
     "data": {
      "text/html": [
       "\n",
       "        <div>\n",
       "            <p><b>SparkContext</b></p>\n",
       "\n",
       "            <p><a href=\"http://Avell.lan:4040\">Spark UI</a></p>\n",
       "\n",
       "            <dl>\n",
       "              <dt>Version</dt>\n",
       "                <dd><code>v3.3.1</code></dd>\n",
       "              <dt>Master</dt>\n",
       "                <dd><code>local[*]</code></dd>\n",
       "              <dt>AppName</dt>\n",
       "                <dd><code>TestePySpark</code></dd>\n",
       "            </dl>\n",
       "        </div>\n",
       "        "
      ],
      "text/plain": [
       "<SparkContext master=local[*] appName=TestePySpark>"
      ]
     },
     "execution_count": 7,
     "metadata": {},
     "output_type": "execute_result"
    }
   ],
   "source": [
    "sc"
   ]
  },
  {
   "cell_type": "code",
   "execution_count": 8,
   "id": "ac3ab624",
   "metadata": {},
   "outputs": [],
   "source": [
    "numero_amostras = 1000000"
   ]
  },
  {
   "cell_type": "code",
   "execution_count": 9,
   "id": "211361d0",
   "metadata": {},
   "outputs": [],
   "source": [
    "# Função para gerar valores randômicos\n",
    "def gera_numeros(p):     \n",
    "    x, y = random.random(), random.random()\n",
    "    return x*x + y*y < 1"
   ]
  },
  {
   "cell_type": "code",
   "execution_count": 10,
   "id": "70cda04a",
   "metadata": {},
   "outputs": [
    {
     "name": "stdout",
     "output_type": "stream",
     "text": [
      "22/11/19 12:17:38 INFO SparkContext: Starting job: count at /tmp/ipykernel_770820/2952187543.py:2\n",
      "22/11/19 12:17:38 INFO DAGScheduler: Got job 0 (count at /tmp/ipykernel_770820/2952187543.py:2) with 12 output partitions\n",
      "22/11/19 12:17:38 INFO DAGScheduler: Final stage: ResultStage 0 (count at /tmp/ipykernel_770820/2952187543.py:2)\n",
      "22/11/19 12:17:38 INFO DAGScheduler: Parents of final stage: List()\n",
      "22/11/19 12:17:38 INFO DAGScheduler: Missing parents: List()\n",
      "22/11/19 12:17:38 INFO DAGScheduler: Submitting ResultStage 0 (PythonRDD[1] at count at /tmp/ipykernel_770820/2952187543.py:2), which has no missing parents\n",
      "22/11/19 12:17:38 INFO MemoryStore: Block broadcast_0 stored as values in memory (estimated size 8.8 KiB, free 434.4 MiB)\n",
      "22/11/19 12:17:38 INFO MemoryStore: Block broadcast_0_piece0 stored as bytes in memory (estimated size 5.2 KiB, free 434.4 MiB)\n",
      "22/11/19 12:17:38 INFO BlockManagerInfo: Added broadcast_0_piece0 in memory on Avell.lan:42433 (size: 5.2 KiB, free: 434.4 MiB)\n",
      "22/11/19 12:17:38 INFO SparkContext: Created broadcast 0 from broadcast at DAGScheduler.scala:1513\n",
      "22/11/19 12:17:38 INFO DAGScheduler: Submitting 12 missing tasks from ResultStage 0 (PythonRDD[1] at count at /tmp/ipykernel_770820/2952187543.py:2) (first 15 tasks are for partitions Vector(0, 1, 2, 3, 4, 5, 6, 7, 8, 9, 10, 11))\n",
      "22/11/19 12:17:38 INFO TaskSchedulerImpl: Adding task set 0.0 with 12 tasks resource profile 0\n",
      "22/11/19 12:17:38 INFO TaskSetManager: Starting task 0.0 in stage 0.0 (TID 0) (Avell.lan, executor driver, partition 0, PROCESS_LOCAL, 4433 bytes) taskResourceAssignments Map()\n",
      "22/11/19 12:17:38 INFO TaskSetManager: Starting task 1.0 in stage 0.0 (TID 1) (Avell.lan, executor driver, partition 1, PROCESS_LOCAL, 4433 bytes) taskResourceAssignments Map()\n",
      "22/11/19 12:17:38 INFO TaskSetManager: Starting task 2.0 in stage 0.0 (TID 2) (Avell.lan, executor driver, partition 2, PROCESS_LOCAL, 4433 bytes) taskResourceAssignments Map()\n",
      "22/11/19 12:17:38 INFO TaskSetManager: Starting task 3.0 in stage 0.0 (TID 3) (Avell.lan, executor driver, partition 3, PROCESS_LOCAL, 4433 bytes) taskResourceAssignments Map()\n",
      "22/11/19 12:17:38 INFO TaskSetManager: Starting task 4.0 in stage 0.0 (TID 4) (Avell.lan, executor driver, partition 4, PROCESS_LOCAL, 4433 bytes) taskResourceAssignments Map()\n",
      "22/11/19 12:17:38 INFO TaskSetManager: Starting task 5.0 in stage 0.0 (TID 5) (Avell.lan, executor driver, partition 5, PROCESS_LOCAL, 4433 bytes) taskResourceAssignments Map()\n",
      "22/11/19 12:17:38 INFO TaskSetManager: Starting task 6.0 in stage 0.0 (TID 6) (Avell.lan, executor driver, partition 6, PROCESS_LOCAL, 4433 bytes) taskResourceAssignments Map()\n",
      "22/11/19 12:17:38 INFO TaskSetManager: Starting task 7.0 in stage 0.0 (TID 7) (Avell.lan, executor driver, partition 7, PROCESS_LOCAL, 4433 bytes) taskResourceAssignments Map()\n",
      "22/11/19 12:17:38 INFO TaskSetManager: Starting task 8.0 in stage 0.0 (TID 8) (Avell.lan, executor driver, partition 8, PROCESS_LOCAL, 4433 bytes) taskResourceAssignments Map()\n",
      "22/11/19 12:17:38 INFO TaskSetManager: Starting task 9.0 in stage 0.0 (TID 9) (Avell.lan, executor driver, partition 9, PROCESS_LOCAL, 4433 bytes) taskResourceAssignments Map()\n",
      "22/11/19 12:17:38 INFO TaskSetManager: Starting task 10.0 in stage 0.0 (TID 10) (Avell.lan, executor driver, partition 10, PROCESS_LOCAL, 4433 bytes) taskResourceAssignments Map()\n",
      "22/11/19 12:17:38 INFO TaskSetManager: Starting task 11.0 in stage 0.0 (TID 11) (Avell.lan, executor driver, partition 11, PROCESS_LOCAL, 4433 bytes) taskResourceAssignments Map()\n",
      "22/11/19 12:17:38 INFO Executor: Running task 9.0 in stage 0.0 (TID 9)\n",
      "22/11/19 12:17:38 INFO Executor: Running task 7.0 in stage 0.0 (TID 7)\n",
      "22/11/19 12:17:38 INFO Executor: Running task 11.0 in stage 0.0 (TID 11)\n",
      "22/11/19 12:17:38 INFO Executor: Running task 5.0 in stage 0.0 (TID 5)\n",
      "22/11/19 12:17:38 INFO Executor: Running task 4.0 in stage 0.0 (TID 4)\n",
      "22/11/19 12:17:38 INFO Executor: Running task 10.0 in stage 0.0 (TID 10)\n",
      "22/11/19 12:17:38 INFO Executor: Running task 8.0 in stage 0.0 (TID 8)\n",
      "22/11/19 12:17:38 INFO Executor: Running task 6.0 in stage 0.0 (TID 6)\n",
      "22/11/19 12:17:38 INFO Executor: Running task 3.0 in stage 0.0 (TID 3)\n",
      "22/11/19 12:17:38 INFO Executor: Running task 1.0 in stage 0.0 (TID 1)\n",
      "22/11/19 12:17:38 INFO Executor: Running task 2.0 in stage 0.0 (TID 2)\n",
      "22/11/19 12:17:38 INFO Executor: Running task 0.0 in stage 0.0 (TID 0)\n"
     ]
    },
    {
     "name": "stderr",
     "output_type": "stream",
     "text": [
      "\r",
      "[Stage 0:>                                                        (0 + 12) / 12]\r"
     ]
    },
    {
     "name": "stdout",
     "output_type": "stream",
     "text": [
      "22/11/19 12:17:39 INFO PythonRunner: Times: total = 621, boot = 497, init = 48, finish = 76\n",
      "22/11/19 12:17:39 INFO PythonRunner: Times: total = 624, boot = 490, init = 55, finish = 79\n",
      "22/11/19 12:17:39 INFO PythonRunner: Times: total = 625, boot = 493, init = 52, finish = 80\n",
      "22/11/19 12:17:39 INFO PythonRunner: Times: total = 626, boot = 504, init = 45, finish = 77\n",
      "22/11/19 12:17:39 INFO PythonRunner: Times: total = 632, boot = 512, init = 44, finish = 76\n",
      "22/11/19 12:17:39 INFO PythonRunner: Times: total = 632, boot = 510, init = 46, finish = 76\n",
      "22/11/19 12:17:39 INFO PythonRunner: Times: total = 632, boot = 501, init = 48, finish = 83\n",
      "22/11/19 12:17:39 INFO PythonRunner: Times: total = 632, boot = 507, init = 49, finish = 76\n",
      "22/11/19 12:17:39 INFO PythonRunner: Times: total = 637, boot = 519, init = 44, finish = 74\n",
      "22/11/19 12:17:39 INFO PythonRunner: Times: total = 644, boot = 515, init = 45, finish = 84\n",
      "22/11/19 12:17:39 INFO PythonRunner: Times: total = 648, boot = 524, init = 43, finish = 81\n",
      "22/11/19 12:17:39 INFO Executor: Finished task 6.0 in stage 0.0 (TID 6). 1320 bytes result sent to driver\n",
      "22/11/19 12:17:39 INFO Executor: Finished task 3.0 in stage 0.0 (TID 3). 1363 bytes result sent to driver\n",
      "22/11/19 12:17:39 INFO Executor: Finished task 7.0 in stage 0.0 (TID 7). 1320 bytes result sent to driver\n",
      "22/11/19 12:17:39 INFO Executor: Finished task 5.0 in stage 0.0 (TID 5). 1322 bytes result sent to driver\n",
      "22/11/19 12:17:39 INFO Executor: Finished task 10.0 in stage 0.0 (TID 10). 1320 bytes result sent to driver\n",
      "22/11/19 12:17:39 INFO Executor: Finished task 8.0 in stage 0.0 (TID 8). 1320 bytes result sent to driver\n",
      "22/11/19 12:17:39 INFO Executor: Finished task 1.0 in stage 0.0 (TID 1). 1320 bytes result sent to driver\n",
      "22/11/19 12:17:39 INFO Executor: Finished task 2.0 in stage 0.0 (TID 2). 1320 bytes result sent to driver\n",
      "22/11/19 12:17:39 INFO Executor: Finished task 0.0 in stage 0.0 (TID 0). 1322 bytes result sent to driver\n",
      "22/11/19 12:17:39 INFO Executor: Finished task 11.0 in stage 0.0 (TID 11). 1322 bytes result sent to driver\n",
      "22/11/19 12:17:39 INFO Executor: Finished task 9.0 in stage 0.0 (TID 9). 1320 bytes result sent to driver\n",
      "22/11/19 12:17:39 INFO PythonRunner: Times: total = 666, boot = 522, init = 45, finish = 99\n",
      "22/11/19 12:17:39 INFO TaskSetManager: Finished task 5.0 in stage 0.0 (TID 5) in 764 ms on Avell.lan (executor driver) (1/12)\n",
      "22/11/19 12:17:39 INFO Executor: Finished task 4.0 in stage 0.0 (TID 4). 1320 bytes result sent to driver\n",
      "22/11/19 12:17:39 INFO TaskSetManager: Finished task 3.0 in stage 0.0 (TID 3) in 767 ms on Avell.lan (executor driver) (2/12)\n",
      "22/11/19 12:17:39 INFO TaskSetManager: Finished task 10.0 in stage 0.0 (TID 10) in 764 ms on Avell.lan (executor driver) (3/12)\n",
      "22/11/19 12:17:39 INFO TaskSetManager: Finished task 8.0 in stage 0.0 (TID 8) in 765 ms on Avell.lan (executor driver) (4/12)\n",
      "22/11/19 12:17:39 INFO TaskSetManager: Finished task 1.0 in stage 0.0 (TID 1) in 769 ms on Avell.lan (executor driver) (5/12)\n",
      "22/11/19 12:17:39 INFO TaskSetManager: Finished task 7.0 in stage 0.0 (TID 7) in 766 ms on Avell.lan (executor driver) (6/12)\n",
      "22/11/19 12:17:39 INFO TaskSetManager: Finished task 2.0 in stage 0.0 (TID 2) in 769 ms on Avell.lan (executor driver) (7/12)\n",
      "22/11/19 12:17:39 INFO TaskSetManager: Finished task 11.0 in stage 0.0 (TID 11) in 765 ms on Avell.lan (executor driver) (8/12)\n",
      "22/11/19 12:17:39 INFO TaskSetManager: Finished task 4.0 in stage 0.0 (TID 4) in 769 ms on Avell.lan (executor driver) (9/12)\n",
      "22/11/19 12:17:39 INFO TaskSetManager: Finished task 6.0 in stage 0.0 (TID 6) in 768 ms on Avell.lan (executor driver) (10/12)\n",
      "22/11/19 12:17:39 INFO TaskSetManager: Finished task 9.0 in stage 0.0 (TID 9) in 767 ms on Avell.lan (executor driver) (11/12)\n",
      "22/11/19 12:17:39 INFO TaskSetManager: Finished task 0.0 in stage 0.0 (TID 0) in 798 ms on Avell.lan (executor driver) (12/12)\n",
      "22/11/19 12:17:39 INFO PythonAccumulatorV2: Connected to AccumulatorServer at host: 127.0.0.1 port: 42157\n",
      "22/11/19 12:17:39 INFO TaskSchedulerImpl: Removed TaskSet 0.0, whose tasks have all completed, from pool \n",
      "22/11/19 12:17:39 INFO DAGScheduler: ResultStage 0 (count at /tmp/ipykernel_770820/2952187543.py:2) finished in 1.070 s\n",
      "22/11/19 12:17:39 INFO DAGScheduler: Job 0 is finished. Cancelling potential speculative or zombie tasks for this job\n",
      "22/11/19 12:17:39 INFO TaskSchedulerImpl: Killing all running tasks in stage 0: Stage finished\n",
      "22/11/19 12:17:39 INFO DAGScheduler: Job 0 finished: count at /tmp/ipykernel_770820/2952187543.py:2, took 1.185243 s\n"
     ]
    },
    {
     "name": "stderr",
     "output_type": "stream",
     "text": [
      "\r",
      "                                                                                \r"
     ]
    }
   ],
   "source": [
    "# Função parallelize() executa paralelização de operações\n",
    "contagem = sc.parallelize(range(0, numero_amostras)).filter(gera_numeros).count()"
   ]
  },
  {
   "cell_type": "code",
   "execution_count": 13,
   "id": "e3d526aa",
   "metadata": {},
   "outputs": [],
   "source": [
    "valor_pi = 4 * contagem / numero_amostras"
   ]
  },
  {
   "cell_type": "code",
   "execution_count": 12,
   "id": "60d63f9e",
   "metadata": {},
   "outputs": [
    {
     "name": "stdout",
     "output_type": "stream",
     "text": [
      "3.142372\n"
     ]
    }
   ],
   "source": [
    "print(valor_pi)"
   ]
  },
  {
   "cell_type": "code",
   "execution_count": 14,
   "id": "c7a1b154",
   "metadata": {},
   "outputs": [
    {
     "name": "stdout",
     "output_type": "stream",
     "text": [
      "22/11/19 12:18:16 INFO SparkUI: Stopped Spark web UI at http://Avell.lan:4040\n",
      "22/11/19 12:18:16 INFO MapOutputTrackerMasterEndpoint: MapOutputTrackerMasterEndpoint stopped!\n",
      "22/11/19 12:18:16 INFO MemoryStore: MemoryStore cleared\n",
      "22/11/19 12:18:16 INFO BlockManager: BlockManager stopped\n",
      "22/11/19 12:18:16 INFO BlockManagerMaster: BlockManagerMaster stopped\n",
      "22/11/19 12:18:16 INFO OutputCommitCoordinator$OutputCommitCoordinatorEndpoint: OutputCommitCoordinator stopped!\n",
      "22/11/19 12:18:16 INFO SparkContext: Successfully stopped SparkContext\n"
     ]
    }
   ],
   "source": [
    "sc.stop()"
   ]
  },
  {
   "cell_type": "markdown",
   "id": "257014c3",
   "metadata": {},
   "source": [
    "# Fim"
   ]
  }
 ],
 "metadata": {
  "kernelspec": {
   "display_name": "Python 3 (ipykernel)",
   "language": "python",
   "name": "python3"
  },
  "language_info": {
   "codemirror_mode": {
    "name": "ipython",
    "version": 3
   },
   "file_extension": ".py",
   "mimetype": "text/x-python",
   "name": "python",
   "nbconvert_exporter": "python",
   "pygments_lexer": "ipython3",
   "version": "3.8.13"
  }
 },
 "nbformat": 4,
 "nbformat_minor": 5
}
