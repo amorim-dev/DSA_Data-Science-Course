{
 "cells": [
  {
   "cell_type": "markdown",
   "id": "d4ce2f19",
   "metadata": {},
   "source": [
    "# Big Data Real-Time Analytics with Python and Spark\n",
    "\n",
    "## Chapter 2  - Case Study 1 - Cleaning and processing data with Numpy\n",
    "\n",
    "- Documentation: https://numpy.org/\n",
    "- Data from: https://www.openintro.org/data/index.php"
   ]
  },
  {
   "cell_type": "markdown",
   "id": "6735548d",
   "metadata": {},
   "source": [
    "![Case Study DSA](images/CaseStudy1.png \"Case Study DSA\")"
   ]
  },
  {
   "cell_type": "code",
   "execution_count": 1,
   "id": "9f0e6b7d",
   "metadata": {},
   "outputs": [
    {
     "name": "stdout",
     "output_type": "stream",
     "text": [
      "The version used in this notebook is:  3.8.8\n"
     ]
    }
   ],
   "source": [
    "# Python version\n",
    "from platform import python_version\n",
    "print('The version used in this notebook is: ', python_version())"
   ]
  },
  {
   "cell_type": "code",
   "execution_count": 2,
   "id": "23a62d01",
   "metadata": {},
   "outputs": [],
   "source": [
    "# Import the only library for the Python that we will use here \n",
    "import numpy as np"
   ]
  },
  {
   "cell_type": "code",
   "execution_count": 3,
   "id": "7940c257",
   "metadata": {},
   "outputs": [],
   "source": [
    "# Warning filter\n",
    "import warnings\n",
    "warnings.filterwarnings('ignore')"
   ]
  },
  {
   "cell_type": "code",
   "execution_count": 4,
   "id": "fca43be2",
   "metadata": {},
   "outputs": [
    {
     "name": "stdout",
     "output_type": "stream",
     "text": [
      "Author: Bianca Amorim\n",
      "\n",
      "numpy: 1.20.1\n",
      "\n"
     ]
    }
   ],
   "source": [
    "# package version used in this notebook\n",
    "%reload_ext watermark\n",
    "%watermark -a \"Bianca Amorim\" --iversion"
   ]
  },
  {
   "cell_type": "markdown",
   "id": "939698d0",
   "metadata": {},
   "source": [
    "- https://numpy.org/doc/stable/reference/generated/numpy.set_printoptions.html"
   ]
  },
  {
   "cell_type": "code",
   "execution_count": 5,
   "id": "a54422aa",
   "metadata": {},
   "outputs": [],
   "source": [
    "# print setting in Numpy\n",
    "np.set_printoptions(suppress = True, linewidth = 200, precision = 2)"
   ]
  },
  {
   "cell_type": "markdown",
   "id": "9bafdc64",
   "metadata": {},
   "source": [
    "## Loading the dataset"
   ]
  },
  {
   "cell_type": "markdown",
   "id": "f77fd1dd",
   "metadata": {},
   "source": [
    "- https://numpy.org/doc/stable/reference/generated/numpy.genfromtxt.html"
   ]
  },
  {
   "cell_type": "code",
   "execution_count": 6,
   "id": "0fc487b3",
   "metadata": {},
   "outputs": [],
   "source": [
    "# loading the data set \n",
    "dataset = np.genfromtxt(\"datasets/dataset1.csv\",\n",
    "                        delimiter = \";\",\n",
    "                        skip_header = 1,\n",
    "                        autostrip = True,\n",
    "                        encoding = 'cp1252')"
   ]
  },
  {
   "cell_type": "code",
   "execution_count": 7,
   "id": "a438464c",
   "metadata": {},
   "outputs": [
    {
     "data": {
      "text/plain": [
       "numpy.ndarray"
      ]
     },
     "execution_count": 7,
     "metadata": {},
     "output_type": "execute_result"
    }
   ],
   "source": [
    "# Cheking type (ndarray is an array with many dimensions)\n",
    "type(dataset)"
   ]
  },
  {
   "cell_type": "code",
   "execution_count": 8,
   "id": "5517bebd",
   "metadata": {},
   "outputs": [
    {
     "data": {
      "text/plain": [
       "(10000, 14)"
      ]
     },
     "execution_count": 8,
     "metadata": {},
     "output_type": "execute_result"
    }
   ],
   "source": [
    "# 1000 lines for 14 columns\n",
    "dataset.shape"
   ]
  },
  {
   "cell_type": "code",
   "execution_count": 9,
   "id": "9b8e3b70",
   "metadata": {},
   "outputs": [
    {
     "data": {
      "text/plain": [
       "array([[48010226.  ,         nan,    35000.  , ...,         nan,         nan,     9452.96],\n",
       "       [57693261.  ,         nan,    30000.  , ...,         nan,         nan,     4679.7 ],\n",
       "       [59432726.  ,         nan,    15000.  , ...,         nan,         nan,     1969.83],\n",
       "       ...,\n",
       "       [50415990.  ,         nan,    10000.  , ...,         nan,         nan,     2185.64],\n",
       "       [46154151.  ,         nan,         nan, ...,         nan,         nan,     3199.4 ],\n",
       "       [66055249.  ,         nan,    10000.  , ...,         nan,         nan,      301.9 ]])"
      ]
     },
     "execution_count": 9,
     "metadata": {},
     "output_type": "execute_result"
    }
   ],
   "source": [
    "dataset.view()"
   ]
  },
  {
   "cell_type": "markdown",
   "id": "6eab7da7",
   "metadata": {},
   "source": [
    "**\"nan\"** means \"not a number\". But we don't have empty columns. what happened was numpy did not recognize some data. This is because the special characters in the data set and the way NumPy loads numerical and string data."
   ]
  },
  {
   "cell_type": "markdown",
   "id": "b5c9a30a",
   "metadata": {},
   "source": [
    "## Verificando Valores Ausentes"
   ]
  },
  {
   "cell_type": "code",
   "execution_count": 10,
   "id": "f3b45afa",
   "metadata": {},
   "outputs": [
    {
     "data": {
      "text/plain": [
       "88005"
      ]
     },
     "execution_count": 10,
     "metadata": {},
     "output_type": "execute_result"
    }
   ],
   "source": [
    "# Check the number of total missing values\n",
    "# A good part of these missing values were generated at the time we loaded the data\n",
    "np.isnan(dataset).sum()"
   ]
  },
  {
   "cell_type": "markdown",
   "id": "f8a677f9",
   "metadata": {},
   "source": [
    "- https://numpy.org/doc/stable/reference/generated/numpy.nanmax.html"
   ]
  },
  {
   "cell_type": "code",
   "execution_count": 13,
   "id": "378e8072",
   "metadata": {},
   "outputs": [
    {
     "name": "stdout",
     "output_type": "stream",
     "text": [
      "68616520.0\n"
     ]
    }
   ],
   "source": [
    "# It will return the highest value + 1, ignoring nan values\n",
    "# We will use this to fill in the nan values at the moment of the loading data numerical variables\n",
    "# then we will trear this value as a missing value\n",
    "joker_value = np.nanmax(dataset) + 1\n",
    "print(joker_value)"
   ]
  },
  {
   "cell_type": "code",
   "execution_count": 14,
   "id": "c922ab11",
   "metadata": {},
   "outputs": [
    {
     "data": {
      "text/plain": [
       "nan"
      ]
     },
     "execution_count": 14,
     "metadata": {},
     "output_type": "execute_result"
    }
   ],
   "source": [
    "#If I do not use this function above to ignore nan, the max values will be nan\n",
    "np.max(dataset)"
   ]
  },
  {
   "cell_type": "markdown",
   "id": "0577804b",
   "metadata": {},
   "source": [
    "- https://numpy.org/doc/stable/reference/generated/numpy.nanmean.html"
   ]
  },
  {
   "cell_type": "code",
   "execution_count": 34,
   "id": "2394afbb",
   "metadata": {},
   "outputs": [
    {
     "name": "stdout",
     "output_type": "stream",
     "text": [
      "[54015809.19         nan    15273.46         nan    15311.04         nan       16.62      440.92         nan         nan         nan         nan         nan     3143.85]\n"
     ]
    }
   ],
   "source": [
    "# We calculate the average of the numerical variables ignoring the nan values in the column\n",
    "# We will use this to separate numerical variables from string variables\n",
    "average_ignoring_nan = np.nanmean(dataset, axis = 0)\n",
    "print(average_ignoring_nan)"
   ]
  },
  {
   "cell_type": "markdown",
   "id": "d9460163",
   "metadata": {},
   "source": [
    "- Return the position of the elements, that are non-zero\n",
    "https://numpy.org/doc/stable/reference/generated/numpy.argwhere.html\n"
   ]
  },
  {
   "cell_type": "markdown",
   "id": "98798815",
   "metadata": {},
   "source": [
    "- Squeeze the array, because we don't need [[0,1], [0, 3] ...\n",
    "https://numpy.org/doc/stable/reference/generated/numpy.squeeze.html\n"
   ]
  },
  {
   "cell_type": "code",
   "execution_count": 36,
   "id": "0f27dc6c",
   "metadata": {},
   "outputs": [
    {
     "data": {
      "text/plain": [
       "array([ 1,  3,  5,  8,  9, 10, 11, 12])"
      ]
     },
     "execution_count": 36,
     "metadata": {},
     "output_type": "execute_result"
    }
   ],
   "source": [
    "# Columns with data type string with nan values\n",
    "# squeeze() We tranforming multiples arrays in one\n",
    "string_columns = np.argwhere(np.isnan(average_ignoring_nan)).squeeze()\n",
    "string_columns"
   ]
  },
  {
   "cell_type": "code",
   "execution_count": 17,
   "id": "b2c7919a",
   "metadata": {},
   "outputs": [
    {
     "data": {
      "text/plain": [
       "array([False,  True, False,  True, False,  True, False, False,  True,  True,  True,  True,  True, False])"
      ]
     },
     "execution_count": 17,
     "metadata": {},
     "output_type": "execute_result"
    }
   ],
   "source": [
    "# The function argwhere above return the position only if is true(1)\n",
    "# Because the false is a 0, and the function argwhere do not return position when the value is a 0\n",
    "np.isnan(average_ignoring_nan)"
   ]
  },
  {
   "cell_type": "code",
   "execution_count": 21,
   "id": "f60b2dad",
   "metadata": {},
   "outputs": [
    {
     "data": {
      "text/plain": [
       "array([ 0,  2,  4,  6,  7, 13])"
      ]
     },
     "execution_count": 21,
     "metadata": {},
     "output_type": "execute_result"
    }
   ],
   "source": [
    "# To see filter numerical columns\n",
    "numerical_columns = np.argwhere(np.isnan(average_ignoring_nan) == False).squeeze()\n",
    "numerical_columns"
   ]
  },
  {
   "cell_type": "code",
   "execution_count": 22,
   "id": "fe8a3625",
   "metadata": {},
   "outputs": [
    {
     "data": {
      "text/plain": [
       "array([ True, False,  True, False,  True, False,  True,  True, False, False, False, False, False,  True])"
      ]
     },
     "execution_count": 22,
     "metadata": {},
     "output_type": "execute_result"
    }
   ],
   "source": [
    "# Now the columns which is true is the not nan\n",
    "np.isnan(average_ignoring_nan) == False"
   ]
  },
  {
   "cell_type": "markdown",
   "id": "4885f4b0",
   "metadata": {},
   "source": [
    "> Import the dataset again, separating string columns from numeric columns"
   ]
  },
  {
   "cell_type": "code",
   "execution_count": 23,
   "id": "1d202b10",
   "metadata": {},
   "outputs": [],
   "source": [
    "# We will loading only the columns with string data type \n",
    "# We specify the string columns with the index and their data type\n",
    "arr_strings = np.genfromtxt(\"datasets/dataset1.csv\",\n",
    "                           delimiter = \";\",\n",
    "                           skip_header = 1,\n",
    "                           autostrip = True,\n",
    "                           usecols = string_columns,\n",
    "                           dtype = str,\n",
    "                           encoding = 'cp1252')"
   ]
  },
  {
   "cell_type": "code",
   "execution_count": 24,
   "id": "5f9053bb",
   "metadata": {},
   "outputs": [
    {
     "data": {
      "text/plain": [
       "array([['May-15', 'Current', '36 months', ..., 'Verified', 'https://www.lendingclub.com/browse/loanDetail.action?loan_id=48010226', 'CA'],\n",
       "       ['', 'Current', '36 months', ..., 'Source Verified', 'https://www.lendingclub.com/browse/loanDetail.action?loan_id=57693261', 'NY'],\n",
       "       ['Sep-15', 'Current', '36 months', ..., 'Verified', 'https://www.lendingclub.com/browse/loanDetail.action?loan_id=59432726', 'PA'],\n",
       "       ...,\n",
       "       ['Jun-15', 'Current', '36 months', ..., 'Source Verified', 'https://www.lendingclub.com/browse/loanDetail.action?loan_id=50415990', 'CA'],\n",
       "       ['Apr-15', 'Current', '36 months', ..., 'Source Verified', 'https://www.lendingclub.com/browse/loanDetail.action?loan_id=46154151', 'OH'],\n",
       "       ['Dec-15', 'Current', '36 months', ..., '', 'https://www.lendingclub.com/browse/loanDetail.action?loan_id=66055249', 'IL']], dtype='<U69')"
      ]
     },
     "execution_count": 24,
     "metadata": {},
     "output_type": "execute_result"
    }
   ],
   "source": [
    "arr_strings"
   ]
  },
  {
   "cell_type": "code",
   "execution_count": 25,
   "id": "da9aabaa",
   "metadata": {},
   "outputs": [],
   "source": [
    "# We will loading only the columns with numerical data type \n",
    "# We specify the numerical columns with the index and their data type\n",
    "# filling_values - set values to be used as default when the data are missing.\n",
    "arr_numeric = np.genfromtxt(\"datasets/dataset1.csv\",\n",
    "                           delimiter = \";\",\n",
    "                           skip_header = 1,\n",
    "                           autostrip = True,\n",
    "                           usecols = numerical_columns,\n",
    "                           filling_values = joker_value,\n",
    "                           encoding = 'cp1252')"
   ]
  },
  {
   "cell_type": "code",
   "execution_count": 26,
   "id": "1cbf45e7",
   "metadata": {},
   "outputs": [
    {
     "data": {
      "text/plain": [
       "array([[48010226.  ,    35000.  ,    35000.  ,       13.33,     1184.86,     9452.96],\n",
       "       [57693261.  ,    30000.  ,    30000.  , 68616520.  ,      938.57,     4679.7 ],\n",
       "       [59432726.  ,    15000.  ,    15000.  , 68616520.  ,      494.86,     1969.83],\n",
       "       ...,\n",
       "       [50415990.  ,    10000.  ,    10000.  , 68616520.  , 68616520.  ,     2185.64],\n",
       "       [46154151.  , 68616520.  ,    10000.  ,       16.55,      354.3 ,     3199.4 ],\n",
       "       [66055249.  ,    10000.  ,    10000.  , 68616520.  ,      309.97,      301.9 ]])"
      ]
     },
     "execution_count": 26,
     "metadata": {},
     "output_type": "execute_result"
    }
   ],
   "source": [
    "arr_numeric"
   ]
  },
  {
   "cell_type": "markdown",
   "id": "d7d37879",
   "metadata": {},
   "source": [
    "> Now we are going to extract the columns names, we didn't extract them before because they are all of type string"
   ]
  },
  {
   "cell_type": "code",
   "execution_count": 28,
   "id": "19fd6cbd",
   "metadata": {},
   "outputs": [],
   "source": [
    "# Loading the columns name\n",
    "arr_columns_name = np.genfromtxt(\"datasets/dataset1.csv\",\n",
    "                                delimiter = \";\",\n",
    "                                autostrip = True,\n",
    "                                skip_footer = dataset.shape[0],\n",
    "                                dtype = str,\n",
    "                                encoding = 'cp1252')"
   ]
  },
  {
   "cell_type": "code",
   "execution_count": 29,
   "id": "78e508b2",
   "metadata": {},
   "outputs": [
    {
     "data": {
      "text/plain": [
       "array(['id', 'issue_d', 'loan_amnt', 'loan_status', 'funded_amnt', 'term', 'int_rate', 'installment', 'grade', 'sub_grade', 'verification_status', 'url', 'addr_state', 'total_pymnt'], dtype='<U19')"
      ]
     },
     "execution_count": 29,
     "metadata": {},
     "output_type": "execute_result"
    }
   ],
   "source": [
    "arr_columns_name"
   ]
  },
  {
   "cell_type": "markdown",
   "id": "07bd21b8",
   "metadata": {},
   "source": [
    "> \"skip_footer\" is the number of lines to skip at the end of the file."
   ]
  },
  {
   "cell_type": "code",
   "execution_count": 30,
   "id": "50cf8a0a",
   "metadata": {},
   "outputs": [],
   "source": [
    "# Separate numerical and string column headers\n",
    "header_strings, header_numerical = arr_columns_name[string_columns], arr_columns_name[numerical_columns]"
   ]
  },
  {
   "cell_type": "code",
   "execution_count": 48,
   "id": "31d642fa",
   "metadata": {},
   "outputs": [
    {
     "data": {
      "text/plain": [
       "array(['issue_d', 'loan_status', 'term', 'grade', 'sub_grade', 'verification_status', 'url', 'addr_state'], dtype='<U19')"
      ]
     },
     "execution_count": 48,
     "metadata": {},
     "output_type": "execute_result"
    }
   ],
   "source": [
    "header_strings"
   ]
  },
  {
   "cell_type": "code",
   "execution_count": 49,
   "id": "dd11f33e",
   "metadata": {},
   "outputs": [
    {
     "data": {
      "text/plain": [
       "array(['id', 'loan_amnt', 'funded_amnt', 'int_rate', 'installment', 'total_pymnt'], dtype='<U19')"
      ]
     },
     "execution_count": 49,
     "metadata": {},
     "output_type": "execute_result"
    }
   ],
   "source": [
    "header_numerical"
   ]
  },
  {
   "cell_type": "markdown",
   "id": "7766f573",
   "metadata": {},
   "source": [
    "## Checkpoint function\n",
    "#### Checkpoint 1\n",
    "We will create a checkpoint function to salve the intermediate results"
   ]
  },
  {
   "cell_type": "code",
   "execution_count": 50,
   "id": "d4283319",
   "metadata": {},
   "outputs": [
    {
     "name": "stdout",
     "output_type": "stream",
     "text": [
      "arr_columns_name\t arr_numeric\t arr_strings\t average_ignoring_nan\t dataset\t header_numerical\t header_strings\t joker_value\t np\t \n",
      "numerical_columns\t python_version\t string_columns\t warnings\t \n"
     ]
    }
   ],
   "source": [
    "%who"
   ]
  },
  {
   "cell_type": "code",
   "execution_count": 53,
   "id": "6af2c673",
   "metadata": {},
   "outputs": [
    {
     "name": "stdout",
     "output_type": "stream",
     "text": [
      "arr_columns_name\t arr_numeric\t arr_strings\t average_ignoring_nan\t dataset\t header_numerical\t header_strings\t numerical_columns\t string_columns\t \n",
      "\n"
     ]
    }
   ],
   "source": [
    "%who ndarray"
   ]
  },
  {
   "cell_type": "code",
   "execution_count": 55,
   "id": "dc58b4d9",
   "metadata": {},
   "outputs": [
    {
     "name": "stdout",
     "output_type": "stream",
     "text": [
      "# Python version\n",
      "from platform import python_version\n",
      "print('The version used in this notebook is: ', python_version())\n",
      "# Import the only library for the Python that we will use here \n",
      "import numpy as np\n",
      "# Warning filter\n",
      "import warnings\n",
      "warnings.filterwarnings('ignore')\n",
      "# package version used in this notebook\n",
      "%reload_ext watermark\n",
      "%watermark -a \"Bianca Amorim\" --iversion\n",
      "# print setting in Numpy\n",
      "np.set_printoptions(suppress = True, linewidth = 200, precision = 2)\n",
      "# loading the data set \n",
      "dataset = np.genfromtxt(\"datasets/dataset1.csv\",\n",
      "                        delimiter = \";\",\n",
      "                        skip_header = 1,\n",
      "                        autostrip = True,\n",
      "                        encoding = 'cp1252')\n",
      "# Cheking type (ndarray is an array with many dimensions)\n",
      "type(dataset)\n",
      "# 1000 lines for 14 columns\n",
      "dataset.shape\n",
      "dataset.view()\n",
      "np.isnan(dataset).sum()\n",
      "# It will return the highest value + 1, ignoring nan values\n",
      "# We will use this to fill in the nan values at the moment of the loading data numerical variables\n",
      "# then we will trear this value as a missing value\n",
      "joker_value = np.nanmax(dataset) + 1\n",
      "print(joker_value)\n",
      "np.max(dataset)\n",
      "# It will return the highest value + 1, ignoring nan values\n",
      "# We will use this to fill in the nan values at the moment of the loading data numerical variables\n",
      "# then we will trear this value as a missing value\n",
      "joker_value = np.nanmax(dataset) + 1\n",
      "print(joker_value)\n",
      "#If I do not use this function above to ignore nan, the max values will be nan\n",
      "np.max(dataset)\n",
      "# We calculate the average of the numerical variables ignoring the nan values in the column\n",
      "# We will use this to separate numerical variables from string variables\n",
      "average_ignoring_nan = np.nanmean(dataset, axis = 0)\n",
      "print(average_ignoring_nan)\n",
      "# Columns with data type string with nan values\n",
      "string_columns = np.argwhere(np.isnan(average_ignoring_nan)).squeeze()\n",
      "string_columns\n",
      "np.isnan(average_ignoring_nan)\n",
      "# To see filter numerical columns\n",
      "numerical_columns = np.argwhere(np.isnan(average_ignoring_nan) == false).squeeze()\n",
      "numerical_columns\n",
      "# To see filter numerical columns\n",
      "numerical_columns = np.argwhere(np.isnan(average_ignoring_nan)) == false).squeeze()\n",
      "numerical_columns\n",
      "# To see filter numerical columns\n",
      "numerical_columns = np.argwhere(np.isnan(average_ignoring_nan) == false).squeeze()\n",
      "numerical_columns\n",
      "# To see filter numerical columns\n",
      "numerical_columns = np.argwhere(np.isnan(average_ignoring_nan) == False).squeeze()\n",
      "numerical_columns\n",
      "np.isnan(average_ignoring_nan) == False\n",
      "# We will loading only the columns with data type string\n",
      "arr_strings = np.genfromtxt(\"datasets/dataset1.csv\",\n",
      "                           delimiter = \";\",\n",
      "                           skip_header = 1,\n",
      "                           autostrip = True,\n",
      "                           usecols = string_columns,\n",
      "                           dtype = str,\n",
      "                           encoding = 'cp1252')\n",
      "arr_strings\n",
      "# We will loading only the columns with numerical data type \n",
      "# We specify the numerical columns with the index and their data type\n",
      "arr_numeric = np.genfromtxt(\"datasets/dataset1.csv\",\n",
      "                           delimiter = \";\",\n",
      "                           skip_header = 1,\n",
      "                           autostrip = True,\n",
      "                           usecols = numerical_columns,\n",
      "                           filling_values = joker_value,\n",
      "                           encoding = 'cp1252')\n",
      "arr_numeric\n",
      "# Loading the columns name\n",
      "arr_columns_name = np.genfromtxt(\"datasets/dataset1.csv\",\n",
      "                                delimiter = \";\",\n",
      "                                autostrip = True,\n",
      "                                skip_footer = dataset.shape[0],\n",
      "                                dtype = string,\n",
      "                                encoding = 'cp1252')\n",
      "# Loading the columns name\n",
      "arr_columns_name = np.genfromtxt(\"datasets/dataset1.csv\",\n",
      "                                delimiter = \";\",\n",
      "                                autostrip = True,\n",
      "                                skip_footer = dataset.shape[0],\n",
      "                                dtype = str,\n",
      "                                encoding = 'cp1252')\n",
      "arr_columns_name\n",
      "# Separate numerical and string column headers\n",
      "header_strings, header_numerical = arr_columns_name[string_columns], arr_columns_name[numerical_columns]\n",
      "header_strings\n",
      "header_numerical\n",
      "# We calculate the average of the numerical variables ignoring the nan values in the column\n",
      "# We will use this to separate numerical variables from string variables\n",
      "average_ignoring_nan = np.mean(dataset, axis = 0)\n",
      "print(average_ignoring_nan)\n",
      "# We calculate the average of the numerical variables ignoring the nan values in the column\n",
      "# We will use this to separate numerical variables from string variables\n",
      "average_ignoring_nan = np.nanmean(dataset, axis = 0)\n",
      "print(average_ignoring_nan)\n",
      "# Columns with data type string with nan values\n",
      "string_columns = np.argwhere(np.isnan(average_ignoring_nan))\n",
      "string_columns\n",
      "# Columns with data type string with nan values\n",
      "string_columns = np.argwhere(np.isnan(average_ignoring_nan)).squeeze()\n",
      "string_columns\n",
      "np.squeeze().help\n",
      "help.np.squeeze()\n",
      "]\n",
      "header_numerical\n",
      "header_strings\n",
      "header_numerical\n",
      "header_numerical\n",
      "header_numerical\n",
      "header_numerical\n",
      "header_strings\n",
      "header_strings\n",
      "header_strings\n",
      "header_numerical\n",
      "%who\n",
      "%who int\n",
      "%who str\n",
      "%who ndarray\n",
      "%lsmagic #show all magic commands\n",
      "%history\n"
     ]
    }
   ],
   "source": []
  },
  {
   "cell_type": "code",
   "execution_count": 56,
   "id": "f105525b",
   "metadata": {},
   "outputs": [
    {
     "data": {
      "text/plain": [
       "'/home/bia/Code/GITHUB_DSA/DSA_Data-Science-Course/Big-Data-Real-Time-Analytics-with-Python-and-Spark/Data-Manipulation-with-Numpy'"
      ]
     },
     "execution_count": 56,
     "metadata": {},
     "output_type": "execute_result"
    }
   ],
   "source": [
    "%pwd"
   ]
  },
  {
   "cell_type": "code",
   "execution_count": 57,
   "id": "c61c055c",
   "metadata": {
    "scrolled": true
   },
   "outputs": [
    {
     "name": "stdout",
     "output_type": "stream",
     "text": [
      "01-Ch02-NumPy.ipynb  03-Ch02-NumPy.ipynb       \u001b[0m\u001b[01;34mdatasets\u001b[0m/\r\n",
      "02-Ch02-NumPy.ipynb  04-Ch02-CaseStudy1.ipynb  \u001b[01;34mimages\u001b[0m/\r\n"
     ]
    }
   ],
   "source": [
    "%ls"
   ]
  },
  {
   "cell_type": "code",
   "execution_count": 58,
   "id": "fc09a430",
   "metadata": {},
   "outputs": [
    {
     "name": "stdout",
     "output_type": "stream",
     "text": [
      "01-Ch02-NumPy.ipynb  03-Ch02-NumPy.ipynb       \u001b[0m\u001b[01;34mdatasets\u001b[0m/\r\n",
      "02-Ch02-NumPy.ipynb  04-Ch02-CaseStudy1.ipynb  \u001b[01;34mimages\u001b[0m/\r\n"
     ]
    }
   ],
   "source": [
    "%ls"
   ]
  },
  {
   "cell_type": "code",
   "execution_count": 59,
   "id": "cf810c07",
   "metadata": {},
   "outputs": [
    {
     "name": "stdout",
     "output_type": "stream",
     "text": [
      "CPU times: user 44.8 ms, sys: 0 ns, total: 44.8 ms\n",
      "Wall time: 44.1 ms\n"
     ]
    }
   ],
   "source": [
    "%%time\n",
    "time_to_run = [i**2 for i in range(0, 400000, 2)]"
   ]
  },
  {
   "cell_type": "code",
   "execution_count": 74,
   "id": "3864e7f8",
   "metadata": {
    "scrolled": true
   },
   "outputs": [
    {
     "data": {
      "text/plain": [
       "<matplotlib.collections.PathCollection at 0x7f3f38f21640>"
      ]
     },
     "execution_count": 74,
     "metadata": {},
     "output_type": "execute_result"
    },
    {
     "data": {
      "image/png": "[encoded data removed]",
      "text/plain": [
       "<Figure size 432x288 with 1 Axes>"
      ]
     },
     "metadata": {
      "needs_background": "light"
     },
     "output_type": "display_data"
    }
   ],
   "source": [
    "from matplotlib import pyplot as plt\n",
    "%matplotlib inline\n",
    "x = np.random.rand(80)\n",
    "y = np.random.rand(80)\n",
    "plt.scatter(x,y)"
   ]
  },
  {
   "cell_type": "code",
   "execution_count": null,
   "id": "e2ff33c7",
   "metadata": {},
   "outputs": [],
   "source": []
  },
  {
   "cell_type": "code",
   "execution_count": null,
   "id": "db0560dd",
   "metadata": {},
   "outputs": [],
   "source": []
  },
  {
   "cell_type": "code",
   "execution_count": null,
   "id": "e42100aa",
   "metadata": {},
   "outputs": [],
   "source": []
  },
  {
   "cell_type": "code",
   "execution_count": null,
   "id": "fe4a1853",
   "metadata": {},
   "outputs": [],
   "source": []
  }
 ],
 "metadata": {
  "kernelspec": {
   "display_name": "Python 3",
   "language": "python",
   "name": "python3"
  },
  "language_info": {
   "codemirror_mode": {
    "name": "ipython",
    "version": 3
   },
   "file_extension": ".py",
   "mimetype": "text/x-python",
   "name": "python",
   "nbconvert_exporter": "python",
   "pygments_lexer": "ipython3",
   "version": "3.8.8"
  }
 },
 "nbformat": 4,
 "nbformat_minor": 5
}
