{
 "cells": [
  {
   "cell_type": "markdown",
   "id": "16188fad",
   "metadata": {},
   "source": [
    "# Big Data Real-Time Analytics with Python and Spark\n",
    "\n",
    "## Chapter 2 - Data Manipulation in Python with Numpy\n",
    "- Documentation: https://numpy.org/"
   ]
  },
  {
   "cell_type": "code",
   "execution_count": 1,
   "id": "c2248b51",
   "metadata": {},
   "outputs": [
    {
     "name": "stdout",
     "output_type": "stream",
     "text": [
      "The version used in this notebook is:  3.8.8\n"
     ]
    }
   ],
   "source": [
    "# Python version\n",
    "from platform import python_version\n",
    "print('The version used in this notebook is: ', python_version())"
   ]
  },
  {
   "cell_type": "code",
   "execution_count": 2,
   "id": "dc5dac9a",
   "metadata": {},
   "outputs": [],
   "source": [
    "# Import Numpy module\n",
    "import numpy as np"
   ]
  },
  {
   "cell_type": "code",
   "execution_count": 3,
   "id": "68dec957",
   "metadata": {},
   "outputs": [
    {
     "name": "stdout",
     "output_type": "stream",
     "text": [
      "Author: Bianca Amorim\n",
      "\n",
      "numpy: 1.20.1\n",
      "\n"
     ]
    }
   ],
   "source": [
    "# package version used in this notebook\n",
    "%reload_ext watermark\n",
    "%watermark -a \"Bianca Amorim\" --iversion"
   ]
  },
  {
   "cell_type": "markdown",
   "id": "c9d26509",
   "metadata": {},
   "source": [
    "### Arrays Transposition and Reshaping"
   ]
  },
  {
   "cell_type": "code",
   "execution_count": 6,
   "id": "3e6bb2db",
   "metadata": {},
   "outputs": [
    {
     "data": {
      "text/plain": [
       "array([[65, 23, 19],\n",
       "       [41, 87, 10]])"
      ]
     },
     "execution_count": 6,
     "metadata": {},
     "output_type": "execute_result"
    }
   ],
   "source": [
    "array1 = np.array([[65, 23, 19], [41, 87, 10]]); array1"
   ]
  },
  {
   "cell_type": "code",
   "execution_count": 7,
   "id": "8ea369ed",
   "metadata": {
    "scrolled": true
   },
   "outputs": [
    {
     "data": {
      "text/plain": [
       "array([[65, 41],\n",
       "       [23, 87],\n",
       "       [19, 10]])"
      ]
     },
     "execution_count": 7,
     "metadata": {},
     "output_type": "execute_result"
    }
   ],
   "source": [
    "# T is a method, even if it does not have ()\n",
    "array1.T"
   ]
  },
  {
   "cell_type": "code",
   "execution_count": 8,
   "id": "de7dd735",
   "metadata": {
    "scrolled": true
   },
   "outputs": [
    {
     "data": {
      "text/plain": [
       "array([[65, 41],\n",
       "       [23, 87],\n",
       "       [19, 10]])"
      ]
     },
     "execution_count": 8,
     "metadata": {},
     "output_type": "execute_result"
    }
   ],
   "source": [
    "# You can use the transpose method which is a NumPy function\n",
    "np.transpose(array1)"
   ]
  },
  {
   "cell_type": "markdown",
   "id": "32ea3ee1",
   "metadata": {},
   "source": [
    "> This is mandatory to build large artificial neural networks for modern artificial intelligence systems"
   ]
  },
  {
   "cell_type": "markdown",
   "id": "824523f8",
   "metadata": {},
   "source": [
    "### Broadcasting"
   ]
  },
  {
   "cell_type": "markdown",
   "id": "9586d581",
   "metadata": {},
   "source": [
    "We get each element of the array and add the next element of the same array through the array transpose. This is what we call Broadcasting. I get each value, and I am developing that value, consequently increasing my data structure."
   ]
  },
  {
   "cell_type": "code",
   "execution_count": 9,
   "id": "da936383",
   "metadata": {},
   "outputs": [],
   "source": [
    "array2 = np.array([[33, 34, 35]])"
   ]
  },
  {
   "cell_type": "code",
   "execution_count": 10,
   "id": "2f9d5ce1",
   "metadata": {},
   "outputs": [
    {
     "data": {
      "text/plain": [
       "array([[33, 34, 35]])"
      ]
     },
     "execution_count": 10,
     "metadata": {},
     "output_type": "execute_result"
    }
   ],
   "source": [
    "# array (1x3)\n",
    "array2"
   ]
  },
  {
   "cell_type": "code",
   "execution_count": 11,
   "id": "f651bbed",
   "metadata": {},
   "outputs": [
    {
     "data": {
      "text/plain": [
       "array([[33],\n",
       "       [34],\n",
       "       [35]])"
      ]
     },
     "execution_count": 11,
     "metadata": {},
     "output_type": "execute_result"
    }
   ],
   "source": [
    "# array (3x1)\n",
    "array2.T"
   ]
  },
  {
   "cell_type": "code",
   "execution_count": 12,
   "id": "a733fe13",
   "metadata": {},
   "outputs": [
    {
     "data": {
      "text/plain": [
       "array([[66, 67, 68],\n",
       "       [67, 68, 69],\n",
       "       [68, 69, 70]])"
      ]
     },
     "execution_count": 12,
     "metadata": {},
     "output_type": "execute_result"
    }
   ],
   "source": [
    "# array (3x1) + array (1x3) = array (3x3)\n",
    "array2.T + array2"
   ]
  },
  {
   "cell_type": "markdown",
   "id": "6284dd65",
   "metadata": {},
   "source": [
    "### Converting matrices into vectors"
   ]
  },
  {
   "cell_type": "code",
   "execution_count": 13,
   "id": "5a5bf0de",
   "metadata": {},
   "outputs": [],
   "source": [
    "# Arrays of arrays (matrix)\n",
    "array3 = np.array([np.arange(1, 6), np.arange(10, 15)])"
   ]
  },
  {
   "cell_type": "code",
   "execution_count": 14,
   "id": "36d7e005",
   "metadata": {},
   "outputs": [
    {
     "data": {
      "text/plain": [
       "array([[ 1,  2,  3,  4,  5],\n",
       "       [10, 11, 12, 13, 14]])"
      ]
     },
     "execution_count": 14,
     "metadata": {},
     "output_type": "execute_result"
    }
   ],
   "source": [
    "array3"
   ]
  },
  {
   "cell_type": "code",
   "execution_count": 18,
   "id": "2d390cc1",
   "metadata": {},
   "outputs": [
    {
     "data": {
      "text/plain": [
       "array([[ 1, 10],\n",
       "       [ 2, 11],\n",
       "       [ 3, 12],\n",
       "       [ 4, 13],\n",
       "       [ 5, 14]])"
      ]
     },
     "execution_count": 18,
     "metadata": {},
     "output_type": "execute_result"
    }
   ],
   "source": [
    "array3.T"
   ]
  },
  {
   "cell_type": "code",
   "execution_count": 15,
   "id": "c8d5f841",
   "metadata": {},
   "outputs": [
    {
     "data": {
      "text/plain": [
       "2"
      ]
     },
     "execution_count": 15,
     "metadata": {},
     "output_type": "execute_result"
    }
   ],
   "source": [
    "array3.ndim"
   ]
  },
  {
   "cell_type": "code",
   "execution_count": 16,
   "id": "1160684b",
   "metadata": {},
   "outputs": [
    {
     "data": {
      "text/plain": [
       "array([ 1,  2,  3,  4,  5, 10, 11, 12, 13, 14])"
      ]
     },
     "execution_count": 16,
     "metadata": {},
     "output_type": "execute_result"
    }
   ],
   "source": [
    "# Put all the elements of the matrix and put in a unidimensional structure\n",
    "array3.ravel()"
   ]
  },
  {
   "cell_type": "code",
   "execution_count": 17,
   "id": "dbfb71c2",
   "metadata": {},
   "outputs": [
    {
     "data": {
      "text/plain": [
       "array([ 1, 10,  2, 11,  3, 12,  4, 13,  5, 14])"
      ]
     },
     "execution_count": 17,
     "metadata": {},
     "output_type": "execute_result"
    }
   ],
   "source": [
    "array3.T.ravel()"
   ]
  },
  {
   "cell_type": "markdown",
   "id": "7b690a7e",
   "metadata": {},
   "source": [
    "> The **ravel()** method takes all the elements of an array and puts them into a one-dimensional structure.\n",
    "\n",
    "**In many situations it is not computationally feasible to work with the matrix**, so I load my data into a matrix, apply transformations, make the necessary adjustments and when I have to process the ML algorithm, I convert the algorithm into a vector. I simply change the format of that structure completely.\n",
    "\n",
    "**Computer vision** is one of the hottest areas in AI today, it is used in face recognition systems, autonomous car systems, and many other applications. At the moment we are processing the image in a face recognition systems, we convert the image, which is a matrix, into a vector.S"
   ]
  },
  {
   "cell_type": "markdown",
   "id": "47560c35",
   "metadata": {},
   "source": [
    "### Logical Operators"
   ]
  },
  {
   "cell_type": "code",
   "execution_count": 19,
   "id": "e8b75e4d",
   "metadata": {},
   "outputs": [],
   "source": [
    "np.random.seed(100)\n",
    "array4 = np.random.randint(1, 10, size = (4, 4))"
   ]
  },
  {
   "cell_type": "code",
   "execution_count": 20,
   "id": "613809b8",
   "metadata": {},
   "outputs": [
    {
     "data": {
      "text/plain": [
       "array([[9, 9, 4, 8],\n",
       "       [8, 1, 5, 3],\n",
       "       [6, 3, 3, 3],\n",
       "       [2, 1, 9, 5]])"
      ]
     },
     "execution_count": 20,
     "metadata": {},
     "output_type": "execute_result"
    }
   ],
   "source": [
    "array4"
   ]
  },
  {
   "cell_type": "code",
   "execution_count": 21,
   "id": "66d63e84",
   "metadata": {},
   "outputs": [
    {
     "data": {
      "text/plain": [
       "False"
      ]
     },
     "execution_count": 21,
     "metadata": {},
     "output_type": "execute_result"
    }
   ],
   "source": [
    "# If I divide the array4 by 7, will I get any value which the remainder is equal 0?\n",
    "np.any((array4 % 7) == 0)"
   ]
  },
  {
   "cell_type": "code",
   "execution_count": 22,
   "id": "7a8fddaf",
   "metadata": {},
   "outputs": [
    {
     "data": {
      "text/plain": [
       "True"
      ]
     },
     "execution_count": 22,
     "metadata": {},
     "output_type": "execute_result"
    }
   ],
   "source": [
    "# Are all the values inside array4 less than 11?\n",
    "np.all(array4 < 11)"
   ]
  },
  {
   "cell_type": "markdown",
   "id": "eb65cee9",
   "metadata": {},
   "source": [
    "To find this element I can use where"
   ]
  },
  {
   "cell_type": "code",
   "execution_count": 23,
   "id": "61b64f1d",
   "metadata": {},
   "outputs": [
    {
     "data": {
      "text/plain": [
       "(array([2]),)"
      ]
     },
     "execution_count": 23,
     "metadata": {},
     "output_type": "execute_result"
    }
   ],
   "source": [
    "# Return the row where the element with index 1 in the column is greater than 2 and less than 9\n",
    "np.where(np.logical_and(array4[:,1] > 2, array4[:,1] < 9))"
   ]
  },
  {
   "cell_type": "code",
   "execution_count": 26,
   "id": "e9209c02",
   "metadata": {},
   "outputs": [
    {
     "data": {
      "text/plain": [
       "array([2])"
      ]
     },
     "execution_count": 26,
     "metadata": {},
     "output_type": "execute_result"
    }
   ],
   "source": [
    "# Same result as the previous line\n",
    "np.intersect1d(np.where(array4[:,1] > 2), np.where(array4[:,1] < 9))"
   ]
  },
  {
   "cell_type": "code",
   "execution_count": 27,
   "id": "a7dfdedf",
   "metadata": {
    "scrolled": true
   },
   "outputs": [
    {
     "data": {
      "text/plain": [
       "array([6, 3, 3, 3])"
      ]
     },
     "execution_count": 27,
     "metadata": {},
     "output_type": "execute_result"
    }
   ],
   "source": [
    "array4[2]"
   ]
  },
  {
   "cell_type": "markdown",
   "id": "11e16a65",
   "metadata": {},
   "source": [
    "### Arrays Reshaping and sorting"
   ]
  },
  {
   "cell_type": "code",
   "execution_count": 39,
   "id": "91888e28",
   "metadata": {},
   "outputs": [
    {
     "data": {
      "text/plain": [
       "array([ 1,  2,  3,  4,  5,  6,  7,  8,  9, 10, 11, 12, 13, 14, 15])"
      ]
     },
     "execution_count": 39,
     "metadata": {},
     "output_type": "execute_result"
    }
   ],
   "source": [
    "array5 = np.arange(1, 16); array5"
   ]
  },
  {
   "cell_type": "code",
   "execution_count": 41,
   "id": "cb80fcd4",
   "metadata": {},
   "outputs": [
    {
     "data": {
      "text/plain": [
       "array([[ 1,  2,  3,  4,  5],\n",
       "       [ 6,  7,  8,  9, 10],\n",
       "       [11, 12, 13, 14, 15]])"
      ]
     },
     "execution_count": 41,
     "metadata": {},
     "output_type": "execute_result"
    }
   ],
   "source": [
    "array5.reshape(3, 5)"
   ]
  },
  {
   "cell_type": "code",
   "execution_count": 32,
   "id": "09462eef",
   "metadata": {},
   "outputs": [
    {
     "data": {
      "text/plain": [
       "array([[ 3,  2],\n",
       "       [10, -1]])"
      ]
     },
     "execution_count": 32,
     "metadata": {},
     "output_type": "execute_result"
    }
   ],
   "source": [
    "array6 = np.array([[3,2], [10, -1]]); array6"
   ]
  },
  {
   "cell_type": "code",
   "execution_count": 33,
   "id": "a0c53e70",
   "metadata": {},
   "outputs": [],
   "source": [
    "# Sorting by rows for axis 1\n",
    "array6.sort(axis = 1)"
   ]
  },
  {
   "cell_type": "code",
   "execution_count": 34,
   "id": "e9ac14b4",
   "metadata": {},
   "outputs": [
    {
     "data": {
      "text/plain": [
       "array([[ 2,  3],\n",
       "       [-1, 10]])"
      ]
     },
     "execution_count": 34,
     "metadata": {},
     "output_type": "execute_result"
    }
   ],
   "source": [
    "array6"
   ]
  },
  {
   "cell_type": "code",
   "execution_count": 35,
   "id": "8edfabe5",
   "metadata": {},
   "outputs": [],
   "source": [
    "array7 = np.array([[3,2], [10, -1]])"
   ]
  },
  {
   "cell_type": "code",
   "execution_count": 36,
   "id": "5d9d273d",
   "metadata": {},
   "outputs": [
    {
     "data": {
      "text/plain": [
       "array([[ 3,  2],\n",
       "       [10, -1]])"
      ]
     },
     "execution_count": 36,
     "metadata": {},
     "output_type": "execute_result"
    }
   ],
   "source": [
    "array7"
   ]
  },
  {
   "cell_type": "code",
   "execution_count": 37,
   "id": "3b234369",
   "metadata": {},
   "outputs": [],
   "source": [
    "# Sorting by rows for axis 0\n",
    "array7.sort(axis = 0)"
   ]
  },
  {
   "cell_type": "code",
   "execution_count": 38,
   "id": "18a25614",
   "metadata": {},
   "outputs": [
    {
     "data": {
      "text/plain": [
       "array([[ 3, -1],\n",
       "       [10,  2]])"
      ]
     },
     "execution_count": 38,
     "metadata": {},
     "output_type": "execute_result"
    }
   ],
   "source": [
    "# This will not change the first column because it is already ordained\n",
    "array7"
   ]
  },
  {
   "cell_type": "markdown",
   "id": "af3205cd",
   "metadata": {},
   "source": [
    "### The End"
   ]
  }
 ],
 "metadata": {
  "kernelspec": {
   "display_name": "Python 3",
   "language": "python",
   "name": "python3"
  },
  "language_info": {
   "codemirror_mode": {
    "name": "ipython",
    "version": 3
   },
   "file_extension": ".py",
   "mimetype": "text/x-python",
   "name": "python",
   "nbconvert_exporter": "python",
   "pygments_lexer": "ipython3",
   "version": "3.8.8"
  }
 },
 "nbformat": 4,
 "nbformat_minor": 5
}
