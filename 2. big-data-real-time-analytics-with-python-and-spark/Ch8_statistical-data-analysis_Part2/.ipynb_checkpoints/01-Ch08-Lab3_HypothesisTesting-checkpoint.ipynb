{
 "cells": [
  {
   "cell_type": "markdown",
   "id": "b84e9e68",
   "metadata": {},
   "source": [
    "# Big Data Real-Time Analytics with Python and Spark\n",
    "\n",
    "## Chapter 8 - Statistical Data Analysis Part 2\n",
    "\n",
    "### Lab 3 - Hypothesis testing in python"
   ]
  },
  {
   "cell_type": "code",
   "execution_count": 1,
   "id": "23577325",
   "metadata": {},
   "outputs": [
    {
     "name": "stdout",
     "output_type": "stream",
     "text": [
      "The version used in this notebook is:  3.8.13\n"
     ]
    }
   ],
   "source": [
    "# Python version\n",
    "from platform import python_version\n",
    "print('The version used in this notebook is: ', python_version())"
   ]
  },
  {
   "cell_type": "code",
   "execution_count": 2,
   "id": "07de3a7f",
   "metadata": {},
   "outputs": [],
   "source": [
    "# Imports\n",
    "import pandas as pd\n",
    "import numpy as np\n",
    "import scipy.stats as stats"
   ]
  },
  {
   "cell_type": "code",
   "execution_count": 3,
   "id": "94b977e9",
   "metadata": {},
   "outputs": [
    {
     "name": "stdout",
     "output_type": "stream",
     "text": [
      "Author: Bianca Amorim\n",
      "\n",
      "numpy : 1.22.3\n",
      "scipy : 1.7.3\n",
      "pandas: 1.4.2\n",
      "\n"
     ]
    }
   ],
   "source": [
    "# Package versions used in this notebook\n",
    "%reload_ext watermark\n",
    "%watermark -a \"Bianca Amorim\" --iversions"
   ]
  },
  {
   "cell_type": "code",
   "execution_count": 4,
   "id": "f035ad0d",
   "metadata": {},
   "outputs": [],
   "source": [
    "# Load dataset\n",
    "df = pd.read_csv(r'datasets/dataset.csv')"
   ]
  },
  {
   "cell_type": "code",
   "execution_count": 5,
   "id": "4b7a281e",
   "metadata": {},
   "outputs": [
    {
     "data": {
      "text/plain": [
       "(200, 10)"
      ]
     },
     "execution_count": 5,
     "metadata": {},
     "output_type": "execute_result"
    }
   ],
   "source": [
    "df.shape"
   ]
  },
  {
   "cell_type": "code",
   "execution_count": 6,
   "id": "eb03262c",
   "metadata": {},
   "outputs": [
    {
     "data": {
      "text/html": [
       "<div>\n",
       "<style scoped>\n",
       "    .dataframe tbody tr th:only-of-type {\n",
       "        vertical-align: middle;\n",
       "    }\n",
       "\n",
       "    .dataframe tbody tr th {\n",
       "        vertical-align: top;\n",
       "    }\n",
       "\n",
       "    .dataframe thead th {\n",
       "        text-align: right;\n",
       "    }\n",
       "</style>\n",
       "<table border=\"1\" class=\"dataframe\">\n",
       "  <thead>\n",
       "    <tr style=\"text-align: right;\">\n",
       "      <th></th>\n",
       "      <th>id_cliente</th>\n",
       "      <th>genero</th>\n",
       "      <th>canal_atendimento</th>\n",
       "      <th>regiao</th>\n",
       "      <th>estado_civil</th>\n",
       "      <th>segmento</th>\n",
       "      <th>consumo_medio_mensal_antes_upgrade</th>\n",
       "      <th>consumo_medio_mes_anterior_ao_upgrade</th>\n",
       "      <th>consumo_medio_primeiro_mes_apos_upgrade</th>\n",
       "      <th>consumo_medio_segundo_mes_apos_upgrade</th>\n",
       "    </tr>\n",
       "  </thead>\n",
       "  <tbody>\n",
       "    <tr>\n",
       "      <th>0</th>\n",
       "      <td>70</td>\n",
       "      <td>0</td>\n",
       "      <td>4</td>\n",
       "      <td>1</td>\n",
       "      <td>1</td>\n",
       "      <td>1</td>\n",
       "      <td>57</td>\n",
       "      <td>49.2</td>\n",
       "      <td>52</td>\n",
       "      <td>57.2</td>\n",
       "    </tr>\n",
       "    <tr>\n",
       "      <th>1</th>\n",
       "      <td>121</td>\n",
       "      <td>1</td>\n",
       "      <td>4</td>\n",
       "      <td>2</td>\n",
       "      <td>1</td>\n",
       "      <td>3</td>\n",
       "      <td>68</td>\n",
       "      <td>63.6</td>\n",
       "      <td>59</td>\n",
       "      <td>64.9</td>\n",
       "    </tr>\n",
       "    <tr>\n",
       "      <th>2</th>\n",
       "      <td>86</td>\n",
       "      <td>0</td>\n",
       "      <td>4</td>\n",
       "      <td>3</td>\n",
       "      <td>1</td>\n",
       "      <td>1</td>\n",
       "      <td>44</td>\n",
       "      <td>64.8</td>\n",
       "      <td>33</td>\n",
       "      <td>36.3</td>\n",
       "    </tr>\n",
       "    <tr>\n",
       "      <th>3</th>\n",
       "      <td>141</td>\n",
       "      <td>0</td>\n",
       "      <td>4</td>\n",
       "      <td>3</td>\n",
       "      <td>1</td>\n",
       "      <td>3</td>\n",
       "      <td>63</td>\n",
       "      <td>56.4</td>\n",
       "      <td>44</td>\n",
       "      <td>48.4</td>\n",
       "    </tr>\n",
       "    <tr>\n",
       "      <th>4</th>\n",
       "      <td>172</td>\n",
       "      <td>0</td>\n",
       "      <td>4</td>\n",
       "      <td>2</td>\n",
       "      <td>1</td>\n",
       "      <td>2</td>\n",
       "      <td>47</td>\n",
       "      <td>68.4</td>\n",
       "      <td>52</td>\n",
       "      <td>57.2</td>\n",
       "    </tr>\n",
       "  </tbody>\n",
       "</table>\n",
       "</div>"
      ],
      "text/plain": [
       "   id_cliente  genero  canal_atendimento  regiao  estado_civil  segmento  \\\n",
       "0          70       0                  4       1             1         1   \n",
       "1         121       1                  4       2             1         3   \n",
       "2          86       0                  4       3             1         1   \n",
       "3         141       0                  4       3             1         3   \n",
       "4         172       0                  4       2             1         2   \n",
       "\n",
       "   consumo_medio_mensal_antes_upgrade  consumo_medio_mes_anterior_ao_upgrade  \\\n",
       "0                                  57                                   49.2   \n",
       "1                                  68                                   63.6   \n",
       "2                                  44                                   64.8   \n",
       "3                                  63                                   56.4   \n",
       "4                                  47                                   68.4   \n",
       "\n",
       "   consumo_medio_primeiro_mes_apos_upgrade  \\\n",
       "0                                       52   \n",
       "1                                       59   \n",
       "2                                       33   \n",
       "3                                       44   \n",
       "4                                       52   \n",
       "\n",
       "   consumo_medio_segundo_mes_apos_upgrade  \n",
       "0                                    57.2  \n",
       "1                                    64.9  \n",
       "2                                    36.3  \n",
       "3                                    48.4  \n",
       "4                                    57.2  "
      ]
     },
     "execution_count": 6,
     "metadata": {},
     "output_type": "execute_result"
    }
   ],
   "source": [
    "df.head()"
   ]
  },
  {
   "cell_type": "code",
   "execution_count": 7,
   "id": "01a9c883",
   "metadata": {},
   "outputs": [
    {
     "data": {
      "text/plain": [
       "Index(['id_cliente', 'genero', 'canal_atendimento', 'regiao', 'estado_civil',\n",
       "       'segmento', 'consumo_medio_mensal_antes_upgrade',\n",
       "       'consumo_medio_mes_anterior_ao_upgrade',\n",
       "       'consumo_medio_primeiro_mes_apos_upgrade',\n",
       "       'consumo_medio_segundo_mes_apos_upgrade'],\n",
       "      dtype='object')"
      ]
     },
     "execution_count": 7,
     "metadata": {},
     "output_type": "execute_result"
    }
   ],
   "source": [
    "df.columns"
   ]
  },
  {
   "cell_type": "code",
   "execution_count": 8,
   "id": "a1028df5",
   "metadata": {},
   "outputs": [
    {
     "name": "stdout",
     "output_type": "stream",
     "text": [
      "<class 'pandas.core.frame.DataFrame'>\n",
      "RangeIndex: 200 entries, 0 to 199\n",
      "Data columns (total 10 columns):\n",
      " #   Column                                   Non-Null Count  Dtype  \n",
      "---  ------                                   --------------  -----  \n",
      " 0   id_cliente                               200 non-null    int64  \n",
      " 1   genero                                   200 non-null    int64  \n",
      " 2   canal_atendimento                        200 non-null    int64  \n",
      " 3   regiao                                   200 non-null    int64  \n",
      " 4   estado_civil                             200 non-null    int64  \n",
      " 5   segmento                                 200 non-null    int64  \n",
      " 6   consumo_medio_mensal_antes_upgrade       200 non-null    int64  \n",
      " 7   consumo_medio_mes_anterior_ao_upgrade    200 non-null    float64\n",
      " 8   consumo_medio_primeiro_mes_apos_upgrade  200 non-null    int64  \n",
      " 9   consumo_medio_segundo_mes_apos_upgrade   200 non-null    float64\n",
      "dtypes: float64(2), int64(8)\n",
      "memory usage: 15.8 KB\n"
     ]
    }
   ],
   "source": [
    "df.info()"
   ]
  },
  {
   "cell_type": "code",
   "execution_count": 9,
   "id": "9f3032a5",
   "metadata": {
    "scrolled": true
   },
   "outputs": [
    {
     "data": {
      "text/html": [
       "<div>\n",
       "<style scoped>\n",
       "    .dataframe tbody tr th:only-of-type {\n",
       "        vertical-align: middle;\n",
       "    }\n",
       "\n",
       "    .dataframe tbody tr th {\n",
       "        vertical-align: top;\n",
       "    }\n",
       "\n",
       "    .dataframe thead th {\n",
       "        text-align: right;\n",
       "    }\n",
       "</style>\n",
       "<table border=\"1\" class=\"dataframe\">\n",
       "  <thead>\n",
       "    <tr style=\"text-align: right;\">\n",
       "      <th></th>\n",
       "      <th>id_cliente</th>\n",
       "      <th>genero</th>\n",
       "      <th>canal_atendimento</th>\n",
       "      <th>regiao</th>\n",
       "      <th>estado_civil</th>\n",
       "      <th>segmento</th>\n",
       "      <th>consumo_medio_mensal_antes_upgrade</th>\n",
       "      <th>consumo_medio_mes_anterior_ao_upgrade</th>\n",
       "      <th>consumo_medio_primeiro_mes_apos_upgrade</th>\n",
       "      <th>consumo_medio_segundo_mes_apos_upgrade</th>\n",
       "    </tr>\n",
       "  </thead>\n",
       "  <tbody>\n",
       "    <tr>\n",
       "      <th>count</th>\n",
       "      <td>200.000000</td>\n",
       "      <td>200.00000</td>\n",
       "      <td>200.000000</td>\n",
       "      <td>200.000000</td>\n",
       "      <td>200.000000</td>\n",
       "      <td>200.000000</td>\n",
       "      <td>200.000000</td>\n",
       "      <td>200.000000</td>\n",
       "      <td>200.000000</td>\n",
       "      <td>200.000000</td>\n",
       "    </tr>\n",
       "    <tr>\n",
       "      <th>mean</th>\n",
       "      <td>100.500000</td>\n",
       "      <td>0.54500</td>\n",
       "      <td>3.430000</td>\n",
       "      <td>2.055000</td>\n",
       "      <td>1.160000</td>\n",
       "      <td>2.025000</td>\n",
       "      <td>52.230000</td>\n",
       "      <td>63.174000</td>\n",
       "      <td>52.775000</td>\n",
       "      <td>58.052500</td>\n",
       "    </tr>\n",
       "    <tr>\n",
       "      <th>std</th>\n",
       "      <td>57.879185</td>\n",
       "      <td>0.49922</td>\n",
       "      <td>1.039472</td>\n",
       "      <td>0.724291</td>\n",
       "      <td>0.367526</td>\n",
       "      <td>0.690477</td>\n",
       "      <td>10.252937</td>\n",
       "      <td>11.242137</td>\n",
       "      <td>9.478586</td>\n",
       "      <td>10.426445</td>\n",
       "    </tr>\n",
       "    <tr>\n",
       "      <th>min</th>\n",
       "      <td>1.000000</td>\n",
       "      <td>0.00000</td>\n",
       "      <td>1.000000</td>\n",
       "      <td>1.000000</td>\n",
       "      <td>1.000000</td>\n",
       "      <td>1.000000</td>\n",
       "      <td>28.000000</td>\n",
       "      <td>39.600000</td>\n",
       "      <td>31.000000</td>\n",
       "      <td>34.100000</td>\n",
       "    </tr>\n",
       "    <tr>\n",
       "      <th>25%</th>\n",
       "      <td>50.750000</td>\n",
       "      <td>0.00000</td>\n",
       "      <td>3.000000</td>\n",
       "      <td>2.000000</td>\n",
       "      <td>1.000000</td>\n",
       "      <td>2.000000</td>\n",
       "      <td>44.000000</td>\n",
       "      <td>54.000000</td>\n",
       "      <td>45.750000</td>\n",
       "      <td>50.325000</td>\n",
       "    </tr>\n",
       "    <tr>\n",
       "      <th>50%</th>\n",
       "      <td>100.500000</td>\n",
       "      <td>1.00000</td>\n",
       "      <td>4.000000</td>\n",
       "      <td>2.000000</td>\n",
       "      <td>1.000000</td>\n",
       "      <td>2.000000</td>\n",
       "      <td>50.000000</td>\n",
       "      <td>62.400000</td>\n",
       "      <td>54.000000</td>\n",
       "      <td>59.400000</td>\n",
       "    </tr>\n",
       "    <tr>\n",
       "      <th>75%</th>\n",
       "      <td>150.250000</td>\n",
       "      <td>1.00000</td>\n",
       "      <td>4.000000</td>\n",
       "      <td>3.000000</td>\n",
       "      <td>1.000000</td>\n",
       "      <td>2.250000</td>\n",
       "      <td>60.000000</td>\n",
       "      <td>70.800000</td>\n",
       "      <td>60.000000</td>\n",
       "      <td>66.000000</td>\n",
       "    </tr>\n",
       "    <tr>\n",
       "      <th>max</th>\n",
       "      <td>200.000000</td>\n",
       "      <td>1.00000</td>\n",
       "      <td>4.000000</td>\n",
       "      <td>3.000000</td>\n",
       "      <td>2.000000</td>\n",
       "      <td>3.000000</td>\n",
       "      <td>76.000000</td>\n",
       "      <td>90.000000</td>\n",
       "      <td>67.000000</td>\n",
       "      <td>73.700000</td>\n",
       "    </tr>\n",
       "  </tbody>\n",
       "</table>\n",
       "</div>"
      ],
      "text/plain": [
       "       id_cliente     genero  canal_atendimento      regiao  estado_civil  \\\n",
       "count  200.000000  200.00000         200.000000  200.000000    200.000000   \n",
       "mean   100.500000    0.54500           3.430000    2.055000      1.160000   \n",
       "std     57.879185    0.49922           1.039472    0.724291      0.367526   \n",
       "min      1.000000    0.00000           1.000000    1.000000      1.000000   \n",
       "25%     50.750000    0.00000           3.000000    2.000000      1.000000   \n",
       "50%    100.500000    1.00000           4.000000    2.000000      1.000000   \n",
       "75%    150.250000    1.00000           4.000000    3.000000      1.000000   \n",
       "max    200.000000    1.00000           4.000000    3.000000      2.000000   \n",
       "\n",
       "         segmento  consumo_medio_mensal_antes_upgrade  \\\n",
       "count  200.000000                          200.000000   \n",
       "mean     2.025000                           52.230000   \n",
       "std      0.690477                           10.252937   \n",
       "min      1.000000                           28.000000   \n",
       "25%      2.000000                           44.000000   \n",
       "50%      2.000000                           50.000000   \n",
       "75%      2.250000                           60.000000   \n",
       "max      3.000000                           76.000000   \n",
       "\n",
       "       consumo_medio_mes_anterior_ao_upgrade  \\\n",
       "count                             200.000000   \n",
       "mean                               63.174000   \n",
       "std                                11.242137   \n",
       "min                                39.600000   \n",
       "25%                                54.000000   \n",
       "50%                                62.400000   \n",
       "75%                                70.800000   \n",
       "max                                90.000000   \n",
       "\n",
       "       consumo_medio_primeiro_mes_apos_upgrade  \\\n",
       "count                               200.000000   \n",
       "mean                                 52.775000   \n",
       "std                                   9.478586   \n",
       "min                                  31.000000   \n",
       "25%                                  45.750000   \n",
       "50%                                  54.000000   \n",
       "75%                                  60.000000   \n",
       "max                                  67.000000   \n",
       "\n",
       "       consumo_medio_segundo_mes_apos_upgrade  \n",
       "count                              200.000000  \n",
       "mean                                58.052500  \n",
       "std                                 10.426445  \n",
       "min                                 34.100000  \n",
       "25%                                 50.325000  \n",
       "50%                                 59.400000  \n",
       "75%                                 66.000000  \n",
       "max                                 73.700000  "
      ]
     },
     "execution_count": 9,
     "metadata": {},
     "output_type": "execute_result"
    }
   ],
   "source": [
    "df.describe()"
   ]
  },
  {
   "cell_type": "markdown",
   "id": "c3e82c3f",
   "metadata": {},
   "source": [
    "### Question 1: Was the average bandwidth consumption for the month before the upgrade greater than 50?\n",
    "\n",
    "#### We will use One-Sample t-Test\n",
    "https://docs.scipy.org/doc/scipy/reference/generated/scipy.stats.ttest_1samp.html\n",
    "\n",
    "We calculate the T-test for the mean of 1 group. This is a test of the null hypothesis that the expected value (mean) of a sample of independent observations is equal to the given population mean, popmean.\n",
    "\n",
    "Hypotheses:\n",
    "- H0: The average bandwidth consumption before the upgrade was 50.\n",
    "- H1: The average bandwidth consumption before the upgrade was different from 50.\n",
    "\n",
    "If the p-value is less than 0, we reject H0. Otherwise, we fail to reject H0.\n",
    "\n",
    "If the p-value reported from a t-test is less than 0.05, this result is considered statistically significant. If a p-value is greater than 0.05, the result is insignificant.\n",
    "\n",
    "A p-value for a t-test is the probability that the results of your sample data occurred by chance."
   ]
  },
  {
   "cell_type": "code",
   "execution_count": 10,
   "id": "38ee0dd5",
   "metadata": {},
   "outputs": [
    {
     "data": {
      "text/plain": [
       "Ttest_1sampResult(statistic=16.57233752433133, pvalue=2.4963719280931583e-39)"
      ]
     },
     "execution_count": 10,
     "metadata": {},
     "output_type": "execute_result"
    }
   ],
   "source": [
    "# Run the test\n",
    "stats.ttest_1samp(a = df.consumo_medio_mes_anterior_ao_upgrade, popmean = 50)"
   ]
  },
  {
   "cell_type": "markdown",
   "id": "9bf5667f",
   "metadata": {},
   "source": [
    "Since the p-value is very small (less than 0.05), we reject H0 and take H1 as true. The average bandwidth consumption before the upgrade was different from 50."
   ]
  },
  {
   "cell_type": "code",
   "execution_count": 11,
   "id": "890b864d",
   "metadata": {},
   "outputs": [
    {
     "data": {
      "text/plain": [
       "63.17400000000001"
      ]
     },
     "execution_count": 11,
     "metadata": {},
     "output_type": "execute_result"
    }
   ],
   "source": [
    "# Checking the mean\n",
    "df.consumo_medio_mes_anterior_ao_upgrade.mean()"
   ]
  },
  {
   "cell_type": "markdown",
   "id": "c167831e",
   "metadata": {},
   "source": [
    "### Question 2: Was there a difference in bandwidth consumption before and after the upgrade, considering the first month after the upgrade?\n",
    "\n",
    "#### We will use Paired T-Test on Two Related samples \n",
    "https://docs.scipy.org/doc/scipy/reference/generated/scipy.stats.ttest_rel.html\n",
    "\n",
    "This test is used when we have two samples that are related or dependent. This is a test for the null hypothesis that two related samples have identical (expected) mean values.\n",
    "\n",
    "Hypotheses:\n",
    "- H0: The consumption before the upgrade was the same as the consumption after the upgrade (the mean are the same).\n",
    "- H1: The consumption before the upgrade was different from the consumption after the upgrade (the mean are not equal).\n",
    "\n",
    "If the p-value is less than 0.05 we reject H0. Otherwise, we fail to reject H0."
   ]
  },
  {
   "cell_type": "code",
   "execution_count": 13,
   "id": "61615dd4",
   "metadata": {},
   "outputs": [
    {
     "data": {
      "text/plain": [
       "Ttest_relResult(statistic=-0.8673065458794775, pvalue=0.3868186820914985)"
      ]
     },
     "execution_count": 13,
     "metadata": {},
     "output_type": "execute_result"
    }
   ],
   "source": [
    "# Run the test\n",
    "stats.ttest_rel(a = df.consumo_medio_mensal_antes_upgrade, b = df.consumo_medio_primeiro_mes_apos_upgrade)"
   ]
  },
  {
   "cell_type": "markdown",
   "id": "78064bdb",
   "metadata": {},
   "source": [
    "As the p-value is greater than 0.05 we fail to reject the null hypothesis. Therefore, the average consumption in the first month after the upgrade was similar to the average consumption before the upgrade."
   ]
  },
  {
   "cell_type": "code",
   "execution_count": 15,
   "id": "83366f5c",
   "metadata": {},
   "outputs": [
    {
     "name": "stdout",
     "output_type": "stream",
     "text": [
      "52.23\n",
      "52.775\n"
     ]
    }
   ],
   "source": [
    "print(df.consumo_medio_mensal_antes_upgrade.mean())\n",
    "print(df.consumo_medio_primeiro_mes_apos_upgrade.mean())"
   ]
  },
  {
   "cell_type": "markdown",
   "id": "717ddc24",
   "metadata": {},
   "source": [
    "### Question 3: Did the gender of the customer influence the bandwidth consumption in the first month after the upgrade?\n",
    "\n",
    "#### We will use T-Test on Two independent samples \n",
    "https://docs.scipy.org/doc/scipy/reference/generated/scipy.stats.ttest_ind.html\n",
    "\n",
    "We calculate the t-test for the means of two independent samples. That is a test of the null hypothesis that two independent samples have identical (expected) mean values. This test assumes that the populations have identical variances by default.\n",
    "\n",
    "Hypotheses:\n",
    "- H0: Male customer consumption was equal to the female customer consumption in the first month after the upgrade (average consumption was equal between genders).\n",
    "- H1: Male customer consumption was not equal to female customer consumption in the first month after the upgrade (average consumption was not equal between genders).\n",
    "\n",
    "If the p-value is less than 0.05 we reject H0. Otherwise, we fail to reject H0."
   ]
  },
  {
   "cell_type": "code",
   "execution_count": 16,
   "id": "9d2f0603",
   "metadata": {},
   "outputs": [
    {
     "data": {
      "text/plain": [
       "Index(['id_cliente', 'genero', 'canal_atendimento', 'regiao', 'estado_civil',\n",
       "       'segmento', 'consumo_medio_mensal_antes_upgrade',\n",
       "       'consumo_medio_mes_anterior_ao_upgrade',\n",
       "       'consumo_medio_primeiro_mes_apos_upgrade',\n",
       "       'consumo_medio_segundo_mes_apos_upgrade'],\n",
       "      dtype='object')"
      ]
     },
     "execution_count": 16,
     "metadata": {},
     "output_type": "execute_result"
    }
   ],
   "source": [
    "df.columns"
   ]
  },
  {
   "cell_type": "code",
   "execution_count": 17,
   "id": "0f56f318",
   "metadata": {},
   "outputs": [],
   "source": [
    "# Separate the samples\n",
    "consumption_male_customers = df.consumo_medio_primeiro_mes_apos_upgrade[df.genero == 0]\n",
    "consumption_female_customers = df.consumo_medio_primeiro_mes_apos_upgrade[df.genero == 1]"
   ]
  },
  {
   "cell_type": "code",
   "execution_count": 19,
   "id": "841bb7f3",
   "metadata": {},
   "outputs": [
    {
     "name": "stdout",
     "output_type": "stream",
     "text": [
      "0    52\n",
      "2    33\n",
      "3    44\n",
      "4    52\n",
      "5    52\n",
      "Name: consumo_medio_primeiro_mes_apos_upgrade, dtype: int64\n",
      "1     59\n",
      "92    62\n",
      "93    44\n",
      "94    44\n",
      "95    62\n",
      "Name: consumo_medio_primeiro_mes_apos_upgrade, dtype: int64\n"
     ]
    }
   ],
   "source": [
    "print(consumption_male_customers.head())\n",
    "print(consumption_female_customers.head())"
   ]
  },
  {
   "cell_type": "code",
   "execution_count": 20,
   "id": "eca23e8d",
   "metadata": {},
   "outputs": [
    {
     "name": "stdout",
     "output_type": "stream",
     "text": [
      "50.120879120879124\n",
      "54.99082568807339\n"
     ]
    }
   ],
   "source": [
    " print(consumption_male_customers.mean())\n",
    "print(consumption_female_customers.mean())"
   ]
  },
  {
   "cell_type": "code",
   "execution_count": 21,
   "id": "db6ec715",
   "metadata": {},
   "outputs": [
    {
     "name": "stdout",
     "output_type": "stream",
     "text": [
      "106.19633699633701\n",
      "66.15732246007477\n"
     ]
    }
   ],
   "source": [
    "print(consumption_male_customers.var())\n",
    "print(consumption_female_customers.var())"
   ]
  },
  {
   "cell_type": "code",
   "execution_count": 22,
   "id": "9945049d",
   "metadata": {},
   "outputs": [
    {
     "data": {
      "text/plain": [
       "Ttest_indResult(statistic=-3.6564080478875276, pvalue=0.00034088493594266187)"
      ]
     },
     "execution_count": 22,
     "metadata": {},
     "output_type": "execute_result"
    }
   ],
   "source": [
    "# Run the test\n",
    "stats.ttest_ind(a = consumption_male_customers, b = consumption_female_customers, equal_var = False)"
   ]
  },
  {
   "cell_type": "code",
   "execution_count": 23,
   "id": "4cc79283",
   "metadata": {},
   "outputs": [
    {
     "data": {
      "text/plain": [
       "F_onewayResult(statistic=13.94330754080599, pvalue=0.0002462546120354903)"
      ]
     },
     "execution_count": 23,
     "metadata": {},
     "output_type": "execute_result"
    }
   ],
   "source": [
    "# We can do the same using ANOVA\n",
    "stats.f_oneway(consumption_male_customers, consumption_female_customers)"
   ]
  },
  {
   "cell_type": "markdown",
   "id": "582dd360",
   "metadata": {},
   "source": [
    "Since the p-value is less than 0.05, we reject H0. Thus, we conclude that there was a difference between male and female bandwidth consumption in the first month after the upgrade."
   ]
  },
  {
   "cell_type": "markdown",
   "id": "ea678b18",
   "metadata": {},
   "source": [
    "### Question 4: Is there some relation between the region and the customer segment?\n",
    "\n",
    "#### We will use Chi-square test of independence of variables in a contingency table\n",
    "https://docs.scipy.org/doc/scipy/reference/generated/scipy.stats.chi2_contingency.html\n",
    "\n",
    "Chi-square test of variable independence is used in a contingency table. The function calculates the chi-square statistic and the p-value for the hypothesis test of independence of the observed frequencies in the contingency table. The expected frequencies are calculated based on the marginal sums under the assumption of independence.\n",
    "\n",
    "Hypotheses:\n",
    "- H0: There is no relation between region and segment.\n",
    "- H1: There is a relation between region and segment.\n",
    "\n",
    "If the p-value is less than 0.05 we reject H0. Otherwise, we fail to reject H0."
   ]
  },
  {
   "cell_type": "code",
   "execution_count": 25,
   "id": "c70d309f",
   "metadata": {},
   "outputs": [
    {
     "data": {
      "text/html": [
       "<div>\n",
       "<style scoped>\n",
       "    .dataframe tbody tr th:only-of-type {\n",
       "        vertical-align: middle;\n",
       "    }\n",
       "\n",
       "    .dataframe tbody tr th {\n",
       "        vertical-align: top;\n",
       "    }\n",
       "\n",
       "    .dataframe thead th {\n",
       "        text-align: right;\n",
       "    }\n",
       "</style>\n",
       "<table border=\"1\" class=\"dataframe\">\n",
       "  <thead>\n",
       "    <tr style=\"text-align: right;\">\n",
       "      <th></th>\n",
       "      <th>id_cliente</th>\n",
       "      <th>genero</th>\n",
       "      <th>canal_atendimento</th>\n",
       "      <th>regiao</th>\n",
       "      <th>estado_civil</th>\n",
       "      <th>segmento</th>\n",
       "      <th>consumo_medio_mensal_antes_upgrade</th>\n",
       "      <th>consumo_medio_mes_anterior_ao_upgrade</th>\n",
       "      <th>consumo_medio_primeiro_mes_apos_upgrade</th>\n",
       "      <th>consumo_medio_segundo_mes_apos_upgrade</th>\n",
       "    </tr>\n",
       "  </thead>\n",
       "  <tbody>\n",
       "    <tr>\n",
       "      <th>0</th>\n",
       "      <td>70</td>\n",
       "      <td>0</td>\n",
       "      <td>4</td>\n",
       "      <td>1</td>\n",
       "      <td>1</td>\n",
       "      <td>1</td>\n",
       "      <td>57</td>\n",
       "      <td>49.2</td>\n",
       "      <td>52</td>\n",
       "      <td>57.2</td>\n",
       "    </tr>\n",
       "    <tr>\n",
       "      <th>1</th>\n",
       "      <td>121</td>\n",
       "      <td>1</td>\n",
       "      <td>4</td>\n",
       "      <td>2</td>\n",
       "      <td>1</td>\n",
       "      <td>3</td>\n",
       "      <td>68</td>\n",
       "      <td>63.6</td>\n",
       "      <td>59</td>\n",
       "      <td>64.9</td>\n",
       "    </tr>\n",
       "    <tr>\n",
       "      <th>2</th>\n",
       "      <td>86</td>\n",
       "      <td>0</td>\n",
       "      <td>4</td>\n",
       "      <td>3</td>\n",
       "      <td>1</td>\n",
       "      <td>1</td>\n",
       "      <td>44</td>\n",
       "      <td>64.8</td>\n",
       "      <td>33</td>\n",
       "      <td>36.3</td>\n",
       "    </tr>\n",
       "    <tr>\n",
       "      <th>3</th>\n",
       "      <td>141</td>\n",
       "      <td>0</td>\n",
       "      <td>4</td>\n",
       "      <td>3</td>\n",
       "      <td>1</td>\n",
       "      <td>3</td>\n",
       "      <td>63</td>\n",
       "      <td>56.4</td>\n",
       "      <td>44</td>\n",
       "      <td>48.4</td>\n",
       "    </tr>\n",
       "    <tr>\n",
       "      <th>4</th>\n",
       "      <td>172</td>\n",
       "      <td>0</td>\n",
       "      <td>4</td>\n",
       "      <td>2</td>\n",
       "      <td>1</td>\n",
       "      <td>2</td>\n",
       "      <td>47</td>\n",
       "      <td>68.4</td>\n",
       "      <td>52</td>\n",
       "      <td>57.2</td>\n",
       "    </tr>\n",
       "  </tbody>\n",
       "</table>\n",
       "</div>"
      ],
      "text/plain": [
       "   id_cliente  genero  canal_atendimento  regiao  estado_civil  segmento  \\\n",
       "0          70       0                  4       1             1         1   \n",
       "1         121       1                  4       2             1         3   \n",
       "2          86       0                  4       3             1         1   \n",
       "3         141       0                  4       3             1         3   \n",
       "4         172       0                  4       2             1         2   \n",
       "\n",
       "   consumo_medio_mensal_antes_upgrade  consumo_medio_mes_anterior_ao_upgrade  \\\n",
       "0                                  57                                   49.2   \n",
       "1                                  68                                   63.6   \n",
       "2                                  44                                   64.8   \n",
       "3                                  63                                   56.4   \n",
       "4                                  47                                   68.4   \n",
       "\n",
       "   consumo_medio_primeiro_mes_apos_upgrade  \\\n",
       "0                                       52   \n",
       "1                                       59   \n",
       "2                                       33   \n",
       "3                                       44   \n",
       "4                                       52   \n",
       "\n",
       "   consumo_medio_segundo_mes_apos_upgrade  \n",
       "0                                    57.2  \n",
       "1                                    64.9  \n",
       "2                                    36.3  \n",
       "3                                    48.4  \n",
       "4                                    57.2  "
      ]
     },
     "execution_count": 25,
     "metadata": {},
     "output_type": "execute_result"
    }
   ],
   "source": [
    "df.head()"
   ]
  },
  {
   "cell_type": "code",
   "execution_count": 24,
   "id": "e593459d",
   "metadata": {},
   "outputs": [
    {
     "data": {
      "text/html": [
       "<div>\n",
       "<style scoped>\n",
       "    .dataframe tbody tr th:only-of-type {\n",
       "        vertical-align: middle;\n",
       "    }\n",
       "\n",
       "    .dataframe tbody tr th {\n",
       "        vertical-align: top;\n",
       "    }\n",
       "\n",
       "    .dataframe thead th {\n",
       "        text-align: right;\n",
       "    }\n",
       "</style>\n",
       "<table border=\"1\" class=\"dataframe\">\n",
       "  <thead>\n",
       "    <tr style=\"text-align: right;\">\n",
       "      <th>regiao</th>\n",
       "      <th>1</th>\n",
       "      <th>2</th>\n",
       "      <th>3</th>\n",
       "      <th>All</th>\n",
       "    </tr>\n",
       "    <tr>\n",
       "      <th>segmento</th>\n",
       "      <th></th>\n",
       "      <th></th>\n",
       "      <th></th>\n",
       "      <th></th>\n",
       "    </tr>\n",
       "  </thead>\n",
       "  <tbody>\n",
       "    <tr>\n",
       "      <th>1</th>\n",
       "      <td>16</td>\n",
       "      <td>20</td>\n",
       "      <td>9</td>\n",
       "      <td>45</td>\n",
       "    </tr>\n",
       "    <tr>\n",
       "      <th>2</th>\n",
       "      <td>19</td>\n",
       "      <td>44</td>\n",
       "      <td>42</td>\n",
       "      <td>105</td>\n",
       "    </tr>\n",
       "    <tr>\n",
       "      <th>3</th>\n",
       "      <td>12</td>\n",
       "      <td>31</td>\n",
       "      <td>7</td>\n",
       "      <td>50</td>\n",
       "    </tr>\n",
       "    <tr>\n",
       "      <th>All</th>\n",
       "      <td>47</td>\n",
       "      <td>95</td>\n",
       "      <td>58</td>\n",
       "      <td>200</td>\n",
       "    </tr>\n",
       "  </tbody>\n",
       "</table>\n",
       "</div>"
      ],
      "text/plain": [
       "regiao     1   2   3  All\n",
       "segmento                 \n",
       "1         16  20   9   45\n",
       "2         19  44  42  105\n",
       "3         12  31   7   50\n",
       "All       47  95  58  200"
      ]
     },
     "execution_count": 24,
     "metadata": {},
     "output_type": "execute_result"
    }
   ],
   "source": [
    "# Contingency table\n",
    "table_count = pd.crosstab(df.segmento, df.regiao, margins = True)\n",
    "table_count"
   ]
  },
  {
   "cell_type": "code",
   "execution_count": 26,
   "id": "a356ad8f",
   "metadata": {},
   "outputs": [],
   "source": [
    "# Run the test\n",
    "chic2, p, dof, ex = stats.chi2_contingency(observed = table_count)"
   ]
  },
  {
   "cell_type": "code",
   "execution_count": 27,
   "id": "16ad0dca",
   "metadata": {},
   "outputs": [
    {
     "data": {
      "text/plain": [
       "0.055282939487992365"
      ]
     },
     "execution_count": 27,
     "metadata": {},
     "output_type": "execute_result"
    }
   ],
   "source": [
    "# P-value\n",
    "p"
   ]
  },
  {
   "cell_type": "markdown",
   "id": "16ff8ef8",
   "metadata": {},
   "source": [
    "With the p-value vase greater than 0.05, we fail to reject H0 and can say that there is no relationship between region and customer segment."
   ]
  },
  {
   "cell_type": "markdown",
   "id": "e9228dd6",
   "metadata": {},
   "source": [
    "# The End"
   ]
  }
 ],
 "metadata": {
  "kernelspec": {
   "display_name": "Python 3 (ipykernel)",
   "language": "python",
   "name": "python3"
  },
  "language_info": {
   "codemirror_mode": {
    "name": "ipython",
    "version": 3
   },
   "file_extension": ".py",
   "mimetype": "text/x-python",
   "name": "python",
   "nbconvert_exporter": "python",
   "pygments_lexer": "ipython3",
   "version": "3.8.13"
  }
 },
 "nbformat": 4,
 "nbformat_minor": 5
}
