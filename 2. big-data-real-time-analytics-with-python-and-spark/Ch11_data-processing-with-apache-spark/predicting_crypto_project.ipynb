{
 "cells": [
  {
   "cell_type": "markdown",
   "id": "bdeafdb9",
   "metadata": {},
   "source": [
    "## Predicting Cryptocurrency Quotes in Real Time with PySpark and Machine Learning \n",
    "\n",
    "Adaptation of mini-Project 3 of the Big Data Real-Time Analytics with Python and Spark course from Data Science Academy"
   ]
  },
  {
   "cell_type": "code",
   "execution_count": 1,
   "id": "69d7cf48",
   "metadata": {},
   "outputs": [
    {
     "name": "stdout",
     "output_type": "stream",
     "text": [
      "The version used in this notebook is:  3.8.13\n"
     ]
    }
   ],
   "source": [
    "# Python version\n",
    "from platform import python_version\n",
    "print('The version used in this notebook is: ', python_version())"
   ]
  },
  {
   "cell_type": "code",
   "execution_count": null,
   "id": "27e517f9",
   "metadata": {},
   "outputs": [],
   "source": []
  }
 ],
 "metadata": {
  "kernelspec": {
   "display_name": "Python 3 (ipykernel)",
   "language": "python",
   "name": "python3"
  },
  "language_info": {
   "codemirror_mode": {
    "name": "ipython",
    "version": 3
   },
   "file_extension": ".py",
   "mimetype": "text/x-python",
   "name": "python",
   "nbconvert_exporter": "python",
   "pygments_lexer": "ipython3",
   "version": "3.8.13"
  }
 },
 "nbformat": 4,
 "nbformat_minor": 5
}
